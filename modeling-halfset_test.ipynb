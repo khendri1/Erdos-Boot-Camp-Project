{
 "cells": [
  {
   "cell_type": "markdown",
   "id": "3a7a847e",
   "metadata": {},
   "source": [
    "# Modeling, including 50-50 ratio of closed-to-open questions"
   ]
  },
  {
   "cell_type": "markdown",
   "id": "3cbd7471",
   "metadata": {},
   "source": [
    "NLP applied to Kaggle dataset:\n",
    "https://www.kaggle.com/datasets/stackoverflow/stacksample"
   ]
  },
  {
   "cell_type": "code",
   "execution_count": 1,
   "id": "48b39707",
   "metadata": {},
   "outputs": [],
   "source": [
    "import pandas as pd\n",
    "import numpy as np\n",
    "import matplotlib.pyplot as plt\n",
    "import seaborn as sns\n",
    "from seaborn import set_style\n",
    "\n",
    "from ast import literal_eval\n",
    "\n",
    "set_style(\"whitegrid\")"
   ]
  },
  {
   "cell_type": "markdown",
   "id": "c40458a7",
   "metadata": {},
   "source": [
    "## Read in part of the data"
   ]
  },
  {
   "cell_type": "code",
   "execution_count": 2,
   "id": "153fa480",
   "metadata": {},
   "outputs": [],
   "source": [
    "questions = pd.read_csv(\"archive/questions_cleaned.csv\", nrows=100000, \n",
    "                        converters={'cleaned_body': literal_eval})"
   ]
  },
  {
   "cell_type": "code",
   "execution_count": 3,
   "id": "8e92d241",
   "metadata": {},
   "outputs": [
    {
     "data": {
      "text/html": [
       "<div>\n",
       "<style scoped>\n",
       "    .dataframe tbody tr th:only-of-type {\n",
       "        vertical-align: middle;\n",
       "    }\n",
       "\n",
       "    .dataframe tbody tr th {\n",
       "        vertical-align: top;\n",
       "    }\n",
       "\n",
       "    .dataframe thead th {\n",
       "        text-align: right;\n",
       "    }\n",
       "</style>\n",
       "<table border=\"1\" class=\"dataframe\">\n",
       "  <thead>\n",
       "    <tr style=\"text-align: right;\">\n",
       "      <th></th>\n",
       "      <th>Unnamed: 0</th>\n",
       "      <th>Unnamed: 0.1</th>\n",
       "      <th>Id</th>\n",
       "      <th>OwnerUserId</th>\n",
       "      <th>CreationDate</th>\n",
       "      <th>ClosedDate</th>\n",
       "      <th>Score</th>\n",
       "      <th>Title</th>\n",
       "      <th>Body</th>\n",
       "      <th>body_text</th>\n",
       "      <th>cleaned_body</th>\n",
       "    </tr>\n",
       "  </thead>\n",
       "  <tbody>\n",
       "    <tr>\n",
       "      <th>23390</th>\n",
       "      <td>23390</td>\n",
       "      <td>23390</td>\n",
       "      <td>1265190</td>\n",
       "      <td>147800.0</td>\n",
       "      <td>2009-08-12T09:35:05Z</td>\n",
       "      <td>NaN</td>\n",
       "      <td>20</td>\n",
       "      <td>Django annotate() multiple times causes wrong ...</td>\n",
       "      <td>&lt;p&gt;Django has the great new annotate() functio...</td>\n",
       "      <td>Django has the great new annotate() function f...</td>\n",
       "      <td>[Django, great, new, annotate, function, query...</td>\n",
       "    </tr>\n",
       "    <tr>\n",
       "      <th>96923</th>\n",
       "      <td>96923</td>\n",
       "      <td>96923</td>\n",
       "      <td>4082150</td>\n",
       "      <td>495246.0</td>\n",
       "      <td>2010-11-02T21:13:10Z</td>\n",
       "      <td>NaN</td>\n",
       "      <td>2</td>\n",
       "      <td>JSF 2.0 + Icefaces 2.0.0 Beta2 and Tomcat 7 fa...</td>\n",
       "      <td>&lt;p&gt;I have an existing JSF 2.0 project working ...</td>\n",
       "      <td>I have an existing JSF 2.0 project working on ...</td>\n",
       "      <td>[exist, JSF, 2.0, project, work, Tomcat, 7.0.4...</td>\n",
       "    </tr>\n",
       "    <tr>\n",
       "      <th>90312</th>\n",
       "      <td>90312</td>\n",
       "      <td>90312</td>\n",
       "      <td>3847040</td>\n",
       "      <td>289995.0</td>\n",
       "      <td>2010-10-02T18:34:38Z</td>\n",
       "      <td>NaN</td>\n",
       "      <td>3</td>\n",
       "      <td>Where can you download a chm version of the JP...</td>\n",
       "      <td>&lt;p&gt;I'm tired of navigating Oracle's joke of a ...</td>\n",
       "      <td>I'm tired of navigating Oracle's joke of a web...</td>\n",
       "      <td>[tired, navigate, Oracle, joke, website, JPA, ...</td>\n",
       "    </tr>\n",
       "    <tr>\n",
       "      <th>86983</th>\n",
       "      <td>86983</td>\n",
       "      <td>86983</td>\n",
       "      <td>3728830</td>\n",
       "      <td>391104.0</td>\n",
       "      <td>2010-09-16T16:46:22Z</td>\n",
       "      <td>NaN</td>\n",
       "      <td>25</td>\n",
       "      <td>C# - What will I miss if I start with .NET 2.0?</td>\n",
       "      <td>&lt;p&gt;I got a book named \"Pro C# 2005 and the .NE...</td>\n",
       "      <td>I got a book named \"Pro C# 2005 and the .NET 2...</td>\n",
       "      <td>[get, book, name, pro, c, 2005, .net, 2.0, Pla...</td>\n",
       "    </tr>\n",
       "    <tr>\n",
       "      <th>37271</th>\n",
       "      <td>37271</td>\n",
       "      <td>37271</td>\n",
       "      <td>1855850</td>\n",
       "      <td>220388.0</td>\n",
       "      <td>2009-12-06T16:50:34Z</td>\n",
       "      <td>NaN</td>\n",
       "      <td>0</td>\n",
       "      <td>Problem with MySQL query</td>\n",
       "      <td>&lt;p&gt;I have three tables (&lt;em&gt;user&lt;/em&gt;, &lt;em&gt;fri...</td>\n",
       "      <td>I have three tables (user, friends, posts) and...</td>\n",
       "      <td>[table, user, friend, post, user, user1, user2...</td>\n",
       "    </tr>\n",
       "  </tbody>\n",
       "</table>\n",
       "</div>"
      ],
      "text/plain": [
       "       Unnamed: 0  Unnamed: 0.1       Id  OwnerUserId          CreationDate  \\\n",
       "23390       23390         23390  1265190     147800.0  2009-08-12T09:35:05Z   \n",
       "96923       96923         96923  4082150     495246.0  2010-11-02T21:13:10Z   \n",
       "90312       90312         90312  3847040     289995.0  2010-10-02T18:34:38Z   \n",
       "86983       86983         86983  3728830     391104.0  2010-09-16T16:46:22Z   \n",
       "37271       37271         37271  1855850     220388.0  2009-12-06T16:50:34Z   \n",
       "\n",
       "      ClosedDate  Score                                              Title  \\\n",
       "23390        NaN     20  Django annotate() multiple times causes wrong ...   \n",
       "96923        NaN      2  JSF 2.0 + Icefaces 2.0.0 Beta2 and Tomcat 7 fa...   \n",
       "90312        NaN      3  Where can you download a chm version of the JP...   \n",
       "86983        NaN     25    C# - What will I miss if I start with .NET 2.0?   \n",
       "37271        NaN      0                           Problem with MySQL query   \n",
       "\n",
       "                                                    Body  \\\n",
       "23390  <p>Django has the great new annotate() functio...   \n",
       "96923  <p>I have an existing JSF 2.0 project working ...   \n",
       "90312  <p>I'm tired of navigating Oracle's joke of a ...   \n",
       "86983  <p>I got a book named \"Pro C# 2005 and the .NE...   \n",
       "37271  <p>I have three tables (<em>user</em>, <em>fri...   \n",
       "\n",
       "                                               body_text  \\\n",
       "23390  Django has the great new annotate() function f...   \n",
       "96923  I have an existing JSF 2.0 project working on ...   \n",
       "90312  I'm tired of navigating Oracle's joke of a web...   \n",
       "86983  I got a book named \"Pro C# 2005 and the .NET 2...   \n",
       "37271  I have three tables (user, friends, posts) and...   \n",
       "\n",
       "                                            cleaned_body  \n",
       "23390  [Django, great, new, annotate, function, query...  \n",
       "96923  [exist, JSF, 2.0, project, work, Tomcat, 7.0.4...  \n",
       "90312  [tired, navigate, Oracle, joke, website, JPA, ...  \n",
       "86983  [get, book, name, pro, c, 2005, .net, 2.0, Pla...  \n",
       "37271  [table, user, friend, post, user, user1, user2...  "
      ]
     },
     "execution_count": 3,
     "metadata": {},
     "output_type": "execute_result"
    }
   ],
   "source": [
    "questions.sample(5, random_state=234)"
   ]
  },
  {
   "cell_type": "markdown",
   "id": "17d4c75f",
   "metadata": {},
   "source": [
    "## Report number of closed and open questions in the dataset"
   ]
  },
  {
   "cell_type": "code",
   "execution_count": 4,
   "id": "5903b18e",
   "metadata": {},
   "outputs": [
    {
     "name": "stdout",
     "output_type": "stream",
     "text": [
      "Number of closed questions: 96669\n",
      "Number of open questions: 3331\n"
     ]
    }
   ],
   "source": [
    "count = 0\n",
    "for i in range(0,np.shape(questions)[0]):\n",
    "    if pd.isna(questions.iloc[i].ClosedDate):\n",
    "        count = count+1\n",
    "        \n",
    "print(\"Number of closed questions:\", count)\n",
    "print(\"Number of open questions:\", np.shape(questions)[0] - count)"
   ]
  },
  {
   "cell_type": "markdown",
   "id": "3c1bd7ec",
   "metadata": {},
   "source": [
    "Let's define a new column of 0s and 1s that indicates if the question is still open (0) or if it has been closed (1)."
   ]
  },
  {
   "cell_type": "code",
   "execution_count": 5,
   "id": "7bc84f38",
   "metadata": {},
   "outputs": [
    {
     "name": "stderr",
     "output_type": "stream",
     "text": [
      "D:\\anaconda3\\lib\\site-packages\\pandas\\core\\indexing.py:1732: SettingWithCopyWarning: \n",
      "A value is trying to be set on a copy of a slice from a DataFrame\n",
      "\n",
      "See the caveats in the documentation: https://pandas.pydata.org/pandas-docs/stable/user_guide/indexing.html#returning-a-view-versus-a-copy\n",
      "  self._setitem_single_block(indexer, value, name)\n"
     ]
    },
    {
     "data": {
      "text/html": [
       "<div>\n",
       "<style scoped>\n",
       "    .dataframe tbody tr th:only-of-type {\n",
       "        vertical-align: middle;\n",
       "    }\n",
       "\n",
       "    .dataframe tbody tr th {\n",
       "        vertical-align: top;\n",
       "    }\n",
       "\n",
       "    .dataframe thead th {\n",
       "        text-align: right;\n",
       "    }\n",
       "</style>\n",
       "<table border=\"1\" class=\"dataframe\">\n",
       "  <thead>\n",
       "    <tr style=\"text-align: right;\">\n",
       "      <th></th>\n",
       "      <th>Unnamed: 0</th>\n",
       "      <th>Unnamed: 0.1</th>\n",
       "      <th>Id</th>\n",
       "      <th>OwnerUserId</th>\n",
       "      <th>CreationDate</th>\n",
       "      <th>ClosedDate</th>\n",
       "      <th>Score</th>\n",
       "      <th>Title</th>\n",
       "      <th>Body</th>\n",
       "      <th>body_text</th>\n",
       "      <th>cleaned_body</th>\n",
       "      <th>Closed</th>\n",
       "    </tr>\n",
       "  </thead>\n",
       "  <tbody>\n",
       "    <tr>\n",
       "      <th>0</th>\n",
       "      <td>0</td>\n",
       "      <td>0</td>\n",
       "      <td>80</td>\n",
       "      <td>26.0</td>\n",
       "      <td>2008-08-01T13:57:07Z</td>\n",
       "      <td>NaN</td>\n",
       "      <td>26</td>\n",
       "      <td>SQLStatement.execute() - multiple queries in o...</td>\n",
       "      <td>&lt;p&gt;I've written a database generation script i...</td>\n",
       "      <td>I've written a database generation script in S...</td>\n",
       "      <td>[write, database, generation, script, SQL, wan...</td>\n",
       "      <td>0</td>\n",
       "    </tr>\n",
       "    <tr>\n",
       "      <th>1</th>\n",
       "      <td>1</td>\n",
       "      <td>1</td>\n",
       "      <td>90</td>\n",
       "      <td>58.0</td>\n",
       "      <td>2008-08-01T14:41:24Z</td>\n",
       "      <td>2012-12-26T03:45:49Z</td>\n",
       "      <td>144</td>\n",
       "      <td>Good branching and merging tutorials for Torto...</td>\n",
       "      <td>&lt;p&gt;Are there any really good tutorials explain...</td>\n",
       "      <td>Are there any really good tutorials explaining...</td>\n",
       "      <td>[good, tutorial, explain, branching, merge, Ap...</td>\n",
       "      <td>1</td>\n",
       "    </tr>\n",
       "    <tr>\n",
       "      <th>2</th>\n",
       "      <td>2</td>\n",
       "      <td>2</td>\n",
       "      <td>120</td>\n",
       "      <td>83.0</td>\n",
       "      <td>2008-08-01T15:50:08Z</td>\n",
       "      <td>NaN</td>\n",
       "      <td>21</td>\n",
       "      <td>ASP.NET Site Maps</td>\n",
       "      <td>&lt;p&gt;Has anyone got experience creating &lt;strong&gt;...</td>\n",
       "      <td>Has anyone got experience creating SQL-based A...</td>\n",
       "      <td>[get, experience, create, SQL, base, ASP.NET, ...</td>\n",
       "      <td>0</td>\n",
       "    </tr>\n",
       "    <tr>\n",
       "      <th>3</th>\n",
       "      <td>3</td>\n",
       "      <td>3</td>\n",
       "      <td>180</td>\n",
       "      <td>2089740.0</td>\n",
       "      <td>2008-08-01T18:42:19Z</td>\n",
       "      <td>NaN</td>\n",
       "      <td>53</td>\n",
       "      <td>Function for creating color wheels</td>\n",
       "      <td>&lt;p&gt;This is something I've pseudo-solved many t...</td>\n",
       "      <td>This is something I've pseudo-solved many time...</td>\n",
       "      <td>[pseudo, solve, time, find, solution, stick, p...</td>\n",
       "      <td>0</td>\n",
       "    </tr>\n",
       "    <tr>\n",
       "      <th>4</th>\n",
       "      <td>4</td>\n",
       "      <td>4</td>\n",
       "      <td>260</td>\n",
       "      <td>91.0</td>\n",
       "      <td>2008-08-01T23:22:08Z</td>\n",
       "      <td>NaN</td>\n",
       "      <td>49</td>\n",
       "      <td>Adding scripting functionality to .NET applica...</td>\n",
       "      <td>&lt;p&gt;I have a little game written in C#. It uses...</td>\n",
       "      <td>I have a little game written in C#. It uses a ...</td>\n",
       "      <td>[little, game, write, C, use, database, end, t...</td>\n",
       "      <td>0</td>\n",
       "    </tr>\n",
       "  </tbody>\n",
       "</table>\n",
       "</div>"
      ],
      "text/plain": [
       "   Unnamed: 0  Unnamed: 0.1   Id  OwnerUserId          CreationDate  \\\n",
       "0           0             0   80         26.0  2008-08-01T13:57:07Z   \n",
       "1           1             1   90         58.0  2008-08-01T14:41:24Z   \n",
       "2           2             2  120         83.0  2008-08-01T15:50:08Z   \n",
       "3           3             3  180    2089740.0  2008-08-01T18:42:19Z   \n",
       "4           4             4  260         91.0  2008-08-01T23:22:08Z   \n",
       "\n",
       "             ClosedDate  Score  \\\n",
       "0                   NaN     26   \n",
       "1  2012-12-26T03:45:49Z    144   \n",
       "2                   NaN     21   \n",
       "3                   NaN     53   \n",
       "4                   NaN     49   \n",
       "\n",
       "                                               Title  \\\n",
       "0  SQLStatement.execute() - multiple queries in o...   \n",
       "1  Good branching and merging tutorials for Torto...   \n",
       "2                                  ASP.NET Site Maps   \n",
       "3                 Function for creating color wheels   \n",
       "4  Adding scripting functionality to .NET applica...   \n",
       "\n",
       "                                                Body  \\\n",
       "0  <p>I've written a database generation script i...   \n",
       "1  <p>Are there any really good tutorials explain...   \n",
       "2  <p>Has anyone got experience creating <strong>...   \n",
       "3  <p>This is something I've pseudo-solved many t...   \n",
       "4  <p>I have a little game written in C#. It uses...   \n",
       "\n",
       "                                           body_text  \\\n",
       "0  I've written a database generation script in S...   \n",
       "1  Are there any really good tutorials explaining...   \n",
       "2  Has anyone got experience creating SQL-based A...   \n",
       "3  This is something I've pseudo-solved many time...   \n",
       "4  I have a little game written in C#. It uses a ...   \n",
       "\n",
       "                                        cleaned_body  Closed  \n",
       "0  [write, database, generation, script, SQL, wan...       0  \n",
       "1  [good, tutorial, explain, branching, merge, Ap...       1  \n",
       "2  [get, experience, create, SQL, base, ASP.NET, ...       0  \n",
       "3  [pseudo, solve, time, find, solution, stick, p...       0  \n",
       "4  [little, game, write, C, use, database, end, t...       0  "
      ]
     },
     "execution_count": 5,
     "metadata": {},
     "output_type": "execute_result"
    }
   ],
   "source": [
    "questions['Closed'] = 1\n",
    "\n",
    "for i in range(0,np.shape(questions)[0]):\n",
    "    if pd.isna(questions.iloc[i].ClosedDate):\n",
    "        questions['Closed'].iloc[i] = 0\n",
    "\n",
    "questions.head(5)"
   ]
  },
  {
   "cell_type": "code",
   "execution_count": null,
   "id": "130c7772",
   "metadata": {},
   "outputs": [],
   "source": []
  },
  {
   "cell_type": "markdown",
   "id": "6ed60a4f",
   "metadata": {},
   "source": [
    "## Manually construct a dataset with a different ratio of closed-to-open questions"
   ]
  },
  {
   "cell_type": "code",
   "execution_count": 6,
   "id": "6b4c61e2",
   "metadata": {},
   "outputs": [
    {
     "data": {
      "text/plain": [
       "96669"
      ]
     },
     "execution_count": 6,
     "metadata": {},
     "output_type": "execute_result"
    }
   ],
   "source": [
    "open_questions = questions[pd.isna(questions['ClosedDate'])].copy()\n",
    "np.shape(open_questions)[0]"
   ]
  },
  {
   "cell_type": "code",
   "execution_count": 7,
   "id": "2a1f17d5",
   "metadata": {},
   "outputs": [
    {
     "data": {
      "text/plain": [
       "3331"
      ]
     },
     "execution_count": 7,
     "metadata": {},
     "output_type": "execute_result"
    }
   ],
   "source": [
    "closed_questions = questions[pd.notna(questions['ClosedDate'])].copy()\n",
    "np.shape(closed_questions)[0]"
   ]
  },
  {
   "cell_type": "code",
   "execution_count": 8,
   "id": "71aa9b15",
   "metadata": {},
   "outputs": [],
   "source": [
    "halfset = pd.concat([open_questions[0:2000], closed_questions[0:2000]])"
   ]
  },
  {
   "cell_type": "code",
   "execution_count": 9,
   "id": "4aba6feb",
   "metadata": {},
   "outputs": [
    {
     "data": {
      "text/html": [
       "<div>\n",
       "<style scoped>\n",
       "    .dataframe tbody tr th:only-of-type {\n",
       "        vertical-align: middle;\n",
       "    }\n",
       "\n",
       "    .dataframe tbody tr th {\n",
       "        vertical-align: top;\n",
       "    }\n",
       "\n",
       "    .dataframe thead th {\n",
       "        text-align: right;\n",
       "    }\n",
       "</style>\n",
       "<table border=\"1\" class=\"dataframe\">\n",
       "  <thead>\n",
       "    <tr style=\"text-align: right;\">\n",
       "      <th></th>\n",
       "      <th>Unnamed: 0</th>\n",
       "      <th>Unnamed: 0.1</th>\n",
       "      <th>Id</th>\n",
       "      <th>OwnerUserId</th>\n",
       "      <th>CreationDate</th>\n",
       "      <th>ClosedDate</th>\n",
       "      <th>Score</th>\n",
       "      <th>Title</th>\n",
       "      <th>Body</th>\n",
       "      <th>body_text</th>\n",
       "      <th>cleaned_body</th>\n",
       "      <th>Closed</th>\n",
       "    </tr>\n",
       "  </thead>\n",
       "  <tbody>\n",
       "    <tr>\n",
       "      <th>41239</th>\n",
       "      <td>41239</td>\n",
       "      <td>41239</td>\n",
       "      <td>2025730</td>\n",
       "      <td>165520.0</td>\n",
       "      <td>2010-01-08T05:30:45Z</td>\n",
       "      <td>2013-05-05T19:21:54Z</td>\n",
       "      <td>25</td>\n",
       "      <td>Why is COBOL still a preferred language in the...</td>\n",
       "      <td>&lt;p&gt;Even though we have languages like &lt;code&gt;C+...</td>\n",
       "      <td>Even though we have languages like C++, Java, ...</td>\n",
       "      <td>[language, like, C++, Java, Python, etc, COBOL...</td>\n",
       "      <td>1</td>\n",
       "    </tr>\n",
       "    <tr>\n",
       "      <th>1501</th>\n",
       "      <td>1501</td>\n",
       "      <td>1501</td>\n",
       "      <td>126430</td>\n",
       "      <td>3408.0</td>\n",
       "      <td>2008-09-24T10:39:12Z</td>\n",
       "      <td>NaN</td>\n",
       "      <td>17</td>\n",
       "      <td>Is it possible to change the natural order of ...</td>\n",
       "      <td>&lt;p&gt;Is it possible to change the natural order ...</td>\n",
       "      <td>Is it possible to change the natural order of ...</td>\n",
       "      <td>[possible, change, natural, order, column, Pos...</td>\n",
       "      <td>0</td>\n",
       "    </tr>\n",
       "    <tr>\n",
       "      <th>10999</th>\n",
       "      <td>10999</td>\n",
       "      <td>10999</td>\n",
       "      <td>687720</td>\n",
       "      <td>74894.0</td>\n",
       "      <td>2009-03-26T21:56:55Z</td>\n",
       "      <td>2014-08-22T11:53:44Z</td>\n",
       "      <td>6</td>\n",
       "      <td>Open source survey/questionnaire engine for Java</td>\n",
       "      <td>&lt;p&gt;Is there an open source survey engine for j...</td>\n",
       "      <td>Is there an open source survey engine for java...</td>\n",
       "      <td>[open, source, survey, engine, java, allow, br...</td>\n",
       "      <td>1</td>\n",
       "    </tr>\n",
       "    <tr>\n",
       "      <th>4632</th>\n",
       "      <td>4632</td>\n",
       "      <td>4632</td>\n",
       "      <td>330700</td>\n",
       "      <td>42118.0</td>\n",
       "      <td>2008-12-01T12:35:36Z</td>\n",
       "      <td>2013-08-22T17:40:13Z</td>\n",
       "      <td>1</td>\n",
       "      <td>Can you use SIMBL to develop a plug-in for the...</td>\n",
       "      <td>&lt;p&gt;Can you use SIMBL to develop a plug-in for ...</td>\n",
       "      <td>Can you use SIMBL to develop a plug-in for the...</td>\n",
       "      <td>[use, SIMBL, develop, plug, iPhone, Safari]</td>\n",
       "      <td>1</td>\n",
       "    </tr>\n",
       "    <tr>\n",
       "      <th>1769</th>\n",
       "      <td>1769</td>\n",
       "      <td>1769</td>\n",
       "      <td>145880</td>\n",
       "      <td>12874.0</td>\n",
       "      <td>2008-09-28T13:53:16Z</td>\n",
       "      <td>NaN</td>\n",
       "      <td>18</td>\n",
       "      <td>How do I get a stack trace in OCaml?</td>\n",
       "      <td>&lt;p&gt;The Objective Caml language will only produ...</td>\n",
       "      <td>The Objective Caml language will only produce ...</td>\n",
       "      <td>[Objective, Caml, language, produce, stack, tr...</td>\n",
       "      <td>0</td>\n",
       "    </tr>\n",
       "  </tbody>\n",
       "</table>\n",
       "</div>"
      ],
      "text/plain": [
       "       Unnamed: 0  Unnamed: 0.1       Id  OwnerUserId          CreationDate  \\\n",
       "41239       41239         41239  2025730     165520.0  2010-01-08T05:30:45Z   \n",
       "1501         1501          1501   126430       3408.0  2008-09-24T10:39:12Z   \n",
       "10999       10999         10999   687720      74894.0  2009-03-26T21:56:55Z   \n",
       "4632         4632          4632   330700      42118.0  2008-12-01T12:35:36Z   \n",
       "1769         1769          1769   145880      12874.0  2008-09-28T13:53:16Z   \n",
       "\n",
       "                 ClosedDate  Score  \\\n",
       "41239  2013-05-05T19:21:54Z     25   \n",
       "1501                    NaN     17   \n",
       "10999  2014-08-22T11:53:44Z      6   \n",
       "4632   2013-08-22T17:40:13Z      1   \n",
       "1769                    NaN     18   \n",
       "\n",
       "                                                   Title  \\\n",
       "41239  Why is COBOL still a preferred language in the...   \n",
       "1501   Is it possible to change the natural order of ...   \n",
       "10999   Open source survey/questionnaire engine for Java   \n",
       "4632   Can you use SIMBL to develop a plug-in for the...   \n",
       "1769                How do I get a stack trace in OCaml?   \n",
       "\n",
       "                                                    Body  \\\n",
       "41239  <p>Even though we have languages like <code>C+...   \n",
       "1501   <p>Is it possible to change the natural order ...   \n",
       "10999  <p>Is there an open source survey engine for j...   \n",
       "4632   <p>Can you use SIMBL to develop a plug-in for ...   \n",
       "1769   <p>The Objective Caml language will only produ...   \n",
       "\n",
       "                                               body_text  \\\n",
       "41239  Even though we have languages like C++, Java, ...   \n",
       "1501   Is it possible to change the natural order of ...   \n",
       "10999  Is there an open source survey engine for java...   \n",
       "4632   Can you use SIMBL to develop a plug-in for the...   \n",
       "1769   The Objective Caml language will only produce ...   \n",
       "\n",
       "                                            cleaned_body  Closed  \n",
       "41239  [language, like, C++, Java, Python, etc, COBOL...       1  \n",
       "1501   [possible, change, natural, order, column, Pos...       0  \n",
       "10999  [open, source, survey, engine, java, allow, br...       1  \n",
       "4632         [use, SIMBL, develop, plug, iPhone, Safari]       1  \n",
       "1769   [Objective, Caml, language, produce, stack, tr...       0  "
      ]
     },
     "execution_count": 9,
     "metadata": {},
     "output_type": "execute_result"
    }
   ],
   "source": [
    "halfset.sample(5)"
   ]
  },
  {
   "cell_type": "markdown",
   "id": "fb2981e9",
   "metadata": {},
   "source": [
    "## Define dataset for the rest of the notebook"
   ]
  },
  {
   "cell_type": "code",
   "execution_count": 10,
   "id": "b7e21fd7",
   "metadata": {},
   "outputs": [],
   "source": [
    "#dataset = questions\n",
    "dataset = halfset"
   ]
  },
  {
   "cell_type": "markdown",
   "id": "1e2c4aca",
   "metadata": {},
   "source": [
    "## Secondary cleaning"
   ]
  },
  {
   "cell_type": "markdown",
   "id": "6b0cf92d",
   "metadata": {},
   "source": [
    "Do a small amount of secondary cleaning to remove non-ascii characters, single digit numbers, extraneous punctuation, and short (1 to 3 character) words that survived the first cleaning."
   ]
  },
  {
   "cell_type": "code",
   "execution_count": 11,
   "id": "98b02966",
   "metadata": {},
   "outputs": [],
   "source": [
    "import re"
   ]
  },
  {
   "cell_type": "code",
   "execution_count": 12,
   "id": "0232ed07",
   "metadata": {},
   "outputs": [],
   "source": [
    "def clean_text(text):\n",
    "\n",
    "    for i in range(0,len(text)):\n",
    "        # remove the random non-ascii characters\n",
    "        text[i] = text[i].encode(\"ascii\", \"ignore\").decode()\n",
    "        \n",
    "        # remove numbers\n",
    "        text[i] = re.sub(r'[0-9]+', '', text[i])\n",
    "        \n",
    "        # remove anything that isn't a word or whitespace\n",
    "        text[i] = re.sub(r'[^\\w\\s]', '', text[i])    \n",
    "        \n",
    "        # remove short words with 1 to 3 characters\n",
    "        shortword = re.compile(r'\\W*\\b\\w{1,3}\\b')\n",
    "        text[i] = shortword.sub('', text[i])\n",
    "        \n",
    "        \n",
    "    # some of the above re calls replaced things with empty strings, so now let's remove those    \n",
    "    while(\"\" in text) :\n",
    "        text.remove(\"\")    \n",
    "        \n",
    "    return text"
   ]
  },
  {
   "cell_type": "code",
   "execution_count": 13,
   "id": "9757eda0",
   "metadata": {},
   "outputs": [],
   "source": [
    "dataset['cleaned_body'] = list(map(clean_text, dataset.cleaned_body))"
   ]
  },
  {
   "cell_type": "code",
   "execution_count": 14,
   "id": "85ecfc0f",
   "metadata": {},
   "outputs": [
    {
     "data": {
      "text/html": [
       "<div>\n",
       "<style scoped>\n",
       "    .dataframe tbody tr th:only-of-type {\n",
       "        vertical-align: middle;\n",
       "    }\n",
       "\n",
       "    .dataframe tbody tr th {\n",
       "        vertical-align: top;\n",
       "    }\n",
       "\n",
       "    .dataframe thead th {\n",
       "        text-align: right;\n",
       "    }\n",
       "</style>\n",
       "<table border=\"1\" class=\"dataframe\">\n",
       "  <thead>\n",
       "    <tr style=\"text-align: right;\">\n",
       "      <th></th>\n",
       "      <th>Unnamed: 0</th>\n",
       "      <th>Unnamed: 0.1</th>\n",
       "      <th>Id</th>\n",
       "      <th>OwnerUserId</th>\n",
       "      <th>CreationDate</th>\n",
       "      <th>ClosedDate</th>\n",
       "      <th>Score</th>\n",
       "      <th>Title</th>\n",
       "      <th>Body</th>\n",
       "      <th>body_text</th>\n",
       "      <th>cleaned_body</th>\n",
       "      <th>Closed</th>\n",
       "    </tr>\n",
       "  </thead>\n",
       "  <tbody>\n",
       "    <tr>\n",
       "      <th>0</th>\n",
       "      <td>0</td>\n",
       "      <td>0</td>\n",
       "      <td>80</td>\n",
       "      <td>26.0</td>\n",
       "      <td>2008-08-01T13:57:07Z</td>\n",
       "      <td>NaN</td>\n",
       "      <td>26</td>\n",
       "      <td>SQLStatement.execute() - multiple queries in o...</td>\n",
       "      <td>&lt;p&gt;I've written a database generation script i...</td>\n",
       "      <td>I've written a database generation script in S...</td>\n",
       "      <td>[write, database, generation, script, want, ex...</td>\n",
       "      <td>0</td>\n",
       "    </tr>\n",
       "    <tr>\n",
       "      <th>2</th>\n",
       "      <td>2</td>\n",
       "      <td>2</td>\n",
       "      <td>120</td>\n",
       "      <td>83.0</td>\n",
       "      <td>2008-08-01T15:50:08Z</td>\n",
       "      <td>NaN</td>\n",
       "      <td>21</td>\n",
       "      <td>ASP.NET Site Maps</td>\n",
       "      <td>&lt;p&gt;Has anyone got experience creating &lt;strong&gt;...</td>\n",
       "      <td>Has anyone got experience creating SQL-based A...</td>\n",
       "      <td>[experience, create, base, ASPNET, site, provi...</td>\n",
       "      <td>0</td>\n",
       "    </tr>\n",
       "    <tr>\n",
       "      <th>3</th>\n",
       "      <td>3</td>\n",
       "      <td>3</td>\n",
       "      <td>180</td>\n",
       "      <td>2089740.0</td>\n",
       "      <td>2008-08-01T18:42:19Z</td>\n",
       "      <td>NaN</td>\n",
       "      <td>53</td>\n",
       "      <td>Function for creating color wheels</td>\n",
       "      <td>&lt;p&gt;This is something I've pseudo-solved many t...</td>\n",
       "      <td>This is something I've pseudo-solved many time...</td>\n",
       "      <td>[pseudo, solve, time, find, solution, stick, p...</td>\n",
       "      <td>0</td>\n",
       "    </tr>\n",
       "  </tbody>\n",
       "</table>\n",
       "</div>"
      ],
      "text/plain": [
       "   Unnamed: 0  Unnamed: 0.1   Id  OwnerUserId          CreationDate  \\\n",
       "0           0             0   80         26.0  2008-08-01T13:57:07Z   \n",
       "2           2             2  120         83.0  2008-08-01T15:50:08Z   \n",
       "3           3             3  180    2089740.0  2008-08-01T18:42:19Z   \n",
       "\n",
       "  ClosedDate  Score                                              Title  \\\n",
       "0        NaN     26  SQLStatement.execute() - multiple queries in o...   \n",
       "2        NaN     21                                  ASP.NET Site Maps   \n",
       "3        NaN     53                 Function for creating color wheels   \n",
       "\n",
       "                                                Body  \\\n",
       "0  <p>I've written a database generation script i...   \n",
       "2  <p>Has anyone got experience creating <strong>...   \n",
       "3  <p>This is something I've pseudo-solved many t...   \n",
       "\n",
       "                                           body_text  \\\n",
       "0  I've written a database generation script in S...   \n",
       "2  Has anyone got experience creating SQL-based A...   \n",
       "3  This is something I've pseudo-solved many time...   \n",
       "\n",
       "                                        cleaned_body  Closed  \n",
       "0  [write, database, generation, script, want, ex...       0  \n",
       "2  [experience, create, base, ASPNET, site, provi...       0  \n",
       "3  [pseudo, solve, time, find, solution, stick, p...       0  "
      ]
     },
     "execution_count": 14,
     "metadata": {},
     "output_type": "execute_result"
    }
   ],
   "source": [
    "dataset.head(3)"
   ]
  },
  {
   "cell_type": "code",
   "execution_count": 15,
   "id": "634fe839",
   "metadata": {},
   "outputs": [
    {
     "data": {
      "text/html": [
       "<div>\n",
       "<style scoped>\n",
       "    .dataframe tbody tr th:only-of-type {\n",
       "        vertical-align: middle;\n",
       "    }\n",
       "\n",
       "    .dataframe tbody tr th {\n",
       "        vertical-align: top;\n",
       "    }\n",
       "\n",
       "    .dataframe thead th {\n",
       "        text-align: right;\n",
       "    }\n",
       "</style>\n",
       "<table border=\"1\" class=\"dataframe\">\n",
       "  <thead>\n",
       "    <tr style=\"text-align: right;\">\n",
       "      <th></th>\n",
       "      <th>Id</th>\n",
       "      <th>Score</th>\n",
       "      <th>Title</th>\n",
       "      <th>Body</th>\n",
       "      <th>body_text</th>\n",
       "      <th>cleaned_body</th>\n",
       "      <th>Closed</th>\n",
       "    </tr>\n",
       "  </thead>\n",
       "  <tbody>\n",
       "    <tr>\n",
       "      <th>1983</th>\n",
       "      <td>161430</td>\n",
       "      <td>2</td>\n",
       "      <td>Unit Testing: Maven or Eclipse?</td>\n",
       "      <td>&lt;p&gt;I am not really familiar with Maven program...</td>\n",
       "      <td>I am not really familiar with Maven program bu...</td>\n",
       "      <td>[familiar, Maven, program, Eclipse, Unit, test...</td>\n",
       "      <td>0</td>\n",
       "    </tr>\n",
       "    <tr>\n",
       "      <th>7541</th>\n",
       "      <td>508370</td>\n",
       "      <td>22</td>\n",
       "      <td>quaternion libraries in C/C++</td>\n",
       "      <td>&lt;p&gt;Any good libraries for &lt;em&gt;quaternion&lt;/em&gt; ...</td>\n",
       "      <td>Any good libraries for quaternion calculations...</td>\n",
       "      <td>[good, library, quaternion, calculation, note,...</td>\n",
       "      <td>1</td>\n",
       "    </tr>\n",
       "    <tr>\n",
       "      <th>1992</th>\n",
       "      <td>162310</td>\n",
       "      <td>8</td>\n",
       "      <td>What is the role of Spring in Struts + Spring ...</td>\n",
       "      <td>&lt;p&gt;What role is Spring taking in Struts + Spri...</td>\n",
       "      <td>What role is Spring taking in Struts + Spring ...</td>\n",
       "      <td>[role, Spring, take, Struts, Spring, Hibernate]</td>\n",
       "      <td>0</td>\n",
       "    </tr>\n",
       "  </tbody>\n",
       "</table>\n",
       "</div>"
      ],
      "text/plain": [
       "          Id  Score                                              Title  \\\n",
       "1983  161430      2                    Unit Testing: Maven or Eclipse?   \n",
       "7541  508370     22                      quaternion libraries in C/C++   \n",
       "1992  162310      8  What is the role of Spring in Struts + Spring ...   \n",
       "\n",
       "                                                   Body  \\\n",
       "1983  <p>I am not really familiar with Maven program...   \n",
       "7541  <p>Any good libraries for <em>quaternion</em> ...   \n",
       "1992  <p>What role is Spring taking in Struts + Spri...   \n",
       "\n",
       "                                              body_text  \\\n",
       "1983  I am not really familiar with Maven program bu...   \n",
       "7541  Any good libraries for quaternion calculations...   \n",
       "1992  What role is Spring taking in Struts + Spring ...   \n",
       "\n",
       "                                           cleaned_body  Closed  \n",
       "1983  [familiar, Maven, program, Eclipse, Unit, test...       0  \n",
       "7541  [good, library, quaternion, calculation, note,...       1  \n",
       "1992    [role, Spring, take, Struts, Spring, Hibernate]       0  "
      ]
     },
     "execution_count": 15,
     "metadata": {},
     "output_type": "execute_result"
    }
   ],
   "source": [
    "dataset[['Id', 'Score', 'Title', 'Body', 'body_text', 'cleaned_body', 'Closed']].sample(3, random_state=151)"
   ]
  },
  {
   "cell_type": "code",
   "execution_count": 14,
   "id": "11a561f7",
   "metadata": {},
   "outputs": [],
   "source": []
  },
  {
   "cell_type": "markdown",
   "id": "7fb5b1c6",
   "metadata": {},
   "source": [
    "# Logistic regression with our bag of words"
   ]
  },
  {
   "cell_type": "markdown",
   "id": "ff0f73a3",
   "metadata": {},
   "source": [
    "Here, we implement a logistic regression model that takes, as features, the words in a given question and outputs a prediction of whether or not that question will be closed or open."
   ]
  },
  {
   "cell_type": "markdown",
   "id": "e9c9a792",
   "metadata": {},
   "source": [
    "## Split all of our data into training and testing blocks"
   ]
  },
  {
   "cell_type": "code",
   "execution_count": 16,
   "id": "44719fac",
   "metadata": {},
   "outputs": [],
   "source": [
    "from sklearn.feature_extraction.text import CountVectorizer"
   ]
  },
  {
   "cell_type": "code",
   "execution_count": 17,
   "id": "8f415f40",
   "metadata": {},
   "outputs": [],
   "source": [
    "from sklearn.linear_model import LogisticRegression\n",
    "import sklearn.model_selection\n",
    "import sklearn.preprocessing as preproc\n",
    "from sklearn.feature_extraction import text"
   ]
  },
  {
   "cell_type": "code",
   "execution_count": 18,
   "id": "a61b040e",
   "metadata": {},
   "outputs": [],
   "source": [
    "training_data, test_data = sklearn.model_selection.train_test_split(dataset.copy(), shuffle=True, \n",
    "                                                                    test_size = 0.3, random_state=961,\n",
    "                                                                    stratify = dataset.Closed)"
   ]
  },
  {
   "cell_type": "code",
   "execution_count": 19,
   "id": "94061308",
   "metadata": {},
   "outputs": [
    {
     "name": "stdout",
     "output_type": "stream",
     "text": [
      "(2800, 12)\n",
      "(1200, 12)\n"
     ]
    }
   ],
   "source": [
    "print(training_data.shape)\n",
    "print(test_data.shape)"
   ]
  },
  {
   "cell_type": "markdown",
   "id": "c72e6b7e",
   "metadata": {},
   "source": [
    "Note that the stratify keyword preserves the number of 'Closed' questions in the training and test sets."
   ]
  },
  {
   "cell_type": "code",
   "execution_count": 20,
   "id": "587ebbd6",
   "metadata": {},
   "outputs": [
    {
     "name": "stdout",
     "output_type": "stream",
     "text": [
      "Number of open (0) and closed (1) questions in total:\n",
      " 0    0.5\n",
      "1    0.5\n",
      "Name: Closed, dtype: float64\n",
      "Number of open (0) and closed (1) questions in training data:\n",
      " 1    0.5\n",
      "0    0.5\n",
      "Name: Closed, dtype: float64\n",
      "Number of open (0) and closed (1) questions in test data:\n",
      " 1    0.5\n",
      "0    0.5\n",
      "Name: Closed, dtype: float64\n"
     ]
    }
   ],
   "source": [
    "print(\"Number of open (0) and closed (1) questions in total:\\n\", dataset.Closed.value_counts(normalize=True))\n",
    "print(\"Number of open (0) and closed (1) questions in training data:\\n\", training_data.Closed.value_counts(normalize=True))\n",
    "print(\"Number of open (0) and closed (1) questions in test data:\\n\", test_data.Closed.value_counts(normalize=True))"
   ]
  },
  {
   "cell_type": "markdown",
   "id": "56fc5b70",
   "metadata": {},
   "source": [
    "Make the model and fit it to our training data. Again, we're just making a bag of words (and not a bag of n-grams)."
   ]
  },
  {
   "cell_type": "code",
   "execution_count": 21,
   "id": "c8ccfa5c",
   "metadata": {},
   "outputs": [],
   "source": [
    "bow_transform = CountVectorizer(tokenizer=lambda doc: doc, ngram_range=[1,1], lowercase=False) \n",
    "\n",
    "X_tr_bow = bow_transform.fit_transform(training_data['cleaned_body'])"
   ]
  },
  {
   "cell_type": "markdown",
   "id": "601f49fc",
   "metadata": {},
   "source": [
    "Check the number of unique words."
   ]
  },
  {
   "cell_type": "code",
   "execution_count": 23,
   "id": "b08fb25d",
   "metadata": {},
   "outputs": [
    {
     "data": {
      "text/plain": [
       "14868"
      ]
     },
     "execution_count": 23,
     "metadata": {},
     "output_type": "execute_result"
    }
   ],
   "source": [
    "len(bow_transform.vocabulary_)"
   ]
  },
  {
   "cell_type": "markdown",
   "id": "769efce1",
   "metadata": {},
   "source": [
    "This method shows us the actual \"words\" we've put in the \"training\" bag."
   ]
  },
  {
   "cell_type": "code",
   "execution_count": 24,
   "id": "c2434547",
   "metadata": {},
   "outputs": [
    {
     "data": {
      "text/plain": [
       "array(['ABCDEFGHIJKLMNOPQRSTUVWXYZ', 'ABCpdf', 'ABORT', ..., 'zsequencen',\n",
       "       'zzzz', 'zzzzz'], dtype=object)"
      ]
     },
     "execution_count": 24,
     "metadata": {},
     "output_type": "execute_result"
    }
   ],
   "source": [
    "bow_transform.get_feature_names_out()"
   ]
  },
  {
   "cell_type": "markdown",
   "id": "fc10fe3b",
   "metadata": {},
   "source": [
    "And this methods shows us how to map from a word to the index in the bag \"array\" where that word appears, e.g. 'Nicole' appears at index 2,554. Note these are *not* word counts."
   ]
  },
  {
   "cell_type": "code",
   "execution_count": 25,
   "id": "2ab721de",
   "metadata": {},
   "outputs": [
    {
     "name": "stdout",
     "output_type": "stream",
     "text": [
      "{'Nicole': 2554, 'Sullivan': 3611, 'Object': 2613, 'orient': 10730, 'grid': 8024, 'hate': 8129, 'term': 13495, 'find': 7512, 'good': 7973, 'experience': 7291}\n"
     ]
    }
   ],
   "source": [
    "first10pairs = {k: bow_transform.vocabulary_[k] for k in list(bow_transform.vocabulary_)[:10]}\n",
    "\n",
    "print(first10pairs)"
   ]
  },
  {
   "cell_type": "markdown",
   "id": "7b7e0077",
   "metadata": {},
   "source": [
    "This is the shape of our training data. Here, 2,800 rows (one row for each StackOverflow question in the training set) and 14,868 columns (one column for each word in our vocabulary)."
   ]
  },
  {
   "cell_type": "code",
   "execution_count": 26,
   "id": "33282978",
   "metadata": {},
   "outputs": [
    {
     "data": {
      "text/plain": [
       "(2800, 14868)"
      ]
     },
     "execution_count": 26,
     "metadata": {},
     "output_type": "execute_result"
    }
   ],
   "source": [
    "X_tr_bow.shape"
   ]
  },
  {
   "cell_type": "markdown",
   "id": "b4feca39",
   "metadata": {},
   "source": [
    "There's not a built-in/easy way to get a list of words and their frequencies out, but this approach was given as an answer on a StackOverflow question:"
   ]
  },
  {
   "cell_type": "code",
   "execution_count": 27,
   "id": "a9e48508",
   "metadata": {},
   "outputs": [
    {
     "name": "stdout",
     "output_type": "stream",
     "text": [
      "[('like', 1241), ('code', 968), ('file', 880), ('work', 860), ('know', 743), ('want', 742), ('need', 719), ('application', 677), ('good', 662), ('look', 661), ('find', 576), ('user', 535), ('time', 511), ('project', 505), ('class', 454), ('create', 442), ('question', 434), ('problem', 430), ('server', 430), ('write', 421)]\n"
     ]
    }
   ],
   "source": [
    "freqs = zip(bow_transform.get_feature_names_out(), X_tr_bow.sum(axis=0).tolist()[0])    \n",
    "# sort from largest to smallest\n",
    "freqs_sort = sorted(freqs, key=lambda x: -x[1])\n",
    "\n",
    "print(freqs_sort[0:20])"
   ]
  },
  {
   "cell_type": "markdown",
   "id": "46e5662d",
   "metadata": {},
   "source": [
    "This means \"like\" appears 1,241 times in our questions, \"code\" 968 times in our questions, \"file\" 880 times, etc. We can make a histogram of these most common words."
   ]
  },
  {
   "cell_type": "code",
   "execution_count": 28,
   "id": "5a4f44a8",
   "metadata": {},
   "outputs": [],
   "source": [
    "num_words = 30\n",
    "top_words = []\n",
    "top_word_counts = []\n",
    "\n",
    "for i in range(0,num_words):\n",
    "    top_words.append(freqs_sort[i][0])\n",
    "    top_word_counts.append(freqs_sort[i][1])"
   ]
  },
  {
   "cell_type": "code",
   "execution_count": 29,
   "id": "8c750259",
   "metadata": {},
   "outputs": [
    {
     "data": {
      "image/png": "[encoded data removed]",
      "text/plain": [
       "<Figure size 1008x432 with 1 Axes>"
      ]
     },
     "metadata": {},
     "output_type": "display_data"
    }
   ],
   "source": [
    "fig = plt.figure(figsize=(14,6))\n",
    "\n",
    "plt.bar(top_words, top_word_counts)\n",
    "\n",
    "plt.title(\"Top words in training data\", fontsize=16)\n",
    "plt.ylabel(\"Count\", fontsize=16)\n",
    "plt.xlabel(\"Word\", fontsize=16)\n",
    "plt.yticks(fontsize=16)\n",
    "plt.xticks(rotation = 60, fontsize=16)\n",
    "plt.show()"
   ]
  },
  {
   "cell_type": "markdown",
   "id": "6c3510e3",
   "metadata": {},
   "source": [
    "We should do all the same stuff for our test data as well."
   ]
  },
  {
   "cell_type": "code",
   "execution_count": 30,
   "id": "c088efa4",
   "metadata": {},
   "outputs": [],
   "source": [
    "X_te_bow = bow_transform.transform(test_data['cleaned_body'])"
   ]
  },
  {
   "cell_type": "code",
   "execution_count": 31,
   "id": "d2130f96",
   "metadata": {},
   "outputs": [],
   "source": [
    "y_tr = training_data['Closed']\n",
    "y_te = test_data['Closed']"
   ]
  },
  {
   "cell_type": "code",
   "execution_count": null,
   "id": "18792f4f",
   "metadata": {},
   "outputs": [],
   "source": []
  },
  {
   "cell_type": "markdown",
   "id": "6874efcb",
   "metadata": {},
   "source": [
    "## And now for the logistic regression"
   ]
  },
  {
   "cell_type": "code",
   "execution_count": 32,
   "id": "aacb7b41",
   "metadata": {},
   "outputs": [],
   "source": [
    "def simple_logistic_classify(X_tr, y_tr, X_test, y_test, description, _C=1.0):\n",
    "    model = LogisticRegression(C=_C, max_iter=1000).fit(X_tr, y_tr)\n",
    "    score = model.score(X_test, y_test)\n",
    "    print('Test Score with', description, 'features', score)\n",
    "    return model"
   ]
  },
  {
   "cell_type": "code",
   "execution_count": 33,
   "id": "97c2926e",
   "metadata": {},
   "outputs": [
    {
     "name": "stdout",
     "output_type": "stream",
     "text": [
      "Test Score with bow features 0.675\n"
     ]
    }
   ],
   "source": [
    "model_bow = simple_logistic_classify(X_tr_bow, y_tr, X_te_bow, y_te, 'bow')"
   ]
  },
  {
   "cell_type": "markdown",
   "id": "6eb8a4ab",
   "metadata": {},
   "source": [
    "### Accuracy discussion"
   ]
  },
  {
   "cell_type": "markdown",
   "id": "7aa1ef02",
   "metadata": {},
   "source": [
    "From the documentation for LogisticRegression, 'score' returns the mean accuracy on the given test data and labels. We can check this by looking at the actual predictions the normal way."
   ]
  },
  {
   "cell_type": "code",
   "execution_count": 34,
   "id": "b677b766",
   "metadata": {},
   "outputs": [
    {
     "name": "stdout",
     "output_type": "stream",
     "text": [
      "The test accuracy for a cutoff of 0.5 is 0.675\n"
     ]
    }
   ],
   "source": [
    "y_bow_test_pred_proba = model_bow.predict_proba(X_te_bow)\n",
    "\n",
    "# set a cutoff\n",
    "cutoff = 0.5\n",
    "\n",
    "# assign a value based on the cutoff\n",
    "y_bow_test_cutoff = 1*(y_bow_test_pred_proba[:,1] >= cutoff)\n",
    "\n",
    "# print the accuracy\n",
    "print(\"The test accuracy for a cutoff of\",cutoff,\n",
    "      \"is\", np.sum(y_bow_test_cutoff == y_te)/len(y_te))"
   ]
  },
  {
   "cell_type": "code",
   "execution_count": 35,
   "id": "0a9ebacc",
   "metadata": {},
   "outputs": [],
   "source": [
    "# Plot how the accuracy changes with the cutoff\n",
    "cutoffs = np.arange(0,1.01,.01)\n",
    "accs = []\n",
    "\n",
    "for cutoff in cutoffs:\n",
    "    y_test_pred = 1*(y_bow_test_pred_proba[:,1] >= cutoff)\n",
    "    accs.append(np.sum(y_test_pred == y_te)/len(y_te))"
   ]
  },
  {
   "cell_type": "code",
   "execution_count": 36,
   "id": "e5ed36a9",
   "metadata": {},
   "outputs": [
    {
     "data": {
      "image/png": "[encoded data removed]",
      "text/plain": [
       "<Figure size 576x432 with 1 Axes>"
      ]
     },
     "metadata": {},
     "output_type": "display_data"
    }
   ],
   "source": [
    "plt.figure(figsize=(8,6))\n",
    "\n",
    "plt.scatter(cutoffs,accs)\n",
    "\n",
    "plt.xlabel(\"Cutoff\",fontsize=16)\n",
    "plt.ylabel(\"Testing Accuracy\",fontsize=16)\n",
    "plt.xticks(fontsize=16)\n",
    "plt.yticks(fontsize=16)\n",
    "\n",
    "plt.show()"
   ]
  },
  {
   "cell_type": "markdown",
   "id": "4f998bde",
   "metadata": {},
   "source": [
    "Unlike in the modeling.ipynb instance, in this plot the testing accuracy actually varies with the chosen cutoff value. That's much better -- an bolsters the previous claim that the high proportion of open questions in that dataset was throwing off our results there. \n",
    "\n",
    "We can still look at the equivalent training data plot though."
   ]
  },
  {
   "cell_type": "code",
   "execution_count": 37,
   "id": "46c7a0cc",
   "metadata": {},
   "outputs": [
    {
     "name": "stdout",
     "output_type": "stream",
     "text": [
      "The training accuracy for a cutoff of 0.5 is 0.9846428571428572\n"
     ]
    }
   ],
   "source": [
    "y_bow_train_pred_proba = model_bow.predict_proba(X_tr_bow)\n",
    "\n",
    "# set a cutoff\n",
    "cutoff = 0.5\n",
    "\n",
    "# assign a value based on the cutoff\n",
    "y_bow_train_cutoff = 1*(y_bow_train_pred_proba[:,1] >= cutoff)\n",
    "\n",
    "# print the accuracy\n",
    "print(\"The training accuracy for a cutoff of\",cutoff,\n",
    "      \"is\", np.sum(y_bow_train_cutoff == y_tr)/len(y_tr))"
   ]
  },
  {
   "cell_type": "markdown",
   "id": "96eba13d",
   "metadata": {},
   "source": [
    "Note that the accuracy is *significantly* better for the training data than it was for the testing data."
   ]
  },
  {
   "cell_type": "code",
   "execution_count": 38,
   "id": "bf209800",
   "metadata": {},
   "outputs": [],
   "source": [
    "# Plot how the accuracy changes with the cutoff\n",
    "cutoffs = np.arange(0,1.01,.01)\n",
    "accs = []\n",
    "\n",
    "for cutoff in cutoffs:\n",
    "    y_train_pred = 1*(y_bow_train_pred_proba[:,1] >= cutoff)\n",
    "    accs.append(np.sum(y_train_pred == y_tr)/len(y_tr))"
   ]
  },
  {
   "cell_type": "code",
   "execution_count": 39,
   "id": "5415f9aa",
   "metadata": {},
   "outputs": [
    {
     "data": {
      "image/png": "[encoded data removed]",
      "text/plain": [
       "<Figure size 576x432 with 1 Axes>"
      ]
     },
     "metadata": {},
     "output_type": "display_data"
    }
   ],
   "source": [
    "plt.figure(figsize=(8,6))\n",
    "\n",
    "plt.scatter(cutoffs,accs)\n",
    "\n",
    "plt.xlabel(\"Cutoff\",fontsize=16)\n",
    "plt.ylabel(\"Training Accuracy\",fontsize=16)\n",
    "plt.xticks(fontsize=16)\n",
    "plt.yticks(fontsize=16)\n",
    "\n",
    "plt.show()"
   ]
  },
  {
   "cell_type": "markdown",
   "id": "c93a0967",
   "metadata": {},
   "source": [
    "Again, this cutoff plot looks much better."
   ]
  },
  {
   "cell_type": "markdown",
   "id": "938605dd",
   "metadata": {},
   "source": [
    "### Confusion matrix"
   ]
  },
  {
   "cell_type": "code",
   "execution_count": 41,
   "id": "0515869f",
   "metadata": {},
   "outputs": [],
   "source": [
    "from sklearn.metrics import confusion_matrix, recall_score, precision_score"
   ]
  },
  {
   "cell_type": "markdown",
   "id": "e8a01502",
   "metadata": {},
   "source": [
    "We can also look at the confusion matrix to assess how well our predictions are doing."
   ]
  },
  {
   "cell_type": "code",
   "execution_count": 42,
   "id": "7e6df3f0",
   "metadata": {},
   "outputs": [
    {
     "data": {
      "text/plain": [
       "array([[402, 198],\n",
       "       [192, 408]], dtype=int64)"
      ]
     },
     "execution_count": 42,
     "metadata": {},
     "output_type": "execute_result"
    }
   ],
   "source": [
    "y_bow_test_pred = model_bow.predict(X_te_bow)\n",
    "\n",
    "confusion_matrix(y_te, y_bow_test_pred)"
   ]
  },
  {
   "cell_type": "code",
   "execution_count": 43,
   "id": "af69bb52",
   "metadata": {},
   "outputs": [
    {
     "name": "stdout",
     "output_type": "stream",
     "text": [
      "True negatives: 402\n",
      "False positives: 198\n",
      "False negatives: 192\n",
      "True positives: 408\n",
      "The testing recall is 0.68\n",
      "The testing precision is 0.6733\n"
     ]
    }
   ],
   "source": [
    "TN = confusion_matrix(y_te, y_bow_test_pred)[0,0]\n",
    "print(\"True negatives:\", TN)\n",
    "FP = confusion_matrix(y_te, y_bow_test_pred)[0,1]\n",
    "print(\"False positives:\", FP)\n",
    "FN = confusion_matrix(y_te, y_bow_test_pred)[1,0]\n",
    "print(\"False negatives:\", FN)\n",
    "TP = confusion_matrix(y_te, y_bow_test_pred)[1,1]\n",
    "print(\"True positives:\", TP)\n",
    "\n",
    "print(\"The testing recall is\",\n",
    "         np.round(TP/(TP+FN),4))\n",
    "\n",
    "print(\"The testing precision is\",\n",
    "         np.round(TP/(TP+FP),4))"
   ]
  },
  {
   "cell_type": "markdown",
   "id": "42c07e09",
   "metadata": {},
   "source": [
    "Based on the testing recall value, out of all the closed questions, this model correctly predicted ~68% of them.\n",
    "Based on the testing precision value, out of all the questions predicted to be closed, ~67% were actually closed."
   ]
  },
  {
   "cell_type": "code",
   "execution_count": null,
   "id": "345f03a6",
   "metadata": {},
   "outputs": [],
   "source": []
  },
  {
   "cell_type": "markdown",
   "id": "ef927494",
   "metadata": {},
   "source": [
    "### Precision-recall curve"
   ]
  },
  {
   "cell_type": "markdown",
   "id": "492dd1cd",
   "metadata": {},
   "source": [
    "We can better capture this precision-recall behavior in a plot."
   ]
  },
  {
   "cell_type": "code",
   "execution_count": 44,
   "id": "7dcea340",
   "metadata": {},
   "outputs": [],
   "source": [
    "cutoffs = np.arange(0.001,.975,.001)\n",
    "\n",
    "prec_scores = []\n",
    "rec_scores = []\n",
    "\n",
    "for cutoff in cutoffs:\n",
    "    pred = 1*(model_bow.predict_proba(X_te_bow)[:,1] >= cutoff)\n",
    "    \n",
    "    prec_scores.append(precision_score(y_te, pred))\n",
    "    rec_scores.append(recall_score(y_te, pred))"
   ]
  },
  {
   "cell_type": "code",
   "execution_count": 45,
   "id": "3893c61a",
   "metadata": {},
   "outputs": [
    {
     "data": {
      "image/png": "[encoded data removed]",
      "text/plain": [
       "<Figure size 576x432 with 1 Axes>"
      ]
     },
     "metadata": {},
     "output_type": "display_data"
    }
   ],
   "source": [
    "plt.figure(figsize=(8,6))\n",
    "\n",
    "plt.plot(rec_scores, prec_scores)\n",
    "\n",
    "plt.xlabel(\"Recall\", fontsize=16)\n",
    "plt.ylabel(\"Precision\", fontsize=16)\n",
    "\n",
    "plt.xticks(fontsize=14)\n",
    "plt.yticks(fontsize=14)\n",
    "\n",
    "plt.show()"
   ]
  },
  {
   "cell_type": "markdown",
   "id": "f85c8047",
   "metadata": {},
   "source": [
    "### ROC curve"
   ]
  },
  {
   "cell_type": "markdown",
   "id": "3b4b8ba4",
   "metadata": {},
   "source": [
    "This ROC curve is going to tell us if we're doing any better than randomly guessing if questions are closed or open."
   ]
  },
  {
   "cell_type": "code",
   "execution_count": 46,
   "id": "42cfb4f4",
   "metadata": {},
   "outputs": [],
   "source": [
    "from sklearn.metrics import roc_curve"
   ]
  },
  {
   "cell_type": "code",
   "execution_count": 47,
   "id": "3a35cecf",
   "metadata": {},
   "outputs": [],
   "source": [
    "## First input the true values\n",
    "## Then input the predicted probability for class 1\n",
    "## the fprs, tprs and cutoffs are returned in that order\n",
    "fprs, tprs, cutoffs = roc_curve(y_te, model_bow.predict_proba(X_te_bow)[:,1])"
   ]
  },
  {
   "cell_type": "code",
   "execution_count": 48,
   "id": "3e17f078",
   "metadata": {},
   "outputs": [
    {
     "data": {
      "image/png": "[encoded data removed]",
      "text/plain": [
       "<Figure size 576x432 with 1 Axes>"
      ]
     },
     "metadata": {},
     "output_type": "display_data"
    }
   ],
   "source": [
    "plt.figure(figsize=(8,6))\n",
    "\n",
    "plt.plot(fprs, tprs, label=\"ROC Curve\")\n",
    "plt.plot([0,1], [0,1], 'k--', label=\"Random Guess Curve\")\n",
    "\n",
    "\n",
    "plt.xlabel(\"False Positive Rate\", fontsize=16)\n",
    "plt.ylabel(\"True Positive Rate\", fontsize=16)\n",
    "plt.xticks(fontsize=14)\n",
    "plt.yticks(fontsize=14)\n",
    "plt.legend(fontsize=14)\n",
    "\n",
    "plt.show()"
   ]
  },
  {
   "cell_type": "markdown",
   "id": "e03a1a06",
   "metadata": {},
   "source": [
    "Since the ROC curve is above the random guess curve, yes we are doing better than randomly guessing -- though there is still room for improvement."
   ]
  },
  {
   "cell_type": "code",
   "execution_count": null,
   "id": "8121f708",
   "metadata": {},
   "outputs": [],
   "source": []
  },
  {
   "cell_type": "markdown",
   "id": "5b5cef80",
   "metadata": {},
   "source": [
    "### Logistic regression parameters"
   ]
  },
  {
   "cell_type": "markdown",
   "id": "0cb1357c",
   "metadata": {},
   "source": [
    "We can vary the C parameter in the logistic regression to make sure we aren't overfitting. I had to include a max_iter on LogisticRegression() here because the default max_iter=100 wasn't converging."
   ]
  },
  {
   "cell_type": "code",
   "execution_count": 49,
   "id": "35fb466b",
   "metadata": {},
   "outputs": [],
   "source": [
    "param_grid_ = {'C': [1e-5, 1e-3, 1e-1, 1e0, 1e1, 1e2]}\n",
    "bow_search = sklearn.model_selection.GridSearchCV(LogisticRegression(max_iter=1000), cv=5, param_grid=param_grid_)"
   ]
  },
  {
   "cell_type": "code",
   "execution_count": 50,
   "id": "d98c6601",
   "metadata": {},
   "outputs": [
    {
     "data": {
      "text/plain": [
       "GridSearchCV(cv=5, estimator=LogisticRegression(max_iter=1000),\n",
       "             param_grid={'C': [1e-05, 0.001, 0.1, 1.0, 10.0, 100.0]})"
      ]
     },
     "execution_count": 50,
     "metadata": {},
     "output_type": "execute_result"
    }
   ],
   "source": [
    "bow_search.fit(X_tr_bow, y_tr)"
   ]
  },
  {
   "cell_type": "code",
   "execution_count": 51,
   "id": "efd71210",
   "metadata": {},
   "outputs": [
    {
     "data": {
      "text/plain": [
       "0.7075"
      ]
     },
     "execution_count": 51,
     "metadata": {},
     "output_type": "execute_result"
    }
   ],
   "source": [
    "bow_search.best_score_"
   ]
  },
  {
   "cell_type": "code",
   "execution_count": 52,
   "id": "7d3c4acd",
   "metadata": {},
   "outputs": [
    {
     "data": {
      "text/plain": [
       "{'C': 0.1}"
      ]
     },
     "execution_count": 52,
     "metadata": {},
     "output_type": "execute_result"
    }
   ],
   "source": [
    "bow_search.best_params_"
   ]
  },
  {
   "cell_type": "markdown",
   "id": "df740db2",
   "metadata": {},
   "source": [
    "The best C parameter seems reasonable and is only slightly smaller than the default value (1.0) used above."
   ]
  },
  {
   "cell_type": "code",
   "execution_count": 53,
   "id": "2af2019e",
   "metadata": {},
   "outputs": [
    {
     "data": {
      "text/plain": [
       "{'mean_fit_time': array([0.07496009, 0.06941071, 0.11929612, 0.13721056, 0.25618315,\n",
       "        0.34686208]),\n",
       " 'std_fit_time': array([0.07575403, 0.06785425, 0.07424253, 0.01194904, 0.06655682,\n",
       "        0.09026013]),\n",
       " 'mean_score_time': array([0.00019965, 0.00039907, 0.00019946, 0.00039935, 0.00099869,\n",
       "        0.00019946]),\n",
       " 'std_score_time': array([3.99303436e-04, 4.86726853e-04, 3.98921967e-04, 4.89103939e-04,\n",
       "        2.08298714e-05, 3.98921967e-04]),\n",
       " 'param_C': masked_array(data=[1e-05, 0.001, 0.1, 1.0, 10.0, 100.0],\n",
       "              mask=[False, False, False, False, False, False],\n",
       "        fill_value='?',\n",
       "             dtype=object),\n",
       " 'params': [{'C': 1e-05},\n",
       "  {'C': 0.001},\n",
       "  {'C': 0.1},\n",
       "  {'C': 1.0},\n",
       "  {'C': 10.0},\n",
       "  {'C': 100.0}],\n",
       " 'split0_test_score': array([0.63214286, 0.64642857, 0.70535714, 0.70535714, 0.68392857,\n",
       "        0.66964286]),\n",
       " 'split1_test_score': array([0.67678571, 0.70178571, 0.7375    , 0.69285714, 0.66428571,\n",
       "        0.66428571]),\n",
       " 'split2_test_score': array([0.67321429, 0.69642857, 0.72321429, 0.72321429, 0.67678571,\n",
       "        0.65892857]),\n",
       " 'split3_test_score': array([0.66428571, 0.68214286, 0.70892857, 0.67857143, 0.66785714,\n",
       "        0.65714286]),\n",
       " 'split4_test_score': array([0.59285714, 0.61607143, 0.6625    , 0.64107143, 0.62142857,\n",
       "        0.61785714]),\n",
       " 'mean_test_score': array([0.64785714, 0.66857143, 0.7075    , 0.68821429, 0.66285714,\n",
       "        0.65357143]),\n",
       " 'std_test_score': array([0.03169127, 0.03258818, 0.02521338, 0.02777001, 0.02182374,\n",
       "        0.01838505]),\n",
       " 'rank_test_score': array([6, 3, 1, 2, 4, 5])}"
      ]
     },
     "execution_count": 53,
     "metadata": {},
     "output_type": "execute_result"
    }
   ],
   "source": [
    "bow_search.cv_results_"
   ]
  },
  {
   "cell_type": "code",
   "execution_count": 54,
   "id": "f094997a",
   "metadata": {},
   "outputs": [
    {
     "data": {
      "text/html": [
       "<div>\n",
       "<style scoped>\n",
       "    .dataframe tbody tr th:only-of-type {\n",
       "        vertical-align: middle;\n",
       "    }\n",
       "\n",
       "    .dataframe tbody tr th {\n",
       "        vertical-align: top;\n",
       "    }\n",
       "\n",
       "    .dataframe thead th {\n",
       "        text-align: right;\n",
       "    }\n",
       "</style>\n",
       "<table border=\"1\" class=\"dataframe\">\n",
       "  <thead>\n",
       "    <tr style=\"text-align: right;\">\n",
       "      <th></th>\n",
       "      <th>bow</th>\n",
       "    </tr>\n",
       "  </thead>\n",
       "  <tbody>\n",
       "    <tr>\n",
       "      <th>0</th>\n",
       "      <td>0.647857</td>\n",
       "    </tr>\n",
       "    <tr>\n",
       "      <th>1</th>\n",
       "      <td>0.668571</td>\n",
       "    </tr>\n",
       "    <tr>\n",
       "      <th>2</th>\n",
       "      <td>0.707500</td>\n",
       "    </tr>\n",
       "    <tr>\n",
       "      <th>3</th>\n",
       "      <td>0.688214</td>\n",
       "    </tr>\n",
       "    <tr>\n",
       "      <th>4</th>\n",
       "      <td>0.662857</td>\n",
       "    </tr>\n",
       "    <tr>\n",
       "      <th>5</th>\n",
       "      <td>0.653571</td>\n",
       "    </tr>\n",
       "  </tbody>\n",
       "</table>\n",
       "</div>"
      ],
      "text/plain": [
       "        bow\n",
       "0  0.647857\n",
       "1  0.668571\n",
       "2  0.707500\n",
       "3  0.688214\n",
       "4  0.662857\n",
       "5  0.653571"
      ]
     },
     "execution_count": 54,
     "metadata": {},
     "output_type": "execute_result"
    }
   ],
   "source": [
    "search_results = pd.DataFrame.from_dict({'bow': bow_search.cv_results_['mean_test_score']})\n",
    "search_results"
   ]
  },
  {
   "cell_type": "code",
   "execution_count": 55,
   "id": "d3bf13fd",
   "metadata": {},
   "outputs": [
    {
     "data": {
      "image/png": "[encoded data removed]",
      "text/plain": [
       "<Figure size 432x288 with 1 Axes>"
      ]
     },
     "metadata": {
      "needs_background": "light"
     },
     "output_type": "display_data"
    }
   ],
   "source": [
    "%matplotlib inline\n",
    "ax = sns.boxplot(data=search_results, width=0.2)\n",
    "ax.set_ylabel('Accuracy', size=14)\n",
    "ax.tick_params(labelsize=14)"
   ]
  },
  {
   "cell_type": "code",
   "execution_count": 56,
   "id": "508bf201",
   "metadata": {},
   "outputs": [
    {
     "name": "stdout",
     "output_type": "stream",
     "text": [
      "Test Score with bow features 0.6758333333333333\n"
     ]
    }
   ],
   "source": [
    "model_bow = simple_logistic_classify(X_tr_bow, y_tr, X_te_bow, y_te, 'bow', \n",
    "                              _C=bow_search.best_params_['C'])"
   ]
  },
  {
   "cell_type": "code",
   "execution_count": null,
   "id": "d9a88b31",
   "metadata": {},
   "outputs": [],
   "source": []
  },
  {
   "cell_type": "code",
   "execution_count": null,
   "id": "44fda990",
   "metadata": {},
   "outputs": [],
   "source": []
  }
 ],
 "metadata": {
  "kernelspec": {
   "display_name": "Python 3 (ipykernel)",
   "language": "python",
   "name": "python3"
  },
  "language_info": {
   "codemirror_mode": {
    "name": "ipython",
    "version": 3
   },
   "file_extension": ".py",
   "mimetype": "text/x-python",
   "name": "python",
   "nbconvert_exporter": "python",
   "pygments_lexer": "ipython3",
   "version": "3.8.5"
  }
 },
 "nbformat": 4,
 "nbformat_minor": 5
}
