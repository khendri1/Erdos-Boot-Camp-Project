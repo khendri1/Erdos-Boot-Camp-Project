{
 "cells": [
  {
   "cell_type": "markdown",
   "id": "3a7a847e",
   "metadata": {},
   "source": [
    "Jupyter notebook for project\n",
    "\n",
    "NLP applied to Kaggle dataset\n",
    "Dataset here:\n",
    "https://www.kaggle.com/datasets/stackoverflow/stacksample\n",
    "\n",
    "Relevant NLP example:\n",
    "https://github.com/Idilismiguzel/NLP-with-Python/blob/master/Text-Classification.ipynb\n",
    "\n",
    "Possible BERT reference:\n",
    "https://www.tensorflow.org/text/tutorials/classify_text_with_bert\n",
    "\n"
   ]
  },
  {
   "cell_type": "code",
   "execution_count": 1,
   "id": "48b39707",
   "metadata": {},
   "outputs": [],
   "source": [
    "import pandas as pd\n",
    "import numpy as np\n",
    "import matplotlib.pyplot as plt\n",
    "from seaborn import set_style\n",
    "\n",
    "set_style(\"whitegrid\")"
   ]
  },
  {
   "cell_type": "markdown",
   "id": "11ce318c",
   "metadata": {},
   "source": [
    "## Read in the data (part of it) and just look at it for a bit"
   ]
  },
  {
   "cell_type": "code",
   "execution_count": 116,
   "id": "153fa480",
   "metadata": {},
   "outputs": [],
   "source": [
    "questions = pd.read_csv(\"archive/Questions.csv\", encoding = \"ISO-8859-1\", nrows=5000)\n",
    "#answers = pd.read_csv(\"archive/Answers.csv\", encoding = \"ISO-8859-1\", nrows=5000)\n",
    "#tags = pd.read_csv(\"archive/Tags.csv\", encoding = \"ISO-8859-1\", nrows=5000)"
   ]
  },
  {
   "cell_type": "code",
   "execution_count": 3,
   "id": "8e92d241",
   "metadata": {},
   "outputs": [
    {
     "data": {
      "text/html": [
       "<div>\n",
       "<style scoped>\n",
       "    .dataframe tbody tr th:only-of-type {\n",
       "        vertical-align: middle;\n",
       "    }\n",
       "\n",
       "    .dataframe tbody tr th {\n",
       "        vertical-align: top;\n",
       "    }\n",
       "\n",
       "    .dataframe thead th {\n",
       "        text-align: right;\n",
       "    }\n",
       "</style>\n",
       "<table border=\"1\" class=\"dataframe\">\n",
       "  <thead>\n",
       "    <tr style=\"text-align: right;\">\n",
       "      <th></th>\n",
       "      <th>Id</th>\n",
       "      <th>OwnerUserId</th>\n",
       "      <th>CreationDate</th>\n",
       "      <th>ClosedDate</th>\n",
       "      <th>Score</th>\n",
       "      <th>Title</th>\n",
       "      <th>Body</th>\n",
       "    </tr>\n",
       "  </thead>\n",
       "  <tbody>\n",
       "    <tr>\n",
       "      <th>2439</th>\n",
       "      <td>194650</td>\n",
       "      <td>1384652.0</td>\n",
       "      <td>2008-10-11T21:08:57Z</td>\n",
       "      <td>NaN</td>\n",
       "      <td>7</td>\n",
       "      <td>2D Javascript array</td>\n",
       "      <td>&lt;p&gt;Simply put, is there a way to create a 2D j...</td>\n",
       "    </tr>\n",
       "    <tr>\n",
       "      <th>4573</th>\n",
       "      <td>326770</td>\n",
       "      <td>39975.0</td>\n",
       "      <td>2008-11-28T22:07:18Z</td>\n",
       "      <td>NaN</td>\n",
       "      <td>5</td>\n",
       "      <td>How can I dynamically get the set of classes f...</td>\n",
       "      <td>&lt;p&gt;I have a python module that defines a numbe...</td>\n",
       "    </tr>\n",
       "    <tr>\n",
       "      <th>2152</th>\n",
       "      <td>174380</td>\n",
       "      <td>25492.0</td>\n",
       "      <td>2008-10-06T13:55:30Z</td>\n",
       "      <td>NaN</td>\n",
       "      <td>3</td>\n",
       "      <td>Spring webflow : Move through view states</td>\n",
       "      <td>&lt;p&gt;Within a spring webflow, i need to implemen...</td>\n",
       "    </tr>\n",
       "    <tr>\n",
       "      <th>3689</th>\n",
       "      <td>274770</td>\n",
       "      <td>12252.0</td>\n",
       "      <td>2008-11-08T14:24:31Z</td>\n",
       "      <td>NaN</td>\n",
       "      <td>0</td>\n",
       "      <td>Session is lost with login control in Internet...</td>\n",
       "      <td>&lt;p&gt;After logging in using the Login control th...</td>\n",
       "    </tr>\n",
       "    <tr>\n",
       "      <th>3853</th>\n",
       "      <td>284090</td>\n",
       "      <td>6091.0</td>\n",
       "      <td>2008-11-12T14:26:00Z</td>\n",
       "      <td>NaN</td>\n",
       "      <td>5</td>\n",
       "      <td>How to get a ReadOnlyCollection&lt;T&gt; of the Keys...</td>\n",
       "      <td>&lt;p&gt;My class contains a &lt;code&gt;Dictionary&amp;lt;T, ...</td>\n",
       "    </tr>\n",
       "  </tbody>\n",
       "</table>\n",
       "</div>"
      ],
      "text/plain": [
       "          Id  OwnerUserId          CreationDate ClosedDate  Score  \\\n",
       "2439  194650    1384652.0  2008-10-11T21:08:57Z        NaN      7   \n",
       "4573  326770      39975.0  2008-11-28T22:07:18Z        NaN      5   \n",
       "2152  174380      25492.0  2008-10-06T13:55:30Z        NaN      3   \n",
       "3689  274770      12252.0  2008-11-08T14:24:31Z        NaN      0   \n",
       "3853  284090       6091.0  2008-11-12T14:26:00Z        NaN      5   \n",
       "\n",
       "                                                  Title  \\\n",
       "2439                                2D Javascript array   \n",
       "4573  How can I dynamically get the set of classes f...   \n",
       "2152          Spring webflow : Move through view states   \n",
       "3689  Session is lost with login control in Internet...   \n",
       "3853  How to get a ReadOnlyCollection<T> of the Keys...   \n",
       "\n",
       "                                                   Body  \n",
       "2439  <p>Simply put, is there a way to create a 2D j...  \n",
       "4573  <p>I have a python module that defines a numbe...  \n",
       "2152  <p>Within a spring webflow, i need to implemen...  \n",
       "3689  <p>After logging in using the Login control th...  \n",
       "3853  <p>My class contains a <code>Dictionary&lt;T, ...  "
      ]
     },
     "execution_count": 3,
     "metadata": {},
     "output_type": "execute_result"
    }
   ],
   "source": [
    "questions.sample(5, random_state=234)"
   ]
  },
  {
   "cell_type": "code",
   "execution_count": 4,
   "id": "98200dc9",
   "metadata": {},
   "outputs": [
    {
     "name": "stdout",
     "output_type": "stream",
     "text": [
      "<p>Simply put, is there a way to create a 2D javascript array using similar syntax to this?</p>\n",
      "\n",
      "<pre><code>var newArray = [\n",
      "    [0, 1, 2],\n",
      "    [3, 4, 5],\n",
      "    [6, 7, 8]\n",
      "]\n",
      "</code></pre>\n",
      "\n"
     ]
    }
   ],
   "source": [
    "print(questions.iloc[2439].Body)"
   ]
  },
  {
   "cell_type": "code",
   "execution_count": 117,
   "id": "b441e584",
   "metadata": {},
   "outputs": [],
   "source": [
    "#answers.sample(5,random_state=505)"
   ]
  },
  {
   "cell_type": "code",
   "execution_count": 118,
   "id": "ba167f92",
   "metadata": {},
   "outputs": [],
   "source": [
    "#print(answers.iloc[4162].Body)"
   ]
  },
  {
   "cell_type": "code",
   "execution_count": 119,
   "id": "9d6354f3",
   "metadata": {},
   "outputs": [],
   "source": [
    "#tags.sample(5, random_state=23)"
   ]
  },
  {
   "cell_type": "markdown",
   "id": "61ba0160",
   "metadata": {},
   "source": [
    "## Confirm we actually read in as many rows as we thought, then count how many of those questions have been closed"
   ]
  },
  {
   "cell_type": "code",
   "execution_count": 8,
   "id": "aea725a7",
   "metadata": {},
   "outputs": [
    {
     "data": {
      "text/plain": [
       "5000"
      ]
     },
     "execution_count": 8,
     "metadata": {},
     "output_type": "execute_result"
    }
   ],
   "source": [
    "np.shape(questions)[0]"
   ]
  },
  {
   "cell_type": "code",
   "execution_count": 9,
   "id": "c16a179a",
   "metadata": {},
   "outputs": [
    {
     "name": "stdout",
     "output_type": "stream",
     "text": [
      "4618\n"
     ]
    }
   ],
   "source": [
    "count = 0\n",
    "for i in range(0,np.shape(questions)[0]):\n",
    "    if pd.isna(questions.iloc[i].ClosedDate):\n",
    "        count = count+1\n",
    "        \n",
    "print(count)"
   ]
  },
  {
   "cell_type": "code",
   "execution_count": 10,
   "id": "0c7d2296",
   "metadata": {},
   "outputs": [
    {
     "data": {
      "text/plain": [
       "382"
      ]
     },
     "execution_count": 10,
     "metadata": {},
     "output_type": "execute_result"
    }
   ],
   "source": [
    "np.shape(questions)[0] - count"
   ]
  },
  {
   "cell_type": "markdown",
   "id": "4c81cc0c",
   "metadata": {},
   "source": [
    "## Start looking at the scores. How many of these first 5000 questions have what score?"
   ]
  },
  {
   "cell_type": "code",
   "execution_count": 41,
   "id": "95e7d0b8",
   "metadata": {},
   "outputs": [
    {
     "data": {
      "image/png": "[encoded data removed]",
      "text/plain": [
       "<Figure size 864x360 with 1 Axes>"
      ]
     },
     "metadata": {
      "needs_background": "light"
     },
     "output_type": "display_data"
    }
   ],
   "source": [
    "ax = questions['Score'].value_counts()[0:50].plot(kind='bar', figsize=(12,5))\n",
    "fig = ax.get_figure()\n",
    "ax.set_title(\"Stackoverflow Dataset\")\n",
    "ax.set_xlabel('Score')\n",
    "ax.set_ylabel('Value Counts');"
   ]
  },
  {
   "cell_type": "code",
   "execution_count": 4,
   "id": "df2cad9d",
   "metadata": {},
   "outputs": [
    {
     "name": "stdout",
     "output_type": "stream",
     "text": [
      "5000\n"
     ]
    }
   ],
   "source": [
    "totals = questions['Score'].value_counts()\n",
    "\n",
    "numbers = 0\n",
    "for i in range(0,np.shape(totals)[0]):\n",
    "    numbers = numbers + totals.iloc[i]\n",
    "\n",
    "print(numbers)"
   ]
  },
  {
   "cell_type": "code",
   "execution_count": 42,
   "id": "30c1e8ff",
   "metadata": {},
   "outputs": [
    {
     "data": {
      "text/plain": [
       "(259,)"
      ]
     },
     "execution_count": 42,
     "metadata": {},
     "output_type": "execute_result"
    }
   ],
   "source": [
    "np.shape(totals)"
   ]
  },
  {
   "cell_type": "code",
   "execution_count": 44,
   "id": "a9cf492e",
   "metadata": {
    "scrolled": true
   },
   "outputs": [
    {
     "name": "stdout",
     "output_type": "stream",
     "text": [
      "1       615\n",
      "2       566\n",
      "0       515\n",
      "3       448\n",
      "4       350\n",
      "       ... \n",
      "114       1\n",
      "192       1\n",
      "446       1\n",
      "367       1\n",
      "5190      1\n",
      "Name: Score, Length: 259, dtype: int64\n"
     ]
    }
   ],
   "source": [
    "print(totals)"
   ]
  },
  {
   "cell_type": "markdown",
   "id": "76b03fd0",
   "metadata": {},
   "source": [
    "## Find average score for this subset of data"
   ]
  },
  {
   "cell_type": "code",
   "execution_count": 47,
   "id": "34e20381",
   "metadata": {},
   "outputs": [
    {
     "name": "stdout",
     "output_type": "stream",
     "text": [
      "Sum of scores for these questions is:  120757\n",
      "Total number of questions is:  5000\n",
      "Number of unique score values is:  259\n"
     ]
    }
   ],
   "source": [
    "print(\"Sum of scores for these questions is:\", questions['Score'].sum())\n",
    "print(\"Total number of questions is:\", np.shape(questions)[0])\n",
    "print(\"Number of unique score values is:\", np.shape(totals)[0])"
   ]
  },
  {
   "cell_type": "code",
   "execution_count": 50,
   "id": "6817f861",
   "metadata": {},
   "outputs": [
    {
     "name": "stdout",
     "output_type": "stream",
     "text": [
      "Mean of these scores is: 24.1514\n",
      "Manual check of that mean: 24.1514\n",
      "Median of these scores is: 4.0\n"
     ]
    }
   ],
   "source": [
    "print(\"Mean of these scores is:\", questions['Score'].mean())\n",
    "print(\"Manual check of that mean:\", questions['Score'].sum()/np.shape(questions)[0])\n",
    "print(\"Median of these scores is:\", questions['Score'].median())"
   ]
  },
  {
   "cell_type": "markdown",
   "id": "06129ca0",
   "metadata": {},
   "source": [
    "## Is there a connection between \"closed\" and \"score\"?"
   ]
  },
  {
   "cell_type": "code",
   "execution_count": 67,
   "id": "4348d227",
   "metadata": {},
   "outputs": [
    {
     "data": {
      "text/plain": [
       "4618"
      ]
     },
     "execution_count": 67,
     "metadata": {},
     "output_type": "execute_result"
    }
   ],
   "source": [
    "open_questions = questions[pd.isna(questions['ClosedDate'])].copy()\n",
    "np.shape(open_questions)[0]"
   ]
  },
  {
   "cell_type": "code",
   "execution_count": 68,
   "id": "450b3204",
   "metadata": {},
   "outputs": [
    {
     "data": {
      "text/plain": [
       "382"
      ]
     },
     "execution_count": 68,
     "metadata": {},
     "output_type": "execute_result"
    }
   ],
   "source": [
    "closed_questions = questions[pd.notna(questions['ClosedDate'])].copy()\n",
    "np.shape(closed_questions)[0]"
   ]
  },
  {
   "cell_type": "code",
   "execution_count": 59,
   "id": "c4979303",
   "metadata": {},
   "outputs": [
    {
     "name": "stdout",
     "output_type": "stream",
     "text": [
      "Sum of scores for these open questions is: 107110\n",
      "Total number of open questions is: 4618\n",
      "Number of unique score values is: 246\n",
      "Mean of these open question scores is: 23.19402338674751\n",
      "Median of these open question scores is: 4.0\n"
     ]
    }
   ],
   "source": [
    "print(\"Sum of scores for these open questions is:\", open_questions['Score'].sum())\n",
    "print(\"Total number of open questions is:\", np.shape(open_questions)[0])\n",
    "print(\"Number of unique score values is:\", np.shape(open_questions['Score'].value_counts())[0])\n",
    "print(\"Mean of these open question scores is:\", open_questions['Score'].mean())\n",
    "print(\"Median of these open question scores is:\", open_questions['Score'].median())"
   ]
  },
  {
   "cell_type": "code",
   "execution_count": 60,
   "id": "e9921c19",
   "metadata": {},
   "outputs": [
    {
     "name": "stdout",
     "output_type": "stream",
     "text": [
      "Sum of scores for these closed questions is: 13647\n",
      "Total number of closed questions is: 382\n",
      "Number of unique score values is: 101\n",
      "Mean of these closed question scores is: 35.725130890052355\n",
      "Median of these closed question scores is: 9.5\n"
     ]
    }
   ],
   "source": [
    "print(\"Sum of scores for these closed questions is:\", closed_questions['Score'].sum())\n",
    "print(\"Total number of closed questions is:\", np.shape(closed_questions)[0])\n",
    "print(\"Number of unique score values is:\", np.shape(closed_questions['Score'].value_counts())[0])\n",
    "print(\"Mean of these closed question scores is:\", closed_questions['Score'].mean())\n",
    "print(\"Median of these closed question scores is:\", closed_questions['Score'].median())"
   ]
  },
  {
   "cell_type": "code",
   "execution_count": 66,
   "id": "c18b9282",
   "metadata": {},
   "outputs": [
    {
     "data": {
      "image/png": "[encoded data removed]",
      "text/plain": [
       "<Figure size 360x288 with 1 Axes>"
      ]
     },
     "metadata": {
      "needs_background": "light"
     },
     "output_type": "display_data"
    }
   ],
   "source": [
    "fig = plt.figure(figsize=(5,4))\n",
    "ax = fig.add_axes([0,0,1,1])\n",
    "status = ['open', 'closed']\n",
    "values = [open_questions['Score'].median(),closed_questions['Score'].median()]\n",
    "ax.bar(status, values)\n",
    "ax.set_ylabel(\"Median score\")\n",
    "plt.show()"
   ]
  },
  {
   "cell_type": "markdown",
   "id": "f4baab51",
   "metadata": {},
   "source": [
    "So maybe there's a correlation between whether a question is closed/open and its score. That is, here at least, closed questions have a higher median score than open questions. Thus we should determine what properties of a question (the actual words) lead to a question becoming closed."
   ]
  },
  {
   "cell_type": "code",
   "execution_count": null,
   "id": "929ff909",
   "metadata": {},
   "outputs": [],
   "source": []
  },
  {
   "cell_type": "markdown",
   "id": "9dd85d89",
   "metadata": {},
   "source": [
    "## Use Beautifulsoup to remove the html tags"
   ]
  },
  {
   "cell_type": "code",
   "execution_count": 26,
   "id": "b9c2928d",
   "metadata": {},
   "outputs": [],
   "source": [
    "from bs4 import BeautifulSoup"
   ]
  },
  {
   "cell_type": "code",
   "execution_count": 27,
   "id": "54b169d7",
   "metadata": {},
   "outputs": [
    {
     "data": {
      "text/html": [
       "<div>\n",
       "<style scoped>\n",
       "    .dataframe tbody tr th:only-of-type {\n",
       "        vertical-align: middle;\n",
       "    }\n",
       "\n",
       "    .dataframe tbody tr th {\n",
       "        vertical-align: top;\n",
       "    }\n",
       "\n",
       "    .dataframe thead th {\n",
       "        text-align: right;\n",
       "    }\n",
       "</style>\n",
       "<table border=\"1\" class=\"dataframe\">\n",
       "  <thead>\n",
       "    <tr style=\"text-align: right;\">\n",
       "      <th></th>\n",
       "      <th>Id</th>\n",
       "      <th>OwnerUserId</th>\n",
       "      <th>CreationDate</th>\n",
       "      <th>ClosedDate</th>\n",
       "      <th>Score</th>\n",
       "      <th>Title</th>\n",
       "      <th>Body</th>\n",
       "    </tr>\n",
       "  </thead>\n",
       "  <tbody>\n",
       "    <tr>\n",
       "      <th>0</th>\n",
       "      <td>80</td>\n",
       "      <td>26.0</td>\n",
       "      <td>2008-08-01T13:57:07Z</td>\n",
       "      <td>NaN</td>\n",
       "      <td>26</td>\n",
       "      <td>SQLStatement.execute() - multiple queries in o...</td>\n",
       "      <td>&lt;p&gt;I've written a database generation script i...</td>\n",
       "    </tr>\n",
       "    <tr>\n",
       "      <th>1</th>\n",
       "      <td>90</td>\n",
       "      <td>58.0</td>\n",
       "      <td>2008-08-01T14:41:24Z</td>\n",
       "      <td>2012-12-26T03:45:49Z</td>\n",
       "      <td>144</td>\n",
       "      <td>Good branching and merging tutorials for Torto...</td>\n",
       "      <td>&lt;p&gt;Are there any really good tutorials explain...</td>\n",
       "    </tr>\n",
       "    <tr>\n",
       "      <th>2</th>\n",
       "      <td>120</td>\n",
       "      <td>83.0</td>\n",
       "      <td>2008-08-01T15:50:08Z</td>\n",
       "      <td>NaN</td>\n",
       "      <td>21</td>\n",
       "      <td>ASP.NET Site Maps</td>\n",
       "      <td>&lt;p&gt;Has anyone got experience creating &lt;strong&gt;...</td>\n",
       "    </tr>\n",
       "    <tr>\n",
       "      <th>3</th>\n",
       "      <td>180</td>\n",
       "      <td>2089740.0</td>\n",
       "      <td>2008-08-01T18:42:19Z</td>\n",
       "      <td>NaN</td>\n",
       "      <td>53</td>\n",
       "      <td>Function for creating color wheels</td>\n",
       "      <td>&lt;p&gt;This is something I've pseudo-solved many t...</td>\n",
       "    </tr>\n",
       "    <tr>\n",
       "      <th>4</th>\n",
       "      <td>260</td>\n",
       "      <td>91.0</td>\n",
       "      <td>2008-08-01T23:22:08Z</td>\n",
       "      <td>NaN</td>\n",
       "      <td>49</td>\n",
       "      <td>Adding scripting functionality to .NET applica...</td>\n",
       "      <td>&lt;p&gt;I have a little game written in C#. It uses...</td>\n",
       "    </tr>\n",
       "  </tbody>\n",
       "</table>\n",
       "</div>"
      ],
      "text/plain": [
       "    Id  OwnerUserId          CreationDate            ClosedDate  Score  \\\n",
       "0   80         26.0  2008-08-01T13:57:07Z                   NaN     26   \n",
       "1   90         58.0  2008-08-01T14:41:24Z  2012-12-26T03:45:49Z    144   \n",
       "2  120         83.0  2008-08-01T15:50:08Z                   NaN     21   \n",
       "3  180    2089740.0  2008-08-01T18:42:19Z                   NaN     53   \n",
       "4  260         91.0  2008-08-01T23:22:08Z                   NaN     49   \n",
       "\n",
       "                                               Title  \\\n",
       "0  SQLStatement.execute() - multiple queries in o...   \n",
       "1  Good branching and merging tutorials for Torto...   \n",
       "2                                  ASP.NET Site Maps   \n",
       "3                 Function for creating color wheels   \n",
       "4  Adding scripting functionality to .NET applica...   \n",
       "\n",
       "                                                Body  \n",
       "0  <p>I've written a database generation script i...  \n",
       "1  <p>Are there any really good tutorials explain...  \n",
       "2  <p>Has anyone got experience creating <strong>...  \n",
       "3  <p>This is something I've pseudo-solved many t...  \n",
       "4  <p>I have a little game written in C#. It uses...  "
      ]
     },
     "execution_count": 27,
     "metadata": {},
     "output_type": "execute_result"
    }
   ],
   "source": [
    "questions.head(5)"
   ]
  },
  {
   "cell_type": "code",
   "execution_count": 28,
   "id": "5fa9f69b",
   "metadata": {},
   "outputs": [
    {
     "name": "stdout",
     "output_type": "stream",
     "text": [
      "<p>Are there any really good tutorials explaining <a href=\"http://svnbook.red-bean.com/en/1.8/svn.branchmerge.html\" rel=\"nofollow\">branching and merging</a> with Apache Subversion? </p>\n",
      "\n",
      "<p>All the better if it's specific to TortoiseSVN client.</p>\n",
      "\n"
     ]
    }
   ],
   "source": [
    "print(questions.iloc[1].Body)"
   ]
  },
  {
   "cell_type": "code",
   "execution_count": 113,
   "id": "92b67dca",
   "metadata": {},
   "outputs": [
    {
     "name": "stdout",
     "output_type": "stream",
     "text": [
      "Are there any really good tutorials explaining branching and merging with Apache Subversion? \n",
      "All the better if it's specific to TortoiseSVN client.\n",
      "\n"
     ]
    }
   ],
   "source": [
    "soup = BeautifulSoup(questions.iloc[1].Body)\n",
    "text = soup.get_text()\n",
    "print(text)"
   ]
  },
  {
   "cell_type": "markdown",
   "id": "aed4a34f",
   "metadata": {},
   "source": [
    "## Use spaCy to break down important words"
   ]
  },
  {
   "cell_type": "code",
   "execution_count": 114,
   "id": "92fad680",
   "metadata": {},
   "outputs": [],
   "source": [
    "import spacy\n",
    "\n",
    "nlp = spacy.load('en_core_web_sm')"
   ]
  },
  {
   "cell_type": "markdown",
   "id": "88f9c80d",
   "metadata": {},
   "source": [
    "For whatever reason, the BeautifulSoup output still contains newline characters. We can remove them. (For some reason spaCy doesn't care about newline characters when looking for words, but it does when you lemmatize.)"
   ]
  },
  {
   "cell_type": "code",
   "execution_count": 108,
   "id": "6681f280",
   "metadata": {},
   "outputs": [],
   "source": [
    "import re"
   ]
  },
  {
   "cell_type": "code",
   "execution_count": 115,
   "id": "a02f08c9",
   "metadata": {},
   "outputs": [
    {
     "name": "stdout",
     "output_type": "stream",
     "text": [
      "\"Are there any really good tutorials explaining branching and merging with Apache Subversion? \\nAll the better if it's specific to TortoiseSVN client.\\n\"\n",
      "\"Are there any really good tutorials explaining branching and merging with Apache Subversion? All the better if it's specific to TortoiseSVN client.\"\n"
     ]
    }
   ],
   "source": [
    "print(repr(text))                # prints the raw string so we can see the newline characters\n",
    "text = re.sub(r'\\n','',text)\n",
    "print(repr(text))"
   ]
  },
  {
   "cell_type": "code",
   "execution_count": 110,
   "id": "d8e2b5ce",
   "metadata": {
    "scrolled": true
   },
   "outputs": [
    {
     "name": "stdout",
     "output_type": "stream",
     "text": [
      "Are there any really good tutorials explaining branching and merging with Apache Subversion? All the better if it's specific to TortoiseSVN client.\n"
     ]
    }
   ],
   "source": [
    "doc = nlp(text)\n",
    "print(doc)"
   ]
  },
  {
   "cell_type": "code",
   "execution_count": 111,
   "id": "9f608d79",
   "metadata": {},
   "outputs": [
    {
     "name": "stdout",
     "output_type": "stream",
     "text": [
      "Words only: \n",
      " [Are, there, any, really, good, tutorials, explaining, branching, and, merging, with, Apache, Subversion, All, the, better, if, it, 's, specific, to, TortoiseSVN, client] \n",
      "\n",
      "Punctuation is: \n",
      " [?, .]\n"
     ]
    }
   ],
   "source": [
    "# Return only the words in the sentence\n",
    "\n",
    "doc_words_only = [token for token in doc if not token.is_punct | token.is_space]\n",
    "print(\"Words only: \\n\", doc_words_only, \"\\n\")\n",
    "\n",
    "doc_punct_only = [token for token in doc if token.is_punct]\n",
    "print(\"Punctuation is: \\n\", doc_punct_only)"
   ]
  },
  {
   "cell_type": "markdown",
   "id": "c548a946",
   "metadata": {},
   "source": [
    "For the above example, we're returning all words, without regard to if they're \"stop words\" or if they're the different versions of the same/similar words, e.g. good, better, best.\n",
    "\n",
    "spaCy can both identify stop words and \"lemmatize\" for us to identify words with similar meanings. "
   ]
  },
  {
   "cell_type": "code",
   "execution_count": 112,
   "id": "f93d2199",
   "metadata": {
    "scrolled": true
   },
   "outputs": [
    {
     "name": "stdout",
     "output_type": "stream",
     "text": [
      "Important, unique words are: \n",
      " ['good', 'tutorial', 'explain', 'branching', 'merge', 'Apache', 'Subversion', 'well', 'specific', 'TortoiseSVN', 'client'] \n",
      "\n",
      "Stop words are: \n",
      " ['be', 'there', 'any', 'really', 'and', 'with', 'all', 'the', 'if', 'it', 'be', 'to']\n"
     ]
    }
   ],
   "source": [
    "doc_nostop = [token.lemma_ for token in doc if not token.is_stop | token.is_punct]\n",
    "doc_stops = [token.lemma_ for token in doc if token.is_stop]\n",
    "\n",
    "\n",
    "print(\"Important, unique words are: \\n\", doc_nostop, \"\\n\")\n",
    "print(\"Stop words are: \\n\", doc_stops)\n"
   ]
  },
  {
   "cell_type": "markdown",
   "id": "ae7fc84f",
   "metadata": {},
   "source": [
    "Is might be possible to just identify words, then identify stop words, and subtract the two lists. But \"words only\" above isn't doing contractions correctly, so I didn't try that."
   ]
  },
  {
   "cell_type": "markdown",
   "id": "e16b6d82",
   "metadata": {},
   "source": [
    "With cleaned and lemmatized text, I think we now need to actually make the bag-of-words? Though people (the github reference and the first link that comes up on google when I search for bag-of-word models) seem to like these n-grams, so let's make some of those first."
   ]
  },
  {
   "cell_type": "code",
   "execution_count": 135,
   "id": "398c7da5",
   "metadata": {},
   "outputs": [
    {
     "name": "stdout",
     "output_type": "stream",
     "text": [
      "['good', 'tutorial', 'explain', 'branching', 'merge', 'Apache', 'Subversion', 'well', 'specific', 'TortoiseSVN', 'client', 'good', 'tutorial', 'explain', 'branching', 'merge', 'Apache', 'Subversion', 'well', 'specific', 'TortoiseSVN', 'client']\n"
     ]
    }
   ],
   "source": [
    "doc2stop = doc_nostop + doc_nostop\n",
    "print(doc2stop)"
   ]
  },
  {
   "cell_type": "code",
   "execution_count": 120,
   "id": "517e203c",
   "metadata": {
    "scrolled": true
   },
   "outputs": [],
   "source": [
    "from sklearn.feature_extraction.text import CountVectorizer"
   ]
  },
  {
   "cell_type": "code",
   "execution_count": 133,
   "id": "69856ea5",
   "metadata": {},
   "outputs": [
    {
     "name": "stdout",
     "output_type": "stream",
     "text": [
      "['Apache' 'Subversion' 'TortoiseSVN' 'branching' 'client' 'explain' 'good'\n",
      " 'merge' 'specific' 'tutorial' 'well']\n"
     ]
    },
    {
     "data": {
      "text/plain": [
       "11"
      ]
     },
     "execution_count": 133,
     "metadata": {},
     "output_type": "execute_result"
    }
   ],
   "source": [
    "onegram_converter = CountVectorizer(lowercase=False)    # this is the name of the model, so we're just making the object\n",
    "                                                        # lowercase=False preserves uppercase words; uncertain if this important\n",
    "x = onegram_converter.fit_transform(doc_nostop)         # we fit the model to our words\n",
    "\n",
    "words = onegram_converter.get_feature_names_out()       # \"words\" is now a list of all the words in our document\n",
    "\n",
    "print(words)                                           # this would print all the unique words in our document\n",
    "len(words)                                              # this is the number of unique words in our document"
   ]
  },
  {
   "cell_type": "code",
   "execution_count": 136,
   "id": "4139c6fb",
   "metadata": {},
   "outputs": [
    {
     "ename": "ValueError",
     "evalue": "empty vocabulary; perhaps the documents only contain stop words",
     "output_type": "error",
     "traceback": [
      "\u001b[1;31m---------------------------------------------------------------------------\u001b[0m",
      "\u001b[1;31mValueError\u001b[0m                                Traceback (most recent call last)",
      "\u001b[1;32m~\\AppData\\Local\\Temp/ipykernel_12728/2441338856.py\u001b[0m in \u001b[0;36m<module>\u001b[1;34m\u001b[0m\n\u001b[0;32m      1\u001b[0m \u001b[0mtwogram_converter\u001b[0m \u001b[1;33m=\u001b[0m \u001b[0mCountVectorizer\u001b[0m\u001b[1;33m(\u001b[0m\u001b[0mngram_range\u001b[0m\u001b[1;33m=\u001b[0m\u001b[1;33m[\u001b[0m\u001b[1;36m2\u001b[0m\u001b[1;33m,\u001b[0m\u001b[1;36m2\u001b[0m\u001b[1;33m]\u001b[0m\u001b[1;33m,\u001b[0m \u001b[0mlowercase\u001b[0m\u001b[1;33m=\u001b[0m\u001b[1;32mFalse\u001b[0m\u001b[1;33m)\u001b[0m\u001b[1;33m\u001b[0m\u001b[1;33m\u001b[0m\u001b[0m\n\u001b[1;32m----> 2\u001b[1;33m \u001b[0mx2\u001b[0m \u001b[1;33m=\u001b[0m \u001b[0mtwogram_converter\u001b[0m\u001b[1;33m.\u001b[0m\u001b[0mfit_transform\u001b[0m\u001b[1;33m(\u001b[0m\u001b[0mdoc2stop\u001b[0m\u001b[1;33m)\u001b[0m\u001b[1;33m\u001b[0m\u001b[1;33m\u001b[0m\u001b[0m\n\u001b[0m\u001b[0;32m      3\u001b[0m \u001b[1;33m\u001b[0m\u001b[0m\n\u001b[0;32m      4\u001b[0m \u001b[0mbigrams\u001b[0m \u001b[1;33m=\u001b[0m \u001b[0mtwogram_converter\u001b[0m\u001b[1;33m.\u001b[0m\u001b[0mget_feature_names_out\u001b[0m\u001b[1;33m(\u001b[0m\u001b[1;33m)\u001b[0m       \u001b[1;31m# \"bigrams\" is now a list of all the 2-word combinations in our document\u001b[0m\u001b[1;33m\u001b[0m\u001b[1;33m\u001b[0m\u001b[0m\n\u001b[0;32m      5\u001b[0m \u001b[1;33m\u001b[0m\u001b[0m\n",
      "\u001b[1;32mD:\\anaconda3\\lib\\site-packages\\sklearn\\feature_extraction\\text.py\u001b[0m in \u001b[0;36mfit_transform\u001b[1;34m(self, raw_documents, y)\u001b[0m\n\u001b[0;32m   1328\u001b[0m                     \u001b[1;32mbreak\u001b[0m\u001b[1;33m\u001b[0m\u001b[1;33m\u001b[0m\u001b[0m\n\u001b[0;32m   1329\u001b[0m \u001b[1;33m\u001b[0m\u001b[0m\n\u001b[1;32m-> 1330\u001b[1;33m         \u001b[0mvocabulary\u001b[0m\u001b[1;33m,\u001b[0m \u001b[0mX\u001b[0m \u001b[1;33m=\u001b[0m \u001b[0mself\u001b[0m\u001b[1;33m.\u001b[0m\u001b[0m_count_vocab\u001b[0m\u001b[1;33m(\u001b[0m\u001b[0mraw_documents\u001b[0m\u001b[1;33m,\u001b[0m \u001b[0mself\u001b[0m\u001b[1;33m.\u001b[0m\u001b[0mfixed_vocabulary_\u001b[0m\u001b[1;33m)\u001b[0m\u001b[1;33m\u001b[0m\u001b[1;33m\u001b[0m\u001b[0m\n\u001b[0m\u001b[0;32m   1331\u001b[0m \u001b[1;33m\u001b[0m\u001b[0m\n\u001b[0;32m   1332\u001b[0m         \u001b[1;32mif\u001b[0m \u001b[0mself\u001b[0m\u001b[1;33m.\u001b[0m\u001b[0mbinary\u001b[0m\u001b[1;33m:\u001b[0m\u001b[1;33m\u001b[0m\u001b[1;33m\u001b[0m\u001b[0m\n",
      "\u001b[1;32mD:\\anaconda3\\lib\\site-packages\\sklearn\\feature_extraction\\text.py\u001b[0m in \u001b[0;36m_count_vocab\u001b[1;34m(self, raw_documents, fixed_vocab)\u001b[0m\n\u001b[0;32m   1218\u001b[0m             \u001b[0mvocabulary\u001b[0m \u001b[1;33m=\u001b[0m \u001b[0mdict\u001b[0m\u001b[1;33m(\u001b[0m\u001b[0mvocabulary\u001b[0m\u001b[1;33m)\u001b[0m\u001b[1;33m\u001b[0m\u001b[1;33m\u001b[0m\u001b[0m\n\u001b[0;32m   1219\u001b[0m             \u001b[1;32mif\u001b[0m \u001b[1;32mnot\u001b[0m \u001b[0mvocabulary\u001b[0m\u001b[1;33m:\u001b[0m\u001b[1;33m\u001b[0m\u001b[1;33m\u001b[0m\u001b[0m\n\u001b[1;32m-> 1220\u001b[1;33m                 raise ValueError(\n\u001b[0m\u001b[0;32m   1221\u001b[0m                     \u001b[1;34m\"empty vocabulary; perhaps the documents only contain stop words\"\u001b[0m\u001b[1;33m\u001b[0m\u001b[1;33m\u001b[0m\u001b[0m\n\u001b[0;32m   1222\u001b[0m                 )\n",
      "\u001b[1;31mValueError\u001b[0m: empty vocabulary; perhaps the documents only contain stop words"
     ]
    }
   ],
   "source": [
    "twogram_converter = CountVectorizer(ngram_range=[2,2], lowercase=False)                                                        \n",
    "x2 = twogram_converter.fit_transform(doc2stop)         \n",
    "\n",
    "bigrams = twogram_converter.get_feature_names_out()       # \"bigrams\" is now a list of all the 2-word combinations in our document\n",
    "\n",
    "print(bigrams)                                           # this would print all the unique 2-words in our document\n",
    "len(bigrams)    "
   ]
  },
  {
   "cell_type": "code",
   "execution_count": null,
   "id": "6d836b8d",
   "metadata": {},
   "outputs": [],
   "source": []
  }
 ],
 "metadata": {
  "kernelspec": {
   "display_name": "Python 3 (ipykernel)",
   "language": "python",
   "name": "python3"
  },
  "language_info": {
   "codemirror_mode": {
    "name": "ipython",
    "version": 3
   },
   "file_extension": ".py",
   "mimetype": "text/x-python",
   "name": "python",
   "nbconvert_exporter": "python",
   "pygments_lexer": "ipython3",
   "version": "3.8.5"
  }
 },
 "nbformat": 4,
 "nbformat_minor": 5
}
