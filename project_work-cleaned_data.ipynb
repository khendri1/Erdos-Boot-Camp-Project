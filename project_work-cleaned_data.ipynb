{
 "cells": [
  {
   "cell_type": "markdown",
   "id": "3a7a847e",
   "metadata": {},
   "source": [
    "Jupyter notebook for project\n",
    "\n",
    "NLP applied to Kaggle dataset\n",
    "Dataset here:\n",
    "https://www.kaggle.com/datasets/stackoverflow/stacksample\n",
    "\n",
    "Relevant NLP example:\n",
    "https://github.com/Idilismiguzel/NLP-with-Python/blob/master/Text-Classification.ipynb\n"
   ]
  },
  {
   "cell_type": "code",
   "execution_count": 1,
   "id": "48b39707",
   "metadata": {},
   "outputs": [],
   "source": [
    "import pandas as pd\n",
    "import numpy as np\n",
    "import matplotlib.pyplot as plt\n",
    "import seaborn as sns\n",
    "from seaborn import set_style\n",
    "\n",
    "from ast import literal_eval\n",
    "\n",
    "set_style(\"whitegrid\")"
   ]
  },
  {
   "cell_type": "markdown",
   "id": "c40458a7",
   "metadata": {},
   "source": [
    "## Read in the data (part of it) and just look at it for a bit"
   ]
  },
  {
   "cell_type": "code",
   "execution_count": 2,
   "id": "153fa480",
   "metadata": {},
   "outputs": [],
   "source": [
    "questions = pd.read_csv(\"archive/questions_cleaned.csv\", nrows=25000, \n",
    "                        converters={'cleaned_body': literal_eval})\n",
    "#answers = pd.read_csv(\"archive/Answers.csv\", encoding = \"ISO-8859-1\", nrows=5000)\n",
    "#tags = pd.read_csv(\"archive/Tags.csv\", encoding = \"ISO-8859-1\", nrows=5000)"
   ]
  },
  {
   "cell_type": "code",
   "execution_count": 3,
   "id": "8e92d241",
   "metadata": {},
   "outputs": [
    {
     "data": {
      "text/html": [
       "<div>\n",
       "<style scoped>\n",
       "    .dataframe tbody tr th:only-of-type {\n",
       "        vertical-align: middle;\n",
       "    }\n",
       "\n",
       "    .dataframe tbody tr th {\n",
       "        vertical-align: top;\n",
       "    }\n",
       "\n",
       "    .dataframe thead th {\n",
       "        text-align: right;\n",
       "    }\n",
       "</style>\n",
       "<table border=\"1\" class=\"dataframe\">\n",
       "  <thead>\n",
       "    <tr style=\"text-align: right;\">\n",
       "      <th></th>\n",
       "      <th>Unnamed: 0</th>\n",
       "      <th>Unnamed: 0.1</th>\n",
       "      <th>Id</th>\n",
       "      <th>OwnerUserId</th>\n",
       "      <th>CreationDate</th>\n",
       "      <th>ClosedDate</th>\n",
       "      <th>Score</th>\n",
       "      <th>Title</th>\n",
       "      <th>Body</th>\n",
       "      <th>body_text</th>\n",
       "      <th>cleaned_body</th>\n",
       "    </tr>\n",
       "  </thead>\n",
       "  <tbody>\n",
       "    <tr>\n",
       "      <th>23409</th>\n",
       "      <td>23409</td>\n",
       "      <td>23409</td>\n",
       "      <td>1265810</td>\n",
       "      <td>NaN</td>\n",
       "      <td>2009-08-12T12:18:41Z</td>\n",
       "      <td>NaN</td>\n",
       "      <td>1</td>\n",
       "      <td>Prevent file from being edit</td>\n",
       "      <td>&lt;p&gt;What's the smartest way to prevent a textfi...</td>\n",
       "      <td>What's the smartest way to prevent a textfile ...</td>\n",
       "      <td>[smart, way, prevent, textfile, e.g., xml, get...</td>\n",
       "    </tr>\n",
       "    <tr>\n",
       "      <th>556</th>\n",
       "      <td>556</td>\n",
       "      <td>556</td>\n",
       "      <td>49870</td>\n",
       "      <td>5056.0</td>\n",
       "      <td>2008-09-08T14:58:06Z</td>\n",
       "      <td>NaN</td>\n",
       "      <td>7</td>\n",
       "      <td>I understand threading in theory but not in pr...</td>\n",
       "      <td>&lt;p&gt;I have a basic cs-major understanding of mu...</td>\n",
       "      <td>I have a basic cs-major understanding of multi...</td>\n",
       "      <td>[basic, cs, major, understanding, multi, threa...</td>\n",
       "    </tr>\n",
       "    <tr>\n",
       "      <th>22402</th>\n",
       "      <td>22402</td>\n",
       "      <td>22402</td>\n",
       "      <td>1223510</td>\n",
       "      <td>NaN</td>\n",
       "      <td>2009-08-03T17:18:23Z</td>\n",
       "      <td>NaN</td>\n",
       "      <td>0</td>\n",
       "      <td>Mpi function define</td>\n",
       "      <td>&lt;p&gt;I wrote a program in c using MPI (Message P...</td>\n",
       "      <td>I wrote a program in c using MPI (Message Pass...</td>\n",
       "      <td>[write, program, c, MPI, Message, Passing, Int...</td>\n",
       "    </tr>\n",
       "    <tr>\n",
       "      <th>14462</th>\n",
       "      <td>14462</td>\n",
       "      <td>14462</td>\n",
       "      <td>857620</td>\n",
       "      <td>2759376.0</td>\n",
       "      <td>2009-05-13T12:13:12Z</td>\n",
       "      <td>NaN</td>\n",
       "      <td>0</td>\n",
       "      <td>Query about shared library performance</td>\n",
       "      <td>&lt;p&gt;I have a question about performance differe...</td>\n",
       "      <td>I have a question about performance difference...</td>\n",
       "      <td>[question, performance, difference, perspectiv...</td>\n",
       "    </tr>\n",
       "    <tr>\n",
       "      <th>19904</th>\n",
       "      <td>19904</td>\n",
       "      <td>19904</td>\n",
       "      <td>1109830</td>\n",
       "      <td>NaN</td>\n",
       "      <td>2009-07-10T14:21:59Z</td>\n",
       "      <td>NaN</td>\n",
       "      <td>0</td>\n",
       "      <td>InternetAttemptConnect causing crash C++</td>\n",
       "      <td>&lt;p&gt;I have an app that uses the wininet librari...</td>\n",
       "      <td>I have an app that uses the wininet libraries ...</td>\n",
       "      <td>[app, use, wininet, library, server, posting, ...</td>\n",
       "    </tr>\n",
       "  </tbody>\n",
       "</table>\n",
       "</div>"
      ],
      "text/plain": [
       "       Unnamed: 0  Unnamed: 0.1       Id  OwnerUserId          CreationDate  \\\n",
       "23409       23409         23409  1265810          NaN  2009-08-12T12:18:41Z   \n",
       "556           556           556    49870       5056.0  2008-09-08T14:58:06Z   \n",
       "22402       22402         22402  1223510          NaN  2009-08-03T17:18:23Z   \n",
       "14462       14462         14462   857620    2759376.0  2009-05-13T12:13:12Z   \n",
       "19904       19904         19904  1109830          NaN  2009-07-10T14:21:59Z   \n",
       "\n",
       "      ClosedDate  Score                                              Title  \\\n",
       "23409        NaN      1                       Prevent file from being edit   \n",
       "556          NaN      7  I understand threading in theory but not in pr...   \n",
       "22402        NaN      0                                Mpi function define   \n",
       "14462        NaN      0             Query about shared library performance   \n",
       "19904        NaN      0           InternetAttemptConnect causing crash C++   \n",
       "\n",
       "                                                    Body  \\\n",
       "23409  <p>What's the smartest way to prevent a textfi...   \n",
       "556    <p>I have a basic cs-major understanding of mu...   \n",
       "22402  <p>I wrote a program in c using MPI (Message P...   \n",
       "14462  <p>I have a question about performance differe...   \n",
       "19904  <p>I have an app that uses the wininet librari...   \n",
       "\n",
       "                                               body_text  \\\n",
       "23409  What's the smartest way to prevent a textfile ...   \n",
       "556    I have a basic cs-major understanding of multi...   \n",
       "22402  I wrote a program in c using MPI (Message Pass...   \n",
       "14462  I have a question about performance difference...   \n",
       "19904  I have an app that uses the wininet libraries ...   \n",
       "\n",
       "                                            cleaned_body  \n",
       "23409  [smart, way, prevent, textfile, e.g., xml, get...  \n",
       "556    [basic, cs, major, understanding, multi, threa...  \n",
       "22402  [write, program, c, MPI, Message, Passing, Int...  \n",
       "14462  [question, performance, difference, perspectiv...  \n",
       "19904  [app, use, wininet, library, server, posting, ...  "
      ]
     },
     "execution_count": 3,
     "metadata": {},
     "output_type": "execute_result"
    }
   ],
   "source": [
    "questions.sample(5, random_state=234)"
   ]
  },
  {
   "cell_type": "code",
   "execution_count": 6,
   "id": "98200dc9",
   "metadata": {},
   "outputs": [
    {
     "name": "stdout",
     "output_type": "stream",
     "text": [
      "What's the smartest way to prevent a textfile (e.g. xml) from getting edit by a user? \n",
      "I need to make sure that the file in which I store the usernames and there privileges for the desktop application can't be simply edited. \n",
      "Maybe I can generate a certificate of the file and the desktop applications checks this?\n",
      "I'm using C# in a WinForms app.\n",
      "\n"
     ]
    }
   ],
   "source": [
    "print(questions.iloc[23409].body_text)"
   ]
  },
  {
   "cell_type": "code",
   "execution_count": 7,
   "id": "001a51f6",
   "metadata": {},
   "outputs": [
    {
     "name": "stdout",
     "output_type": "stream",
     "text": [
      "['smart', 'way', 'prevent', 'textfile', 'e.g.', 'xml', 'get', 'edit', 'user', 'need', 'sure', 'file', 'store', 'username', 'privilege', 'desktop', 'application', 'simply', 'edit', 'maybe', 'generate', 'certificate', 'file', 'desktop', 'application', 'check', 'c', 'WinForms', 'app']\n"
     ]
    }
   ],
   "source": [
    "print(questions.iloc[23409].cleaned_body)"
   ]
  },
  {
   "cell_type": "code",
   "execution_count": null,
   "id": "6bd89232",
   "metadata": {},
   "outputs": [],
   "source": []
  },
  {
   "cell_type": "code",
   "execution_count": 112,
   "id": "b441e584",
   "metadata": {},
   "outputs": [],
   "source": [
    "#answers.sample(5,random_state=505)"
   ]
  },
  {
   "cell_type": "code",
   "execution_count": 113,
   "id": "ba167f92",
   "metadata": {},
   "outputs": [],
   "source": [
    "#print(answers.iloc[4162].Body)"
   ]
  },
  {
   "cell_type": "code",
   "execution_count": 114,
   "id": "9d6354f3",
   "metadata": {},
   "outputs": [],
   "source": [
    "#tags.sample(5, random_state=23)"
   ]
  },
  {
   "cell_type": "markdown",
   "id": "5e66b10a",
   "metadata": {},
   "source": [
    "## Confirm we actually read in as many rows as we thought, then count how many of those questions have been closed"
   ]
  },
  {
   "cell_type": "code",
   "execution_count": 8,
   "id": "aea725a7",
   "metadata": {},
   "outputs": [
    {
     "data": {
      "text/plain": [
       "25000"
      ]
     },
     "execution_count": 8,
     "metadata": {},
     "output_type": "execute_result"
    }
   ],
   "source": [
    "np.shape(questions)[0]"
   ]
  },
  {
   "cell_type": "code",
   "execution_count": 9,
   "id": "c16a179a",
   "metadata": {},
   "outputs": [
    {
     "name": "stdout",
     "output_type": "stream",
     "text": [
      "23805\n"
     ]
    }
   ],
   "source": [
    "count = 0\n",
    "for i in range(0,np.shape(questions)[0]):\n",
    "    if pd.isna(questions.iloc[i].ClosedDate):\n",
    "        count = count+1\n",
    "        \n",
    "print(count)"
   ]
  },
  {
   "cell_type": "code",
   "execution_count": 10,
   "id": "0c7d2296",
   "metadata": {},
   "outputs": [
    {
     "data": {
      "text/plain": [
       "1195"
      ]
     },
     "execution_count": 10,
     "metadata": {},
     "output_type": "execute_result"
    }
   ],
   "source": [
    "np.shape(questions)[0] - count"
   ]
  },
  {
   "cell_type": "code",
   "execution_count": 11,
   "id": "7bc84f38",
   "metadata": {},
   "outputs": [
    {
     "name": "stderr",
     "output_type": "stream",
     "text": [
      "D:\\anaconda3\\lib\\site-packages\\pandas\\core\\indexing.py:1732: SettingWithCopyWarning: \n",
      "A value is trying to be set on a copy of a slice from a DataFrame\n",
      "\n",
      "See the caveats in the documentation: https://pandas.pydata.org/pandas-docs/stable/user_guide/indexing.html#returning-a-view-versus-a-copy\n",
      "  self._setitem_single_block(indexer, value, name)\n"
     ]
    },
    {
     "data": {
      "text/html": [
       "<div>\n",
       "<style scoped>\n",
       "    .dataframe tbody tr th:only-of-type {\n",
       "        vertical-align: middle;\n",
       "    }\n",
       "\n",
       "    .dataframe tbody tr th {\n",
       "        vertical-align: top;\n",
       "    }\n",
       "\n",
       "    .dataframe thead th {\n",
       "        text-align: right;\n",
       "    }\n",
       "</style>\n",
       "<table border=\"1\" class=\"dataframe\">\n",
       "  <thead>\n",
       "    <tr style=\"text-align: right;\">\n",
       "      <th></th>\n",
       "      <th>Unnamed: 0</th>\n",
       "      <th>Unnamed: 0.1</th>\n",
       "      <th>Id</th>\n",
       "      <th>OwnerUserId</th>\n",
       "      <th>CreationDate</th>\n",
       "      <th>ClosedDate</th>\n",
       "      <th>Score</th>\n",
       "      <th>Title</th>\n",
       "      <th>Body</th>\n",
       "      <th>body_text</th>\n",
       "      <th>cleaned_body</th>\n",
       "      <th>Closed</th>\n",
       "    </tr>\n",
       "  </thead>\n",
       "  <tbody>\n",
       "    <tr>\n",
       "      <th>0</th>\n",
       "      <td>0</td>\n",
       "      <td>0</td>\n",
       "      <td>80</td>\n",
       "      <td>26.0</td>\n",
       "      <td>2008-08-01T13:57:07Z</td>\n",
       "      <td>NaN</td>\n",
       "      <td>26</td>\n",
       "      <td>SQLStatement.execute() - multiple queries in o...</td>\n",
       "      <td>&lt;p&gt;I've written a database generation script i...</td>\n",
       "      <td>I've written a database generation script in S...</td>\n",
       "      <td>[write, database, generation, script, SQL, wan...</td>\n",
       "      <td>0</td>\n",
       "    </tr>\n",
       "    <tr>\n",
       "      <th>1</th>\n",
       "      <td>1</td>\n",
       "      <td>1</td>\n",
       "      <td>90</td>\n",
       "      <td>58.0</td>\n",
       "      <td>2008-08-01T14:41:24Z</td>\n",
       "      <td>2012-12-26T03:45:49Z</td>\n",
       "      <td>144</td>\n",
       "      <td>Good branching and merging tutorials for Torto...</td>\n",
       "      <td>&lt;p&gt;Are there any really good tutorials explain...</td>\n",
       "      <td>Are there any really good tutorials explaining...</td>\n",
       "      <td>[good, tutorial, explain, branching, merge, Ap...</td>\n",
       "      <td>1</td>\n",
       "    </tr>\n",
       "    <tr>\n",
       "      <th>2</th>\n",
       "      <td>2</td>\n",
       "      <td>2</td>\n",
       "      <td>120</td>\n",
       "      <td>83.0</td>\n",
       "      <td>2008-08-01T15:50:08Z</td>\n",
       "      <td>NaN</td>\n",
       "      <td>21</td>\n",
       "      <td>ASP.NET Site Maps</td>\n",
       "      <td>&lt;p&gt;Has anyone got experience creating &lt;strong&gt;...</td>\n",
       "      <td>Has anyone got experience creating SQL-based A...</td>\n",
       "      <td>[get, experience, create, SQL, base, ASP.NET, ...</td>\n",
       "      <td>0</td>\n",
       "    </tr>\n",
       "    <tr>\n",
       "      <th>3</th>\n",
       "      <td>3</td>\n",
       "      <td>3</td>\n",
       "      <td>180</td>\n",
       "      <td>2089740.0</td>\n",
       "      <td>2008-08-01T18:42:19Z</td>\n",
       "      <td>NaN</td>\n",
       "      <td>53</td>\n",
       "      <td>Function for creating color wheels</td>\n",
       "      <td>&lt;p&gt;This is something I've pseudo-solved many t...</td>\n",
       "      <td>This is something I've pseudo-solved many time...</td>\n",
       "      <td>[pseudo, solve, time, find, solution, stick, p...</td>\n",
       "      <td>0</td>\n",
       "    </tr>\n",
       "    <tr>\n",
       "      <th>4</th>\n",
       "      <td>4</td>\n",
       "      <td>4</td>\n",
       "      <td>260</td>\n",
       "      <td>91.0</td>\n",
       "      <td>2008-08-01T23:22:08Z</td>\n",
       "      <td>NaN</td>\n",
       "      <td>49</td>\n",
       "      <td>Adding scripting functionality to .NET applica...</td>\n",
       "      <td>&lt;p&gt;I have a little game written in C#. It uses...</td>\n",
       "      <td>I have a little game written in C#. It uses a ...</td>\n",
       "      <td>[little, game, write, C, use, database, end, t...</td>\n",
       "      <td>0</td>\n",
       "    </tr>\n",
       "  </tbody>\n",
       "</table>\n",
       "</div>"
      ],
      "text/plain": [
       "   Unnamed: 0  Unnamed: 0.1   Id  OwnerUserId          CreationDate  \\\n",
       "0           0             0   80         26.0  2008-08-01T13:57:07Z   \n",
       "1           1             1   90         58.0  2008-08-01T14:41:24Z   \n",
       "2           2             2  120         83.0  2008-08-01T15:50:08Z   \n",
       "3           3             3  180    2089740.0  2008-08-01T18:42:19Z   \n",
       "4           4             4  260         91.0  2008-08-01T23:22:08Z   \n",
       "\n",
       "             ClosedDate  Score  \\\n",
       "0                   NaN     26   \n",
       "1  2012-12-26T03:45:49Z    144   \n",
       "2                   NaN     21   \n",
       "3                   NaN     53   \n",
       "4                   NaN     49   \n",
       "\n",
       "                                               Title  \\\n",
       "0  SQLStatement.execute() - multiple queries in o...   \n",
       "1  Good branching and merging tutorials for Torto...   \n",
       "2                                  ASP.NET Site Maps   \n",
       "3                 Function for creating color wheels   \n",
       "4  Adding scripting functionality to .NET applica...   \n",
       "\n",
       "                                                Body  \\\n",
       "0  <p>I've written a database generation script i...   \n",
       "1  <p>Are there any really good tutorials explain...   \n",
       "2  <p>Has anyone got experience creating <strong>...   \n",
       "3  <p>This is something I've pseudo-solved many t...   \n",
       "4  <p>I have a little game written in C#. It uses...   \n",
       "\n",
       "                                           body_text  \\\n",
       "0  I've written a database generation script in S...   \n",
       "1  Are there any really good tutorials explaining...   \n",
       "2  Has anyone got experience creating SQL-based A...   \n",
       "3  This is something I've pseudo-solved many time...   \n",
       "4  I have a little game written in C#. It uses a ...   \n",
       "\n",
       "                                        cleaned_body  Closed  \n",
       "0  [write, database, generation, script, SQL, wan...       0  \n",
       "1  [good, tutorial, explain, branching, merge, Ap...       1  \n",
       "2  [get, experience, create, SQL, base, ASP.NET, ...       0  \n",
       "3  [pseudo, solve, time, find, solution, stick, p...       0  \n",
       "4  [little, game, write, C, use, database, end, t...       0  "
      ]
     },
     "execution_count": 11,
     "metadata": {},
     "output_type": "execute_result"
    }
   ],
   "source": [
    "questions['Closed'] = 1\n",
    "for i in range(0,np.shape(questions)[0]):\n",
    "    if pd.isna(questions.iloc[i].ClosedDate):\n",
    "        questions['Closed'].iloc[i] = 0\n",
    "\n",
    "questions.head(5)"
   ]
  },
  {
   "cell_type": "markdown",
   "id": "9d3c400a",
   "metadata": {},
   "source": [
    "## Start looking at the scores. How many of these first 5000 questions have what score?"
   ]
  },
  {
   "cell_type": "code",
   "execution_count": 12,
   "id": "95e7d0b8",
   "metadata": {},
   "outputs": [
    {
     "data": {
      "image/png": "[encoded data removed]",
      "text/plain": [
       "<Figure size 864x360 with 1 Axes>"
      ]
     },
     "metadata": {},
     "output_type": "display_data"
    }
   ],
   "source": [
    "ax = questions['Score'].value_counts()[0:50].plot(kind='bar', figsize=(12,5))\n",
    "fig = ax.get_figure()\n",
    "ax.set_title(\"Stackoverflow Dataset\")\n",
    "ax.set_xlabel('Score')\n",
    "ax.set_ylabel('Value Counts');"
   ]
  },
  {
   "cell_type": "code",
   "execution_count": 13,
   "id": "df2cad9d",
   "metadata": {},
   "outputs": [
    {
     "name": "stdout",
     "output_type": "stream",
     "text": [
      "25000\n"
     ]
    }
   ],
   "source": [
    "totals = questions['Score'].value_counts()\n",
    "\n",
    "numbers = 0\n",
    "for i in range(0,np.shape(totals)[0]):\n",
    "    numbers = numbers + totals.iloc[i]\n",
    "\n",
    "print(numbers)"
   ]
  },
  {
   "cell_type": "code",
   "execution_count": 14,
   "id": "fd8d393c",
   "metadata": {},
   "outputs": [
    {
     "data": {
      "text/plain": [
       "(367,)"
      ]
     },
     "execution_count": 14,
     "metadata": {},
     "output_type": "execute_result"
    }
   ],
   "source": [
    "np.shape(totals)"
   ]
  },
  {
   "cell_type": "code",
   "execution_count": 15,
   "id": "a9cf492e",
   "metadata": {
    "scrolled": true
   },
   "outputs": [
    {
     "name": "stdout",
     "output_type": "stream",
     "text": [
      "0      4988\n",
      "1      4622\n",
      "2      3101\n",
      "3      2153\n",
      "4      1519\n",
      "       ... \n",
      "670       1\n",
      "171       1\n",
      "374       1\n",
      "313       1\n",
      "440       1\n",
      "Name: Score, Length: 367, dtype: int64\n"
     ]
    }
   ],
   "source": [
    "print(totals)"
   ]
  },
  {
   "cell_type": "markdown",
   "id": "887b0175",
   "metadata": {},
   "source": [
    "## Find average score for this subset of data"
   ]
  },
  {
   "cell_type": "code",
   "execution_count": 16,
   "id": "cc7529f7",
   "metadata": {},
   "outputs": [
    {
     "name": "stdout",
     "output_type": "stream",
     "text": [
      "Sum of scores for these questions is: 314904\n",
      "Total number of questions is: 25000\n",
      "Number of unique score values is: 367\n"
     ]
    }
   ],
   "source": [
    "print(\"Sum of scores for these questions is:\", questions['Score'].sum())\n",
    "print(\"Total number of questions is:\", np.shape(questions)[0])\n",
    "print(\"Number of unique score values is:\", np.shape(totals)[0])"
   ]
  },
  {
   "cell_type": "code",
   "execution_count": 17,
   "id": "345ca878",
   "metadata": {},
   "outputs": [
    {
     "name": "stdout",
     "output_type": "stream",
     "text": [
      "Mean of these scores is: 12.59616\n",
      "Manual check of that mean: 12.59616\n",
      "Median of these scores is: 2.0\n"
     ]
    }
   ],
   "source": [
    "print(\"Mean of these scores is:\", questions['Score'].mean())\n",
    "print(\"Manual check of that mean:\", questions['Score'].sum()/np.shape(questions)[0])\n",
    "print(\"Median of these scores is:\", questions['Score'].median())"
   ]
  },
  {
   "cell_type": "markdown",
   "id": "ab3828b0",
   "metadata": {},
   "source": [
    "## Is there a connection between \"closed\" and \"score\"?"
   ]
  },
  {
   "cell_type": "code",
   "execution_count": 18,
   "id": "188ca207",
   "metadata": {},
   "outputs": [
    {
     "data": {
      "text/plain": [
       "23805"
      ]
     },
     "execution_count": 18,
     "metadata": {},
     "output_type": "execute_result"
    }
   ],
   "source": [
    "open_questions = questions[pd.isna(questions['ClosedDate'])].copy()\n",
    "np.shape(open_questions)[0]"
   ]
  },
  {
   "cell_type": "code",
   "execution_count": 19,
   "id": "359862dd",
   "metadata": {},
   "outputs": [
    {
     "data": {
      "text/plain": [
       "1195"
      ]
     },
     "execution_count": 19,
     "metadata": {},
     "output_type": "execute_result"
    }
   ],
   "source": [
    "closed_questions = questions[pd.notna(questions['ClosedDate'])].copy()\n",
    "np.shape(closed_questions)[0]"
   ]
  },
  {
   "cell_type": "code",
   "execution_count": 20,
   "id": "6a874516",
   "metadata": {},
   "outputs": [
    {
     "name": "stdout",
     "output_type": "stream",
     "text": [
      "Sum of scores for these open questions is: 288034\n",
      "Total number of open questions is: 23805\n",
      "Number of unique score values is: 354\n",
      "Mean of these open question scores is: 12.099726948120143\n",
      "Median of these open question scores is: 2.0\n"
     ]
    }
   ],
   "source": [
    "print(\"Sum of scores for these open questions is:\", open_questions['Score'].sum())\n",
    "print(\"Total number of open questions is:\", np.shape(open_questions)[0])\n",
    "print(\"Number of unique score values is:\", np.shape(open_questions['Score'].value_counts())[0])\n",
    "print(\"Mean of these open question scores is:\", open_questions['Score'].mean())\n",
    "print(\"Median of these open question scores is:\", open_questions['Score'].median())"
   ]
  },
  {
   "cell_type": "code",
   "execution_count": 21,
   "id": "3e8e8d31",
   "metadata": {},
   "outputs": [
    {
     "name": "stdout",
     "output_type": "stream",
     "text": [
      "Sum of scores for these closed questions is: 26870\n",
      "Total number of closed questions is: 1195\n",
      "Number of unique score values is: 138\n",
      "Mean of these closed question scores is: 22.485355648535563\n",
      "Median of these closed question scores is: 6.0\n"
     ]
    }
   ],
   "source": [
    "print(\"Sum of scores for these closed questions is:\", closed_questions['Score'].sum())\n",
    "print(\"Total number of closed questions is:\", np.shape(closed_questions)[0])\n",
    "print(\"Number of unique score values is:\", np.shape(closed_questions['Score'].value_counts())[0])\n",
    "print(\"Mean of these closed question scores is:\", closed_questions['Score'].mean())\n",
    "print(\"Median of these closed question scores is:\", closed_questions['Score'].median())"
   ]
  },
  {
   "cell_type": "code",
   "execution_count": 22,
   "id": "3d7a9d26",
   "metadata": {},
   "outputs": [
    {
     "data": {
      "image/png": "[encoded data removed]",
      "text/plain": [
       "<Figure size 360x288 with 1 Axes>"
      ]
     },
     "metadata": {},
     "output_type": "display_data"
    }
   ],
   "source": [
    "fig = plt.figure(figsize=(5,4))\n",
    "ax = fig.add_axes([0,0,1,1])\n",
    "status = ['open', 'closed']\n",
    "values = [open_questions['Score'].median(),closed_questions['Score'].median()]\n",
    "ax.bar(status, values)\n",
    "ax.set_ylabel(\"Median score\")\n",
    "plt.show()"
   ]
  },
  {
   "cell_type": "markdown",
   "id": "23901e42",
   "metadata": {},
   "source": [
    "So maybe there's a correlation between whether a question is closed/open and its score. That is, here at least, closed questions have a higher median score than open questions. Thus we should determine what properties of a question (the actual words) lead to a question becoming closed."
   ]
  },
  {
   "cell_type": "code",
   "execution_count": null,
   "id": "130c7772",
   "metadata": {},
   "outputs": [],
   "source": []
  },
  {
   "cell_type": "markdown",
   "id": "8a7de8db",
   "metadata": {},
   "source": [
    "## Manually construct a different-proportioned dataset"
   ]
  },
  {
   "cell_type": "code",
   "execution_count": 23,
   "id": "b40edae6",
   "metadata": {},
   "outputs": [],
   "source": [
    "halfset = pd.concat([open_questions[0:1000], closed_questions[0:500]])"
   ]
  },
  {
   "cell_type": "code",
   "execution_count": 24,
   "id": "328c3e50",
   "metadata": {},
   "outputs": [
    {
     "data": {
      "text/html": [
       "<div>\n",
       "<style scoped>\n",
       "    .dataframe tbody tr th:only-of-type {\n",
       "        vertical-align: middle;\n",
       "    }\n",
       "\n",
       "    .dataframe tbody tr th {\n",
       "        vertical-align: top;\n",
       "    }\n",
       "\n",
       "    .dataframe thead th {\n",
       "        text-align: right;\n",
       "    }\n",
       "</style>\n",
       "<table border=\"1\" class=\"dataframe\">\n",
       "  <thead>\n",
       "    <tr style=\"text-align: right;\">\n",
       "      <th></th>\n",
       "      <th>Unnamed: 0</th>\n",
       "      <th>Unnamed: 0.1</th>\n",
       "      <th>Id</th>\n",
       "      <th>OwnerUserId</th>\n",
       "      <th>CreationDate</th>\n",
       "      <th>ClosedDate</th>\n",
       "      <th>Score</th>\n",
       "      <th>Title</th>\n",
       "      <th>Body</th>\n",
       "      <th>body_text</th>\n",
       "      <th>cleaned_body</th>\n",
       "      <th>Closed</th>\n",
       "    </tr>\n",
       "  </thead>\n",
       "  <tbody>\n",
       "    <tr>\n",
       "      <th>7193</th>\n",
       "      <td>7193</td>\n",
       "      <td>7193</td>\n",
       "      <td>487430</td>\n",
       "      <td>17648.0</td>\n",
       "      <td>2009-01-28T12:22:40Z</td>\n",
       "      <td>2014-10-06T06:24:12Z</td>\n",
       "      <td>5</td>\n",
       "      <td>Validate inputs that are not inside a form wit...</td>\n",
       "      <td>&lt;p&gt;How can I validate some inputs that are not...</td>\n",
       "      <td>How can I validate some inputs that are not in...</td>\n",
       "      <td>[validate, input, inside, form, tag, sample, f...</td>\n",
       "      <td>1</td>\n",
       "    </tr>\n",
       "    <tr>\n",
       "      <th>7207</th>\n",
       "      <td>7207</td>\n",
       "      <td>7207</td>\n",
       "      <td>488250</td>\n",
       "      <td>3056.0</td>\n",
       "      <td>2009-01-28T16:19:58Z</td>\n",
       "      <td>2013-02-03T22:11:14Z</td>\n",
       "      <td>44</td>\n",
       "      <td>c# compare two generic values</td>\n",
       "      <td>&lt;blockquote&gt;\\n  &lt;p&gt;&lt;strong&gt;Possible Duplicate:...</td>\n",
       "      <td>\\nPossible Duplicate:\\nCanÃ¢ÂÂt operator == ...</td>\n",
       "      <td>[Possible, Duplicate, CanÃ¢ÂÂt, operator, =,...</td>\n",
       "      <td>1</td>\n",
       "    </tr>\n",
       "    <tr>\n",
       "      <th>7229</th>\n",
       "      <td>7229</td>\n",
       "      <td>7229</td>\n",
       "      <td>489720</td>\n",
       "      <td>7856.0</td>\n",
       "      <td>2009-01-28T22:35:02Z</td>\n",
       "      <td>2014-03-06T14:48:43Z</td>\n",
       "      <td>212</td>\n",
       "      <td>What are some common uses for Python decorators?</td>\n",
       "      <td>&lt;p&gt;While I like to think of myself as a reason...</td>\n",
       "      <td>While I like to think of myself as a reasonabl...</td>\n",
       "      <td>[like, think, reasonably, competent, Python, c...</td>\n",
       "      <td>1</td>\n",
       "    </tr>\n",
       "    <tr>\n",
       "      <th>7236</th>\n",
       "      <td>7236</td>\n",
       "      <td>7236</td>\n",
       "      <td>490420</td>\n",
       "      <td>9931.0</td>\n",
       "      <td>2009-01-29T03:48:51Z</td>\n",
       "      <td>2012-09-13T20:58:33Z</td>\n",
       "      <td>142</td>\n",
       "      <td>Favorite (Clever) Defensive Programming Best P...</td>\n",
       "      <td>&lt;p&gt;If you had to choose your &lt;strong&gt;Favorite&lt;...</td>\n",
       "      <td>If you had to choose your Favorite (clever) te...</td>\n",
       "      <td>[choose, Favorite, clever, technique, defensiv...</td>\n",
       "      <td>1</td>\n",
       "    </tr>\n",
       "    <tr>\n",
       "      <th>7250</th>\n",
       "      <td>7250</td>\n",
       "      <td>7250</td>\n",
       "      <td>490860</td>\n",
       "      <td>18615.0</td>\n",
       "      <td>2009-01-29T08:18:09Z</td>\n",
       "      <td>2015-06-09T01:57:25Z</td>\n",
       "      <td>0</td>\n",
       "      <td>Does modified Open Source code HAS-TO-BE open-...</td>\n",
       "      <td>&lt;p&gt;We have taken an open-source application, r...</td>\n",
       "      <td>We have taken an open-source application, rele...</td>\n",
       "      <td>[take, open, source, application, release, GPL...</td>\n",
       "      <td>1</td>\n",
       "    </tr>\n",
       "  </tbody>\n",
       "</table>\n",
       "</div>"
      ],
      "text/plain": [
       "      Unnamed: 0  Unnamed: 0.1      Id  OwnerUserId          CreationDate  \\\n",
       "7193        7193          7193  487430      17648.0  2009-01-28T12:22:40Z   \n",
       "7207        7207          7207  488250       3056.0  2009-01-28T16:19:58Z   \n",
       "7229        7229          7229  489720       7856.0  2009-01-28T22:35:02Z   \n",
       "7236        7236          7236  490420       9931.0  2009-01-29T03:48:51Z   \n",
       "7250        7250          7250  490860      18615.0  2009-01-29T08:18:09Z   \n",
       "\n",
       "                ClosedDate  Score  \\\n",
       "7193  2014-10-06T06:24:12Z      5   \n",
       "7207  2013-02-03T22:11:14Z     44   \n",
       "7229  2014-03-06T14:48:43Z    212   \n",
       "7236  2012-09-13T20:58:33Z    142   \n",
       "7250  2015-06-09T01:57:25Z      0   \n",
       "\n",
       "                                                  Title  \\\n",
       "7193  Validate inputs that are not inside a form wit...   \n",
       "7207                      c# compare two generic values   \n",
       "7229   What are some common uses for Python decorators?   \n",
       "7236  Favorite (Clever) Defensive Programming Best P...   \n",
       "7250  Does modified Open Source code HAS-TO-BE open-...   \n",
       "\n",
       "                                                   Body  \\\n",
       "7193  <p>How can I validate some inputs that are not...   \n",
       "7207  <blockquote>\\n  <p><strong>Possible Duplicate:...   \n",
       "7229  <p>While I like to think of myself as a reason...   \n",
       "7236  <p>If you had to choose your <strong>Favorite<...   \n",
       "7250  <p>We have taken an open-source application, r...   \n",
       "\n",
       "                                              body_text  \\\n",
       "7193  How can I validate some inputs that are not in...   \n",
       "7207  \\nPossible Duplicate:\\nCanÃ¢ÂÂt operator == ...   \n",
       "7229  While I like to think of myself as a reasonabl...   \n",
       "7236  If you had to choose your Favorite (clever) te...   \n",
       "7250  We have taken an open-source application, rele...   \n",
       "\n",
       "                                           cleaned_body  Closed  \n",
       "7193  [validate, input, inside, form, tag, sample, f...       1  \n",
       "7207  [Possible, Duplicate, CanÃ¢ÂÂt, operator, =,...       1  \n",
       "7229  [like, think, reasonably, competent, Python, c...       1  \n",
       "7236  [choose, Favorite, clever, technique, defensiv...       1  \n",
       "7250  [take, open, source, application, release, GPL...       1  "
      ]
     },
     "execution_count": 24,
     "metadata": {},
     "output_type": "execute_result"
    }
   ],
   "source": [
    "halfset.tail(5)"
   ]
  },
  {
   "cell_type": "code",
   "execution_count": null,
   "id": "ff8aa5bf",
   "metadata": {},
   "outputs": [],
   "source": []
  },
  {
   "cell_type": "markdown",
   "id": "fb2981e9",
   "metadata": {},
   "source": [
    "## Choose which dataset to run the rest of the notebook with"
   ]
  },
  {
   "cell_type": "code",
   "execution_count": 25,
   "id": "b7e21fd7",
   "metadata": {},
   "outputs": [],
   "source": [
    "dataset = halfset\n",
    "# dataset = questions"
   ]
  },
  {
   "cell_type": "markdown",
   "id": "1e2c4aca",
   "metadata": {},
   "source": [
    "## Secondary cleaning"
   ]
  },
  {
   "cell_type": "code",
   "execution_count": 26,
   "id": "98b02966",
   "metadata": {},
   "outputs": [],
   "source": [
    "import re"
   ]
  },
  {
   "cell_type": "code",
   "execution_count": 27,
   "id": "0232ed07",
   "metadata": {},
   "outputs": [],
   "source": [
    "def clean_text(text):\n",
    "\n",
    "    for i in range(0,len(text)):\n",
    "        # remove the random non-ascii characters\n",
    "        text[i] = text[i].encode(\"ascii\", \"ignore\").decode()\n",
    "        \n",
    "        # remove numbers\n",
    "        text[i] = re.sub(r'[0-9]+', '', text[i])\n",
    "        \n",
    "        # remove anything that isn't a word or whitespace\n",
    "        text[i] = re.sub(r'[^\\w\\s]', '', text[i])    \n",
    "        \n",
    "        # remove short words with 1 to 3 characters\n",
    "        shortword = re.compile(r'\\W*\\b\\w{1,3}\\b')\n",
    "        text[i] = shortword.sub('', text[i])\n",
    "        \n",
    "        \n",
    "    # some of the above re calls replaced things with empty strings, so now let's remove those    \n",
    "    while(\"\" in text) :\n",
    "        text.remove(\"\")    \n",
    "        \n",
    "    return text"
   ]
  },
  {
   "cell_type": "code",
   "execution_count": 28,
   "id": "9757eda0",
   "metadata": {},
   "outputs": [],
   "source": [
    "dataset['cleaned_body'] = list(map(clean_text, dataset.cleaned_body))"
   ]
  },
  {
   "cell_type": "code",
   "execution_count": 29,
   "id": "85ecfc0f",
   "metadata": {},
   "outputs": [
    {
     "data": {
      "text/html": [
       "<div>\n",
       "<style scoped>\n",
       "    .dataframe tbody tr th:only-of-type {\n",
       "        vertical-align: middle;\n",
       "    }\n",
       "\n",
       "    .dataframe tbody tr th {\n",
       "        vertical-align: top;\n",
       "    }\n",
       "\n",
       "    .dataframe thead th {\n",
       "        text-align: right;\n",
       "    }\n",
       "</style>\n",
       "<table border=\"1\" class=\"dataframe\">\n",
       "  <thead>\n",
       "    <tr style=\"text-align: right;\">\n",
       "      <th></th>\n",
       "      <th>Unnamed: 0</th>\n",
       "      <th>Unnamed: 0.1</th>\n",
       "      <th>Id</th>\n",
       "      <th>OwnerUserId</th>\n",
       "      <th>CreationDate</th>\n",
       "      <th>ClosedDate</th>\n",
       "      <th>Score</th>\n",
       "      <th>Title</th>\n",
       "      <th>Body</th>\n",
       "      <th>body_text</th>\n",
       "      <th>cleaned_body</th>\n",
       "      <th>Closed</th>\n",
       "    </tr>\n",
       "  </thead>\n",
       "  <tbody>\n",
       "    <tr>\n",
       "      <th>0</th>\n",
       "      <td>0</td>\n",
       "      <td>0</td>\n",
       "      <td>80</td>\n",
       "      <td>26.0</td>\n",
       "      <td>2008-08-01T13:57:07Z</td>\n",
       "      <td>NaN</td>\n",
       "      <td>26</td>\n",
       "      <td>SQLStatement.execute() - multiple queries in o...</td>\n",
       "      <td>&lt;p&gt;I've written a database generation script i...</td>\n",
       "      <td>I've written a database generation script in S...</td>\n",
       "      <td>[write, database, generation, script, want, ex...</td>\n",
       "      <td>0</td>\n",
       "    </tr>\n",
       "    <tr>\n",
       "      <th>2</th>\n",
       "      <td>2</td>\n",
       "      <td>2</td>\n",
       "      <td>120</td>\n",
       "      <td>83.0</td>\n",
       "      <td>2008-08-01T15:50:08Z</td>\n",
       "      <td>NaN</td>\n",
       "      <td>21</td>\n",
       "      <td>ASP.NET Site Maps</td>\n",
       "      <td>&lt;p&gt;Has anyone got experience creating &lt;strong&gt;...</td>\n",
       "      <td>Has anyone got experience creating SQL-based A...</td>\n",
       "      <td>[experience, create, base, ASPNET, site, provi...</td>\n",
       "      <td>0</td>\n",
       "    </tr>\n",
       "    <tr>\n",
       "      <th>3</th>\n",
       "      <td>3</td>\n",
       "      <td>3</td>\n",
       "      <td>180</td>\n",
       "      <td>2089740.0</td>\n",
       "      <td>2008-08-01T18:42:19Z</td>\n",
       "      <td>NaN</td>\n",
       "      <td>53</td>\n",
       "      <td>Function for creating color wheels</td>\n",
       "      <td>&lt;p&gt;This is something I've pseudo-solved many t...</td>\n",
       "      <td>This is something I've pseudo-solved many time...</td>\n",
       "      <td>[pseudo, solve, time, find, solution, stick, p...</td>\n",
       "      <td>0</td>\n",
       "    </tr>\n",
       "  </tbody>\n",
       "</table>\n",
       "</div>"
      ],
      "text/plain": [
       "   Unnamed: 0  Unnamed: 0.1   Id  OwnerUserId          CreationDate  \\\n",
       "0           0             0   80         26.0  2008-08-01T13:57:07Z   \n",
       "2           2             2  120         83.0  2008-08-01T15:50:08Z   \n",
       "3           3             3  180    2089740.0  2008-08-01T18:42:19Z   \n",
       "\n",
       "  ClosedDate  Score                                              Title  \\\n",
       "0        NaN     26  SQLStatement.execute() - multiple queries in o...   \n",
       "2        NaN     21                                  ASP.NET Site Maps   \n",
       "3        NaN     53                 Function for creating color wheels   \n",
       "\n",
       "                                                Body  \\\n",
       "0  <p>I've written a database generation script i...   \n",
       "2  <p>Has anyone got experience creating <strong>...   \n",
       "3  <p>This is something I've pseudo-solved many t...   \n",
       "\n",
       "                                           body_text  \\\n",
       "0  I've written a database generation script in S...   \n",
       "2  Has anyone got experience creating SQL-based A...   \n",
       "3  This is something I've pseudo-solved many time...   \n",
       "\n",
       "                                        cleaned_body  Closed  \n",
       "0  [write, database, generation, script, want, ex...       0  \n",
       "2  [experience, create, base, ASPNET, site, provi...       0  \n",
       "3  [pseudo, solve, time, find, solution, stick, p...       0  "
      ]
     },
     "execution_count": 29,
     "metadata": {},
     "output_type": "execute_result"
    }
   ],
   "source": [
    "dataset.head(3)"
   ]
  },
  {
   "cell_type": "code",
   "execution_count": 30,
   "id": "87ee01cb",
   "metadata": {
    "scrolled": true
   },
   "outputs": [
    {
     "data": {
      "text/plain": [
       "\"<p>Has anyone got experience creating <strong>SQL-based ASP.NET</strong> site-map providers?</p>\\n\\n<p>I've got the default XML file <code>web.sitemap</code> working properly with my Menu and <strong>SiteMapPath</strong> controls, but I'll need a way for the users of my site to create and modify pages dynamically.</p>\\n\\n<p>I need to tie page viewing permissions into the standard <code>ASP.NET</code> membership system as well.</p>\\n\""
      ]
     },
     "execution_count": 30,
     "metadata": {},
     "output_type": "execute_result"
    }
   ],
   "source": [
    "dataset['Body'].iloc[1]"
   ]
  },
  {
   "cell_type": "code",
   "execution_count": 31,
   "id": "c1ba764b",
   "metadata": {},
   "outputs": [
    {
     "data": {
      "text/plain": [
       "\"Has anyone got experience creating SQL-based ASP.NET site-map providers?\\nI've got the default XML file web.sitemap working properly with my Menu and SiteMapPath controls, but I'll need a way for the users of my site to create and modify pages dynamically.\\nI need to tie page viewing permissions into the standard ASP.NET membership system as well.\\n\""
      ]
     },
     "execution_count": 31,
     "metadata": {},
     "output_type": "execute_result"
    }
   ],
   "source": [
    "dataset['body_text'].iloc[1]"
   ]
  },
  {
   "cell_type": "code",
   "execution_count": 32,
   "id": "074aee6f",
   "metadata": {},
   "outputs": [
    {
     "data": {
      "text/plain": [
       "['experience',\n",
       " 'create',\n",
       " 'base',\n",
       " 'ASPNET',\n",
       " 'site',\n",
       " 'provider',\n",
       " 'default',\n",
       " 'file',\n",
       " 'websitemap',\n",
       " 'work',\n",
       " 'properly',\n",
       " 'Menu',\n",
       " 'SiteMapPath',\n",
       " 'control',\n",
       " 'need',\n",
       " 'user',\n",
       " 'site',\n",
       " 'create',\n",
       " 'modify',\n",
       " 'page',\n",
       " 'dynamically',\n",
       " 'need',\n",
       " 'page',\n",
       " 'view',\n",
       " 'permission',\n",
       " 'standard',\n",
       " 'aspnet',\n",
       " 'membership',\n",
       " 'system']"
      ]
     },
     "execution_count": 32,
     "metadata": {},
     "output_type": "execute_result"
    }
   ],
   "source": [
    "dataset['cleaned_body'].iloc[1]"
   ]
  },
  {
   "cell_type": "code",
   "execution_count": 33,
   "id": "634fe839",
   "metadata": {},
   "outputs": [
    {
     "data": {
      "text/html": [
       "<div>\n",
       "<style scoped>\n",
       "    .dataframe tbody tr th:only-of-type {\n",
       "        vertical-align: middle;\n",
       "    }\n",
       "\n",
       "    .dataframe tbody tr th {\n",
       "        vertical-align: top;\n",
       "    }\n",
       "\n",
       "    .dataframe thead th {\n",
       "        text-align: right;\n",
       "    }\n",
       "</style>\n",
       "<table border=\"1\" class=\"dataframe\">\n",
       "  <thead>\n",
       "    <tr style=\"text-align: right;\">\n",
       "      <th></th>\n",
       "      <th>Id</th>\n",
       "      <th>Score</th>\n",
       "      <th>Title</th>\n",
       "      <th>Body</th>\n",
       "      <th>body_text</th>\n",
       "      <th>cleaned_body</th>\n",
       "      <th>Closed</th>\n",
       "    </tr>\n",
       "  </thead>\n",
       "  <tbody>\n",
       "    <tr>\n",
       "      <th>469</th>\n",
       "      <td>42710</td>\n",
       "      <td>3</td>\n",
       "      <td>Efficient synthesis of a 4-to-1 function in Ve...</td>\n",
       "      <td>&lt;p&gt;I need to implement a 4-to-1 function in Ve...</td>\n",
       "      <td>I need to implement a 4-to-1 function in Verio...</td>\n",
       "      <td>[need, implement, function, Veriog, input, num...</td>\n",
       "      <td>0</td>\n",
       "    </tr>\n",
       "    <tr>\n",
       "      <th>579</th>\n",
       "      <td>51320</td>\n",
       "      <td>16</td>\n",
       "      <td>Find all drive letters in Java</td>\n",
       "      <td>&lt;p&gt;For a project I'm working on. I need to loo...</td>\n",
       "      <td>For a project I'm working on. I need to look f...</td>\n",
       "      <td>[project, work, need, look, executable, filesy...</td>\n",
       "      <td>0</td>\n",
       "    </tr>\n",
       "    <tr>\n",
       "      <th>1263</th>\n",
       "      <td>105710</td>\n",
       "      <td>13</td>\n",
       "      <td>What is a good functional language on which to...</td>\n",
       "      <td>&lt;p&gt;Is there a functional language that has goo...</td>\n",
       "      <td>Is there a functional language that has good s...</td>\n",
       "      <td>[functional, language, good, support, tool, bu...</td>\n",
       "      <td>1</td>\n",
       "    </tr>\n",
       "  </tbody>\n",
       "</table>\n",
       "</div>"
      ],
      "text/plain": [
       "          Id  Score                                              Title  \\\n",
       "469    42710      3  Efficient synthesis of a 4-to-1 function in Ve...   \n",
       "579    51320     16                     Find all drive letters in Java   \n",
       "1263  105710     13  What is a good functional language on which to...   \n",
       "\n",
       "                                                   Body  \\\n",
       "469   <p>I need to implement a 4-to-1 function in Ve...   \n",
       "579   <p>For a project I'm working on. I need to loo...   \n",
       "1263  <p>Is there a functional language that has goo...   \n",
       "\n",
       "                                              body_text  \\\n",
       "469   I need to implement a 4-to-1 function in Verio...   \n",
       "579   For a project I'm working on. I need to look f...   \n",
       "1263  Is there a functional language that has good s...   \n",
       "\n",
       "                                           cleaned_body  Closed  \n",
       "469   [need, implement, function, Veriog, input, num...       0  \n",
       "579   [project, work, need, look, executable, filesy...       0  \n",
       "1263  [functional, language, good, support, tool, bu...       1  "
      ]
     },
     "execution_count": 33,
     "metadata": {},
     "output_type": "execute_result"
    }
   ],
   "source": [
    "dataset[['Id', 'Score', 'Title', 'Body', 'body_text', 'cleaned_body', 'Closed']].sample(3, random_state=151)"
   ]
  },
  {
   "cell_type": "code",
   "execution_count": 34,
   "id": "78488b6d",
   "metadata": {},
   "outputs": [
    {
     "data": {
      "text/plain": [
       "'<p>I was looking out for a free plugin for developing/debugging JSP pages in eclipse.<br />\\nAny suggestions? </p>\\n'"
      ]
     },
     "execution_count": 34,
     "metadata": {},
     "output_type": "execute_result"
    }
   ],
   "source": [
    "dataset['Body'].iloc[469]"
   ]
  },
  {
   "cell_type": "code",
   "execution_count": 35,
   "id": "48148e95",
   "metadata": {},
   "outputs": [
    {
     "data": {
      "text/plain": [
       "'I was looking out for a free plugin for developing/debugging JSP pages in eclipse.\\nAny suggestions? \\n'"
      ]
     },
     "execution_count": 35,
     "metadata": {},
     "output_type": "execute_result"
    }
   ],
   "source": [
    "dataset['body_text'].iloc[469]"
   ]
  },
  {
   "cell_type": "code",
   "execution_count": 36,
   "id": "aae8d6ab",
   "metadata": {
    "scrolled": true
   },
   "outputs": [
    {
     "data": {
      "text/plain": [
       "['look', 'free', 'plugin', 'develop', 'debug', 'page', 'eclipse', 'suggestion']"
      ]
     },
     "execution_count": 36,
     "metadata": {},
     "output_type": "execute_result"
    }
   ],
   "source": [
    "dataset['cleaned_body'].iloc[469]"
   ]
  },
  {
   "cell_type": "markdown",
   "id": "caa785f4",
   "metadata": {},
   "source": [
    "## Now back to the Bag of Words bits"
   ]
  },
  {
   "cell_type": "code",
   "execution_count": 37,
   "id": "11a561f7",
   "metadata": {},
   "outputs": [],
   "source": [
    "from sklearn.feature_extraction.text import CountVectorizer"
   ]
  },
  {
   "cell_type": "code",
   "execution_count": 38,
   "id": "3929afdc",
   "metadata": {},
   "outputs": [
    {
     "name": "stdout",
     "output_type": "stream",
     "text": [
      "['ABCDE' 'ABCDEFGHIJKLMNOPQRSTUVWXYZ' 'AClass' ... 'zone' 'zoom' 'zooming']\n"
     ]
    },
    {
     "data": {
      "text/plain": [
       "9939"
      ]
     },
     "execution_count": 38,
     "metadata": {},
     "output_type": "execute_result"
    }
   ],
   "source": [
    "onegram_converter = CountVectorizer(tokenizer=lambda doc: doc, lowercase=False)  # this is the name of the model, so we're just making the object\n",
    "\n",
    "x = onegram_converter.fit_transform(dataset['cleaned_body'])     # we fit the model to our words\n",
    "\n",
    "words = onegram_converter.get_feature_names_out()       # \"words\" is now a list of all the words in our document\n",
    "\n",
    "print(words)                                           # this would print all the unique words in our document\n",
    "len(words)                                              # this is the number of unique words in our document"
   ]
  },
  {
   "cell_type": "code",
   "execution_count": 39,
   "id": "b7835d2c",
   "metadata": {},
   "outputs": [
    {
     "name": "stdout",
     "output_type": "stream",
     "text": [
      "['ABCDE time' 'ABCDEFGHIJKLMNOPQRSTUVWXYZ field_size' 'AClass DoSomething'\n",
      " ... 'zoom slider' 'zooming comment' 'zooming want']\n"
     ]
    },
    {
     "data": {
      "text/plain": [
       "49863"
      ]
     },
     "execution_count": 39,
     "metadata": {},
     "output_type": "execute_result"
    }
   ],
   "source": [
    "twogram_converter = CountVectorizer(tokenizer=lambda doc: doc, ngram_range=[2,2], lowercase=False)                                                        \n",
    "x2 = twogram_converter.fit_transform(dataset['cleaned_body'])         \n",
    "\n",
    "bigrams = twogram_converter.get_feature_names_out()       # \"bigrams\" is now a list of all the 2-word combinations in our document\n",
    "\n",
    "print(bigrams)                                           # this would print all the unique 2-words in our document\n",
    "len(bigrams)    "
   ]
  },
  {
   "cell_type": "code",
   "execution_count": 40,
   "id": "9b8bc9da",
   "metadata": {},
   "outputs": [
    {
     "name": "stdout",
     "output_type": "stream",
     "text": [
      "['ABCDE time year' 'ABCDEFGHIJKLMNOPQRSTUVWXYZ field_size medium'\n",
      " 'AClass DoSomething Start' ... 'zoom slider overview'\n",
      " 'zooming comment suggestion' 'zooming want great']\n"
     ]
    },
    {
     "data": {
      "text/plain": [
       "55945"
      ]
     },
     "execution_count": 40,
     "metadata": {},
     "output_type": "execute_result"
    }
   ],
   "source": [
    "threegram_converter = CountVectorizer(tokenizer=lambda doc: doc, ngram_range=[3,3], lowercase=False)                                                        \n",
    "x3 = threegram_converter.fit_transform(dataset['cleaned_body'])         \n",
    "\n",
    "trigrams = threegram_converter.get_feature_names_out()       # \"trigrams\" is now a list of all the 3-word combinations in our document\n",
    "\n",
    "print(trigrams)                                           # this would print all the unique 3-words in our document\n",
    "len(trigrams)    "
   ]
  },
  {
   "cell_type": "markdown",
   "id": "7fb5b1c6",
   "metadata": {},
   "source": [
    "# Onward to actually doing the data science bit"
   ]
  },
  {
   "cell_type": "markdown",
   "id": "e9c9a792",
   "metadata": {},
   "source": [
    "## Bag of Words"
   ]
  },
  {
   "cell_type": "code",
   "execution_count": 41,
   "id": "8f415f40",
   "metadata": {},
   "outputs": [],
   "source": [
    "from sklearn.linear_model import LogisticRegression\n",
    "import sklearn.model_selection\n",
    "import sklearn.preprocessing as preproc\n",
    "from sklearn.feature_extraction import text"
   ]
  },
  {
   "cell_type": "code",
   "execution_count": 42,
   "id": "a61b040e",
   "metadata": {},
   "outputs": [],
   "source": [
    "training_data, test_data = sklearn.model_selection.train_test_split(dataset.copy(), shuffle=True, \n",
    "                                                                    test_size = 0.3, random_state=961,\n",
    "                                                                    stratify = dataset.Closed)"
   ]
  },
  {
   "cell_type": "code",
   "execution_count": 43,
   "id": "94061308",
   "metadata": {},
   "outputs": [
    {
     "name": "stdout",
     "output_type": "stream",
     "text": [
      "(1050, 12)\n",
      "(450, 12)\n"
     ]
    }
   ],
   "source": [
    "print(training_data.shape)\n",
    "print(test_data.shape)"
   ]
  },
  {
   "cell_type": "markdown",
   "id": "c72e6b7e",
   "metadata": {},
   "source": [
    "Note that the stratify keyword preserves the number of 'Closed' questions in the training and test sets."
   ]
  },
  {
   "cell_type": "code",
   "execution_count": 44,
   "id": "587ebbd6",
   "metadata": {},
   "outputs": [
    {
     "name": "stdout",
     "output_type": "stream",
     "text": [
      "Ratio of closed to open in all:\n",
      " 0    0.666667\n",
      "1    0.333333\n",
      "Name: Closed, dtype: float64\n",
      "Ratio in training data:\n",
      " 0    0.666667\n",
      "1    0.333333\n",
      "Name: Closed, dtype: float64\n",
      "Ratio in test data:\n",
      " 0    0.666667\n",
      "1    0.333333\n",
      "Name: Closed, dtype: float64\n"
     ]
    }
   ],
   "source": [
    "print(\"Ratio of closed to open in all:\\n\", dataset.Closed.value_counts(normalize=True))\n",
    "print(\"Ratio in training data:\\n\", training_data.Closed.value_counts(normalize=True))\n",
    "print(\"Ratio in test data:\\n\", test_data.Closed.value_counts(normalize=True))"
   ]
  },
  {
   "cell_type": "markdown",
   "id": "56fc5b70",
   "metadata": {},
   "source": [
    "Make the model and fit it. Here, I'm just making a bag of words (and not a bag of n-grams)."
   ]
  },
  {
   "cell_type": "code",
   "execution_count": 45,
   "id": "c8ccfa5c",
   "metadata": {},
   "outputs": [],
   "source": [
    "bow_transform = CountVectorizer(tokenizer=lambda doc: doc, ngram_range=[1,1], lowercase=False) "
   ]
  },
  {
   "cell_type": "code",
   "execution_count": 46,
   "id": "4a7b9827",
   "metadata": {},
   "outputs": [],
   "source": [
    "X_tr_bow = bow_transform.fit_transform(training_data['cleaned_body'])"
   ]
  },
  {
   "cell_type": "markdown",
   "id": "601f49fc",
   "metadata": {},
   "source": [
    "Check the number of unique words. Note it's smaller than the onegram above because the model has only seen the questions from the training set."
   ]
  },
  {
   "cell_type": "code",
   "execution_count": 47,
   "id": "b08fb25d",
   "metadata": {},
   "outputs": [
    {
     "data": {
      "text/plain": [
       "7872"
      ]
     },
     "execution_count": 47,
     "metadata": {},
     "output_type": "execute_result"
    }
   ],
   "source": [
    "len(bow_transform.vocabulary_)"
   ]
  },
  {
   "cell_type": "markdown",
   "id": "769efce1",
   "metadata": {},
   "source": [
    "This method shows us the actual \"words\" we've put in the bag."
   ]
  },
  {
   "cell_type": "code",
   "execution_count": 48,
   "id": "c2434547",
   "metadata": {},
   "outputs": [
    {
     "data": {
      "text/plain": [
       "array(['ABCDEFGHIJKLMNOPQRSTUVWXYZ', 'AClass', 'ADONET', ..., 'zone',\n",
       "       'zoom', 'zooming'], dtype=object)"
      ]
     },
     "execution_count": 48,
     "metadata": {},
     "output_type": "execute_result"
    }
   ],
   "source": [
    "bow_transform.get_feature_names_out()"
   ]
  },
  {
   "cell_type": "markdown",
   "id": "fc10fe3b",
   "metadata": {},
   "source": [
    "And this methods shows us how to map from a word to the index in the bag \"array\" where that word appears, e.g. 'write' appears at index 16350."
   ]
  },
  {
   "cell_type": "code",
   "execution_count": 49,
   "id": "2ab721de",
   "metadata": {},
   "outputs": [
    {
     "name": "stdout",
     "output_type": "stream",
     "text": [
      "{'time': 7271, 'value': 7590, 'type': 7396, 'datetimetime': 3203, 'want': 7686, 'find': 3925, 'difference': 3378, 'obvious': 5529, 'thing': 7219, 'work': 7775}\n"
     ]
    }
   ],
   "source": [
    "first10pairs = {k: bow_transform.vocabulary_[k] for k in list(bow_transform.vocabulary_)[:10]}\n",
    "\n",
    "print(first10pairs)"
   ]
  },
  {
   "cell_type": "markdown",
   "id": "7b7e0077",
   "metadata": {},
   "source": [
    "This should be the shape of all our data, I think. Here, 1050 rows (with one row for each StackOverflow question) and 7872 colums (one column for each word in our vocabulary -- so either a zero or a one, depending on if the word appears in the question)."
   ]
  },
  {
   "cell_type": "code",
   "execution_count": 50,
   "id": "33282978",
   "metadata": {},
   "outputs": [
    {
     "data": {
      "text/plain": [
       "(1050, 7872)"
      ]
     },
     "execution_count": 50,
     "metadata": {},
     "output_type": "execute_result"
    }
   ],
   "source": [
    "X_tr_bow.shape"
   ]
  },
  {
   "cell_type": "code",
   "execution_count": 51,
   "id": "d2eb7d83",
   "metadata": {},
   "outputs": [
    {
     "data": {
      "text/plain": [
       "array([[0, 0, 0, ..., 0, 0, 0],\n",
       "       [0, 0, 0, ..., 0, 0, 0],\n",
       "       [0, 0, 0, ..., 0, 0, 0],\n",
       "       ...,\n",
       "       [0, 0, 0, ..., 0, 0, 0],\n",
       "       [0, 0, 0, ..., 0, 0, 0],\n",
       "       [0, 0, 0, ..., 0, 0, 0]], dtype=int64)"
      ]
     },
     "execution_count": 51,
     "metadata": {},
     "output_type": "execute_result"
    }
   ],
   "source": [
    "X_tr_bow.toarray()"
   ]
  },
  {
   "cell_type": "markdown",
   "id": "b4feca39",
   "metadata": {},
   "source": [
    "I was unable to find an easy way to get a list of words and their frequencies out, but this approach was given as an answer on a StackOverflow question:"
   ]
  },
  {
   "cell_type": "code",
   "execution_count": 52,
   "id": "a9e48508",
   "metadata": {},
   "outputs": [
    {
     "name": "stdout",
     "output_type": "stream",
     "text": [
      "[('like', 465), ('file', 350), ('work', 345), ('code', 330), ('application', 299), ('need', 282), ('want', 276), ('know', 251), ('look', 240), ('good', 238), ('server', 211), ('user', 210), ('class', 204), ('find', 200), ('time', 190), ('page', 188), ('question', 173), ('problem', 171), ('write', 165), ('project', 163)]\n"
     ]
    }
   ],
   "source": [
    "freqs = zip(bow_transform.get_feature_names_out(), X_tr_bow.sum(axis=0).tolist()[0])    \n",
    "# sort from largest to smallest\n",
    "freqs_sort = sorted(freqs, key=lambda x: -x[1])\n",
    "\n",
    "print(freqs_sort[0:20])"
   ]
  },
  {
   "cell_type": "markdown",
   "id": "46e5662d",
   "metadata": {},
   "source": [
    "I think this means \"like\" appears 465 times in our questions, \"file\" 350 times in our questions, \"work\" 345 times, etc."
   ]
  },
  {
   "cell_type": "code",
   "execution_count": 53,
   "id": "c088efa4",
   "metadata": {},
   "outputs": [],
   "source": [
    "X_te_bow = bow_transform.transform(test_data['cleaned_body'])"
   ]
  },
  {
   "cell_type": "code",
   "execution_count": 54,
   "id": "d2130f96",
   "metadata": {},
   "outputs": [],
   "source": [
    "y_tr = training_data['Closed']\n",
    "y_te = test_data['Closed']"
   ]
  },
  {
   "cell_type": "code",
   "execution_count": null,
   "id": "18792f4f",
   "metadata": {},
   "outputs": [],
   "source": []
  },
  {
   "cell_type": "markdown",
   "id": "5d40dc21",
   "metadata": {},
   "source": [
    "## Text-frequency, inverse document frequency (TF-IDF) bits"
   ]
  },
  {
   "cell_type": "code",
   "execution_count": 55,
   "id": "76463547",
   "metadata": {},
   "outputs": [],
   "source": [
    "tfidf_transform = text.TfidfTransformer(norm=None)\n",
    "X_tr_tfidf_fit = tfidf_transform.fit(X_tr_bow)"
   ]
  },
  {
   "cell_type": "markdown",
   "id": "7430f174",
   "metadata": {},
   "source": [
    "Double check how many \"features\" (words) went into the tf-idf counting."
   ]
  },
  {
   "cell_type": "code",
   "execution_count": 56,
   "id": "32b35353",
   "metadata": {},
   "outputs": [
    {
     "data": {
      "text/plain": [
       "7872"
      ]
     },
     "execution_count": 56,
     "metadata": {},
     "output_type": "execute_result"
    }
   ],
   "source": [
    "tfidf_transform.n_features_in_"
   ]
  },
  {
   "cell_type": "code",
   "execution_count": 57,
   "id": "f05a5af6",
   "metadata": {},
   "outputs": [
    {
     "data": {
      "text/html": [
       "<div>\n",
       "<style scoped>\n",
       "    .dataframe tbody tr th:only-of-type {\n",
       "        vertical-align: middle;\n",
       "    }\n",
       "\n",
       "    .dataframe tbody tr th {\n",
       "        vertical-align: top;\n",
       "    }\n",
       "\n",
       "    .dataframe thead th {\n",
       "        text-align: right;\n",
       "    }\n",
       "</style>\n",
       "<table border=\"1\" class=\"dataframe\">\n",
       "  <thead>\n",
       "    <tr style=\"text-align: right;\">\n",
       "      <th></th>\n",
       "      <th>idf_weights</th>\n",
       "    </tr>\n",
       "  </thead>\n",
       "  <tbody>\n",
       "    <tr>\n",
       "      <th>like</th>\n",
       "      <td>2.167537</td>\n",
       "    </tr>\n",
       "    <tr>\n",
       "      <th>work</th>\n",
       "      <td>2.456239</td>\n",
       "    </tr>\n",
       "    <tr>\n",
       "      <th>want</th>\n",
       "      <td>2.577600</td>\n",
       "    </tr>\n",
       "    <tr>\n",
       "      <th>know</th>\n",
       "      <td>2.605639</td>\n",
       "    </tr>\n",
       "    <tr>\n",
       "      <th>code</th>\n",
       "      <td>2.634487</td>\n",
       "    </tr>\n",
       "    <tr>\n",
       "      <th>...</th>\n",
       "      <td>...</td>\n",
       "    </tr>\n",
       "    <tr>\n",
       "      <th>coffee</th>\n",
       "      <td>7.264350</td>\n",
       "    </tr>\n",
       "    <tr>\n",
       "      <th>codez</th>\n",
       "      <td>7.264350</td>\n",
       "    </tr>\n",
       "    <tr>\n",
       "      <th>codec</th>\n",
       "      <td>7.264350</td>\n",
       "    </tr>\n",
       "    <tr>\n",
       "      <th>collisions</th>\n",
       "      <td>7.264350</td>\n",
       "    </tr>\n",
       "    <tr>\n",
       "      <th>finicky</th>\n",
       "      <td>7.264350</td>\n",
       "    </tr>\n",
       "  </tbody>\n",
       "</table>\n",
       "<p>7872 rows × 1 columns</p>\n",
       "</div>"
      ],
      "text/plain": [
       "            idf_weights\n",
       "like           2.167537\n",
       "work           2.456239\n",
       "want           2.577600\n",
       "know           2.605639\n",
       "code           2.634487\n",
       "...                 ...\n",
       "coffee         7.264350\n",
       "codez          7.264350\n",
       "codec          7.264350\n",
       "collisions     7.264350\n",
       "finicky        7.264350\n",
       "\n",
       "[7872 rows x 1 columns]"
      ]
     },
     "execution_count": 57,
     "metadata": {},
     "output_type": "execute_result"
    }
   ],
   "source": [
    "df_idf = pd.DataFrame(X_tr_tfidf_fit.idf_, index=bow_transform.get_feature_names_out(), columns=[\"idf_weights\"])\n",
    "df_idf.sort_values(by=['idf_weights'])"
   ]
  },
  {
   "cell_type": "markdown",
   "id": "5ebf27e1",
   "metadata": {},
   "source": [
    "A lower idf (inverse document frequency) means the word appears frequently across all documents (and thus isn't very unique). A higher idf means the word appears less frequently across documents (and so the word is being used in a more unique context)."
   ]
  },
  {
   "cell_type": "code",
   "execution_count": 58,
   "id": "e490d408",
   "metadata": {},
   "outputs": [],
   "source": [
    "tf_idf_vector = tfidf_transform.transform(X_tr_bow)"
   ]
  },
  {
   "cell_type": "code",
   "execution_count": null,
   "id": "73f7dbfb",
   "metadata": {},
   "outputs": [],
   "source": []
  },
  {
   "cell_type": "code",
   "execution_count": 60,
   "id": "c8618f48",
   "metadata": {},
   "outputs": [
    {
     "data": {
      "text/html": [
       "<div>\n",
       "<style scoped>\n",
       "    .dataframe tbody tr th:only-of-type {\n",
       "        vertical-align: middle;\n",
       "    }\n",
       "\n",
       "    .dataframe tbody tr th {\n",
       "        vertical-align: top;\n",
       "    }\n",
       "\n",
       "    .dataframe thead th {\n",
       "        text-align: right;\n",
       "    }\n",
       "</style>\n",
       "<table border=\"1\" class=\"dataframe\">\n",
       "  <thead>\n",
       "    <tr style=\"text-align: right;\">\n",
       "      <th></th>\n",
       "      <th>tfidf</th>\n",
       "    </tr>\n",
       "  </thead>\n",
       "  <tbody>\n",
       "    <tr>\n",
       "      <th>IHttpHandler</th>\n",
       "      <td>7.264350</td>\n",
       "    </tr>\n",
       "    <tr>\n",
       "      <th>ashx</th>\n",
       "      <td>7.264350</td>\n",
       "    </tr>\n",
       "    <tr>\n",
       "      <th>conflict</th>\n",
       "      <td>6.571203</td>\n",
       "    </tr>\n",
       "    <tr>\n",
       "      <th>naming</th>\n",
       "      <td>6.348059</td>\n",
       "    </tr>\n",
       "    <tr>\n",
       "      <th>wire</th>\n",
       "      <td>6.348059</td>\n",
       "    </tr>\n",
       "    <tr>\n",
       "      <th>inherit</th>\n",
       "      <td>5.654912</td>\n",
       "    </tr>\n",
       "    <tr>\n",
       "      <th>extension</th>\n",
       "      <td>5.249447</td>\n",
       "    </tr>\n",
       "    <tr>\n",
       "      <th>matter</th>\n",
       "      <td>5.067126</td>\n",
       "    </tr>\n",
       "    <tr>\n",
       "      <th>aspnet</th>\n",
       "      <td>4.822003</td>\n",
       "    </tr>\n",
       "    <tr>\n",
       "      <th>long</th>\n",
       "      <td>4.086296</td>\n",
       "    </tr>\n",
       "    <tr>\n",
       "      <th>class</th>\n",
       "      <td>3.468861</td>\n",
       "    </tr>\n",
       "    <tr>\n",
       "      <th>build</th>\n",
       "      <td>3.446638</td>\n",
       "    </tr>\n",
       "  </tbody>\n",
       "</table>\n",
       "</div>"
      ],
      "text/plain": [
       "                 tfidf\n",
       "IHttpHandler  7.264350\n",
       "ashx          7.264350\n",
       "conflict      6.571203\n",
       "naming        6.348059\n",
       "wire          6.348059\n",
       "inherit       5.654912\n",
       "extension     5.249447\n",
       "matter        5.067126\n",
       "aspnet        4.822003\n",
       "long          4.086296\n",
       "class         3.468861\n",
       "build         3.446638"
      ]
     },
     "execution_count": 60,
     "metadata": {},
     "output_type": "execute_result"
    }
   ],
   "source": [
    "indiv_document_vector = tf_idf_vector[3]\n",
    "df = pd.DataFrame(indiv_document_vector.T.todense(), index=bow_transform.get_feature_names_out(), columns=['tfidf'])\n",
    "df.sort_values(by=[\"tfidf\"], ascending=False)[0:12]"
   ]
  },
  {
   "cell_type": "code",
   "execution_count": 61,
   "id": "e0bc6d6e",
   "metadata": {},
   "outputs": [
    {
     "data": {
      "text/plain": [
       "<1x7872 sparse matrix of type '<class 'numpy.int64'>'\n",
       "\twith 12 stored elements in Compressed Sparse Row format>"
      ]
     },
     "execution_count": 61,
     "metadata": {},
     "output_type": "execute_result"
    }
   ],
   "source": [
    "X_tr_bow[3]"
   ]
  },
  {
   "cell_type": "markdown",
   "id": "bc6b5ee6",
   "metadata": {},
   "source": [
    "The above table means (I think) there are twelve words in this particular question from the training data. Those words tfidf values gives a sense of how important the words in that question are compared to all the other questions in the training data. Tfidf multiplies tf by idf, so high tf (word appears in a lot of questions) multiplied by high idf (word is more unique) yields high tfidf, meaning the word is really important. "
   ]
  },
  {
   "cell_type": "code",
   "execution_count": null,
   "id": "0dae813d",
   "metadata": {},
   "outputs": [],
   "source": []
  },
  {
   "cell_type": "markdown",
   "id": "e360a615",
   "metadata": {},
   "source": [
    "Okay, now let's finish the actual setup for the tfidf bits."
   ]
  },
  {
   "cell_type": "code",
   "execution_count": 62,
   "id": "e1c891fa",
   "metadata": {},
   "outputs": [],
   "source": [
    "tfidf_transform = text.TfidfTransformer(norm=None)\n",
    "X_tr_tfidf = tfidf_transform.fit_transform(X_tr_bow)"
   ]
  },
  {
   "cell_type": "code",
   "execution_count": 63,
   "id": "cc57332f",
   "metadata": {},
   "outputs": [],
   "source": [
    "X_te_tfidf = tfidf_transform.transform(X_te_bow)"
   ]
  },
  {
   "cell_type": "markdown",
   "id": "6874efcb",
   "metadata": {},
   "source": [
    "## And now for the logistic regression"
   ]
  },
  {
   "cell_type": "code",
   "execution_count": 64,
   "id": "aacb7b41",
   "metadata": {},
   "outputs": [],
   "source": [
    "def simple_logistic_classify(X_tr, y_tr, X_test, y_test, description, _C=1.0):\n",
    "    model = LogisticRegression(C=_C, max_iter=1000).fit(X_tr, y_tr)\n",
    "    score = model.score(X_test, y_test)\n",
    "    print('Test Score with', description, 'features', score)\n",
    "    return model"
   ]
  },
  {
   "cell_type": "code",
   "execution_count": 65,
   "id": "97c2926e",
   "metadata": {},
   "outputs": [
    {
     "name": "stdout",
     "output_type": "stream",
     "text": [
      "Test Score with bow features 0.7266666666666667\n",
      "Test Score with tf-idf features 0.7155555555555555\n"
     ]
    }
   ],
   "source": [
    "model_bow = simple_logistic_classify(X_tr_bow, y_tr, X_te_bow, y_te, 'bow')\n",
    "model_tfidf = simple_logistic_classify(X_tr_tfidf, y_tr, X_te_tfidf, y_te, 'tf-idf')"
   ]
  },
  {
   "cell_type": "markdown",
   "id": "7aa1ef02",
   "metadata": {},
   "source": [
    "From the documentation for LogisticRegression, 'score' returns the mean accuracy on the given test data and labels. Given that the mean accuracy is higher for bag of words' features, I think this means the important features from bag of words (the words that appear the most number of times) are slightly better at predicting if a question is closed than the important features from tfidf."
   ]
  },
  {
   "cell_type": "markdown",
   "id": "e8a01502",
   "metadata": {},
   "source": [
    "We can also look at the confusion matrix (TO DO: look at the associated parts here (recall, precision, etc.))"
   ]
  },
  {
   "cell_type": "code",
   "execution_count": 69,
   "id": "7d2a2a42",
   "metadata": {},
   "outputs": [],
   "source": [
    "y_bow_train_pred = model_bow.predict(X_tr_bow)"
   ]
  },
  {
   "cell_type": "markdown",
   "id": "e571a96d",
   "metadata": {},
   "source": [
    "Let's just check to make sure they aren't all predicted to be closed or all open."
   ]
  },
  {
   "cell_type": "code",
   "execution_count": 84,
   "id": "741c9beb",
   "metadata": {},
   "outputs": [
    {
     "data": {
      "text/plain": [
       "array([0, 1, 0, 0, 0, 1, 0, 0, 0, 1, 1, 1, 1, 0, 0, 0, 1, 1, 0, 0],\n",
       "      dtype=int64)"
      ]
     },
     "execution_count": 84,
     "metadata": {},
     "output_type": "execute_result"
    }
   ],
   "source": [
    "y_bow_train_pred[0:20]"
   ]
  },
  {
   "cell_type": "code",
   "execution_count": 70,
   "id": "7e6df3f0",
   "metadata": {},
   "outputs": [],
   "source": [
    "from sklearn.metrics import confusion_matrix"
   ]
  },
  {
   "cell_type": "code",
   "execution_count": 71,
   "id": "af69bb52",
   "metadata": {},
   "outputs": [
    {
     "data": {
      "text/plain": [
       "array([[700,   0],\n",
       "       [  7, 343]], dtype=int64)"
      ]
     },
     "execution_count": 71,
     "metadata": {},
     "output_type": "execute_result"
    }
   ],
   "source": [
    "confusion_matrix(y_tr, y_bow_train_pred)"
   ]
  },
  {
   "cell_type": "markdown",
   "id": "0cb1357c",
   "metadata": {},
   "source": [
    "We can vary the C parameter in the logistic regression to make sure we aren't overfitting (I think?). I had to include a max_iter on LogisticRegression() here (on both searches) because the default max_iter=100 wasn't converging. Uncertain how/if this will need to change for the larger dataset."
   ]
  },
  {
   "cell_type": "code",
   "execution_count": 72,
   "id": "35fb466b",
   "metadata": {},
   "outputs": [],
   "source": [
    "param_grid_ = {'C': [1e-5, 1e-3, 1e-1, 1e0, 1e1, 1e2]}\n",
    "bow_search = sklearn.model_selection.GridSearchCV(LogisticRegression(max_iter=1000), cv=5, param_grid=param_grid_)\n",
    "tfidf_search = sklearn.model_selection.GridSearchCV(LogisticRegression(max_iter=1000), cv=5,\n",
    "                                   param_grid=param_grid_)"
   ]
  },
  {
   "cell_type": "code",
   "execution_count": 73,
   "id": "d98c6601",
   "metadata": {},
   "outputs": [
    {
     "data": {
      "text/plain": [
       "GridSearchCV(cv=5, estimator=LogisticRegression(max_iter=1000),\n",
       "             param_grid={'C': [1e-05, 0.001, 0.1, 1.0, 10.0, 100.0]})"
      ]
     },
     "execution_count": 73,
     "metadata": {},
     "output_type": "execute_result"
    }
   ],
   "source": [
    "bow_search.fit(X_tr_bow, y_tr)"
   ]
  },
  {
   "cell_type": "code",
   "execution_count": 74,
   "id": "efd71210",
   "metadata": {},
   "outputs": [
    {
     "data": {
      "text/plain": [
       "0.7228571428571429"
      ]
     },
     "execution_count": 74,
     "metadata": {},
     "output_type": "execute_result"
    }
   ],
   "source": [
    "bow_search.best_score_"
   ]
  },
  {
   "cell_type": "code",
   "execution_count": 75,
   "id": "0449b471",
   "metadata": {},
   "outputs": [
    {
     "data": {
      "text/plain": [
       "GridSearchCV(cv=5, estimator=LogisticRegression(max_iter=1000),\n",
       "             param_grid={'C': [1e-05, 0.001, 0.1, 1.0, 10.0, 100.0]})"
      ]
     },
     "execution_count": 75,
     "metadata": {},
     "output_type": "execute_result"
    }
   ],
   "source": [
    "tfidf_search.fit(X_tr_tfidf, y_tr)"
   ]
  },
  {
   "cell_type": "code",
   "execution_count": 76,
   "id": "878809aa",
   "metadata": {},
   "outputs": [
    {
     "data": {
      "text/plain": [
       "0.6980952380952381"
      ]
     },
     "execution_count": 76,
     "metadata": {},
     "output_type": "execute_result"
    }
   ],
   "source": [
    "tfidf_search.best_score_"
   ]
  },
  {
   "cell_type": "code",
   "execution_count": 77,
   "id": "7d3c4acd",
   "metadata": {},
   "outputs": [
    {
     "data": {
      "text/plain": [
       "{'C': 0.1}"
      ]
     },
     "execution_count": 77,
     "metadata": {},
     "output_type": "execute_result"
    }
   ],
   "source": [
    "bow_search.best_params_"
   ]
  },
  {
   "cell_type": "code",
   "execution_count": 78,
   "id": "88c7781e",
   "metadata": {},
   "outputs": [
    {
     "data": {
      "text/plain": [
       "{'C': 0.1}"
      ]
     },
     "execution_count": 78,
     "metadata": {},
     "output_type": "execute_result"
    }
   ],
   "source": [
    "tfidf_search.best_params_"
   ]
  },
  {
   "cell_type": "markdown",
   "id": "df740db2",
   "metadata": {},
   "source": [
    "Both of the models have the same 'best score' and the same best C parameter, which gives me some pause. The C parameter is also quite small, meaning there's a lot of regularization..."
   ]
  },
  {
   "cell_type": "code",
   "execution_count": 79,
   "id": "2af2019e",
   "metadata": {},
   "outputs": [
    {
     "data": {
      "text/plain": [
       "{'mean_fit_time': array([0.03759918, 0.01595712, 0.02912202, 0.0622436 , 0.06841536,\n",
       "        0.0684526 ]),\n",
       " 'std_fit_time': array([0.03488347, 0.00063068, 0.0017158 , 0.02596295, 0.00735105,\n",
       "        0.00222972]),\n",
       " 'mean_score_time': array([0.00020051, 0.00039907, 0.00079799, 0.00039482, 0.00039272,\n",
       "        0.00059958]),\n",
       " 'std_score_time': array([0.00040102, 0.00048875, 0.00039899, 0.00048361, 0.00048109,\n",
       "        0.00048955]),\n",
       " 'param_C': masked_array(data=[1e-05, 0.001, 0.1, 1.0, 10.0, 100.0],\n",
       "              mask=[False, False, False, False, False, False],\n",
       "        fill_value='?',\n",
       "             dtype=object),\n",
       " 'params': [{'C': 1e-05},\n",
       "  {'C': 0.001},\n",
       "  {'C': 0.1},\n",
       "  {'C': 1.0},\n",
       "  {'C': 10.0},\n",
       "  {'C': 100.0}],\n",
       " 'split0_test_score': array([0.66666667, 0.66666667, 0.70952381, 0.68571429, 0.66666667,\n",
       "        0.63809524]),\n",
       " 'split1_test_score': array([0.66666667, 0.66666667, 0.72380952, 0.7       , 0.6952381 ,\n",
       "        0.6952381 ]),\n",
       " 'split2_test_score': array([0.66666667, 0.66666667, 0.6952381 , 0.66666667, 0.64285714,\n",
       "        0.64285714]),\n",
       " 'split3_test_score': array([0.66666667, 0.66666667, 0.76190476, 0.74761905, 0.72380952,\n",
       "        0.7       ]),\n",
       " 'split4_test_score': array([0.66666667, 0.66666667, 0.72380952, 0.72380952, 0.71904762,\n",
       "        0.7047619 ]),\n",
       " 'mean_test_score': array([0.66666667, 0.66666667, 0.72285714, 0.7047619 , 0.68952381,\n",
       "        0.67619048]),\n",
       " 'std_test_score': array([0.        , 0.        , 0.02221315, 0.02841226, 0.0309194 ,\n",
       "        0.02935435]),\n",
       " 'rank_test_score': array([5, 5, 1, 2, 3, 4])}"
      ]
     },
     "execution_count": 79,
     "metadata": {},
     "output_type": "execute_result"
    }
   ],
   "source": [
    "bow_search.cv_results_"
   ]
  },
  {
   "cell_type": "code",
   "execution_count": 80,
   "id": "f094997a",
   "metadata": {},
   "outputs": [
    {
     "data": {
      "text/html": [
       "<div>\n",
       "<style scoped>\n",
       "    .dataframe tbody tr th:only-of-type {\n",
       "        vertical-align: middle;\n",
       "    }\n",
       "\n",
       "    .dataframe tbody tr th {\n",
       "        vertical-align: top;\n",
       "    }\n",
       "\n",
       "    .dataframe thead th {\n",
       "        text-align: right;\n",
       "    }\n",
       "</style>\n",
       "<table border=\"1\" class=\"dataframe\">\n",
       "  <thead>\n",
       "    <tr style=\"text-align: right;\">\n",
       "      <th></th>\n",
       "      <th>bow</th>\n",
       "      <th>tfidf</th>\n",
       "    </tr>\n",
       "  </thead>\n",
       "  <tbody>\n",
       "    <tr>\n",
       "      <th>0</th>\n",
       "      <td>0.666667</td>\n",
       "      <td>0.666667</td>\n",
       "    </tr>\n",
       "    <tr>\n",
       "      <th>1</th>\n",
       "      <td>0.666667</td>\n",
       "      <td>0.686667</td>\n",
       "    </tr>\n",
       "    <tr>\n",
       "      <th>2</th>\n",
       "      <td>0.722857</td>\n",
       "      <td>0.698095</td>\n",
       "    </tr>\n",
       "    <tr>\n",
       "      <th>3</th>\n",
       "      <td>0.704762</td>\n",
       "      <td>0.678095</td>\n",
       "    </tr>\n",
       "    <tr>\n",
       "      <th>4</th>\n",
       "      <td>0.689524</td>\n",
       "      <td>0.665714</td>\n",
       "    </tr>\n",
       "    <tr>\n",
       "      <th>5</th>\n",
       "      <td>0.676190</td>\n",
       "      <td>0.660000</td>\n",
       "    </tr>\n",
       "  </tbody>\n",
       "</table>\n",
       "</div>"
      ],
      "text/plain": [
       "        bow     tfidf\n",
       "0  0.666667  0.666667\n",
       "1  0.666667  0.686667\n",
       "2  0.722857  0.698095\n",
       "3  0.704762  0.678095\n",
       "4  0.689524  0.665714\n",
       "5  0.676190  0.660000"
      ]
     },
     "execution_count": 80,
     "metadata": {},
     "output_type": "execute_result"
    }
   ],
   "source": [
    "search_results = pd.DataFrame.from_dict({'bow': bow_search.cv_results_['mean_test_score'],\n",
    "                               'tfidf': tfidf_search.cv_results_['mean_test_score']})\n",
    "search_results"
   ]
  },
  {
   "cell_type": "code",
   "execution_count": 81,
   "id": "d3bf13fd",
   "metadata": {},
   "outputs": [
    {
     "data": {
      "image/png": "[encoded data removed]",
      "text/plain": [
       "<Figure size 432x288 with 1 Axes>"
      ]
     },
     "metadata": {
      "needs_background": "light"
     },
     "output_type": "display_data"
    }
   ],
   "source": [
    "%matplotlib inline\n",
    "ax = sns.boxplot(data=search_results, width=0.4)\n",
    "ax.set_ylabel('Accuracy', size=14)\n",
    "ax.tick_params(labelsize=14)"
   ]
  },
  {
   "cell_type": "code",
   "execution_count": 82,
   "id": "508bf201",
   "metadata": {},
   "outputs": [
    {
     "name": "stdout",
     "output_type": "stream",
     "text": [
      "Test Score with bow features 0.7466666666666667\n",
      "Test Score with tf-idf features 0.74\n"
     ]
    }
   ],
   "source": [
    "model_bow = simple_logistic_classify(X_tr_bow, y_tr, X_te_bow, y_te, 'bow', \n",
    "                              _C=bow_search.best_params_['C'])\n",
    "model_tfidf = simple_logistic_classify(X_tr_tfidf, y_tr, X_te_tfidf, y_te, 'tf-idf', \n",
    "                              _C=tfidf_search.best_params_['C'])"
   ]
  },
  {
   "cell_type": "code",
   "execution_count": null,
   "id": "d9a88b31",
   "metadata": {},
   "outputs": [],
   "source": []
  },
  {
   "cell_type": "code",
   "execution_count": null,
   "id": "44fda990",
   "metadata": {},
   "outputs": [],
   "source": []
  },
  {
   "cell_type": "code",
   "execution_count": null,
   "id": "7b6eb474",
   "metadata": {},
   "outputs": [],
   "source": []
  }
 ],
 "metadata": {
  "kernelspec": {
   "display_name": "Python 3 (ipykernel)",
   "language": "python",
   "name": "python3"
  },
  "language_info": {
   "codemirror_mode": {
    "name": "ipython",
    "version": 3
   },
   "file_extension": ".py",
   "mimetype": "text/x-python",
   "name": "python",
   "nbconvert_exporter": "python",
   "pygments_lexer": "ipython3",
   "version": "3.8.5"
  }
 },
 "nbformat": 4,
 "nbformat_minor": 5
}
