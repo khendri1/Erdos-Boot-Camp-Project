{
 "cells": [
  {
   "cell_type": "markdown",
   "id": "3a7a847e",
   "metadata": {},
   "source": [
    "Jupyter notebook for project\n",
    "\n",
    "NLP applied to Kaggle dataset\n",
    "Dataset here:\n",
    "https://www.kaggle.com/datasets/stackoverflow/stacksample\n",
    "\n",
    "Relevant NLP example:\n",
    "https://github.com/Idilismiguzel/NLP-with-Python/blob/master/Text-Classification.ipynb\n",
    "\n",
    "Possible BERT reference:\n",
    "https://www.tensorflow.org/text/tutorials/classify_text_with_bert\n",
    "\n"
   ]
  },
  {
   "cell_type": "code",
   "execution_count": 1,
   "id": "48b39707",
   "metadata": {},
   "outputs": [],
   "source": [
    "import pandas as pd\n",
    "import numpy as np\n",
    "import matplotlib.pyplot as plt\n",
    "import seaborn as sns\n",
    "from seaborn import set_style\n",
    "\n",
    "set_style(\"whitegrid\")"
   ]
  },
  {
   "cell_type": "markdown",
   "id": "c40458a7",
   "metadata": {},
   "source": [
    "## Read in the data (part of it) and just look at it for a bit"
   ]
  },
  {
   "cell_type": "code",
   "execution_count": 2,
   "id": "153fa480",
   "metadata": {},
   "outputs": [],
   "source": [
    "questions = pd.read_csv(\"archive/Questions.csv\", encoding = \"ISO-8859-1\", nrows=5000)\n",
    "#answers = pd.read_csv(\"archive/Answers.csv\", encoding = \"ISO-8859-1\", nrows=5000)\n",
    "#tags = pd.read_csv(\"archive/Tags.csv\", encoding = \"ISO-8859-1\", nrows=5000)"
   ]
  },
  {
   "cell_type": "code",
   "execution_count": 3,
   "id": "8e92d241",
   "metadata": {},
   "outputs": [
    {
     "data": {
      "text/html": [
       "<div>\n",
       "<style scoped>\n",
       "    .dataframe tbody tr th:only-of-type {\n",
       "        vertical-align: middle;\n",
       "    }\n",
       "\n",
       "    .dataframe tbody tr th {\n",
       "        vertical-align: top;\n",
       "    }\n",
       "\n",
       "    .dataframe thead th {\n",
       "        text-align: right;\n",
       "    }\n",
       "</style>\n",
       "<table border=\"1\" class=\"dataframe\">\n",
       "  <thead>\n",
       "    <tr style=\"text-align: right;\">\n",
       "      <th></th>\n",
       "      <th>Id</th>\n",
       "      <th>OwnerUserId</th>\n",
       "      <th>CreationDate</th>\n",
       "      <th>ClosedDate</th>\n",
       "      <th>Score</th>\n",
       "      <th>Title</th>\n",
       "      <th>Body</th>\n",
       "    </tr>\n",
       "  </thead>\n",
       "  <tbody>\n",
       "    <tr>\n",
       "      <th>2439</th>\n",
       "      <td>194650</td>\n",
       "      <td>1384652.0</td>\n",
       "      <td>2008-10-11T21:08:57Z</td>\n",
       "      <td>NaN</td>\n",
       "      <td>7</td>\n",
       "      <td>2D Javascript array</td>\n",
       "      <td>&lt;p&gt;Simply put, is there a way to create a 2D j...</td>\n",
       "    </tr>\n",
       "    <tr>\n",
       "      <th>4573</th>\n",
       "      <td>326770</td>\n",
       "      <td>39975.0</td>\n",
       "      <td>2008-11-28T22:07:18Z</td>\n",
       "      <td>NaN</td>\n",
       "      <td>5</td>\n",
       "      <td>How can I dynamically get the set of classes f...</td>\n",
       "      <td>&lt;p&gt;I have a python module that defines a numbe...</td>\n",
       "    </tr>\n",
       "    <tr>\n",
       "      <th>2152</th>\n",
       "      <td>174380</td>\n",
       "      <td>25492.0</td>\n",
       "      <td>2008-10-06T13:55:30Z</td>\n",
       "      <td>NaN</td>\n",
       "      <td>3</td>\n",
       "      <td>Spring webflow : Move through view states</td>\n",
       "      <td>&lt;p&gt;Within a spring webflow, i need to implemen...</td>\n",
       "    </tr>\n",
       "    <tr>\n",
       "      <th>3689</th>\n",
       "      <td>274770</td>\n",
       "      <td>12252.0</td>\n",
       "      <td>2008-11-08T14:24:31Z</td>\n",
       "      <td>NaN</td>\n",
       "      <td>0</td>\n",
       "      <td>Session is lost with login control in Internet...</td>\n",
       "      <td>&lt;p&gt;After logging in using the Login control th...</td>\n",
       "    </tr>\n",
       "    <tr>\n",
       "      <th>3853</th>\n",
       "      <td>284090</td>\n",
       "      <td>6091.0</td>\n",
       "      <td>2008-11-12T14:26:00Z</td>\n",
       "      <td>NaN</td>\n",
       "      <td>5</td>\n",
       "      <td>How to get a ReadOnlyCollection&lt;T&gt; of the Keys...</td>\n",
       "      <td>&lt;p&gt;My class contains a &lt;code&gt;Dictionary&amp;lt;T, ...</td>\n",
       "    </tr>\n",
       "  </tbody>\n",
       "</table>\n",
       "</div>"
      ],
      "text/plain": [
       "          Id  OwnerUserId          CreationDate ClosedDate  Score  \\\n",
       "2439  194650    1384652.0  2008-10-11T21:08:57Z        NaN      7   \n",
       "4573  326770      39975.0  2008-11-28T22:07:18Z        NaN      5   \n",
       "2152  174380      25492.0  2008-10-06T13:55:30Z        NaN      3   \n",
       "3689  274770      12252.0  2008-11-08T14:24:31Z        NaN      0   \n",
       "3853  284090       6091.0  2008-11-12T14:26:00Z        NaN      5   \n",
       "\n",
       "                                                  Title  \\\n",
       "2439                                2D Javascript array   \n",
       "4573  How can I dynamically get the set of classes f...   \n",
       "2152          Spring webflow : Move through view states   \n",
       "3689  Session is lost with login control in Internet...   \n",
       "3853  How to get a ReadOnlyCollection<T> of the Keys...   \n",
       "\n",
       "                                                   Body  \n",
       "2439  <p>Simply put, is there a way to create a 2D j...  \n",
       "4573  <p>I have a python module that defines a numbe...  \n",
       "2152  <p>Within a spring webflow, i need to implemen...  \n",
       "3689  <p>After logging in using the Login control th...  \n",
       "3853  <p>My class contains a <code>Dictionary&lt;T, ...  "
      ]
     },
     "execution_count": 3,
     "metadata": {},
     "output_type": "execute_result"
    }
   ],
   "source": [
    "questions.sample(5, random_state=234)"
   ]
  },
  {
   "cell_type": "code",
   "execution_count": 4,
   "id": "98200dc9",
   "metadata": {},
   "outputs": [
    {
     "name": "stdout",
     "output_type": "stream",
     "text": [
      "<p>Simply put, is there a way to create a 2D javascript array using similar syntax to this?</p>\n",
      "\n",
      "<pre><code>var newArray = [\n",
      "    [0, 1, 2],\n",
      "    [3, 4, 5],\n",
      "    [6, 7, 8]\n",
      "]\n",
      "</code></pre>\n",
      "\n"
     ]
    }
   ],
   "source": [
    "print(questions.iloc[2439].Body)"
   ]
  },
  {
   "cell_type": "code",
   "execution_count": 112,
   "id": "b441e584",
   "metadata": {},
   "outputs": [],
   "source": [
    "#answers.sample(5,random_state=505)"
   ]
  },
  {
   "cell_type": "code",
   "execution_count": 113,
   "id": "ba167f92",
   "metadata": {},
   "outputs": [],
   "source": [
    "#print(answers.iloc[4162].Body)"
   ]
  },
  {
   "cell_type": "code",
   "execution_count": 114,
   "id": "9d6354f3",
   "metadata": {},
   "outputs": [],
   "source": [
    "#tags.sample(5, random_state=23)"
   ]
  },
  {
   "cell_type": "markdown",
   "id": "5e66b10a",
   "metadata": {},
   "source": [
    "## Confirm we actually read in as many rows as we thought, then count how many of those questions have been closed"
   ]
  },
  {
   "cell_type": "code",
   "execution_count": 5,
   "id": "aea725a7",
   "metadata": {},
   "outputs": [
    {
     "data": {
      "text/plain": [
       "5000"
      ]
     },
     "execution_count": 5,
     "metadata": {},
     "output_type": "execute_result"
    }
   ],
   "source": [
    "np.shape(questions)[0]"
   ]
  },
  {
   "cell_type": "code",
   "execution_count": 6,
   "id": "c16a179a",
   "metadata": {},
   "outputs": [
    {
     "name": "stdout",
     "output_type": "stream",
     "text": [
      "4618\n"
     ]
    }
   ],
   "source": [
    "count = 0\n",
    "for i in range(0,np.shape(questions)[0]):\n",
    "    if pd.isna(questions.iloc[i].ClosedDate):\n",
    "        count = count+1\n",
    "        \n",
    "print(count)"
   ]
  },
  {
   "cell_type": "code",
   "execution_count": 7,
   "id": "0c7d2296",
   "metadata": {},
   "outputs": [
    {
     "data": {
      "text/plain": [
       "382"
      ]
     },
     "execution_count": 7,
     "metadata": {},
     "output_type": "execute_result"
    }
   ],
   "source": [
    "np.shape(questions)[0] - count"
   ]
  },
  {
   "cell_type": "code",
   "execution_count": 8,
   "id": "7bc84f38",
   "metadata": {},
   "outputs": [
    {
     "name": "stderr",
     "output_type": "stream",
     "text": [
      "D:\\anaconda3\\lib\\site-packages\\pandas\\core\\indexing.py:1732: SettingWithCopyWarning: \n",
      "A value is trying to be set on a copy of a slice from a DataFrame\n",
      "\n",
      "See the caveats in the documentation: https://pandas.pydata.org/pandas-docs/stable/user_guide/indexing.html#returning-a-view-versus-a-copy\n",
      "  self._setitem_single_block(indexer, value, name)\n"
     ]
    },
    {
     "data": {
      "text/html": [
       "<div>\n",
       "<style scoped>\n",
       "    .dataframe tbody tr th:only-of-type {\n",
       "        vertical-align: middle;\n",
       "    }\n",
       "\n",
       "    .dataframe tbody tr th {\n",
       "        vertical-align: top;\n",
       "    }\n",
       "\n",
       "    .dataframe thead th {\n",
       "        text-align: right;\n",
       "    }\n",
       "</style>\n",
       "<table border=\"1\" class=\"dataframe\">\n",
       "  <thead>\n",
       "    <tr style=\"text-align: right;\">\n",
       "      <th></th>\n",
       "      <th>Id</th>\n",
       "      <th>OwnerUserId</th>\n",
       "      <th>CreationDate</th>\n",
       "      <th>ClosedDate</th>\n",
       "      <th>Score</th>\n",
       "      <th>Title</th>\n",
       "      <th>Body</th>\n",
       "      <th>Closed</th>\n",
       "    </tr>\n",
       "  </thead>\n",
       "  <tbody>\n",
       "    <tr>\n",
       "      <th>0</th>\n",
       "      <td>80</td>\n",
       "      <td>26.0</td>\n",
       "      <td>2008-08-01T13:57:07Z</td>\n",
       "      <td>NaN</td>\n",
       "      <td>26</td>\n",
       "      <td>SQLStatement.execute() - multiple queries in o...</td>\n",
       "      <td>&lt;p&gt;I've written a database generation script i...</td>\n",
       "      <td>0</td>\n",
       "    </tr>\n",
       "    <tr>\n",
       "      <th>1</th>\n",
       "      <td>90</td>\n",
       "      <td>58.0</td>\n",
       "      <td>2008-08-01T14:41:24Z</td>\n",
       "      <td>2012-12-26T03:45:49Z</td>\n",
       "      <td>144</td>\n",
       "      <td>Good branching and merging tutorials for Torto...</td>\n",
       "      <td>&lt;p&gt;Are there any really good tutorials explain...</td>\n",
       "      <td>1</td>\n",
       "    </tr>\n",
       "    <tr>\n",
       "      <th>2</th>\n",
       "      <td>120</td>\n",
       "      <td>83.0</td>\n",
       "      <td>2008-08-01T15:50:08Z</td>\n",
       "      <td>NaN</td>\n",
       "      <td>21</td>\n",
       "      <td>ASP.NET Site Maps</td>\n",
       "      <td>&lt;p&gt;Has anyone got experience creating &lt;strong&gt;...</td>\n",
       "      <td>0</td>\n",
       "    </tr>\n",
       "    <tr>\n",
       "      <th>3</th>\n",
       "      <td>180</td>\n",
       "      <td>2089740.0</td>\n",
       "      <td>2008-08-01T18:42:19Z</td>\n",
       "      <td>NaN</td>\n",
       "      <td>53</td>\n",
       "      <td>Function for creating color wheels</td>\n",
       "      <td>&lt;p&gt;This is something I've pseudo-solved many t...</td>\n",
       "      <td>0</td>\n",
       "    </tr>\n",
       "    <tr>\n",
       "      <th>4</th>\n",
       "      <td>260</td>\n",
       "      <td>91.0</td>\n",
       "      <td>2008-08-01T23:22:08Z</td>\n",
       "      <td>NaN</td>\n",
       "      <td>49</td>\n",
       "      <td>Adding scripting functionality to .NET applica...</td>\n",
       "      <td>&lt;p&gt;I have a little game written in C#. It uses...</td>\n",
       "      <td>0</td>\n",
       "    </tr>\n",
       "  </tbody>\n",
       "</table>\n",
       "</div>"
      ],
      "text/plain": [
       "    Id  OwnerUserId          CreationDate            ClosedDate  Score  \\\n",
       "0   80         26.0  2008-08-01T13:57:07Z                   NaN     26   \n",
       "1   90         58.0  2008-08-01T14:41:24Z  2012-12-26T03:45:49Z    144   \n",
       "2  120         83.0  2008-08-01T15:50:08Z                   NaN     21   \n",
       "3  180    2089740.0  2008-08-01T18:42:19Z                   NaN     53   \n",
       "4  260         91.0  2008-08-01T23:22:08Z                   NaN     49   \n",
       "\n",
       "                                               Title  \\\n",
       "0  SQLStatement.execute() - multiple queries in o...   \n",
       "1  Good branching and merging tutorials for Torto...   \n",
       "2                                  ASP.NET Site Maps   \n",
       "3                 Function for creating color wheels   \n",
       "4  Adding scripting functionality to .NET applica...   \n",
       "\n",
       "                                                Body  Closed  \n",
       "0  <p>I've written a database generation script i...       0  \n",
       "1  <p>Are there any really good tutorials explain...       1  \n",
       "2  <p>Has anyone got experience creating <strong>...       0  \n",
       "3  <p>This is something I've pseudo-solved many t...       0  \n",
       "4  <p>I have a little game written in C#. It uses...       0  "
      ]
     },
     "execution_count": 8,
     "metadata": {},
     "output_type": "execute_result"
    }
   ],
   "source": [
    "questions['Closed'] = 1\n",
    "for i in range(0,np.shape(questions)[0]):\n",
    "    if pd.isna(questions.iloc[i].ClosedDate):\n",
    "        questions['Closed'].iloc[i] = 0\n",
    "\n",
    "questions.head(5)"
   ]
  },
  {
   "cell_type": "markdown",
   "id": "9d3c400a",
   "metadata": {},
   "source": [
    "## Start looking at the scores. How many of these first 5000 questions have what score?"
   ]
  },
  {
   "cell_type": "code",
   "execution_count": 9,
   "id": "95e7d0b8",
   "metadata": {},
   "outputs": [
    {
     "data": {
      "image/png": "[encoded data removed]",
      "text/plain": [
       "<Figure size 864x360 with 1 Axes>"
      ]
     },
     "metadata": {},
     "output_type": "display_data"
    }
   ],
   "source": [
    "ax = questions['Score'].value_counts()[0:50].plot(kind='bar', figsize=(12,5))\n",
    "fig = ax.get_figure()\n",
    "ax.set_title(\"Stackoverflow Dataset\")\n",
    "ax.set_xlabel('Score')\n",
    "ax.set_ylabel('Value Counts');"
   ]
  },
  {
   "cell_type": "code",
   "execution_count": 10,
   "id": "df2cad9d",
   "metadata": {},
   "outputs": [
    {
     "name": "stdout",
     "output_type": "stream",
     "text": [
      "5000\n"
     ]
    }
   ],
   "source": [
    "totals = questions['Score'].value_counts()\n",
    "\n",
    "numbers = 0\n",
    "for i in range(0,np.shape(totals)[0]):\n",
    "    numbers = numbers + totals.iloc[i]\n",
    "\n",
    "print(numbers)"
   ]
  },
  {
   "cell_type": "code",
   "execution_count": 11,
   "id": "fd8d393c",
   "metadata": {},
   "outputs": [
    {
     "data": {
      "text/plain": [
       "(259,)"
      ]
     },
     "execution_count": 11,
     "metadata": {},
     "output_type": "execute_result"
    }
   ],
   "source": [
    "np.shape(totals)"
   ]
  },
  {
   "cell_type": "code",
   "execution_count": 12,
   "id": "a9cf492e",
   "metadata": {
    "scrolled": true
   },
   "outputs": [
    {
     "name": "stdout",
     "output_type": "stream",
     "text": [
      "1       615\n",
      "2       566\n",
      "0       515\n",
      "3       448\n",
      "4       350\n",
      "       ... \n",
      "114       1\n",
      "192       1\n",
      "446       1\n",
      "367       1\n",
      "5190      1\n",
      "Name: Score, Length: 259, dtype: int64\n"
     ]
    }
   ],
   "source": [
    "print(totals)"
   ]
  },
  {
   "cell_type": "markdown",
   "id": "887b0175",
   "metadata": {},
   "source": [
    "## Find average score for this subset of data"
   ]
  },
  {
   "cell_type": "code",
   "execution_count": 13,
   "id": "cc7529f7",
   "metadata": {},
   "outputs": [
    {
     "name": "stdout",
     "output_type": "stream",
     "text": [
      "Sum of scores for these questions is: 120757\n",
      "Total number of questions is: 5000\n",
      "Number of unique score values is: 259\n"
     ]
    }
   ],
   "source": [
    "print(\"Sum of scores for these questions is:\", questions['Score'].sum())\n",
    "print(\"Total number of questions is:\", np.shape(questions)[0])\n",
    "print(\"Number of unique score values is:\", np.shape(totals)[0])"
   ]
  },
  {
   "cell_type": "code",
   "execution_count": 14,
   "id": "345ca878",
   "metadata": {},
   "outputs": [
    {
     "name": "stdout",
     "output_type": "stream",
     "text": [
      "Mean of these scores is: 24.1514\n",
      "Manual check of that mean: 24.1514\n",
      "Median of these scores is: 4.0\n"
     ]
    }
   ],
   "source": [
    "print(\"Mean of these scores is:\", questions['Score'].mean())\n",
    "print(\"Manual check of that mean:\", questions['Score'].sum()/np.shape(questions)[0])\n",
    "print(\"Median of these scores is:\", questions['Score'].median())"
   ]
  },
  {
   "cell_type": "markdown",
   "id": "ab3828b0",
   "metadata": {},
   "source": [
    "## Is there a connection between \"closed\" and \"score\"?"
   ]
  },
  {
   "cell_type": "code",
   "execution_count": 15,
   "id": "188ca207",
   "metadata": {},
   "outputs": [
    {
     "data": {
      "text/plain": [
       "4618"
      ]
     },
     "execution_count": 15,
     "metadata": {},
     "output_type": "execute_result"
    }
   ],
   "source": [
    "open_questions = questions[pd.isna(questions['ClosedDate'])].copy()\n",
    "np.shape(open_questions)[0]"
   ]
  },
  {
   "cell_type": "code",
   "execution_count": 16,
   "id": "359862dd",
   "metadata": {},
   "outputs": [
    {
     "data": {
      "text/plain": [
       "382"
      ]
     },
     "execution_count": 16,
     "metadata": {},
     "output_type": "execute_result"
    }
   ],
   "source": [
    "closed_questions = questions[pd.notna(questions['ClosedDate'])].copy()\n",
    "np.shape(closed_questions)[0]"
   ]
  },
  {
   "cell_type": "code",
   "execution_count": 17,
   "id": "6a874516",
   "metadata": {},
   "outputs": [
    {
     "name": "stdout",
     "output_type": "stream",
     "text": [
      "Sum of scores for these open questions is: 107110\n",
      "Total number of open questions is: 4618\n",
      "Number of unique score values is: 246\n",
      "Mean of these open question scores is: 23.19402338674751\n",
      "Median of these open question scores is: 4.0\n"
     ]
    }
   ],
   "source": [
    "print(\"Sum of scores for these open questions is:\", open_questions['Score'].sum())\n",
    "print(\"Total number of open questions is:\", np.shape(open_questions)[0])\n",
    "print(\"Number of unique score values is:\", np.shape(open_questions['Score'].value_counts())[0])\n",
    "print(\"Mean of these open question scores is:\", open_questions['Score'].mean())\n",
    "print(\"Median of these open question scores is:\", open_questions['Score'].median())"
   ]
  },
  {
   "cell_type": "code",
   "execution_count": 18,
   "id": "3e8e8d31",
   "metadata": {},
   "outputs": [
    {
     "name": "stdout",
     "output_type": "stream",
     "text": [
      "Sum of scores for these closed questions is: 13647\n",
      "Total number of closed questions is: 382\n",
      "Number of unique score values is: 101\n",
      "Mean of these closed question scores is: 35.725130890052355\n",
      "Median of these closed question scores is: 9.5\n"
     ]
    }
   ],
   "source": [
    "print(\"Sum of scores for these closed questions is:\", closed_questions['Score'].sum())\n",
    "print(\"Total number of closed questions is:\", np.shape(closed_questions)[0])\n",
    "print(\"Number of unique score values is:\", np.shape(closed_questions['Score'].value_counts())[0])\n",
    "print(\"Mean of these closed question scores is:\", closed_questions['Score'].mean())\n",
    "print(\"Median of these closed question scores is:\", closed_questions['Score'].median())"
   ]
  },
  {
   "cell_type": "code",
   "execution_count": 19,
   "id": "3d7a9d26",
   "metadata": {},
   "outputs": [
    {
     "data": {
      "image/png": "[encoded data removed]",
      "text/plain": [
       "<Figure size 360x288 with 1 Axes>"
      ]
     },
     "metadata": {},
     "output_type": "display_data"
    }
   ],
   "source": [
    "fig = plt.figure(figsize=(5,4))\n",
    "ax = fig.add_axes([0,0,1,1])\n",
    "status = ['open', 'closed']\n",
    "values = [open_questions['Score'].median(),closed_questions['Score'].median()]\n",
    "ax.bar(status, values)\n",
    "ax.set_ylabel(\"Median score\")\n",
    "plt.show()"
   ]
  },
  {
   "cell_type": "markdown",
   "id": "23901e42",
   "metadata": {},
   "source": [
    "So maybe there's a correlation between whether a question is closed/open and its score. That is, here at least, closed questions have a higher median score than open questions. Thus we should determine what properties of a question (the actual words) lead to a question becoming closed."
   ]
  },
  {
   "cell_type": "code",
   "execution_count": null,
   "id": "130c7772",
   "metadata": {},
   "outputs": [],
   "source": []
  },
  {
   "cell_type": "code",
   "execution_count": null,
   "id": "7d095337",
   "metadata": {},
   "outputs": [],
   "source": []
  },
  {
   "cell_type": "markdown",
   "id": "1e2c4aca",
   "metadata": {},
   "source": [
    "## Switching to see if nltk works better for us"
   ]
  },
  {
   "cell_type": "code",
   "execution_count": 20,
   "id": "98b02966",
   "metadata": {},
   "outputs": [],
   "source": [
    "import nltk\n",
    "from nltk.corpus import stopwords\n",
    "from nltk.stem import WordNetLemmatizer\n",
    "\n",
    "import re"
   ]
  },
  {
   "cell_type": "code",
   "execution_count": 21,
   "id": "60606471",
   "metadata": {},
   "outputs": [],
   "source": [
    "# A list of contractions from http://stackoverflow.com/questions/19790188/expanding-english-language-contractions-in-python\n",
    "contractions = { \n",
    "\"ain't\": \"am not\",\n",
    "\"aren't\": \"are not\",\n",
    "\"can't\": \"cannot\",\n",
    "\"can't've\": \"cannot have\",\n",
    "\"'cause\": \"because\",\n",
    "\"could've\": \"could have\",\n",
    "\"couldn't\": \"could not\",\n",
    "\"couldn't've\": \"could not have\",\n",
    "\"didn't\": \"did not\",\n",
    "\"doesn't\": \"does not\",\n",
    "\"don't\": \"do not\",\n",
    "\"hadn't\": \"had not\",\n",
    "\"hadn't've\": \"had not have\",\n",
    "\"hasn't\": \"has not\",\n",
    "\"haven't\": \"have not\",\n",
    "\"he'd\": \"he would\",\n",
    "\"he'd've\": \"he would have\",\n",
    "\"he'll\": \"he will\",\n",
    "\"he's\": \"he is\",\n",
    "\"how'd\": \"how did\",\n",
    "\"how'll\": \"how will\",\n",
    "\"how's\": \"how is\",\n",
    "\"i'd\": \"i would\",\n",
    "\"i'll\": \"i will\",\n",
    "\"i'm\": \"i am\",\n",
    "\"i've\": \"i have\",\n",
    "\"isn't\": \"is not\",\n",
    "\"it'd\": \"it would\",\n",
    "\"it'll\": \"it will\",\n",
    "\"it's\": \"it is\",\n",
    "\"let's\": \"let us\",\n",
    "\"ma'am\": \"madam\",\n",
    "\"mayn't\": \"may not\",\n",
    "\"might've\": \"might have\",\n",
    "\"mightn't\": \"might not\",\n",
    "\"must've\": \"must have\",\n",
    "\"mustn't\": \"must not\",\n",
    "\"needn't\": \"need not\",\n",
    "\"oughtn't\": \"ought not\",\n",
    "\"shan't\": \"shall not\",\n",
    "\"sha'n't\": \"shall not\",\n",
    "\"she'd\": \"she would\",\n",
    "\"she'll\": \"she will\",\n",
    "\"she's\": \"she is\",\n",
    "\"should've\": \"should have\",\n",
    "\"shouldn't\": \"should not\",\n",
    "\"that'd\": \"that would\",\n",
    "\"that's\": \"that is\",\n",
    "\"there'd\": \"there had\",\n",
    "\"there's\": \"there is\",\n",
    "\"they'd\": \"they would\",\n",
    "\"they'll\": \"they will\",\n",
    "\"they're\": \"they are\",\n",
    "\"they've\": \"they have\",\n",
    "\"wasn't\": \"was not\",\n",
    "\"we'd\": \"we would\",\n",
    "\"we'll\": \"we will\",\n",
    "\"we're\": \"we are\",\n",
    "\"we've\": \"we have\",\n",
    "\"weren't\": \"were not\",\n",
    "\"what'll\": \"what will\",\n",
    "\"what're\": \"what are\",\n",
    "\"what's\": \"what is\",\n",
    "\"what've\": \"what have\",\n",
    "\"where'd\": \"where did\",\n",
    "\"where's\": \"where is\",\n",
    "\"who'll\": \"who will\",\n",
    "\"who's\": \"who is\",\n",
    "\"won't\": \"will not\",\n",
    "\"wouldn't\": \"would not\",\n",
    "\"you'd\": \"you would\",\n",
    "\"you'll\": \"you will\",\n",
    "\"you're\": \"you are\"\n",
    "}"
   ]
  },
  {
   "cell_type": "code",
   "execution_count": 22,
   "id": "0232ed07",
   "metadata": {},
   "outputs": [],
   "source": [
    "#def striphtml(data):\n",
    "#    p = re.compile(r'<.*?>')\n",
    "#    result = re.sub(r'<.*?>', '', data)\n",
    "#    return result\n",
    "\n",
    "def clean_text(text, remove_stopwords = True):\n",
    "    '''Remove unwanted characters, stopwords, and format the text to create fewer nulls word embeddings'''\n",
    "    \n",
    "    # Convert words to lower case\n",
    "    text = text.lower()\n",
    "    \n",
    "    # Replace contractions with their longer forms \n",
    "    if True:\n",
    "        text = text.split()\n",
    "        new_text = []\n",
    "        for word in text:\n",
    "            if word in contractions:\n",
    "                new_text.append(contractions[word])\n",
    "            else:\n",
    "                new_text.append(word)\n",
    "        text = \" \".join(new_text)\n",
    "    \n",
    "    # Format words and remove unwanted characters\n",
    "    text = re.sub(r'https?:\\/\\/.*[\\r\\n]*', '', text, flags=re.MULTILINE)\n",
    "    text = re.sub(r'\\<a href', ' ', text)\n",
    "    text = re.sub(r'&amp;', '', text) \n",
    "    text = re.sub(r'[_\"\\-;%()|+&=*%.,!?:#$@\\[\\]/]', ' ', text)\n",
    "    text = re.sub(r'<br />', ' ', text)\n",
    "    text = re.sub(r'\\'', ' ', text)\n",
    "    text = re.sub(r'<p>','', text)\n",
    "    text = re.sub(r'</p>','', text)\n",
    "    text = re.sub(r'\\n','', text)\n",
    "    text = re.sub(r'<.*?>', '', text)\n",
    "    \n",
    "#    text = striphtml(text)\n",
    "    \n",
    "    # remove stop words\n",
    "    if remove_stopwords:\n",
    "        text = text.split()\n",
    "        stops = set(stopwords.words(\"english\"))\n",
    "        text = [w for w in text if not w in stops]\n",
    "        text = \" \".join(text)\n",
    "\n",
    "    # Tokenize each word\n",
    "    text =  nltk.WordPunctTokenizer().tokenize(text)\n",
    "        \n",
    "    return text"
   ]
  },
  {
   "cell_type": "code",
   "execution_count": 23,
   "id": "9757eda0",
   "metadata": {},
   "outputs": [],
   "source": [
    "questions['Body_Cleaned'] = list(map(clean_text, questions.Body))"
   ]
  },
  {
   "cell_type": "code",
   "execution_count": 24,
   "id": "971731b9",
   "metadata": {},
   "outputs": [],
   "source": [
    "def lemmatized_words(text):\n",
    "    lemm = nltk.stem.WordNetLemmatizer()\n",
    "    questions['lemmatized_text'] = list(map(lambda word:\n",
    "                                     list(map(lemm.lemmatize, word)),\n",
    "                                     questions.Body_Cleaned))\n",
    "    \n",
    "\n",
    "lemmatized_words(questions.Body_Cleaned)"
   ]
  },
  {
   "cell_type": "code",
   "execution_count": 25,
   "id": "85ecfc0f",
   "metadata": {},
   "outputs": [
    {
     "data": {
      "text/html": [
       "<div>\n",
       "<style scoped>\n",
       "    .dataframe tbody tr th:only-of-type {\n",
       "        vertical-align: middle;\n",
       "    }\n",
       "\n",
       "    .dataframe tbody tr th {\n",
       "        vertical-align: top;\n",
       "    }\n",
       "\n",
       "    .dataframe thead th {\n",
       "        text-align: right;\n",
       "    }\n",
       "</style>\n",
       "<table border=\"1\" class=\"dataframe\">\n",
       "  <thead>\n",
       "    <tr style=\"text-align: right;\">\n",
       "      <th></th>\n",
       "      <th>Id</th>\n",
       "      <th>OwnerUserId</th>\n",
       "      <th>CreationDate</th>\n",
       "      <th>ClosedDate</th>\n",
       "      <th>Score</th>\n",
       "      <th>Title</th>\n",
       "      <th>Body</th>\n",
       "      <th>Closed</th>\n",
       "      <th>Body_Cleaned</th>\n",
       "      <th>lemmatized_text</th>\n",
       "    </tr>\n",
       "  </thead>\n",
       "  <tbody>\n",
       "    <tr>\n",
       "      <th>0</th>\n",
       "      <td>80</td>\n",
       "      <td>26.0</td>\n",
       "      <td>2008-08-01T13:57:07Z</td>\n",
       "      <td>NaN</td>\n",
       "      <td>26</td>\n",
       "      <td>SQLStatement.execute() - multiple queries in o...</td>\n",
       "      <td>&lt;p&gt;I've written a database generation script i...</td>\n",
       "      <td>0</td>\n",
       "      <td>[written, database, generation, script]</td>\n",
       "      <td>[written, database, generation, script]</td>\n",
       "    </tr>\n",
       "    <tr>\n",
       "      <th>1</th>\n",
       "      <td>90</td>\n",
       "      <td>58.0</td>\n",
       "      <td>2008-08-01T14:41:24Z</td>\n",
       "      <td>2012-12-26T03:45:49Z</td>\n",
       "      <td>144</td>\n",
       "      <td>Good branching and merging tutorials for Torto...</td>\n",
       "      <td>&lt;p&gt;Are there any really good tutorials explain...</td>\n",
       "      <td>1</td>\n",
       "      <td>[really, good, tutorials, explaining]</td>\n",
       "      <td>[really, good, tutorial, explaining]</td>\n",
       "    </tr>\n",
       "    <tr>\n",
       "      <th>2</th>\n",
       "      <td>120</td>\n",
       "      <td>83.0</td>\n",
       "      <td>2008-08-01T15:50:08Z</td>\n",
       "      <td>NaN</td>\n",
       "      <td>21</td>\n",
       "      <td>ASP.NET Site Maps</td>\n",
       "      <td>&lt;p&gt;Has anyone got experience creating &lt;strong&gt;...</td>\n",
       "      <td>0</td>\n",
       "      <td>[anyone, got, experience, creating, sql, based...</td>\n",
       "      <td>[anyone, got, experience, creating, sql, based...</td>\n",
       "    </tr>\n",
       "  </tbody>\n",
       "</table>\n",
       "</div>"
      ],
      "text/plain": [
       "    Id  OwnerUserId          CreationDate            ClosedDate  Score  \\\n",
       "0   80         26.0  2008-08-01T13:57:07Z                   NaN     26   \n",
       "1   90         58.0  2008-08-01T14:41:24Z  2012-12-26T03:45:49Z    144   \n",
       "2  120         83.0  2008-08-01T15:50:08Z                   NaN     21   \n",
       "\n",
       "                                               Title  \\\n",
       "0  SQLStatement.execute() - multiple queries in o...   \n",
       "1  Good branching and merging tutorials for Torto...   \n",
       "2                                  ASP.NET Site Maps   \n",
       "\n",
       "                                                Body  Closed  \\\n",
       "0  <p>I've written a database generation script i...       0   \n",
       "1  <p>Are there any really good tutorials explain...       1   \n",
       "2  <p>Has anyone got experience creating <strong>...       0   \n",
       "\n",
       "                                        Body_Cleaned  \\\n",
       "0            [written, database, generation, script]   \n",
       "1              [really, good, tutorials, explaining]   \n",
       "2  [anyone, got, experience, creating, sql, based...   \n",
       "\n",
       "                                     lemmatized_text  \n",
       "0            [written, database, generation, script]  \n",
       "1               [really, good, tutorial, explaining]  \n",
       "2  [anyone, got, experience, creating, sql, based...  "
      ]
     },
     "execution_count": 25,
     "metadata": {},
     "output_type": "execute_result"
    }
   ],
   "source": [
    "questions.head(3)"
   ]
  },
  {
   "cell_type": "code",
   "execution_count": 26,
   "id": "87ee01cb",
   "metadata": {
    "scrolled": true
   },
   "outputs": [
    {
     "data": {
      "text/plain": [
       "'<p>Are there any really good tutorials explaining <a href=\"http://svnbook.red-bean.com/en/1.8/svn.branchmerge.html\" rel=\"nofollow\">branching and merging</a> with Apache Subversion? </p>\\n\\n<p>All the better if it\\'s specific to TortoiseSVN client.</p>\\n'"
      ]
     },
     "execution_count": 26,
     "metadata": {},
     "output_type": "execute_result"
    }
   ],
   "source": [
    "questions['Body'].iloc[1]"
   ]
  },
  {
   "cell_type": "code",
   "execution_count": 27,
   "id": "c1ba764b",
   "metadata": {},
   "outputs": [
    {
     "data": {
      "text/plain": [
       "['really', 'good', 'tutorials', 'explaining']"
      ]
     },
     "execution_count": 27,
     "metadata": {},
     "output_type": "execute_result"
    }
   ],
   "source": [
    "questions['Body_Cleaned'].iloc[1]"
   ]
  },
  {
   "cell_type": "code",
   "execution_count": 28,
   "id": "1a1f9621",
   "metadata": {
    "scrolled": true
   },
   "outputs": [
    {
     "data": {
      "text/plain": [
       "['really', 'good', 'tutorial', 'explaining']"
      ]
     },
     "execution_count": 28,
     "metadata": {},
     "output_type": "execute_result"
    }
   ],
   "source": [
    "questions['lemmatized_text'].iloc[1]"
   ]
  },
  {
   "cell_type": "code",
   "execution_count": 38,
   "id": "634fe839",
   "metadata": {},
   "outputs": [
    {
     "data": {
      "text/html": [
       "<div>\n",
       "<style scoped>\n",
       "    .dataframe tbody tr th:only-of-type {\n",
       "        vertical-align: middle;\n",
       "    }\n",
       "\n",
       "    .dataframe tbody tr th {\n",
       "        vertical-align: top;\n",
       "    }\n",
       "\n",
       "    .dataframe thead th {\n",
       "        text-align: right;\n",
       "    }\n",
       "</style>\n",
       "<table border=\"1\" class=\"dataframe\">\n",
       "  <thead>\n",
       "    <tr style=\"text-align: right;\">\n",
       "      <th></th>\n",
       "      <th>Id</th>\n",
       "      <th>Score</th>\n",
       "      <th>Title</th>\n",
       "      <th>Body</th>\n",
       "      <th>Body_Cleaned</th>\n",
       "      <th>lemmatized_text</th>\n",
       "      <th>Closed</th>\n",
       "    </tr>\n",
       "  </thead>\n",
       "  <tbody>\n",
       "    <tr>\n",
       "      <th>843</th>\n",
       "      <td>69030</td>\n",
       "      <td>4</td>\n",
       "      <td>In Applescript, how can I find out if a menu i...</td>\n",
       "      <td>&lt;p&gt;I have a script for OS X 10.5 that focuses ...</td>\n",
       "      <td>[script, os, x, 10, 5, focuses, search, box, h...</td>\n",
       "      <td>[script, o, x, 10, 5, focus, search, box, help...</td>\n",
       "      <td>0</td>\n",
       "    </tr>\n",
       "    <tr>\n",
       "      <th>3717</th>\n",
       "      <td>276180</td>\n",
       "      <td>7</td>\n",
       "      <td>Server monitoring and alerting software?</td>\n",
       "      <td>&lt;p&gt;What software does everyone use to monitor ...</td>\n",
       "      <td>[software, everyone, use, monitor, hardware, k...</td>\n",
       "      <td>[software, everyone, use, monitor, hardware, k...</td>\n",
       "      <td>1</td>\n",
       "    </tr>\n",
       "    <tr>\n",
       "      <th>2787</th>\n",
       "      <td>216470</td>\n",
       "      <td>0</td>\n",
       "      <td>How can replace the string [Foo alloc]&lt;cursor&gt;...</td>\n",
       "      <td>&lt;ul&gt;\\n&lt;li&gt;Is there a key shortcut for this in ...</td>\n",
       "      <td>[key, shortcut, xcode, implement, applescript,...</td>\n",
       "      <td>[key, shortcut, xcode, implement, applescript,...</td>\n",
       "      <td>0</td>\n",
       "    </tr>\n",
       "  </tbody>\n",
       "</table>\n",
       "</div>"
      ],
      "text/plain": [
       "          Id  Score                                              Title  \\\n",
       "843    69030      4  In Applescript, how can I find out if a menu i...   \n",
       "3717  276180      7           Server monitoring and alerting software?   \n",
       "2787  216470      0  How can replace the string [Foo alloc]<cursor>...   \n",
       "\n",
       "                                                   Body  \\\n",
       "843   <p>I have a script for OS X 10.5 that focuses ...   \n",
       "3717  <p>What software does everyone use to monitor ...   \n",
       "2787  <ul>\\n<li>Is there a key shortcut for this in ...   \n",
       "\n",
       "                                           Body_Cleaned  \\\n",
       "843   [script, os, x, 10, 5, focuses, search, box, h...   \n",
       "3717  [software, everyone, use, monitor, hardware, k...   \n",
       "2787  [key, shortcut, xcode, implement, applescript,...   \n",
       "\n",
       "                                        lemmatized_text  Closed  \n",
       "843   [script, o, x, 10, 5, focus, search, box, help...       0  \n",
       "3717  [software, everyone, use, monitor, hardware, k...       1  \n",
       "2787  [key, shortcut, xcode, implement, applescript,...       0  "
      ]
     },
     "execution_count": 38,
     "metadata": {},
     "output_type": "execute_result"
    }
   ],
   "source": [
    "questions[['Id', 'Score', 'Title', 'Body', 'Body_Cleaned', 'lemmatized_text', 'Closed']].sample(3, random_state=151)"
   ]
  },
  {
   "cell_type": "code",
   "execution_count": 39,
   "id": "78488b6d",
   "metadata": {},
   "outputs": [
    {
     "data": {
      "text/plain": [
       "'<p>I have a script for OS X 10.5 that focuses the Search box in the Help menu of any application.  I have it on a key combination and, much like Spotlight, I want it to toggle when I run the script.  So, I want to detect if the search box is already focused for typing, and if so, type Esc instead of clicking the Help menu.</p>\\n\\n<p>Here is the script as it stands now:</p>\\n\\n<pre><code>tell application \"System Events\"\\n    tell (first process whose frontmost is true)\\n    \\tset helpMenuItem to menu bar item \"Help\" of menu bar 1\\n    \\tclick helpMenuItem\\n    end tell\\nend tell\\n</code></pre>\\n\\n<p>And I\\'m thinking of something like this:</p>\\n\\n<pre><code>tell application \"System Events\"\\n    tell (first process whose frontmost is true)\\n    \\tset helpMenuItem to menu bar item \"Help\" of menu bar 1\\n    \\tset searchBox to menu item 1 of menu of helpMenuItem\\n    \\tif (searchBox\\'s focused) = true then\\n    \\t\\tkey code 53 -- type esc\\n    \\telse\\n    \\t\\tclick helpMenuItem\\n    \\tend if\\n    end tell\\nend tell\\n</code></pre>\\n\\n<p>... but I get this error:</p>\\n\\n<blockquote>\\n  <p>Canâ\\x80\\x99t get focused of {menu item 1 of menu \"Help\" of menu bar item \"Help\" of menu bar 1 of application process \"Script Editor\" of application \"System Events\"}.</p>\\n</blockquote>\\n\\n<p>So is there a way I can get my script to detect whether the search box is already focused?</p>\\n\\n<p><hr /></p>\\n\\n<p>I solved my problem by <a href=\"http://stackoverflow.com/questions/69391/\">working around it</a>.  I still don\\'t know how to check if a menu item is selected though, so I will leave this topic open.</p>\\n'"
      ]
     },
     "execution_count": 39,
     "metadata": {},
     "output_type": "execute_result"
    }
   ],
   "source": [
    "questions['Body'].iloc[843]"
   ]
  },
  {
   "cell_type": "code",
   "execution_count": 40,
   "id": "48148e95",
   "metadata": {},
   "outputs": [
    {
     "data": {
      "text/plain": [
       "['script',\n",
       " 'os',\n",
       " 'x',\n",
       " '10',\n",
       " '5',\n",
       " 'focuses',\n",
       " 'search',\n",
       " 'box',\n",
       " 'help',\n",
       " 'menu',\n",
       " 'application',\n",
       " 'key',\n",
       " 'combination',\n",
       " 'much',\n",
       " 'like',\n",
       " 'spotlight',\n",
       " 'want',\n",
       " 'toggle',\n",
       " 'run',\n",
       " 'script',\n",
       " 'want',\n",
       " 'detect',\n",
       " 'search',\n",
       " 'box',\n",
       " 'already',\n",
       " 'focused',\n",
       " 'typing',\n",
       " 'type',\n",
       " 'esc',\n",
       " 'instead',\n",
       " 'clicking',\n",
       " 'help',\n",
       " 'menu',\n",
       " 'script',\n",
       " 'stands',\n",
       " 'tell',\n",
       " 'application',\n",
       " 'system',\n",
       " 'events',\n",
       " 'tell',\n",
       " 'first',\n",
       " 'process',\n",
       " 'whose',\n",
       " 'frontmost',\n",
       " 'true',\n",
       " 'set',\n",
       " 'helpmenuitem',\n",
       " 'menu',\n",
       " 'bar',\n",
       " 'item',\n",
       " 'help',\n",
       " 'menu',\n",
       " 'bar',\n",
       " '1',\n",
       " 'click',\n",
       " 'helpmenuitem',\n",
       " 'end',\n",
       " 'tell',\n",
       " 'end',\n",
       " 'tell',\n",
       " 'thinking',\n",
       " 'something',\n",
       " 'like',\n",
       " 'tell',\n",
       " 'application',\n",
       " 'system',\n",
       " 'events',\n",
       " 'tell',\n",
       " 'first',\n",
       " 'process',\n",
       " 'whose',\n",
       " 'frontmost',\n",
       " 'true',\n",
       " 'set',\n",
       " 'helpmenuitem',\n",
       " 'menu',\n",
       " 'bar',\n",
       " 'item',\n",
       " 'help',\n",
       " 'menu',\n",
       " 'bar',\n",
       " '1',\n",
       " 'set',\n",
       " 'searchbox',\n",
       " 'menu',\n",
       " 'item',\n",
       " '1',\n",
       " 'menu',\n",
       " 'helpmenuitem',\n",
       " 'searchbox',\n",
       " 'focused',\n",
       " 'true',\n",
       " 'key',\n",
       " 'code',\n",
       " '53',\n",
       " 'type',\n",
       " 'esc',\n",
       " 'else',\n",
       " 'click',\n",
       " 'helpmenuitem',\n",
       " 'end',\n",
       " 'end',\n",
       " 'tell',\n",
       " 'end',\n",
       " 'tell',\n",
       " 'get',\n",
       " 'error',\n",
       " 'canâ',\n",
       " '\\x80\\x99',\n",
       " 't',\n",
       " 'get',\n",
       " 'focused',\n",
       " '{',\n",
       " 'menu',\n",
       " 'item',\n",
       " '1',\n",
       " 'menu',\n",
       " 'help',\n",
       " 'menu',\n",
       " 'bar',\n",
       " 'item',\n",
       " 'help',\n",
       " 'menu',\n",
       " 'bar',\n",
       " '1',\n",
       " 'application',\n",
       " 'process',\n",
       " 'script',\n",
       " 'editor',\n",
       " 'application',\n",
       " 'system',\n",
       " 'events',\n",
       " '}',\n",
       " 'way',\n",
       " 'get',\n",
       " 'script',\n",
       " 'detect',\n",
       " 'whether',\n",
       " 'search',\n",
       " 'box',\n",
       " 'already',\n",
       " 'focused',\n",
       " 'solved',\n",
       " 'problem']"
      ]
     },
     "execution_count": 40,
     "metadata": {},
     "output_type": "execute_result"
    }
   ],
   "source": [
    "questions['Body_Cleaned'].iloc[843]"
   ]
  },
  {
   "cell_type": "markdown",
   "id": "caa785f4",
   "metadata": {},
   "source": [
    "## Now back to the Bag of Words bits"
   ]
  },
  {
   "cell_type": "code",
   "execution_count": 41,
   "id": "11a561f7",
   "metadata": {},
   "outputs": [],
   "source": [
    "from sklearn.feature_extraction.text import CountVectorizer"
   ]
  },
  {
   "cell_type": "code",
   "execution_count": 42,
   "id": "3929afdc",
   "metadata": {},
   "outputs": [
    {
     "name": "stdout",
     "output_type": "stream",
     "text": [
      "['0' '00' '000' ... 'ãªã' 'ä' 'å']\n"
     ]
    },
    {
     "data": {
      "text/plain": [
       "20609"
      ]
     },
     "execution_count": 42,
     "metadata": {},
     "output_type": "execute_result"
    }
   ],
   "source": [
    "onegram_converter = CountVectorizer(tokenizer=lambda doc: doc, lowercase=False)  # this is the name of the model, so we're just making the object\n",
    "\n",
    "x = onegram_converter.fit_transform(questions['Body_Cleaned'])     # we fit the model to our words\n",
    "\n",
    "words = onegram_converter.get_feature_names_out()       # \"words\" is now a list of all the words in our document\n",
    "\n",
    "print(words)                                           # this would print all the unique words in our document\n",
    "len(words)                                              # this is the number of unique words in our document"
   ]
  },
  {
   "cell_type": "code",
   "execution_count": 43,
   "id": "b7835d2c",
   "metadata": {},
   "outputs": [
    {
     "name": "stdout",
     "output_type": "stream",
     "text": [
      "['0 0' '0 00' '0 003154' ... 'ä \\x9a' 'ä \\x9b' 'å ¡']\n"
     ]
    },
    {
     "data": {
      "text/plain": [
       "190433"
      ]
     },
     "execution_count": 43,
     "metadata": {},
     "output_type": "execute_result"
    }
   ],
   "source": [
    "twogram_converter = CountVectorizer(tokenizer=lambda doc: doc, ngram_range=[2,2], lowercase=False)                                                        \n",
    "x2 = twogram_converter.fit_transform(questions['Body_Cleaned'])         \n",
    "\n",
    "bigrams = twogram_converter.get_feature_names_out()       # \"bigrams\" is now a list of all the 2-word combinations in our document\n",
    "\n",
    "print(bigrams)                                           # this would print all the unique 2-words in our document\n",
    "len(bigrams)    "
   ]
  },
  {
   "cell_type": "code",
   "execution_count": 44,
   "id": "9b8bc9da",
   "metadata": {},
   "outputs": [
    {
     "name": "stdout",
     "output_type": "stream",
     "text": [
      "['0 0 0' '0 0 0x0002' '0 0 1' ... 'ä \\x9b ditto' 'ä \\x9b â' 'å ¡ ä']\n"
     ]
    },
    {
     "data": {
      "text/plain": [
       "244465"
      ]
     },
     "execution_count": 44,
     "metadata": {},
     "output_type": "execute_result"
    }
   ],
   "source": [
    "threegram_converter = CountVectorizer(tokenizer=lambda doc: doc, ngram_range=[3,3], lowercase=False)                                                        \n",
    "x3 = threegram_converter.fit_transform(questions['Body_Cleaned'])         \n",
    "\n",
    "trigrams = threegram_converter.get_feature_names_out()       # \"trigrams\" is now a list of all the 3-word combinations in our document\n",
    "\n",
    "print(trigrams)                                           # this would print all the unique 3-words in our document\n",
    "len(trigrams)    "
   ]
  },
  {
   "cell_type": "markdown",
   "id": "f5d080aa",
   "metadata": {},
   "source": [
    "### What about the lemmatized words?"
   ]
  },
  {
   "cell_type": "code",
   "execution_count": 45,
   "id": "980f7e43",
   "metadata": {},
   "outputs": [
    {
     "name": "stdout",
     "output_type": "stream",
     "text": [
      "['0' '00' '000' ... 'ãªã' 'ä' 'å']\n"
     ]
    },
    {
     "data": {
      "text/plain": [
       "20609"
      ]
     },
     "execution_count": 45,
     "metadata": {},
     "output_type": "execute_result"
    }
   ],
   "source": [
    "onegram_converter_lem = CountVectorizer(tokenizer=lambda doc: doc, lowercase=False)  # this is the name of the model, so we're just making the object\n",
    "\n",
    "x_lem = onegram_converter_lem.fit_transform(questions['lemmatized_text'])     # we fit the model to our words\n",
    "\n",
    "words_lem = onegram_converter.get_feature_names_out()       # \"words\" is now a list of all the words in our document\n",
    "\n",
    "print(words_lem)                                           # this would print all the unique words in our document\n",
    "len(words_lem)         "
   ]
  },
  {
   "cell_type": "code",
   "execution_count": 46,
   "id": "662b2fda",
   "metadata": {},
   "outputs": [
    {
     "name": "stdout",
     "output_type": "stream",
     "text": [
      "['0 0' '0 00' '0 003154' ... 'ä \\x9a' 'ä \\x9b' 'å ¡']\n"
     ]
    },
    {
     "data": {
      "text/plain": [
       "190433"
      ]
     },
     "execution_count": 46,
     "metadata": {},
     "output_type": "execute_result"
    }
   ],
   "source": [
    "twogram_converter_lem = CountVectorizer(tokenizer=lambda doc: doc, ngram_range=[2,2], lowercase=False)                                                        \n",
    "x2_lem = twogram_converter_lem.fit_transform(questions['Body_Cleaned'])         \n",
    "\n",
    "bigrams_lem = twogram_converter_lem.get_feature_names_out()       # \"bigrams\" is now a list of all the 2-word combinations in our document\n",
    "\n",
    "print(bigrams_lem)                                           # this would print all the unique 2-words in our document\n",
    "len(bigrams_lem)    "
   ]
  },
  {
   "cell_type": "code",
   "execution_count": 47,
   "id": "3e2fbaf1",
   "metadata": {},
   "outputs": [
    {
     "name": "stdout",
     "output_type": "stream",
     "text": [
      "['0 0 0' '0 0 0x0002' '0 0 1' ... 'ä \\x9b ditto' 'ä \\x9b â' 'å ¡ ä']\n"
     ]
    },
    {
     "data": {
      "text/plain": [
       "244465"
      ]
     },
     "execution_count": 47,
     "metadata": {},
     "output_type": "execute_result"
    }
   ],
   "source": [
    "threegram_converter_lem = CountVectorizer(tokenizer=lambda doc: doc, ngram_range=[3,3], lowercase=False)                                                        \n",
    "x3_lem = threegram_converter_lem.fit_transform(questions['Body_Cleaned'])         \n",
    "\n",
    "trigrams_lem = threegram_converter_lem.get_feature_names_out()       # \"trigrams\" is now a list of all the 3-word combinations in our document\n",
    "\n",
    "print(trigrams_lem)                                           # this would print all the unique 3-words in our document\n",
    "len(trigrams_lem)    "
   ]
  },
  {
   "cell_type": "markdown",
   "id": "2a31d124",
   "metadata": {},
   "source": [
    "Given that these values are identical, I'm not convinced my lemmatization process is any different from my cleaning process."
   ]
  },
  {
   "cell_type": "markdown",
   "id": "7fb5b1c6",
   "metadata": {},
   "source": [
    "# Onward to actually doing the data science bit"
   ]
  },
  {
   "cell_type": "markdown",
   "id": "e9c9a792",
   "metadata": {},
   "source": [
    "## Bag of Words"
   ]
  },
  {
   "cell_type": "code",
   "execution_count": 48,
   "id": "8f415f40",
   "metadata": {},
   "outputs": [],
   "source": [
    "from sklearn.linear_model import LogisticRegression\n",
    "import sklearn.model_selection\n",
    "import sklearn.preprocessing as preproc\n",
    "from sklearn.feature_extraction import text"
   ]
  },
  {
   "cell_type": "code",
   "execution_count": 49,
   "id": "a61b040e",
   "metadata": {},
   "outputs": [],
   "source": [
    "training_data, test_data = sklearn.model_selection.train_test_split(questions.copy(), shuffle=True, \n",
    "                                                                    test_size = 0.3, random_state=961,\n",
    "                                                                    stratify = questions.Closed)"
   ]
  },
  {
   "cell_type": "code",
   "execution_count": 50,
   "id": "94061308",
   "metadata": {},
   "outputs": [
    {
     "name": "stdout",
     "output_type": "stream",
     "text": [
      "(3500, 10)\n",
      "(1500, 10)\n"
     ]
    }
   ],
   "source": [
    "print(training_data.shape)\n",
    "print(test_data.shape)"
   ]
  },
  {
   "cell_type": "markdown",
   "id": "c72e6b7e",
   "metadata": {},
   "source": [
    "Note that the stratify keyword preserves the number of 'Closed' questions in the training and test sets."
   ]
  },
  {
   "cell_type": "code",
   "execution_count": 51,
   "id": "587ebbd6",
   "metadata": {},
   "outputs": [
    {
     "name": "stdout",
     "output_type": "stream",
     "text": [
      "Ratio of closed to open in all:\n",
      " 0    0.9236\n",
      "1    0.0764\n",
      "Name: Closed, dtype: float64\n",
      "Ratio in training data:\n",
      " 0    0.923714\n",
      "1    0.076286\n",
      "Name: Closed, dtype: float64\n",
      "Ratio in test data:\n",
      " 0    0.923333\n",
      "1    0.076667\n",
      "Name: Closed, dtype: float64\n"
     ]
    }
   ],
   "source": [
    "print(\"Ratio of closed to open in all:\\n\", questions.Closed.value_counts(normalize=True))\n",
    "print(\"Ratio in training data:\\n\", training_data.Closed.value_counts(normalize=True))\n",
    "print(\"Ratio in test data:\\n\", test_data.Closed.value_counts(normalize=True))"
   ]
  },
  {
   "cell_type": "markdown",
   "id": "56fc5b70",
   "metadata": {},
   "source": [
    "Make the model and fit it. Here, I'm just making a bag of words (and not a bag of n-grams)."
   ]
  },
  {
   "cell_type": "code",
   "execution_count": 52,
   "id": "c8ccfa5c",
   "metadata": {},
   "outputs": [],
   "source": [
    "bow_transform = CountVectorizer(tokenizer=lambda doc: doc, ngram_range=[1,1], lowercase=False) "
   ]
  },
  {
   "cell_type": "code",
   "execution_count": 53,
   "id": "4a7b9827",
   "metadata": {},
   "outputs": [],
   "source": [
    "X_tr_bow = bow_transform.fit_transform(training_data['Body_Cleaned'])"
   ]
  },
  {
   "cell_type": "markdown",
   "id": "601f49fc",
   "metadata": {},
   "source": [
    "Check the number of unique words."
   ]
  },
  {
   "cell_type": "code",
   "execution_count": 54,
   "id": "b08fb25d",
   "metadata": {},
   "outputs": [
    {
     "data": {
      "text/plain": [
       "16641"
      ]
     },
     "execution_count": 54,
     "metadata": {},
     "output_type": "execute_result"
    }
   ],
   "source": [
    "len(bow_transform.vocabulary_)"
   ]
  },
  {
   "cell_type": "markdown",
   "id": "769efce1",
   "metadata": {},
   "source": [
    "This method shows us the actual \"words\" we've put in the bag."
   ]
  },
  {
   "cell_type": "code",
   "execution_count": 55,
   "id": "c2434547",
   "metadata": {},
   "outputs": [
    {
     "data": {
      "text/plain": [
       "array(['0', '00', '000', ..., 'ã', 'ãªã', 'ä'], dtype=object)"
      ]
     },
     "execution_count": 55,
     "metadata": {},
     "output_type": "execute_result"
    }
   ],
   "source": [
    "bow_transform.get_feature_names_out()"
   ]
  },
  {
   "cell_type": "markdown",
   "id": "fc10fe3b",
   "metadata": {},
   "source": [
    "And this methods shows us how to map from a word to the index in the bag \"array\" where that word appears, e.g. 'write' appears at index 16350."
   ]
  },
  {
   "cell_type": "code",
   "execution_count": 56,
   "id": "2ab721de",
   "metadata": {},
   "outputs": [
    {
     "data": {
      "text/plain": [
       "{'write': 16350,\n",
       " 'session': 13029,\n",
       " 'asdf': 1532,\n",
       " '234': 363,\n",
       " 'asp': 1550,\n",
       " 'net': 9822,\n",
       " 'web': 16057,\n",
       " 'app': 1364,\n",
       " 'mean': 9099,\n",
       " 'client': 2859,\n",
       " 'cookie': 3460,\n",
       " 'stored': 13952,\n",
       " 'browser': 2280,\n",
       " 'programmatically': 11433,\n",
       " 'embed': 5019,\n",
       " 'module': 9374,\n",
       " 'assembly': 1565,\n",
       " 'generated': 6256,\n",
       " 'codedom': 2946,\n",
       " 'n': 9726,\n",
       " 'structure': 14060,\n",
       " 'two': 15220,\n",
       " 'tables': 14424,\n",
       " 'makes': 8930,\n",
       " 'models': 9352,\n",
       " 'far': 5626,\n",
       " 'problem': 11350,\n",
       " 'third': 14753,\n",
       " 'table': 14414,\n",
       " 'products': 11400,\n",
       " 'like': 8560,\n",
       " 'id': 7154,\n",
       " 'make': 8917,\n",
       " 'model': 9343,\n",
       " 'creating': 3635,\n",
       " 'view': 15856,\n",
       " 'one': 10230,\n",
       " 'specifi': 13628,\n",
       " 'inside': 7628,\n",
       " 'productscontroller': 11401,\n",
       " 'containing': 3369,\n",
       " 'thought': 14767,\n",
       " 'could': 3524,\n",
       " 'work': 16286,\n",
       " 'var': 15743,\n",
       " 'uses': 15651,\n",
       " 'array': 1494,\n",
       " 'gt': 6657,\n",
       " '5': 567,\n",
       " 'find': 5803,\n",
       " 'returns': 12395,\n",
       " 'want': 16007,\n",
       " 'habtm': 6706,\n",
       " 'list': 8609,\n",
       " 'use': 15594,\n",
       " 'pass': 10701,\n",
       " 'create': 3590,\n",
       " 'radio': 11737,\n",
       " 'buttons': 2382,\n",
       " 'foreach': 5986,\n",
       " 'titles': 14886,\n",
       " 'new': 9845,\n",
       " 'send': 12922,\n",
       " 'via': 15846,\n",
       " 'set': 13034,\n",
       " 'makearray': 8919,\n",
       " '{': 16577,\n",
       " 'modellist': 9351,\n",
       " 'title': 14879,\n",
       " '}': 16582,\n",
       " 'easier': 4878,\n",
       " 'way': 16040,\n",
       " 'get': 6288,\n",
       " 'without': 16251,\n",
       " 'stressing': 13998,\n",
       " 'commom': 3087,\n",
       " 'task': 14497,\n",
       " 'develops': 4356,\n",
       " 'scenarios': 12740,\n",
       " 'application': 1403,\n",
       " 'thanks': 14709,\n",
       " 'advance': 1061,\n",
       " 'hint': 6921,\n",
       " 'introduction': 7819,\n",
       " 'framework': 6076,\n",
       " 'made': 8875,\n",
       " 'raw': 11799,\n",
       " 'programming': 11439,\n",
       " 'com': 3031,\n",
       " 'dcom': 4005,\n",
       " 'redundant': 11983,\n",
       " 'except': 5349,\n",
       " 'using': 15657,\n",
       " 'services': 13020,\n",
       " 'e': 4863,\n",
       " 'g': 6195,\n",
       " 'transaction': 15047,\n",
       " 'management': 8941,\n",
       " 'system': 14393,\n",
       " 'enterpriseservices': 5156,\n",
       " 'namespace': 9742,\n",
       " 'clever': 2848,\n",
       " 'programmers': 11438,\n",
       " 'keep': 8243,\n",
       " 'track': 15026,\n",
       " 'handy': 6743,\n",
       " 'tricks': 15122,\n",
       " 'useful': 15604,\n",
       " 'information': 7498,\n",
       " 'pick': 10915,\n",
       " 'many': 8964,\n",
       " 'years': 16519,\n",
       " 'experience': 5450,\n",
       " 'things': 14745,\n",
       " 'compiler': 3136,\n",
       " 'arguments': 1477,\n",
       " 'ide': 7160,\n",
       " 'short': 13196,\n",
       " 'cuts': 3797,\n",
       " 'code': 2939,\n",
       " 'snippets': 13458,\n",
       " 'etc': 5276,\n",
       " 'sometimes': 13549,\n",
       " 'frustrated': 6130,\n",
       " 'looking': 8781,\n",
       " 'something': 13546,\n",
       " 'used': 15599,\n",
       " 'know': 8318,\n",
       " 'year': 16517,\n",
       " 'ago': 1120,\n",
       " 'ie': 7197,\n",
       " 'favourites': 5654,\n",
       " 'probably': 11348,\n",
       " 'represent': 12227,\n",
       " 'good': 6541,\n",
       " 'chunk': 2763,\n",
       " 'internet': 7773,\n",
       " 'late': 8399,\n",
       " '1990s': 280,\n",
       " 'clearly': 2843,\n",
       " 'effective': 4937,\n",
       " 'least': 8468,\n",
       " 'getting': 6458,\n",
       " 'old': 10192,\n",
       " 'define': 4133,\n",
       " 'constant': 3326,\n",
       " 'perl': 10823,\n",
       " 'main': 8894,\n",
       " 'program': 11420,\n",
       " 'call': 2436,\n",
       " 'going': 6537,\n",
       " 'printf': 11316,\n",
       " 'sh': 13134,\n",
       " 'bin': 2016,\n",
       " 'name': 9735,\n",
       " 'george': 6283,\n",
       " 'w': 15976,\n",
       " 'bush': 2371,\n",
       " 'hello': 6847,\n",
       " 's': 12643,\n",
       " '\\\\': 772,\n",
       " 'command': 3054,\n",
       " 'line': 8576,\n",
       " 'update': 15521,\n",
       " 'works': 16310,\n",
       " 'echo': 4897,\n",
       " 'consider': 3308,\n",
       " 'file': 5733,\n",
       " 'c': 2397,\n",
       " 'tmp': 14900,\n",
       " 'filename': 5761,\n",
       " 'mp': 9457,\n",
       " 'working': 16306,\n",
       " 'combobox': 3040,\n",
       " 'swing': 14332,\n",
       " 'based': 1872,\n",
       " 'hard': 6755,\n",
       " 'time': 14842,\n",
       " 'figuring': 5732,\n",
       " 'differentiate': 4407,\n",
       " 'itemevent': 8009,\n",
       " 'user': 15609,\n",
       " 'event': 5298,\n",
       " 'vs': 15952,\n",
       " 'caused': 2571,\n",
       " 'instance': 7653,\n",
       " 'lets': 8504,\n",
       " 'say': 12710,\n",
       " 'combo': 3039,\n",
       " 'listening': 8625,\n",
       " 'itemstatechanged': 8025,\n",
       " 'events': 5310,\n",
       " 'itemlistener': 8016,\n",
       " 'listener': 8623,\n",
       " 'either': 4951,\n",
       " 'changes': 2671,\n",
       " 'selection': 12898,\n",
       " 'item': 7998,\n",
       " '2': 299,\n",
       " 'execute': 5381,\n",
       " 'pseudocode': 11551,\n",
       " 'setselection': 13089,\n",
       " 'seems': 12870,\n",
       " 'able': 810,\n",
       " 'tell': 14573,\n",
       " 'apart': 1348,\n",
       " 'said': 12658,\n",
       " 'expert': 5459,\n",
       " 'means': 9102,\n",
       " 'would': 16331,\n",
       " 'ask': 1542,\n",
       " 'understanding': 15368,\n",
       " 'produces': 11391,\n",
       " 'native': 9760,\n",
       " 'run': 12611,\n",
       " 'particular': 10687,\n",
       " 'machine': 8864,\n",
       " 'architecture': 1451,\n",
       " 'conversely': 3436,\n",
       " 'languages': 8371,\n",
       " 'java': 8083,\n",
       " 'top': 14971,\n",
       " 'virtual': 15885,\n",
       " 'abstracts': 830,\n",
       " 'away': 1757,\n",
       " 'logically': 8737,\n",
       " 'seem': 12866,\n",
       " 'impossible': 7359,\n",
       " 'match': 9023,\n",
       " 'speed': 13651,\n",
       " 'intermediate': 7759,\n",
       " 'step': 13914,\n",
       " 'however': 7019,\n",
       " 'told': 14936,\n",
       " 'latest': 8403,\n",
       " 'compilers': 3137,\n",
       " 'hot': 7000,\n",
       " 'spot': 13699,\n",
       " 'attain': 1654,\n",
       " 'even': 5295,\n",
       " 'exceed': 5343,\n",
       " 'perhaps': 10818,\n",
       " 'question': 11692,\n",
       " 'language': 8368,\n",
       " 'anyone': 1336,\n",
       " 'explain': 5467,\n",
       " 'plain': 10981,\n",
       " 'english': 5134,\n",
       " 'possible': 11119,\n",
       " 'perform': 10810,\n",
       " 'better': 1995,\n",
       " 'building': 2335,\n",
       " 'hosted': 6993,\n",
       " 'ms': 9468,\n",
       " 'sql': 13723,\n",
       " 'server': 12992,\n",
       " 'analysis': 1256,\n",
       " '2005': 309,\n",
       " 'reporting': 12210,\n",
       " 'specifically': 13630,\n",
       " 'olap': 10191,\n",
       " 'cube': 3724,\n",
       " 'browsing': 2284,\n",
       " 'since': 13302,\n",
       " 'designed': 4286,\n",
       " 'large': 8375,\n",
       " 'global': 6514,\n",
       " 'organizations': 10392,\n",
       " 'security': 12854,\n",
       " 'important': 7344,\n",
       " 'microsoft': 9219,\n",
       " 'preferred': 11209,\n",
       " 'tool': 14957,\n",
       " 'cubes': 3725,\n",
       " 'excel': 5347,\n",
       " '2007': 311,\n",
       " 'whole': 16165,\n",
       " 'infrastructure': 7504,\n",
       " 'geared': 6243,\n",
       " 'around': 1489,\n",
       " 'windows': 16210,\n",
       " 'integrated': 7695,\n",
       " 'authentication': 1695,\n",
       " 'trying': 15166,\n",
       " 'build': 2327,\n",
       " 'facing': 5585,\n",
       " 'accounts': 886,\n",
       " 'every': 5317,\n",
       " 'also': 1211,\n",
       " 'nice': 9899,\n",
       " 'ajaxy': 1143,\n",
       " 'tools': 14964,\n",
       " 'fast': 5632,\n",
       " 'drag': 4725,\n",
       " 'drop': 4769,\n",
       " 'dimensions': 4431,\n",
       " 'support': 14271,\n",
       " 'actions': 937,\n",
       " 'cross': 3669,\n",
       " 'aside': 1541,\n",
       " 'currently': 3759,\n",
       " 'example': 5340,\n",
       " 'unspecified': 15488,\n",
       " 'behavior': 1957,\n",
       " 'order': 10365,\n",
       " 'evaluation': 5294,\n",
       " 'function': 6166,\n",
       " 'might': 9233,\n",
       " 'left': 8475,\n",
       " 'right': 12462,\n",
       " 'affect': 1087,\n",
       " 'foo': 5958,\n",
       " 'gets': 6432,\n",
       " 'evaluated': 5292,\n",
       " 'surprise': 14290,\n",
       " 'unaware': 15342,\n",
       " 'programmer': 11437,\n",
       " 'libvirt': 8538,\n",
       " 'virsh': 15883,\n",
       " 'manage': 8938,\n",
       " 'kvm': 8332,\n",
       " 'qemu': 11657,\n",
       " 'vms': 15927,\n",
       " 'public': 11572,\n",
       " 'ips': 7902,\n",
       " 'running': 12620,\n",
       " 'ubuntu': 15276,\n",
       " '8': 697,\n",
       " '04': 38,\n",
       " 'keeps': 8246,\n",
       " 'usr': 15661,\n",
       " 'pc': 10759,\n",
       " '256': 381,\n",
       " 'smp': 13434,\n",
       " '3': 416,\n",
       " 'monitor': 9386,\n",
       " 'pty': 11568,\n",
       " 'acpi': 909,\n",
       " 'drive': 4760,\n",
       " 'opt': 10335,\n",
       " 'machines': 8867,\n",
       " 'calculon': 2431,\n",
       " 'root': 12514,\n",
       " 'qcow2': 11655,\n",
       " 'boot': 2170,\n",
       " 'nic': 9898,\n",
       " 'vlan': 15923,\n",
       " '0': 0,\n",
       " 'virtio': 15884,\n",
       " 'tap': 14475,\n",
       " 'fd': 5659,\n",
       " '10': 100,\n",
       " 'usb': 15592,\n",
       " 'vnc': 15929,\n",
       " '127': 182,\n",
       " '1': 99,\n",
       " 'boots': 2175,\n",
       " 'network': 9835,\n",
       " 'access': 852,\n",
       " 'pings': 10941,\n",
       " 'go': 6529,\n",
       " 'nowhere': 10003,\n",
       " 'necessary': 9796,\n",
       " 'device': 4360,\n",
       " 'networking': 9837,\n",
       " 'functioning': 6172,\n",
       " 'host': 6992,\n",
       " 'setup': 13115,\n",
       " 'guides': 6679,\n",
       " 'seen': 12871,\n",
       " 'focus': 5933,\n",
       " 'setting': 13104,\n",
       " 'masquerading': 9014,\n",
       " 'simple': 13282,\n",
       " 'bridge': 2252,\n",
       " 'unfiltered': 15388,\n",
       " 'guests': 6671,\n",
       " 'must': 9553,\n",
       " 'ifconfig': 7213,\n",
       " 'gives': 6499,\n",
       " 'manually': 8960,\n",
       " 'interfaces': 7746,\n",
       " 'br0': 2224,\n",
       " 'link': 8586,\n",
       " 'encap': 5068,\n",
       " 'ethernet': 5280,\n",
       " 'hwaddr': 7092,\n",
       " '00': 1,\n",
       " '1e': 288,\n",
       " 'c9': 2405,\n",
       " '3c': 491,\n",
       " '59': 604,\n",
       " 'b8': 1788,\n",
       " 'inet': 7470,\n",
       " 'addr': 1015,\n",
       " '12': 164,\n",
       " '34': 462,\n",
       " '56': 595,\n",
       " '78': 690,\n",
       " 'bcast': 1908,\n",
       " '79': 693,\n",
       " 'mask': 9010,\n",
       " '255': 380,\n",
       " '240': 366,\n",
       " 'inet6': 7471,\n",
       " 'fe80': 5662,\n",
       " '21e': 342,\n",
       " 'c9ff': 2406,\n",
       " 'fe3c': 5661,\n",
       " '59b8': 605,\n",
       " '64': 635,\n",
       " 'scope': 12761,\n",
       " 'broadcast': 2268,\n",
       " 'multicast': 9514,\n",
       " 'mtu': 9507,\n",
       " '1500': 211,\n",
       " 'metric': 9207,\n",
       " 'rx': 12639,\n",
       " 'packets': 10554,\n",
       " '3359': 461,\n",
       " 'errors': 5240,\n",
       " 'dropped': 4780,\n",
       " 'overruns': 10506,\n",
       " 'frame': 6070,\n",
       " 'tx': 15223,\n",
       " '3025': 426,\n",
       " 'carrier': 2525,\n",
       " 'collisions': 3007,\n",
       " 'txqueuelen': 15226,\n",
       " 'bytes': 2393,\n",
       " '180646': 253,\n",
       " '176': 247,\n",
       " '4': 501,\n",
       " 'kb': 8234,\n",
       " '230908': 359,\n",
       " '225': 350,\n",
       " 'eth0': 5279,\n",
       " '6088386': 623,\n",
       " '3058': 431,\n",
       " '1000': 102,\n",
       " '680236624': 654,\n",
       " '648': 637,\n",
       " '7': 665,\n",
       " 'mb': 9076,\n",
       " '261696': 389,\n",
       " 'interrupt': 7789,\n",
       " '33': 456,\n",
       " 'help': 6852,\n",
       " 'greatly': 6613,\n",
       " 'appreciated': 1422,\n",
       " 'well': 16128,\n",
       " 'project': 11449,\n",
       " 'ui': 15292,\n",
       " 'mockups': 9337,\n",
       " 'certain': 2631,\n",
       " 'users': 15645,\n",
       " 'wanted': 16008,\n",
       " 'logo': 8751,\n",
       " 'ot': 10423,\n",
       " 'website': 16096,\n",
       " 'indicate': 7449,\n",
       " 'another': 1307,\n",
       " 'actually': 962,\n",
       " 'belong': 1973,\n",
       " 'sector': 12849,\n",
       " 'design': 4282,\n",
       " 'wise': 16240,\n",
       " 'bad': 1821,\n",
       " 'logos': 8758,\n",
       " 'initially': 7549,\n",
       " 'opinions': 10328,\n",
       " 'regarding': 12030,\n",
       " 'recommend': 11913,\n",
       " 'lexical': 8514,\n",
       " 'analyser': 1255,\n",
       " 'preferably': 11204,\n",
       " 'written': 16366,\n",
       " 'suppose': 14276,\n",
       " 'dataset': 3930,\n",
       " 'immortal': 7312,\n",
       " 'employee': 5041,\n",
       " 'emp': 5033,\n",
       " '>': 768,\n",
       " 'ord': 10364,\n",
       " 'anotherthing': 1309,\n",
       " 'empid': 5037,\n",
       " 'relation': 12079,\n",
       " 'rel': 12074,\n",
       " 'great': 6609,\n",
       " 'standard': 13833,\n",
       " 'master': 9018,\n",
       " 'detail': 4326,\n",
       " 'scenario': 12739,\n",
       " 'show': 13211,\n",
       " 'employees': 5043,\n",
       " 'follow': 5943,\n",
       " 'related': 12076,\n",
       " 'orders': 10374,\n",
       " 'wan': 16004,\n",
       " 'opposite': 10333,\n",
       " 'lt': 8832,\n",
       " 'stackpanel': 13815,\n",
       " 'datacontext': 3888,\n",
       " 'textbox': 14671,\n",
       " 'text': 14662,\n",
       " 'binding': 2031,\n",
       " 'ideas': 7164,\n",
       " 'value': 15730,\n",
       " 'converter': 3443,\n",
       " 'parent': 10657,\n",
       " 'tricky': 15123,\n",
       " 'found': 6049,\n",
       " 'bug': 2322,\n",
       " 'contains': 3371,\n",
       " 'statement': 13883,\n",
       " 'linq': 8597,\n",
       " 'sure': 14283,\n",
       " 'really': 11859,\n",
       " 'else': 4995,\n",
       " 'fix': 5857,\n",
       " 'workaround': 16289,\n",
       " 'querysource': 11688,\n",
       " 'items': 8021,\n",
       " 'correctly': 3504,\n",
       " 'query': 11683,\n",
       " 'best': 1991,\n",
       " 'look': 8775,\n",
       " 'parameters': 10644,\n",
       " 'p0': 10525,\n",
       " 'aaa': 793,\n",
       " 'p1': 10526,\n",
       " 'bbb': 1906,\n",
       " 'p2': 10532,\n",
       " 'ccc': 2582,\n",
       " 'p3': 10535,\n",
       " 'p9': 10541,\n",
       " 'p10': 10527,\n",
       " '111': 147,\n",
       " 'p11': 10529,\n",
       " '222': 346,\n",
       " 'p12': 10530,\n",
       " 'p19': 10531,\n",
       " 'p20': 10533,\n",
       " 'sss': 13801,\n",
       " 'p21': 10534,\n",
       " 'p99': 10542,\n",
       " 'p100': 10528,\n",
       " 'qqq': 11666,\n",
       " 'values': 15738,\n",
       " 'passed': 10702,\n",
       " 'final': 5794,\n",
       " 'resolved': 12301,\n",
       " 'looks': 8783,\n",
       " 'parameter': 10636,\n",
       " 'resolving': 12304,\n",
       " 'first': 5841,\n",
       " 'digit': 4420,\n",
       " 'p': 10524,\n",
       " 'resolves': 12303,\n",
       " 'adds': 1025,\n",
       " 'anything': 1338,\n",
       " 'end': 5089,\n",
       " 'visualizer': 15913,\n",
       " 'plugin': 11017,\n",
       " 'visual': 15908,\n",
       " 'studio': 14080,\n",
       " 'shows': 13223,\n",
       " 'strange': 13968,\n",
       " 'advice': 1071,\n",
       " 'please': 11005,\n",
       " 'share': 13151,\n",
       " 'rewritten': 12440,\n",
       " 'original': 10404,\n",
       " 'join': 8161,\n",
       " 'instead': 7667,\n",
       " 'still': 13932,\n",
       " 'issue': 7980,\n",
       " 'search': 12825,\n",
       " 'sourcesafe': 13584,\n",
       " '6': 615,\n",
       " '0d': 56,\n",
       " 'files': 5767,\n",
       " 'tagged': 14447,\n",
       " 'specific': 13629,\n",
       " 'label': 8338,\n",
       " 'apps': 1435,\n",
       " 'clients': 2870,\n",
       " 'read': 11828,\n",
       " 'joel': 8157,\n",
       " 'software': 13479,\n",
       " 'took': 14956,\n",
       " 'test': 14618,\n",
       " 'realized': 11854,\n",
       " 'quite': 11715,\n",
       " 'measure': 9106,\n",
       " 'place': 10972,\n",
       " 'lacking': 8348,\n",
       " 'automated': 1723,\n",
       " 'builds': 2340,\n",
       " 'need': 9800,\n",
       " 'vdproj': 15793,\n",
       " 'msi': 9487,\n",
       " 'free': 6085,\n",
       " 'man': 8937,\n",
       " 'team': 14552,\n",
       " 'accepted': 846,\n",
       " 'practice': 11168,\n",
       " 'indenting': 7433,\n",
       " 'statements': 13884,\n",
       " 'following': 5945,\n",
       " 'select': 12883,\n",
       " 'column1': 3023,\n",
       " 'column2': 3024,\n",
       " 'table1': 14415,\n",
       " 'column3': 3025,\n",
       " 'column4': 3026,\n",
       " 'table2': 14416,\n",
       " 'inner': 7578,\n",
       " 'table3': 14417,\n",
       " 'indented': 7432,\n",
       " 'autopostback': 1730,\n",
       " 'changing': 2673,\n",
       " 'cause': 2570,\n",
       " 'number': 10055,\n",
       " 'display': 4530,\n",
       " 'fields': 5720,\n",
       " 'recalculated': 11882,\n",
       " 'displayed': 4534,\n",
       " 'fine': 5817,\n",
       " 'field': 5712,\n",
       " 'tabbed': 14409,\n",
       " 'briefly': 2257,\n",
       " 'moves': 9449,\n",
       " 'next': 9885,\n",
       " 'disappears': 4474,\n",
       " 'page': 10562,\n",
       " 'redrawn': 11978,\n",
       " 'anywhere': 1342,\n",
       " 'changed': 2666,\n",
       " 'force': 5980,\n",
       " 'move': 9441,\n",
       " 'traditional': 15031,\n",
       " 'ftp': 6144,\n",
       " 'purposes': 11606,\n",
       " 'transmits': 15085,\n",
       " 'passwords': 10714,\n",
       " 'unencrypted': 15384,\n",
       " 'hearing': 6832,\n",
       " 'ssh': 13790,\n",
       " 'touted': 15001,\n",
       " 'obvious': 10121,\n",
       " 'alternative': 1218,\n",
       " 'driving': 4768,\n",
       " 'interface': 7742,\n",
       " 'automate': 1722,\n",
       " 'site': 13316,\n",
       " 'development': 4352,\n",
       " 'highly': 6913,\n",
       " 'enabled': 5058,\n",
       " 'process': 11362,\n",
       " 'secure': 12850,\n",
       " 'transfer': 15056,\n",
       " 'entering': 5153,\n",
       " 'stackoverflow': 13813,\n",
       " 'presents': 11262,\n",
       " 'questions': 11696,\n",
       " 'thinks': 14752,\n",
       " 'likely': 8563,\n",
       " 'cover': 3552,\n",
       " 'topic': 14974,\n",
       " 'similar': 13277,\n",
       " 'features': 5669,\n",
       " 'sites': 13320,\n",
       " 'programs': 11440,\n",
       " 'systems': 14398,\n",
       " 'never': 9842,\n",
       " 'programmed': 11436,\n",
       " 'curious': 3740,\n",
       " 'sort': 13563,\n",
       " 'algorithm': 1159,\n",
       " 'approach': 1424,\n",
       " 'comes': 3048,\n",
       " 'mind': 9256,\n",
       " 'splitting': 13688,\n",
       " 'phrase': 10903,\n",
       " 'words': 16284,\n",
       " 'phrases': 10905,\n",
       " 'throw': 14795,\n",
       " 'insignificant': 7631,\n",
       " 'rank': 11777,\n",
       " 'results': 12362,\n",
       " 'hey': 6878,\n",
       " 'wait': 15985,\n",
       " 'let': 8503,\n",
       " 'us': 15587,\n",
       " 'pages': 10579,\n",
       " 'watchamacallit': 16027,\n",
       " 'engine': 5128,\n",
       " 'sell': 12912,\n",
       " 'ads': 1056,\n",
       " 'seriously': 12987,\n",
       " 'common': 3088,\n",
       " 'ways': 16041,\n",
       " 'solve': 13496,\n",
       " 'runs': 12622,\n",
       " 'accesses': 856,\n",
       " 'servers': 12997,\n",
       " 'members': 9131,\n",
       " 'domain': 4647,\n",
       " 'messages': 9173,\n",
       " 'private': 11329,\n",
       " 'queues': 11700,\n",
       " 'installed': 7646,\n",
       " 'reason': 11866,\n",
       " 'tries': 15125,\n",
       " 'computer': 3202,\n",
       " 'remote': 12127,\n",
       " 'available': 1740,\n",
       " 'message': 9166,\n",
       " 'admin': 1039,\n",
       " 'encountered': 5080,\n",
       " 'clue': 2908,\n",
       " 'causing': 2573,\n",
       " 'see': 12861,\n",
       " 'okay': 10189,\n",
       " '411': 514,\n",
       " 'handler': 6734,\n",
       " 'asax': 1526,\n",
       " 'cs': 3688,\n",
       " 'void': 15936,\n",
       " 'postrequesthandlerexecute': 11138,\n",
       " 'object': 10092,\n",
       " 'sender': 12924,\n",
       " 'eventargs': 5300,\n",
       " 'logic': 8735,\n",
       " 'determines': 4343,\n",
       " 'ajax': 1136,\n",
       " 'response': 12321,\n",
       " 'cookies': 3465,\n",
       " 'add': 977,\n",
       " 'httpcookie': 7058,\n",
       " 'mycookie': 9591,\n",
       " 'true': 15147,\n",
       " 'requests': 12246,\n",
       " 'result': 12355,\n",
       " 'times': 14855,\n",
       " 'condition': 3237,\n",
       " 'filters': 5791,\n",
       " 'non': 9940,\n",
       " 'relevant': 12100,\n",
       " 'include': 7390,\n",
       " 'brevity': 2249,\n",
       " 'sake': 12659,\n",
       " 'suffices': 14222,\n",
       " 'point': 11042,\n",
       " 'part': 10682,\n",
       " 'drives': 4767,\n",
       " 'nuts': 10076,\n",
       " 'javascript': 8096,\n",
       " 'delete': 4165,\n",
       " 'deletecookie': 4168,\n",
       " 'cookiedate': 3461,\n",
       " 'date': 3949,\n",
       " 'settime': 13101,\n",
       " 'gettime': 6456,\n",
       " 'document': 4615,\n",
       " 'expires': 5465,\n",
       " 'togmtstring': 14928,\n",
       " 'course': 3548,\n",
       " 'job': 8152,\n",
       " 'exists': 5420,\n",
       " 'library': 8535,\n",
       " 'html': 7038,\n",
       " 'mails': 8893,\n",
       " 'trim': 15131,\n",
       " 'reply': 12199,\n",
       " 'chain': 2653,\n",
       " 'needs': 9805,\n",
       " 'accept': 840,\n",
       " 'everything': 5322,\n",
       " 'actual': 961,\n",
       " 'removing': 12145,\n",
       " 'trail': 15034,\n",
       " 'content': 3374,\n",
       " 'expect': 5440,\n",
       " 'handle': 6732,\n",
       " 'responseswhen': 12324,\n",
       " 'interleaved': 7754,\n",
       " 'previous': 11287,\n",
       " 'mail': 8885,\n",
       " 'responses': 12322,\n",
       " 'case': 2536,\n",
       " 'fail': 5594,\n",
       " 'home': 6954,\n",
       " 'built': 2343,\n",
       " 'sgmlreader': 13133,\n",
       " 'series': 12984,\n",
       " 'xsl': 16483,\n",
       " 'transforms': 15067,\n",
       " 'requires': 12255,\n",
       " 'maintenance': 8912,\n",
       " 'deal': 4021,\n",
       " 'buy': 2383,\n",
       " 'steve': 13922,\n",
       " 'membership': 9132,\n",
       " 'getuser': 6466,\n",
       " 'open': 10288,\n",
       " 'connection': 3285,\n",
       " 'dies': 4397,\n",
       " 'multipleactiveresultsets': 9530,\n",
       " 'string': 14008,\n",
       " 'provider': 11535,\n",
       " 'appears': 1380,\n",
       " 'class': 2805,\n",
       " 'ignoring': 7240,\n",
       " 'mars': 9000,\n",
       " 'connect': 3282,\n",
       " 'suggestions': 14233,\n",
       " 'scott': 12768,\n",
       " 'interesting': 7739,\n",
       " 'puzzle': 11624,\n",
       " 'downloaded': 4705,\n",
       " 'snippet': 13457,\n",
       " 'try': 15163,\n",
       " 'stuff': 14084,\n",
       " 'collections': 2997,\n",
       " 'generic': 6265,\n",
       " 'myclass': 9581,\n",
       " 'static': 13887,\n",
       " 'runsnippet': 12623,\n",
       " 'hashset': 6785,\n",
       " 'int': 7680,\n",
       " 'h': 6700,\n",
       " 'compile': 3133,\n",
       " 'type': 15241,\n",
       " 'missing': 9306,\n",
       " 'directive': 4446,\n",
       " 'reference': 11994,\n",
       " 'cannot': 2480,\n",
       " 'yet': 16526,\n",
       " 'finds': 5814,\n",
       " 'types': 15255,\n",
       " 'sorteddictionary': 13569,\n",
       " 'explanation': 5472,\n",
       " 'presumeably': 11275,\n",
       " 'covers': 3556,\n",
       " 'interested': 7738,\n",
       " 'compress': 3185,\n",
       " 'script': 12790,\n",
       " 'resources': 12312,\n",
       " 'saw': 12706,\n",
       " 'reached': 11824,\n",
       " 'tried': 15124,\n",
       " 'finding': 5810,\n",
       " 'solutions': 13495,\n",
       " 'talks': 14470,\n",
       " 'scripting': 12793,\n",
       " 'dynamic': 4855,\n",
       " 'checked': 2712,\n",
       " 'compression': 3189,\n",
       " 'temp': 14578,\n",
       " 'folder': 5938,\n",
       " 'iis': 7250,\n",
       " 'compressed': 3186,\n",
       " 'scripted': 12792,\n",
       " 'resource': 12308,\n",
       " 'led': 8473,\n",
       " 'conclusion': 3227,\n",
       " 'transferred': 15058,\n",
       " 'high': 6902,\n",
       " 'bandwidth': 1842,\n",
       " 'assume': 1604,\n",
       " 'b': 1778,\n",
       " 'simplest': 13287,\n",
       " 'retrieve': 12380,\n",
       " 'random': 11770,\n",
       " 'createprocess': 3618,\n",
       " 'createprocessw': 3620,\n",
       " 'max': 9049,\n",
       " '95': 743,\n",
       " 'path': 10728,\n",
       " 'characters': 2682,\n",
       " 'greater': 6610,\n",
       " 'according': 879,\n",
       " 'docs': 4610,\n",
       " 'resharper': 12282,\n",
       " 'ton': 14952,\n",
       " 'addins': 1000,\n",
       " 'worthy': 16330,\n",
       " 'hoping': 6977,\n",
       " 'sorting': 13571,\n",
       " 'skin': 13347,\n",
       " 'vb': 15776,\n",
       " 'ive': 8052,\n",
       " 'googled': 6547,\n",
       " 'skinned': 13349,\n",
       " 'someone': 13532,\n",
       " 'explaining': 5469,\n",
       " 'pay': 10751,\n",
       " 'product': 11393,\n",
       " 'programatically': 11425,\n",
       " 'translate': 15072,\n",
       " 'entirely': 5163,\n",
       " 'unique': 15416,\n",
       " 'explorer': 5486,\n",
       " 'store': 13951,\n",
       " 'history': 6928,\n",
       " 'data': 3861,\n",
       " 'url': 15572,\n",
       " 'visited': 15898,\n",
       " 'xp': 16473,\n",
       " 'sp3': 13592,\n",
       " 'ie7': 7200,\n",
       " 'basically': 1890,\n",
       " 'statistics': 13895,\n",
       " 'often': 10184,\n",
       " 'novice': 9998,\n",
       " 'ocaml': 10124,\n",
       " 'forgive': 6002,\n",
       " 'stupid': 14093,\n",
       " 'lot': 8804,\n",
       " 'absorb': 819,\n",
       " 'may': 9072,\n",
       " 'missed': 9303,\n",
       " 'documentation': 4616,\n",
       " 'base': 1861,\n",
       " 'starting': 13860,\n",
       " 'x': 16403,\n",
       " 'delta': 4203,\n",
       " 'refresh': 12019,\n",
       " 'z': 16548,\n",
       " 'duplication': 4833,\n",
       " 'scalar': 12721,\n",
       " 'magic': 8879,\n",
       " 'reflection': 12009,\n",
       " 'simply': 13294,\n",
       " 'calls': 2454,\n",
       " 'macros': 8871,\n",
       " 'believe': 1967,\n",
       " 'macro': 8870,\n",
       " 'source': 13575,\n",
       " 'portability': 11091,\n",
       " 'purpose': 11605,\n",
       " 'vss': 15960,\n",
       " 'fulfils': 6149,\n",
       " 'criteria': 3649,\n",
       " 'entire': 5162,\n",
       " 'database': 3868,\n",
       " 'held': 6844,\n",
       " 'pen': 10789,\n",
       " 'duplicated': 4828,\n",
       " 'local': 8689,\n",
       " 'require': 12248,\n",
       " 'central': 2619,\n",
       " 'easy': 4883,\n",
       " 'backup': 1818,\n",
       " 'restore': 12339,\n",
       " 'integrates': 7696,\n",
       " 'small': 13404,\n",
       " 'footprint': 5971,\n",
       " 'clean': 2826,\n",
       " 'compatible': 3124,\n",
       " 'vista': 15905,\n",
       " 'x64': 16409,\n",
       " 'went': 16130,\n",
       " 'subversion': 14195,\n",
       " 'tortoisesvn': 14985,\n",
       " 'pretty': 11278,\n",
       " 'robust': 12490,\n",
       " 'people': 10795,\n",
       " 'passing': 10706,\n",
       " 'xml': 16435,\n",
       " 'documents': 4624,\n",
       " 'input': 7589,\n",
       " 'wcf': 16045,\n",
       " 'service': 13003,\n",
       " 'option': 10349,\n",
       " 'incoming': 7403,\n",
       " 'deserialize': 4279,\n",
       " 'strongly': 14045,\n",
       " 'typed': 15244,\n",
       " 'properties': 11485,\n",
       " 'xpath': 16474,\n",
       " 'faster': 5633,\n",
       " 'answer': 1313,\n",
       " 'control': 3417,\n",
       " 'fire': 5828,\n",
       " 'happen': 6749,\n",
       " 'load': 8663,\n",
       " 'button': 2377,\n",
       " 'clicked': 2852,\n",
       " 'figure': 5729,\n",
       " 'click': 2850,\n",
       " 'called': 2440,\n",
       " 'capture': 2500,\n",
       " 'generates': 6260,\n",
       " 'dynamically': 4856,\n",
       " 'created': 3596,\n",
       " 'disable': 4464,\n",
       " 'box': 2215,\n",
       " ...}"
      ]
     },
     "execution_count": 56,
     "metadata": {},
     "output_type": "execute_result"
    }
   ],
   "source": [
    "bow_transform.vocabulary_"
   ]
  },
  {
   "cell_type": "markdown",
   "id": "7b7e0077",
   "metadata": {},
   "source": [
    "This should be the shape of all our data, I think. Here, 3500 rows (with one row for each StackOverflow question) and 16641 colums (one column for each word in our vocabulary -- so either a zero or a one, depending on if the word appears in the question)."
   ]
  },
  {
   "cell_type": "code",
   "execution_count": 57,
   "id": "33282978",
   "metadata": {},
   "outputs": [
    {
     "data": {
      "text/plain": [
       "(3500, 16641)"
      ]
     },
     "execution_count": 57,
     "metadata": {},
     "output_type": "execute_result"
    }
   ],
   "source": [
    "X_tr_bow.shape"
   ]
  },
  {
   "cell_type": "code",
   "execution_count": 58,
   "id": "d2eb7d83",
   "metadata": {},
   "outputs": [
    {
     "data": {
      "text/plain": [
       "array([[0, 0, 0, ..., 0, 0, 0],\n",
       "       [0, 0, 0, ..., 0, 0, 0],\n",
       "       [0, 0, 0, ..., 0, 0, 0],\n",
       "       ...,\n",
       "       [0, 0, 0, ..., 0, 0, 0],\n",
       "       [0, 0, 0, ..., 0, 0, 0],\n",
       "       [1, 0, 0, ..., 0, 0, 0]], dtype=int64)"
      ]
     },
     "execution_count": 58,
     "metadata": {},
     "output_type": "execute_result"
    }
   ],
   "source": [
    "X_tr_bow.toarray()"
   ]
  },
  {
   "cell_type": "markdown",
   "id": "b4feca39",
   "metadata": {},
   "source": [
    "I was unable to find an easy way to get a list of words and their frequencies out, but this approach was given as an answer on a StackOverflow question:"
   ]
  },
  {
   "cell_type": "code",
   "execution_count": 59,
   "id": "a9e48508",
   "metadata": {},
   "outputs": [
    {
     "name": "stdout",
     "output_type": "stream",
     "text": [
      "[('gt', 2062), ('lt', 1972), ('would', 1492), ('like', 1418), ('{', 1380), ('}', 1348), ('using', 1281), ('1', 1046), ('way', 1017), ('code', 1008), ('use', 1005), ('file', 908), ('get', 907), ('0', 893), ('want', 834), ('c', 813), ('new', 813), ('one', 813), ('data', 792), ('2', 778), ('application', 726), ('need', 725), ('string', 723), ('class', 705), ('\\\\', 689), ('know', 669), ('server', 655), ('net', 642), ('user', 637), ('system', 559), ('id', 541), ('object', 541), ('web', 536), ('name', 531), ('time', 531), ('something', 516), ('value', 516), ('page', 514), ('work', 500), ('set', 472), ('database', 470), ('table', 460), ('problem', 452), ('error', 448), ('function', 441), ('public', 440), ('3', 423), ('could', 419), ('int', 413), ('type', 410), ('anyone', 401), ('files', 399), ('list', 397), ('sql', 391), ('also', 385), ('return', 385), ('trying', 385), ('example', 383), ('windows', 382), ('cannot', 381), ('project', 377), ('text', 376), ('add', 372), ('create', 370), ('make', 369), ('e', 368), ('method', 355), ('find', 344), ('possible', 342), ('used', 340), ('question', 334), ('looking', 321), ('app', 318), ('thanks', 318), ('end', 311), ('following', 305), ('null', 305), ('see', 304), ('best', 303), ('run', 302), ('java', 300), ('select', 299), ('two', 298), ('first', 296), ('however', 295), ('asp', 293), ('working', 292), ('call', 290), ('control', 288), ('good', 288), ('edit', 280), ('test', 277), ('solution', 276), ('running', 274), ('5', 273), ('another', 272), ('able', 268), ('different', 268), ('seems', 267), ('etc', 264), ('update', 264), ('service', 260), ('access', 259), ('without', 256), ('works', 248), ('even', 243), ('b', 241), ('build', 240), ('found', 240), ('think', 240), ('form', 239), ('html', 239), ('source', 239), ('really', 237), ('number', 236), ('xml', 233), ('help', 231), ('version', 231), ('simple', 228), ('line', 226), ('users', 226), ('open', 222), ('query', 219), ('right', 219), ('void', 218), ('script', 216), ('tried', 216), ('write', 215), ('key', 214), ('php', 208), ('process', 208), ('back', 206), ('change', 206), ('program', 203), ('many', 201), ('4', 200), ('client', 200), ('case', 199), ('much', 199), ('read', 199), ('information', 198), ('objects', 196), ('view', 196), ('item', 195), ('sure', 195), ('image', 194), ('size', 194), ('better', 193), ('try', 193), ('values', 193), ('visual', 192), ('date', 191), ('site', 190), ('array', 189), ('since', 187), ('main', 186), ('based', 185), ('foo', 184), ('go', 184), ('x', 184), ('path', 183), ('current', 182), ('well', 182), ('still', 181), ('`', 180), ('default', 177), ('things', 177), ('>', 176), ('message', 176), ('currently', 175), ('say', 175), ('every', 174), ('exception', 174), ('td', 174), ('content', 173), ('done', 172), ('true', 172), ('8', 170), ('2008', 169), ('else', 168), ('instead', 168), ('url', 168), ('studio', 166), ('private', 165), ('g', 163), ('start', 162), ('bit', 160), ('event', 160), ('window', 160), ('point', 158), ('thing', 158), ('n', 156), ('nbsp', 156), ('methods', 155), ('show', 155), ('directory', 154), ('fine', 153), ('framework', 153), ('model', 153), ('via', 153), ('around', 151), ('lot', 150), ('may', 150), ('property', 150), ('python', 150), ('library', 149), ('might', 149), ('10', 148), ('column', 148), ('language', 148), ('machine', 148), ('input', 147), ('reference', 147), ('result', 147), ('field', 146), ('p', 146), ('static', 146), ('javascript', 145), ('look', 145), ('seem', 145), ('session', 145), ('display', 144), ('people', 143), ('check', 142), ('load', 142), ('getting', 141), ('going', 141), ('6', 140), ('anything', 140), ('part', 140), ('specific', 139), ('classes', 138), ('projects', 138), ('contains', 137), ('instance', 137), ('put', 137), ('support', 137), ('answer', 136), ('command', 136), ('custom', 136), ('ruby', 136), ('actually', 135), ('search', 135), ('similar', 135), ('called', 134), ('db', 134), ('dll', 134), ('log', 134), ('stuff', 134), ('within', 134), ('changes', 133), ('div', 133), ('folder', 133), ('stored', 133), ('thread', 133), ('created', 132), ('given', 132), ('items', 132), ('looks', 132), ('false', 131), ('ideas', 131), ('long', 131), ('idea', 130), ('microsoft', 130), ('var', 129), ('writing', 129), ('multiple', 128), ('request', 128), ('tools', 128), ('connection', 127), ('performance', 127), ('issue', 126), ('level', 126), ('already', 125), ('include', 125), ('let', 125), ('single', 125), ('variable', 125), ('wondering', 125), ('available', 124), ('got', 124), ('print', 124), ('take', 124), ('far', 122), ('order', 122), ('rather', 122), ('several', 121), ('9', 120), ('applications', 119), ('format', 119), ('design', 118), ('output', 118), ('development', 117), ('tables', 117), ('link', 116), ('post', 116), ('side', 116), ('someone', 116), ('task', 116), ('tool', 116), ('lib', 115), ('reason', 115), ('handle', 114), ('last', 114), ('please', 114), ('always', 112), ('base', 112), ('box', 112), ('00', 111), ('returns', 111), ('uses', 111), ('button', 110), ('click', 110), ('easy', 110), ('insert', 110), ('interface', 110), ('structure', 110), ('com', 109), ('keep', 109), ('memory', 109), ('results', 109), ('thought', 109), ('controls', 108), ('either', 108), ('store', 108), ('correct', 107), ('mysql', 107), ('approach', 106), ('delete', 106), ('needs', 106), ('document', 105), ('perl', 105), ('software', 105), ('bar', 104), ('everything', 104), ('root', 104), ('standard', 104), ('browser', 103), ('info', 103), ('row', 103), ('properties', 102), ('though', 102), ('unit', 102), ('width', 102), ('images', 101), ('index', 101), ('inside', 101), ('action', 100), ('copy', 100), ('must', 100), ('mvc', 100), ('option', 100), ('pages', 100), ('address', 99), ('email', 99), ('tag', 99), ('api', 98), ('element', 98), ('gets', 98), ('response', 98), ('setting', 98), ('tests', 98), ('implement', 97), ('local', 97), ('svn', 97), ('never', 96), ('tell', 96), ('top', 96), ('allow', 95), ('fields', 95), ('functions', 95), ('second', 95), ('close', 94), ('come', 94), ('group', 94), ('kind', 94), ('small', 94), ('2005', 93), ('config', 93), ('google', 93), ('installed', 93), ('length', 93), ('little', 93), ('settings', 93), ('website', 93), ('errors', 92), ('large', 92), ('vs', 92), ('linux', 91), ('non', 91), ('send', 91), ('suggestions', 91), ('title', 91), ('certain', 90), ('ok', 90), ('testing', 90), ('written', 90), ('environment', 89), ('names', 89), ('options', 89), ('product', 89), ('context', 88), ('creating', 87), ('font', 87), ('free', 87), ('left', 87), ('probably', 87), ('convert', 86), ('existing', 86), ('generate', 86), ('import', 86), ('quite', 86), ('ui', 86), ('collection', 85), ('debug', 85), ('implementation', 85), ('linq', 85), ('missing', 85), ('parameter', 85), ('understand', 85), ('across', 84), ('built', 84), ('changed', 84), ('experience', 84), ('give', 84), ('install', 84), ('made', 84), ('provide', 84), ('real', 84), ('rows', 84), ('state', 84), ('added', 83), ('char', 83), ('day', 83), ('full', 83), ('li', 83), ('next', 83), ('sort', 83), ('wrong', 83), ('basic', 82), ('exe', 82), ('flash', 82), ('pass', 82), ('firefox', 81), ('generated', 81), ('loop', 81), ('maybe', 81), ('particular', 81), ('pretty', 81), ('seen', 81), ('style', 81), ('basically', 80), ('columns', 80), ('common', 80), ('compile', 80), ('parameters', 80), ('problems', 80), ('threads', 80), ('us', 80), ('documentation', 79), ('nothing', 79), ('pattern', 79), ('libraries', 78), ('original', 78), ('programming', 78), ('record', 78), ('resources', 78), ('eclipse', 77), ('empty', 77), ('recently', 77), ('simply', 77), ('whether', 77), ('cs', 76), ('dim', 76), ('enough', 76), ('jquery', 76), ('makes', 76), ('mean', 76), ('namespace', 76), ('per', 76), ('takes', 76), ('7', 75), ('count', 75), ('functionality', 75), ('great', 75), ('lines', 75), ('network', 75), ('replace', 75), ('save', 75), ('services', 75), ('calls', 74), ('controller', 74), ('double', 74), ('figure', 74), ('join', 74), ('security', 74), ('thinking', 74), ('types', 74), ('adding', 73), ('comment', 73), ('ie', 73), ('mode', 73), ('active', 72), ('course', 72), ('css', 72), ('old', 72), ('template', 72), ('assembly', 71), ('byte', 71), ('company', 71), ('dialog', 71), ('execute', 71), ('note', 71), ('related', 71), ('setup', 71), ('src', 71), ('useful', 71), ('100', 70), ('avoid', 70), ('forms', 70), ('generic', 70), ('h', 70), ('making', 70), ('sometimes', 70), ('yes', 70), ('account', 69), ('catch', 69), ('developers', 69), ('domain', 69), ('label', 69), ('location', 69), ('parent', 69), ('rails', 69), ('times', 69), ('whole', 69), ('const', 68), ('defined', 68), ('features', 68), ('gems', 68), ('job', 68), ('place', 68), ('screen', 68), ('stack', 68), ('ajax', 67), ('block', 67), ('header', 67), ('nice', 67), ('primary', 67), ('procedure', 67), ('child', 66), ('flex', 66), ('parse', 66), ('person', 66), ('target', 66), ('virtual', 66), ('yet', 66), ('login', 65), ('password', 65), ('reading', 65), ('team', 65), ('variables', 65), ('ways', 65), ('complete', 64), ('examples', 64), ('f', 64), ('issues', 64), ('statement', 64), ('aspx', 63), ('bad', 63), ('changing', 63), ('configuration', 63), ('console', 63), ('filename', 63), ('match', 63), ('needed', 63), ('runtime', 63), ('separate', 63), ('started', 63), ('tags', 63), ('tree', 63), ('anybody', 62), ('auto', 62), ('component', 62), ('difference', 62), ('least', 62), ('remove', 62), ('syntax', 62), ('word', 62), ('appreciated', 61), ('boolean', 61), ('elements', 61), ('feature', 61), ('management', 61), ('map', 61), ('automatically', 60), ('container', 60), ('details', 60), ('determine', 60), ('others', 60), ('report', 60), ('self', 60), ('textbox', 60), ('various', 60), ('~', 60), ('attribute', 59), ('body', 59), ('entire', 59), ('exist', 59), ('guess', 59), ('means', 59), ('questions', 59), ('required', 59), ('varchar', 59), ('â', 59), ('32', 58), ('algorithm', 58), ('background', 58), ('color', 58), ('external', 58), ('http', 58), ('numbers', 58), ('package', 58), ('sub', 58), ('vb', 58), ('vista', 58), ('cache', 57), ('constructor', 57), ('enter', 57), ('events', 57), ('fact', 57), ('general', 57), ('interested', 57), ('plugin', 57), ('selected', 57), ('z', 57), ('clear', 56), ('couple', 56), ('datetime', 56), ('developer', 56), ('integer', 56), ('internet', 56), ('links', 56), ('looked', 56), ('module', 56), ('regex', 56), ('requires', 56), ('solutions', 56), ('worked', 56), ('allows', 55), ('building', 55), ('define', 55), ('directly', 55), ('exists', 55), ('extension', 55), ('happens', 55), ('important', 55), ('l', 55), ('loaded', 55), ('passed', 55), ('tasks', 55), ('actual', 54), ('easily', 54), ('feel', 54), ('languages', 54), ('menu', 54), ('records', 54), ('repository', 54), ('servers', 54), ('switch', 54), ('valid', 54), ('wpf', 54), ('xp', 54), ('aware', 53), ('def', 53), ('manually', 53), ('matter', 53), ('ms', 53), ('std', 53), ('three', 53), ('apache', 52), ('begin', 52), ('bool', 52), ('cause', 52), ('comments', 52), ('correctly', 52), ('host', 52), ('obvious', 52), ('org', 52), ('os', 52), ('platform', 52), ('space', 52), ('step', 52), ('trace', 52), ('validation', 52), ('11', 51), ('^', 51), ('although', 51), ('appears', 51), ('ask', 51), ('behind', 51), ('big', 51), ('global', 51), ('hard', 51), ('height', 51), ('move', 51), ('obviously', 51), ('reasons', 51), ('sample', 51), ('throw', 51), ('tr', 51), ('binary', 50), ('contain', 50), ('float', 50), ('home', 50), ('points', 50), ('port', 50), ('quick', 50), ('remote', 50), ('scenario', 50), ('status', 50), ('stream', 50), ('advance', 49), ('break', 49), ('characters', 49), ('comes', 49), ('compiler', 49), ('contents', 49), ('documents', 49), ('explorer', 49), ('fix', 49), ('gives', 49), ('none', 49), ('often', 49), ('party', 49), ('perhaps', 49), ('sharepoint', 49), ('situation', 49), ('stop', 49), ('12', 48), ('apps', 48), ('drop', 48), ('due', 48), ('except', 48), ('expect', 48), ('iis', 48), ('later', 48), ('lock', 48), ('logic', 48), ('mail', 48), ('normal', 48), ('oracle', 48), ('properly', 48), ('references', 48), ('role', 48), ('shows', 48), ('solve', 48), ('tab', 48), ('together', 48), ('vendor', 48), ('calling', 47), ('customer', 47), ('days', 47), ('exceptions', 47), ('game', 47), ('guid', 47), ('ide', 47), ('parts', 47), ('perform', 47), ('prefer', 47), ('share', 47), ('third', 47), ('unfortunately', 47), ('business', 46), ('bytes', 46), ('developing', 46), ('entity', 46), ('entry', 46), ('failed', 46), ('goes', 46), ('gui', 46), ('internal', 46), ('obj', 46), ('r', 46), ('rb', 46), ('runs', 46), ('strings', 46), ('submit', 46), ('tostring', 46), ('turn', 46), ('wanted', 46), ('win', 46), ('years', 46), ('advice', 45), ('bin', 45), ('checked', 45), ('clients', 45), ('databases', 45), ('debugger', 45), ('excel', 45), ('fails', 45), ('ip', 45), ('keys', 45), ('member', 45), ('panel', 45), ('position', 45), ('prevent', 45), ('says', 45), ('timeout', 45), ('world', 45), ('15', 44), ('assume', 44), ('description', 44), ('device', 44), ('disk', 44), ('extra', 44), ('fail', 44), ('fixed', 44), ('hours', 44), ('including', 44), ('msg', 44), ('node', 44), ('rake', 44), ('recommend', 44), ('starting', 44), ('suggest', 44), ('usually', 44), ('along', 43), ('anyway', 43), ('dev', 43), ('learn', 43), ('resource', 43), ('somehow', 43), ('\\x80\\x99', 43), ('attributes', 42), ('boxes', 42), ('compiled', 42), ('computer', 42), ('connect', 42), ('designer', 42), ('drive', 42), ('efficient', 42), ('handler', 42), ('happen', 42), ('machines', 42), ('necessary', 42), ('override', 42), ('protected', 42), ('specifically', 42), ('timer', 42), ('unique', 42), ('wcf', 42), ('50', 41), ('answers', 41), ('desktop', 41), ('download', 41), ('encoding', 41), ('ever', 41), ('expression', 41), ('media', 41), ('rules', 41), ('sender', 41), ('slow', 41), ('thoughts', 41), ('username', 41), ('assuming', 40), ('away', 40), ('bgcolor', 40), ('buffer', 40), ('constraint', 40), ('echo', 40), ('expected', 40), ('filter', 40), ('hidden', 40), ('img', 40), ('mind', 40), ('online', 40), ('release', 40), ('returned', 40), ('sense', 40), ('servlet', 40), ('shared', 40), ('specify', 40), ('storing', 40), ('subversion', 40), ('trouble', 40), ('bunch', 39), ('coding', 39), ('complex', 39), ('dynamically', 39), ('easier', 39), ('exit', 39), ('explain', 39), ('force', 39), ('max', 39), ('modules', 39), ('pdf', 39), ('pointer', 39), ('practice', 39), ('previous', 39), ('range', 39), ('require', 39), ('sites', 39), ('thank', 39), ('wait', 39), ('words', 39), ('08', 38), ('additional', 38), ('appear', 38), ('asking', 38), ('completely', 38), ('exactly', 38), ('high', 38), ('includes', 38), ('loading', 38), ('logging', 38), ('messages', 38), ('moment', 38), ('pk', 38), ('practices', 38), ('provider', 38), ('proxy', 38), ('queries', 38), ('reporting', 38), ('statements', 38), ('systems', 38), ('admin', 37), ('argument', 37), ('cases', 37), ('components', 37), ('creates', 37), ('duplicate', 37), ('instantrails', 37), ('invoke', 37), ('iphone', 37), ('jar', 37), ('longer', 37), ('multi', 37), ('schema', 37), ('suppose', 37), ('txt', 37), ('whatever', 37), ('20', 36), ('\\\\\\\\', 36), ('according', 36), ('books', 36), ('detect', 36), ('editor', 36), ('execution', 36), ('fairly', 36), ('finding', 36), ('future', 36), ('hand', 36), ('mobile', 36), ('player', 36), ('reports', 36), ('scripts', 36), ('seconds', 36), ('supposed', 36), ('throws', 36), ('ã', 36), ('achieve', 35), ('behavior', 35), ('believe', 35), ('binding', 35), ('care', 35), ('cell', 35), ('containing', 35), ('depending', 35), ('en', 35), ('extract', 35), ('hash', 35), ('ideally', 35), ('instances', 35), ('layer', 35), ('less', 35), ('modify', 35), ('operation', 35), ('param', 35), ('phone', 35), ('preferably', 35), ('receive', 35), ('said', 35), ('sets', 35), ('shell', 35), ('str', 35), ('taking', 35), ('track', 35), ('vector', 35), ('actions', 34), ('alternative', 34), ('apply', 34), ('character', 34), ('ex', 34), ('foreach', 34), ('head', 34), ('hello', 34), ('included', 34), ('installation', 34), ('interfaces', 34), ('latest', 34), ('models', 34), ('monitor', 34), ('office', 34), ('otherwise', 34), ('past', 34), ('piece', 34), ('processing', 34), ('requests', 34), ('s', 34), ('urls', 34), ('views', 34), ('win32', 34), ('16', 33), ('2003', 33), ('30', 33), ('ability', 33), ('amount', 33), ('args', 33), ('arguments', 33), ('authentication', 33), ('batch', 33), ('blah', 33), ('book', 33), ('came', 33), ('dates', 33), ('fire', 33), ('folders', 33), ('guys', 33), ('lists', 33), ('master', 33), ('production', 33), ('raw', 33), ('redirect', 33), ('retrieve', 33), ('sending', 33), ('somewhere', 33), ('specified', 33), ('updated', 33), ('updates', 33), ('upload', 33), ('userid', 33), ('v', 33), ('whenever', 33), ('worth', 33), ('www', 33), ('64', 32), ('accomplish', 32), ('alert', 32), ('alpha', 32), ('boost', 32), ('clean', 32), ('clicked', 32), ('deal', 32), ('decimal', 32), ('dictionary', 32), ('enabled', 32), ('finally', 32), ('frame', 32), ('hoping', 32), ('installer', 32), ('invalid', 32), ('limit', 32), ('lots', 32), ('native', 32), ('noticed', 32), ('procedures', 32), ('saying', 32), ('storage', 32), ('summary', 32), ('versions', 32), ('winforms', 32), ('zero', 32), ('13', 31), ('anywhere', 31), ('cursor', 31), ('dataset', 31), ('debugging', 31), ('declare', 31), ('exec', 31), ('fast', 31), ('focus', 31), ('foreign', 31), ('hope', 31), ('implemented', 31), ('managed', 31), ('manager', 31), ('merge', 31), ('packages', 31), ('products', 31), ('provides', 31), ('section', 31), ('special', 31), ('starts', 31), ('successfully', 31), ('talking', 31), ('timestamp', 31), ('transaction', 31), ('trunk', 31), ('upgrade', 31), ('appropriate', 30), ('arg', 30), ('assemblies', 30), ('collections', 30), ('coming', 30), ('considering', 30), ('core', 30), ('editing', 30), ('enable', 30), ('engine', 30), ('equivalent', 30), ('follow', 30), ('int32', 30), ('interesting', 30), ('known', 30), ('minutes', 30), ('month', 30), ('normally', 30), ('partial', 30), ('passing', 30), ('permissions', 30), ('processes', 30), ('random', 30), ('render', 30), ('rest', 30), ('searching', 30), ('short', 30), ('silverlight', 30), ('sp', 30), ('split', 30), ('success', 30), ('swf', 30), ('usage', 30), ('visible', 30), ('2007', 29), ('allowed', 29), ('almost', 29), ('article', 29), ('bind', 29), ('branch', 29), ('clicks', 29), ('configure', 29), ('displays', 29), ('executed', 29), ('frameworks', 29), ('grid', 29), ('href', 29), ('individual', 29), ('layout', 29), ('learning', 29), ('lets', 29), ('mapping', 29), ('maximum', 29), ('pc', 29), ('png', 29), ('possibly', 29), ('price', 29), ('reader', 29), ('remember', 29), ('thrown', 29), ('tomcat', 29), ('unless', 29), ('utf', 29), ('warning', 29), ('xsl', 29), ('{}', 29), ('2000', 28), ('ant', 28), ('arrays', 28), ('beans', 28), ('bug', 28), ('causing', 28), ('country', 28), ('cpu', 28), ('cross', 28), ('ctrl', 28), ('curious', 28), ('dd', 28), ('dependencies', 28), ('dynamic', 28), ('elegant', 28), ('entities', 28), ('graph', 28), ('handling', 28), ('history', 28), ('ignore', 28), ('j', 28), ('likely', 28), ('live', 28), ('love', 28), ('mentioned', 28), ('mostly', 28), ('occurred', 28), ('ones', 28), ('places', 28), ('pointers', 28), ('pre', 28), ('purpose', 28), ('ref', 28), ('regular', 28), ('showing', 28), ('socket', 28), ('speed', 28), ('spring', 28), ('strange', 28), ('struct', 28), ('stuck', 28), ('therefore', 28), ('today', 28), ('unable', 28), ('video', 28), ('webservice', 28), ('wonder', 28), ('callback', 27), ('capture', 27), ('commit', 27), ('deleted', 27), ('deployment', 27), ('disable', 27), ('effect', 27), ('especially', 27), ('eventargs', 27), ('executable', 27), ('front', 27), ('heard', 27), ('identity', 27), ('implementing', 27), ('inner', 27), ('js', 27), ('knows', 27), ('launch', 27), ('logs', 27), ('low', 27), ('maintain', 27), ('notice', 27), ('occur', 27), ('outside', 27), ('pl', 27), ('plain', 27), ('putting', 27), ('registry', 27), ('sent', 27), ('shape', 27), ('somewhat', 27), ('technical', 27), ('viewstate', 27), ('w', 27), ('wrote', 27), ('31', 26), ('area', 26), ('asked', 26), ('attempt', 26), ('browsers', 26), ('buttons', 26), ('causes', 26), ('checking', 26), ('definition', 26), ('delegate', 26), ('dns', 26), ('doc', 26), ('eg', 26), ('embedded', 26), ('express', 26), ('func', 26), ('generally', 26), ('graphics', 26), ('groups', 26), ('hosting', 26), ('knowledge', 26), ('mac', 26), ('oriented', 26), ('programmer', 26), ('requirements', 26), ('returning', 26), ('rule', 26), ('soon', 26), ('temp', 26), ('tested', 26), ('trigger', 26), ('u', 26), ('wants', 26), ('000', 25), ('architecture', 25), ('assign', 25), ('beta', 25), ('blog', 25), ('considered', 25), ('constant', 25), ('cookie', 25), ('displayed', 25), ('drawing', 25), ('essentially', 25), ('eventservice', 25), ('executing', 25), ('familiar', 25), ('helper', 25), ('helpful', 25), ('hit', 25), ('imagine', 25), ('io', 25), ('keyword', 25), ('leave', 25), ('nested', 25), ('occurs', 25), ('postback', 25), ('programs', 25), ('q', 25), ('refresh', 25), ('rendering', 25), ('route', 25), ('rpc', 25), ('selection', 25), ('supported', 25), ('transactions', 25), ('24', 24), ('bottom', 24), ('calculate', 24), ('categories', 24), ('choose', 24), ('commands', 24), ('confused', 24), ('connected', 24), ('difficult', 24), ('directories', 24), ('emacs', 24), ('expressions', 24), ('generates', 24), ('generating', 24), ('happening', 24), ('initial', 24), ('larger', 24), ('manage', 24), ('mouse', 24), ('named', 24), ('nhibernate', 24), ('opening', 24), ('operations', 24), ('plan', 24), ('plugins', 24), ('posts', 24), ('programmatically', 24), ('proper', 24), ('protocol', 24), ('prototype', 24), ('provided', 24), ('solved', 24), ('stackoverflow', 24), ('subject', 24), ('sun', 24), ('sys', 24), ('touch', 24), ('typed', 24), ('typeof', 24), ('typically', 24), ('verify', 24), ('year', 24), ('append', 23), ('author', 23), ('caching', 23), ('checkbox', 23), ('clr', 23), ('compare', 23), ('connecting', 23), ('counter', 23), ('deploy', 23), ('dir', 23), ('disabled', 23), ('dispose', 23), ('ensure', 23), ('fill', 23), ('formatting', 23), ('ftp', 23), ('goal', 23), ('hardware', 23), ('hold', 23), ('icon', 23), ('interop', 23), ('linked', 23), ('magic', 23), ('mfc', 23), ('mod', 23), ('onto', 23), ('pick', 23), ('printf', 23), ('quickly', 23), ('register', 23), ('resulting', 23), ('seeing', 23), ('svc', 23), ('terms', 23), ('topic', 23), ('ul', 23), ('validate', 23), ('backend', 22), ('blank', 22), ('category', 22), ('children', 22), ('classic', 22), ('continue', 22), ('conversion', 22), ('delphi', 22), ('direction', 22), ('dirty', 22), ('dom', 22), ('easiest', 22), ('everyone', 22), ('explanation', 22), ('export', 22), ('faster', 22), ('fit', 22), ('grep', 22), ('interval', 22), ('jpg', 22), ('keyboard', 22), ('limited', 22), ('members', 22), ('myclass', 22), ('num', 22), ('preferred', 22), ('pull', 22), ('represent', 22), ('routes', 22), ('shown', 22), ('suggestion', 22), ('t1', 22), ('t2', 22), ('technology', 22), ('tfs', 22), ('transfer', 22), ('updating', 22), ('utility', 22), ('xxx', 22), ('accepted', 21), ('ago', 21), ('blocks', 21), ('clarify', 21), ('clicking', 21), ('closed', 21), ('col1', 21), ('collect', 21), ('combobox', 21), ('connections', 21), ('cpp', 21), ('customers', 21), ('develop', 21), ('differences', 21), ('dont', 21), ('flag', 21), ('follows', 21), ('fonts', 21), ('functional', 21), ('garbage', 21), ('hear', 21), ('hibernate', 21), ('hosted', 21), ('hour', 21), ('huge', 21), ('inherited', 21), ('init', 21), ('iterate', 21), ('john', 21), ('json', 21), ('listview', 21), ('math', 21), ('min', 21), ('months', 21), ('msi', 21), ('opengl', 21), ('parsing', 21), ('plug', 21), ('present', 21), ('println', 21), ('reflection', 21), ('relation', 21), ('relationship', 21), ('removing', 21), ('runat', 21), ('sequence', 21), ('sessions', 21), ('sqlite', 21), ('ssrs', 21), ('thousands', 21), ('upon', 21), ('vm', 21), ('welcome', 21), ('19', 20), ('3rd', 20), ('accept', 20), ('accessing', 20), ('attachment', 20), ('attempting', 20), ('automated', 20), ('beginning', 20), ('bitmap', 20), ('byval', 20), ('cast', 20), ('community', 20), ('complicated', 20), ('concerned', 20), ('configured', 20), ('consider', 20), ('copying', 20), ('corner', 20), ('decided', 20), ('deployed', 20), ('developed', 20), ('drag', 20), ('edition', 20), ('effort', 20), ('enterprise', 20), ('equals', 20), ('explicit', 20), ('filestream', 20), ('final', 20), ('finished', 20), ('giving', 20), ('httpcontext', 20), ('keeping', 20), ('legacy', 20), ('loads', 20), ('log4net', 20), ('lost', 20), ('luck', 20), ('matches', 20), ('mdc', 20), ('mm', 20), ('modified', 20), ('msdn', 20), ('mssql', 20), ('notification', 20), ('operator', 20), ('paste', 20), ('paths', 20), ('previously', 20), ('push', 20), ('ready', 20), ('received', 20), ('removed', 20), ('safari', 20), ('sources', 20), ('straight', 20), ('suggested', 20), ('supports', 20), ('term', 20), ('threading', 20), ('usercontrol', 20), ('val', 20), ('vim', 20), ('wrap', 20), ('00ff00', 19), ('01', 19), ('<', 19), ('abc', 19), ('add8e6', 19), ('assert', 19), ('average', 19), ('become', 19), ('center', 19), ('complexity', 19), ('concept', 19), ('de', 19), ('delta', 19), ('dosomething', 19), ('driver', 19), ('entries', 19), ('extends', 19), ('fetch', 19), ('figured', 19), ('fk', 19), ('git', 19), ('gmail', 19), ('handles', 19), ('identify', 19), ('implements', 19), ('indexes', 19), ('jvm', 19), ('logged', 19), ('logger', 19), ('macro', 19), ('madtastic', 19), ('matching', 19), ('planning', 19), ('play', 19), ('plus', 19), ('prefix', 19), ('purposes', 19), ('ran', 19), ('relatively', 19), ('revision', 19), ('safe', 19), ('scope', 19), ('smtp', 19), ('soap', 19), ('strategy', 19), ('super', 19), ('swing', 19), ('sync', 19), ('total', 19), ('towards', 19), ('ugly', 19), ('util', 19), ('week', 19), ('worker', 19), ('wrapper', 19), ('x86', 19), ('yyyy', 19), ('\\x80\\x9d', 19), ('air', 18), ('alter', 18), ('articles', 18), ('attached', 18), ('choice', 18), ('clause', 18), ('codes', 18), ('completed', 18), ('concern', 18), ('cost', 18), ('csv', 18), ('dataitem', 18), ('displaying', 18), ('draw', 18), ('emails', 18), ('firstname', 18), ('handled', 18), ('ids', 18), ('im', 18), ('inserting', 18), ('integrate', 18), ('knowing', 18), ('labels', 18), ('locations', 18), ('locked', 18), ('meta', 18), ('moved', 18), ('nvarchar', 18), ('onclick', 18), ('opened', 18), ('parser', 18), ('particularly', 18), ('potential', 18), ('programmers', 18), ('qa', 18), ('reasonable', 18), ('red', 18), ('refactoring', 18), ('requirement', 18), ('rid', 18), ('salt', 18), ('saving', 18), ('saw', 18), ('sdk', 18), ('secure', 18), ('sizeof', 18), ('snippet', 18), ('sp1', 18), ('span', 18), ('statistics', 18), ('structures', 18), ('tells', 18), ('templates', 18), ('thingy', 18), ('throwing', 18), ('uint', 18), ('usr', 18), ('warnings', 18), ('wish', 18), ('xhtml', 18), ('xpath', 18), ('yahoo', 18), ('zip', 18), ('25', 17), ('40', 17), ('500', 17), ('60', 17), ('administrator', 17), ('advantage', 17), ('apparently', 17), ('appreciate', 17), ('associated', 17), ('audio', 17), ('baz', 17), ('behaviour', 17), ('builds', 17), ('calendar', 17), ('cant', 17), ('certificate', 17), ('chr', 17), ('cmd', 17), ('compiling', 17), ('condition', 17), ('contact', 17), ('contained', 17), ('converted', 17), ('criteria', 17), ('datacontext', 17), ('decent', 17), ('designing', 17), ('direct', 17), ('dlls', 17), ('docs', 17), ('dropdownlist', 17), ('employee', 17), ('failure', 17), ('flow', 17), ('forward', 17), ('gcc', 17), ('googling', 17), ('hack', 17), ('half', 17), ('happy', 17), ('headers', 17), ('heavy', 17), ('indicate', 17), ('installing', 17), ('irb', 17), ('jsp', 17), ('laptop', 17), ('makefile', 17), ('meant', 17), ('midl', 17), ('msbuild', 17), ('neither', 17), ('nicely', 17), ('nodes', 17), ('offer', 17), ('offset', 17), ('optional', 17), ('organization', 17), ('outlook', 17), ('period', 17), ('pointed', 17), ('popup', 17), ('presentation', 17), ('press', 17), ('prompt', 17), ('publish', 17), ('quality', 17), ('reads', 17), ('regarding', 17), ('relevant', 17), ('rendered', 17), ('requested', 17), ('scroll', 17), ('sensitive', 17), ('serialize', 17), ('taken', 17), ('tcp', 17), ('thus', 17), ('took', 17), ('trick', 17), ('triggers', 17), ('turned', 17), ('typical', 17), ('utils', 17), ('websites', 17), ('weight', 17), ('\\x80\\x98', 17), ('\\x80\\x9c', 17), ('90', 16), ('abstract', 16), ('alias', 16), ('align', 16), ('among', 16), ('bash', 16), ('bean', 16), ('bob', 16), ('br', 16), ('breaks', 16), ('canvas', 16), ('checkout', 16), ('co', 16), ('combination', 16), ('computers', 16), ('copies', 16), ('crash', 16), ('culture', 16), ('custid', 16), ('datasource', 16), ('decide', 16), ('described', 16), ('discovered', 16), ('dropdown', 16), ('dropped', 16), ('encrypt', 16), ('equal', 16), ('extern', 16), ('flags', 16), ('flush', 16), ('foobar', 16), ('gem', 16), ('hover', 16), ('immediately', 16), ('improve', 16), ('increment', 16), ('inherits', 16), ('inline', 16), ('intptr', 16), ('isreachable', 16), ('jframe', 16), ('keeps', 16), ('levels', 16), ('life', 16), ('lose', 16), ('maintaining', 16), ('markup', 16), ('meaning', 16), ('okay', 16), ('operating', 16), ('opinions', 16), ('overhead', 16), ('patterns', 16), ('performs', 16), ('physical', 16), ('picture', 16), ('playing', 16), ('power', 16), ('printing', 16), ('produce', 16), ('reduce', 16), ('restart', 16), ('roll', 16), ('scheme', 16), ('series', 16), ('serve', 16), ('simplest', 16), ('slave', 16), ('sorry', 16), ('sp2', 16), ('stage', 16), ('terminal', 16), ('traffic', 16), ('tries', 16), ('typing', 16), ('understanding', 16), ('unix', 16), ('viewer', 16), ('xaml', 16), ('ä', 16), ('0000', 15), ('14', 15), ('acceptable', 15), ('accessed', 15), ('ado', 15), ('anymore', 15), ('apple', 15), ('arbitrary', 15), ('attr', 15), ('backup', 15), ('benefits', 15), ('border', 15), ('browsing', 15), ('checks', 15), ('cheers', 15), ('clarification', 15), ('clearly', 15), ('clue', 15), ('colors', 15), ('companies', 15), ('corresponding', 15), ('cstring', 15), ('dealing', 15), ('deep', 15), ('definitions', 15), ('diagrams', 15), ('dimensions', 15), ('dr', 15), ('drupal', 15), ('dump', 15), ('edge', 15), ('embed', 15), ('encountered', 15), ('english', 15), ('eventually', 15), ('experiences', 15), ('explicitly', 15), ('expose', 15), ('factory', 15), ('failing', 15), ('ideal', 15), ('iframe', 15), ('incorrect', 15), ('inserted', 15), ('inserts', 15), ('involved', 15), ('itemtemplate', 15), ('k', 15), ('kept', 15), ('keywords', 15), ('letter', 15), ('light', 15), ('listed', 15), ('listitem', 15), ('macros', 15), ('marked', 15), ('missed', 15), ('moving', 15), ('mx', 15), ('myitem', 15), ('nant', 15), ('offline', 15), ('oo', 15), ('overflow', 15), ('p1', 15), ('pop', 15), ('processor', 15), ('profile', 15), ('queue', 15), ('recommendations', 15), ('recommended', 15), ('regards', 15), ('relative', 15), ('rely', 15), ('research', 15), ('reset', 15), ('rewrite', 15), ('scan', 15), ('scanner', 15), ('serialization', 15), ('signal', 15), ('sound', 15), ('ssl', 15), ('states', 15), ('steps', 15), ('subclass', 15), ('substring', 15), ('suspect', 15), ('symbol', 15), ('templated', 15), ('th', 15), ('tips', 15), ('transform', 15), ('translation', 15), ('twice', 15), ('uml', 15), ('unicode', 15), ('usb', 15), ('vb6', 15), ('vbscript', 15), ('webpage', 15), ('went', 15), ('white', 15), ('workaround', 15), ('123', 14), ('17', 14), ('200', 14), ('255', 14), ('27', 14), ('2d', 14), ('absolute', 14), ('accurate', 14), ('advantages', 14), ('algorithms', 14), ('allocated', 14), ('approaches', 14), ('areas', 14), ('bindsrccontract', 14), ('bound', 14), ('calculated', 14), ('categoryid', 14), ('catid', 14), ('cc', 14), ('chance', 14), ('chrome', 14), ('cms', 14), ('cocoa', 14), ('coded', 14), ('combo', 14), ('commercial', 14), ('communicate', 14), ('compared', 14), ('compatibility', 14), ('compatible', 14), ('compilers', 14), ('copied', 14), ('currentpage', 14), ('definitely', 14), ('detail', 14), ('diff', 14), ('dimension', 14), ('dto', 14), ('enum', 14), ('eval', 14), ('extend', 14), ('games', 14), ('gridview', 14), ('hopefully', 14), ('htaccess', 14), ('ie7', 14), ('impossible', 14), ('increase', 14), ('indeed', 14), ('insn', 14), ('interact', 14), ('interaction', 14), ('iso', 14), ('istream', 14), ('iâ', 14), ('jtogglebutton', 14), ('lastname', 14), ('learned', 14), ('mainly', 14), ('major', 14), ('manual', 14), ('mechanism', 14), ('mention', 14), ('mess', 14), ('mydate', 14), ('navigation', 14), ('necessarily', 14), ('odd', 14), ('owner', 14), ('performing', 14), ('perldoc', 14), ('pixel', 14), ('platforms', 14), ('pointing', 14), ('potentially', 14), ('powershell', 14), ('practical', 14), ('ps', 14), ('pubtime', 14), ('pure', 14), ('qt', 14), ('ram', 14), ('readonly', 14), ('realize', 14), ('reliable', 14), ('repo', 14), ('representation', 14), ('resolve', 14), ('review', 14), ('rich', 14), ('rights', 14), ('roundedheight', 14), ('roundedwidth', 14), ('rs', 14), ('saved', 14), ('serial', 14), ('shipping', 14), ('shortcut', 14), ('simpler', 14), ('somebody', 14), ('spaces', 14), ('spec', 14), ('spend', 14), ('tabs', 14), ('temporary', 14), ('theme', 14), ('token', 14), ('translate', 14), ('turns', 14), ('ubuntu', 14), ('uk', 14), ('uri', 14), ('v3', 14), ('vs2005', 14), ('weird', 14), ('worry', 14), ('xcode', 14), ('001', 13), ('04', 13), ('1000', 13), ('1024', 13), ('120', 13), ('128', 13), ('8000', 13), ('accessible', 13), ('accounts', 13), ('activerecord', 13), ('activex', 13), ('adobe', 13), ('age', 13), ('alt', 13), ('analysis', 13), ('automate', 13), ('avail', 13), ('benefit', 13), ('beyond', 13), ('bits', 13), ('blue', 13), ('bugs', 13), ('caused', 13), ('ce', 13), ('certainly', 13), ('ci', 13), ('communication', 13), ('concepts', 13), ('conditions', 13), ('cons', 13), ('consuming', 13), ('crashes', 13), ('crazy', 13), ('createlog', 13), ('creation', 13), ('dc', 13), ('declared', 13), ('dedicated', 13), ('derived', 13), ('devices', 13), ('diagnostics', 13), ('dispatcher', 13), ('divs', 13), ('django', 13), ('ds', 13), ('encrypted', 13), ('encryption', 13), ('ends', 13), ('environments', 13), ('err', 13), ('escape', 13), ('executioncontext', 13), ('expensive', 13), ('extensions', 13), ('filled', 13), ('forum', 13), ('friendly', 13), ('fully', 13), ('generator', 13), ('guide', 13), ('helps', 13), ('hierarchy', 13), ('identical', 13), ('ie6', 13), ('initialize', 13), ('integration', 13), ('invoked', 13), ('iqueryable', 13), ('itemid', 13), ('javax', 13), ('lack', 13), ('lang', 13), ('lbltext', 13), ('letters', 13), ('limitations', 13), ('lookup', 13), ('managing', 13), ('maps', 13), ('marshal', 13), ('matters', 13), ('maven', 13), ('mb', 13), ('medium', 13), ('memorystream', 13), ('middle', 13), ('modern', 13), ('myfile', 13), ('oop', 13), ('optimization', 13), ('p3', 13), ('pairs', 13), ('parallel', 13), ('patch', 13), ('perfect', 13), ('periodically', 13), ('pieces', 13), ('possibility', 13), ('posting', 13), ('priority', 13), ('produces', 13), ('professional', 13), ('pros', 13), ('receiving', 13), ('rectangle', 13), ('referenced', 13), ('remoting', 13), ('repeat', 13), ('replication', 13), ('repositories', 13), ('samples', 13), ('sh', 13), ('situations', 13), ('smaller', 13), ('sounds', 13), ('specifying', 13), ('spent', 13), ('stl', 13), ('stores', 13), ('stringbuilder', 13), ('strip', 13), ('styles', 13), ('subset', 13), ('sum', 13), ('supporting', 13), ('sw', 13), ('t', 13), ('tblvillas', 13), ('textboxes', 13), ('told', 13), ('translated', 13), ('trees', 13), ('trivial', 13), ('u001b', 13), ('union', 13), ('unsigned', 13), ('upper', 13), ('valuationinput', 13), ('writeline', 13), ('xslt', 13), ('80', 12), ('8859', 12), ('actionscript', 12), ('ad', 12), ('alternatives', 12), ('appender', 12), ('associations', 12), ('attach', 12), ('black', 12), ('browse', 12), ('ca', 12), ('cached', 12), ('cascade', 12), ('closing', 12), ('col2', 12), ('collectid', 12), ('conf', 12), ('confirm', 12), ('connectionstring', 12), ('declaration', 12), ('declspec', 12), ('depend', 12), ('depends', 12), ('depth', 12), ('differently', 12), ('distinct', 12), ('dot', 12), ('downloaded', 12), ('dpi', 12), ('duplicates', 12), ('edited', 12), ('em1', 12), ('endif', 12), ('entirely', 12), ('expecting', 12), ('expired', 12), ('extremely', 12), ('fd', 12), ('feed', 12), ('feedback', 12), ('feels', 12), ('fires', 12), ('formatted', 12), ('generation', 12), ('grab', 12), ('grails', 12), ('greatly', 12), ('hints', 12), ('hits', 12), ('httpapplication', 12), ('https', 12), ('integrated', 12), ('intend', 12), ('intended', 12), ('jboss', 12), ('leaving', 12), ('locale', 12), ('man', 12), ('mapped', 12), ('mark', 12), ('membership', 12), ('metadata', 12), ('mine', 12), ('namevaluepairs', 12), ('nullable', 12), ('objective', 12), ('older', 12), ('opinion', 12), ('originally', 12), ('overall', 12), ('parentid', 12), ('partition', 12), ('passwords', 12), ('pdo', 12), ('pipe', 12), ('plenty', 12), ('posted', 12), ('postid', 12), ('prints', 12), ('programatically', 12), ('querying', 12), ('querystring', 12), ('quotes', 12), ('recordset', 12), ('refer', 12), ('referencing', 12), ('registered', 12), ('reload', 12), ('remotely', 12), ('replaced', 12), ('replacing', 12), ('resize', 12), ('responses', 12), ('robust', 12), ('rtf', 12), ('scalar', 12), ('searched', 12), ('sends', 12), ('served', 12), ('sessionid', 12), ('si', 12), ('signature', 12), ('signed', 12), ('significant', 12), ('sleep', 12), ('sorting', 12), ('sr', 12), ('ssis', 12), ('stderr', 12), ('street', 12), ('student', 12), ('techniques', 12), ('tend', 12), ('tmp', 12), ('todo', 12), ('totally', 12), ('traditional', 12), ('triggered', 12), ('truncate', 12), ('tutorials', 12), ('underlying', 12), ('wheel', 12), ('wiki', 12), ('wise', 12), ('wordpress', 12), ('x2', 12), ('xmlns', 12), ('18', 11), ('26', 11), ('404', 11), ('acceptchanges', 11), ('advanced', 11), ('anonymous', 11), ('apis', 11), ('arraylist', 11), ('ascii', 11), ('aside', 11), ('assigned', 11), ('awt', 11), ('base64', 11), ('biztalk', 11), ('bmp', 11), ('branches', 11), ('breakpoint', 11), ('broken', 11), ('chain', 11), ('compilation', 11), ('concrete', 11), ('connector', 11), ('constraints', 11), ('converting', 11), ('credentials', 11), ('curl', 11), ('customize', 11), ('dependency', 11), ('desired', 11), ('detailed', 11), ('directive', 11), ('driving', 11), ('ease', 11), ('editable', 11), ('effectively', 11), ('ejb', 11), ('em', 11), ('entered', 11), ('exact', 11), ('f5', 11), ('feeling', 11), ('followed', 11), ('food', 11), ('formats', 11), ('fps', 11), ('gone', 11), ('graphical', 11), ('greater', 11), ('haschanges', 11), ('hide', 11), ('highest', 11), ('highly', 11), ('hundred', 11), ('independent', 11), ('instructions', 11), ('introduce', 11), ('involves', 11), ('jpanel', 11), ('layers', 11), ('ldap', 11), ('lead', 11), ('leak', 11), ('loader', 11), ('locking', 11), ('m', 11), ('manner', 11), ('messy', 11), ('migrate', 11), ('minimum', 11), ('money', 11), ('mystring', 11), ('nunit', 11), ('openid', 11), ('optimal', 11), ('orders', 11), ('padding', 11), ('payload', 11), ('pbuilder', 11), ('performed', 11), ('permission', 11), ('personally', 11), ('placed', 11), ('placeholder', 11), ('pm', 11), ('populate', 11), ('preferences', 11), ('preview', 11), ('providers', 11), ('raise', 11), ('rate', 11), ('recursive', 11), ('refactor', 11), ('repeater', 11), ('rolling', 11), ('rounded', 11), ('routine', 11), ('routing', 11), ('sake', 11), ('saves', 11), ('selecting', 11), ('selectsql', 11), ('slightly', 11), ('sorts', 11), ('sourcesafe', 11), ('specs', 11), ('sprint', 11), ('sproc', 11), ('sqlconnection', 11), ('sqlserver', 11), ('stable', 11), ('standalone', 11), ('stay', 11), ('stopped', 11), ('structured', 11), ('teams', 11), ('tester', 11), ('toolkit', 11), ('tracking', 11), ('treeview', 11), ('trust', 11), ('tutorial', 11), ('typedef', 11), ('undefined', 11), ('var1', 11), ('vba', 11), ('wire', 11), ('writes', 11), ('ws', 11), ('wss', 11), ('xs', 11), ('}}', 11), ('127', 10), ('150', 10), ('168', 10), ('23', 10), ('256', 10), ('8080', 10), ('99', 10), ('agent', 10), ('allowing', 10), ('answered', 10), ('applies', 10), ('assumption', 10), ('asynchronous', 10), ('backlabel', 10), ('bat', 10), ('btw', 10), ('capabilities', 10), ('col', 10), ('compact', 10), ('comparison', 10), ('compute', 10), ('consistent', 10), ('consists', 10), ('cool', 10), ('dao', 10), ('datagridview', 10), ('db2', 10), ('dbo', 10), ('defaultvalue', 10), ('defining', 10), ('demand', 10), ('demo', 10), ('describe', 10), ('devenv', 10), ('doctype', 10), ('domains', 10), ('dominator', 10), ('driven', 10), ('dt', 10), ('early', 10), ('em2', 10), ('encoded', 10), ('ended', 10), ('estimate', 10), ('exclude', 10), ('exercise', 10), ('expand', 10), ('experienced', 10), ('ext', 10), ('extended', 10), ('eye', 10), ('facility', 10), ('fall', 10), ('favorite', 10), ('feet', 10), ('forever', 10), ('forth', 10), ('frequently', 10), ('fun', 10), ('generics', 10), ('getlastwin32error', 10), ('gettype', 10), ('googled', 10), ('gotten', 10), ('graphic', 10), ('guarantee', 10), ('gwt', 10), ('handful', 10), ('hate', 10), ('heap', 10), ('hence', 10), ('higher', 10), ('holding', 10), ('ienumerable', 10), ('imageid', 10), ('incoming', 10), ('infinite', 10), ('ins', 10), ('instantiated', 10), ('intellisense', 10), ('interest', 10), ('intranet', 10), ('ints', 10), ('ismultigraph', 10), ('item3', 10), ('jdbc', 10), ('jre', 10), ('kb', 10), ('kill', 10), ('lan', 10), ('latter', 10), ('len', 10), ('linker', 10), ('localized', 10), ('locks', 10), ('logon32', 10), ('ls', 10), ('lucene', 10), ('magazine', 10), ('margin', 10), ('merging', 10), ('metric', 10), ('migration', 10), ('mime', 10), ('minor', 10), ('modifying', 10), ('moss', 10), ('mymethod', 10), ('namely', 10), ('namespaces', 10), ('naming', 10), ('nearly', 10), ('ntext', 10), ('occasionally', 10), ('oh', 10), ('outer', 10), ('outputs', 10), ('p2', 10), ('pair', 10), ('percentage', 10), ('php5', 10), ('pi', 10), ('policy', 10), ('popular', 10), ('populated', 10), ('pos', 10), ('printer', 10), ('proc', 10), ('processed', 10), ('profiling', 10), ('progress', 10), ('pseudo', 10), ('ranges', 10), ('reach', 10), ('reasonably', 10), ('regardless', 10), ('region', 10), ('replacement', 10), ('replicate', 10), ('represents', 10), ('resolution', 10), ('restore', 10), ('rewritecond', 10), ('rewriterule', 10), ('roughly', 10), ('rss', 10), ('sa', 10), ('sb', 10), ('sconscript', 10), ('scripting', 10), ('searches', 10), ('seemed', 10), ('shadow', 10), ('shoppingcartitem', 10), ('simulate', 10), ('sizes', 10), ('slower', 10), ('specification', 10), ('square', 10), ('star', 10), ('stmt', 10), ('stops', 10), ('straightforward', 10), ('strongly', 10), ('stylesheet', 10), ('subnus', 10), ('subsequent', 10), ('surface', 10), ('swap', 10), ('switches', 10), ('testclass', 10), ('thinks', 10), ('thumb', 10), ('toolbar', 10), ('tricky', 10), ('usual', 10), ('utilities', 10), ('val1', 10), ('viewed', 10), ('vmware', 10), ('vs2008', 10), ('webapp', 10), ('webserver', 10), ('whose', 10), ('wm', 10), ('wraps', 10), ('xmlhttp', 10), ('xsd', 10), ('´', 10), ('192', 9), ('22', 9), ('400', 9), ('absolutely', 9), ('activation', 9), ('adapter', 9), ('addition', 9), ('additionally', 9), ('addresses', 9), ('affect', 9), ('allocation', 9), ('alone', 9), ('animated', 9), ('animation', 9), ('annoying', 9), ('asax', 9), ('aspect', 9), ('asserttrue', 9), ('awesome', 9), ('axis', 9), ('becomes', 9), ('behave', 9), ('bindingsource', 9), ('bold', 9), ('boss', 9), ('bring', 9), ('builder', 9), ('c1', 9), ('calculation', 9), ('card', 9), ('choosing', 9), ('chosen', 9), ('cleaner', 9), ('clientlogin', 9), ('cluster', 9), ('clustered', 9), ('cmd2', 9), ('codeigniter', 9), ('combinations', 9), ('completion', 9), ('confusing', 9), ('conn', 9), ('controllers', 9), ('convenient', 9), ('convince', 9), ('corresponds', 9), ('counters', 9), ('critical', 9), ('databindings', 9), ('dependent', 9), ('desc', 9), ('designed', 9), ('discussion', 9), ('distribution', 9), ('documenttype', 9), ('doesnt', 9), ('dtd', 9), ('edits', 9), ('elsewhere', 9), ('employees', 9), ('env', 9), ('eventhandler', 9), ('excellent', 9), ('executes', 9), ('factor', 9), ('factors', 9), ('fancy', 9), ('filesystem', 9), ('fired', 9), ('firstordefault', 9), ('flexbuilder', 9), ('fly', 9), ('friend', 9), ('gateway', 9), ('gdb', 9), ('george', 9), ('gif', 9), ('guessing', 9), ('handlers', 9), ('happened', 9), ('harder', 9), ('held', 9), ('highlight', 9), ('highlighting', 9), ('hresult', 9), ('htmlhelper', 9), ('hundreds', 9), ('hwnd', 9), ('idl', 9), ('implementations', 9), ('improved', 9), ('inherit', 9), ('initialized', 9), ('initially', 9), ('inputs', 9), ('intel', 9), ('involve', 9), ('iocprovider', 9), ('january', 9), ('jeff', 9), ('kinds', 9), ('largest', 9), ('latency', 9), ('layouts', 9), ('listener', 9), ('listening', 9), ('locally', 9), ('logical', 9), ('logon', 9), ('london', 9), ('lower', 9), ('messagebox', 9), ('mid', 9), ('minimize', 9), ('mix', 9), ('mono', 9), ('mpadding', 9), ('mutex', 9), ('mydelegate', 9), ('myfield', 9), ('near', 9), ('networking', 9), ('newbie', 9), ('newer', 9), ('numeric', 9), ('ord', 9), ('orm', 9), ('otherinfo', 9), ('overkill', 9), ('packets', 9), ('perfectly', 9), ('pipeline', 9), ('pipes', 9), ('pixels', 9), ('pool', 9), ('powerpoint', 9), ('presented', 9), ('prices', 9), ('printdate', 9), ('prior', 9), ('published', 9), ('puts', 9), ('rand', 9), ('readable', 9), ('recognize', 9), ('recreate', 9), ('renders', 9), ('retrieving', 9), ('reverse', 9), ('roles', 9), ('scale', 9), ('school', 9), ('score', 9), ('scrum', 9), ('secs', 9), ('separately', 9), ('seperate', 9), ('serializable', 9), ('serving', 9), ('shift', 9), ('sidebar', 9), ('sign', 9), ('singleton', 9), ('skills', 9), ('skip', 9), ('smart', 9), ('snippets', 9), ('speech', 9), ('spirit', 9), ('sqlclient', 9), ('startdate', 9), ('storageobject', 9), ('streams', 9), ('struggling', 9), ('struts', 9), ('submitchanges', 9), ('submitted', 9), ('subsonic', 9), ('successful', 9), ('suitable', 9), ('suite', 9), ('surely', 9), ('tablename', 9), ('talk', 9), ('theory', 9), ('tiff', 9), ('tiles', 9), ('tip', 9), ('toarray', 9), ('tuple', 9), ('uninstall', 9), ('updatepanel', 9), ('v2', 9), ('varying', 9), ('visio', 9), ('volume', 9), ('w3c', 9), ('webforms', 9), ('whereas', 9), ('wide', 9), ('wrapped', 9), ('x64', 9), ('xyz', 9), ('zone', 9), ('02', 8), ('10000', 8), ('28', 8), ('2nd', 8), ('300', 8), ('34', 8), ('42', 8), ('59', 8), ('800', 8), ('a', 8), ('accepts', 8), ('achieved', 8), ('activesupport', 8), ('adapters', 8), ('addclass', 8), ('adds', 8), ('agile', 8), ('agnostic', 8), ('allocate', 8), ('alternate', 8), ('arr', 8), ('arrow', 8), ('as3', 8), ('asc', 8), ('assets', 8), ('attachments', 8), ('authenticate', 8), ('authorization', 8), ('automatic', 8), ('bandwidth', 8), ('bcelems', 8), ('beginner', 8), ('belongs', 8), ('besides', 8), ('bigger', 8), ('blend', 8), ('blob', 8), ('bloo', 8), ('broad', 8), ('buy', 8), ('camera', 8), ('capable', 8), ('catching', 8), ('cd', 8), ('central', 8), ('certificates', 8), ('channel', 8), ('chart', 8), ('compiles', 8), ('complains', 8), ('compression', 8), ('configurations', 8), ('constantly', 8), ('construct', 8), ('contract', 8), ('cookies', 8), ('corporate', 8), ('createprocess', 8), ('cultureinfo', 8), ('cygwin', 8), ('d', 8), ('da', 8), ('datatable', 8), ('datatype', 8), ('daterequired', 8), ('dbi', 8), ('delay', 8), ('descriptions', 8), ('despite', 8), ('destination', 8), ('devs', 8), ('directoryservices', 8), ('disadvantages', 8), ('divide', 8), ('documented', 8), ('documentid', 8), ('dog', 8), ('dojo', 8), ('downloading', 8), ('dozen', 8), ('drawbacks', 8), ('drawn', 8), ('duration', 8), ('dword', 8), ('effective', 8), ('engines', 8), ('errormessage', 8), ('ethernet', 8), ('exits', 8), ('experiment', 8), ('expert', 8), ('feasible', 8), ('field1', 8), ('figuring', 8), ('filepath', 8), ('finish', 8), ('firing', 8), ('floating', 8), ('forced', 8), ('fox', 8), ('gethashcode', 8), ('getprice', 8), ('gotchas', 8), ('gp', 8), ('granted', 8), ('graphs', 8), ('handy', 8), ('hashset', 8), ('hearing', 8), ('hey', 8), ('hierarchical', 8), ('hitting', 8), ('holds', 8), ('hti', 8), ('ibm', 8), ('idle', 8), ('ilist', 8), ('implicit', 8), ('inf', 8), ('initialization', 8), ('injection', 8), ('instantiate', 8), ('interactive', 8), ('investigating', 8), ('ipv6', 8), ('iterator', 8), ('j2ee', 8), ('javadoc', 8), ('jfspanel', 8), ('jlabel', 8), ('jsf', 8), ('lambda', 8), ('late', 8), ('layerid', 8), ('leading', 8), ('license', 8), ('linear', 8), ('linkedlist', 8), ('linking', 8), ('lisp', 8), ('locker', 8), ('log4j', 8), ('lpvoid', 8), ('managers', 8), ('manipulation', 8), ('markdown', 8), ('marks', 8), ('matrix', 8), ('messaging', 8), ('million', 8), ('minute', 8), ('mock', 8), ('mocks', 8), ('morning', 8), ('mykey', 8), ('mytable', 8), ('myvar', 8), ('natural', 8), ('navigate', 8), ('newhour', 8), ('newwidth', 8), ('nightly', 8), ('notified', 8), ('nt', 8), ('numerous', 8), ('nums', 8), ('oct', 8), ('odbc', 8), ('onchange', 8), ('onload', 8), ('opposed', 8), ('ordered', 8), ('panels', 8), ('params', 8), ('peak', 8), ('photos', 8), ('picturebox', 8), ('ping', 8), ('players', 8), ('poor', 8), ('popinstance', 8), ('positive', 8), ('postgresql', 8), ('precision', 8), ('preference', 8), ('prepared', 8), ('prime', 8), ('processrequest', 8), ('productivity', 8), ('profiler', 8), ('props', 8), ('protect', 8), ('raf', 8), ('ratio', 8), ('receives', 8), ('recent', 8), ('recipient', 8), ('redirects', 8), ('referring', 8), ('reflector', 8), ('regexp', 8), ('regression', 8), ('relational', 8), ('relations', 8), ('relationships', 8), ('rename', 8), ('repeating', 8), ('resized', 8), ('resolved', 8), ('resorting', 8), ('respectively', 8), ('restful', 8), ('rollback', 8), ('round', 8), ('routedeventargs', 8), ('rowid', 8), ('sd', 8), ('sections', 8), ('sees', 8), ('selects', 8), ('setvalue', 8), ('shortcuts', 8), ('shot', 8), ('sln', 8), ('smith', 8), ('smo', 8), ('solving', 8), ('sorted', 8), ('ssh', 8), ('stackframe', 8), ('startup', 8), ('statically', 8), ('stating', 8), ('strict', 8), ('strsomeproperty', 8), ('stupid', 8), ('suited', 8), ('suspended', 8), ('technique', 8), ('telling', 8), ('themes', 8), ('tick', 8), ('ticket', 8), ('tolist', 8), ('ton', 8), ('tortoisesvn', 8), ('traceback', 8), ('transitional', 8), ('transparent', 8), ('tricks', 8), ('truncated', 8), ('tuples', 8), ('ultimately', 8), ('understood', 8), ('undo', 8), ('unknown', 8), ('unlike', 8), ('unsure', 8), ('uploading', 8), ('v1', 8), ('var2', 8), ('vendors', 8), ('videos', 8), ('vmonitor', 8), ('votes', 8), ('w32', 8), ('waiting', 8), ('webservices', 8), ('whats', 8), ('whitespace', 8), ('widget', 8), ('wizard', 8), ('workarounds', 8), ('workflow', 8), ('worried', 8), ('wsdl', 8), ('zend', 8), ('06', 7), ('07', 7), ('20000', 7), ('35', 7), ('61', 7), ('65', 7), ('>>', 7), ('act', 7), ('activate', 7), ('activity', 7), ('adjust', 7), ('aggregate', 7), ('agree', 7), ('analytics', 7), ('applicable', 7), ('archive', 7), ('argv', 7), ('artifact', 7), ('ascx', 7), ('assigning', 7), ('associate', 7), ('attempted', 7), ('attempts', 7), ('baseclass', 7), ('basis', 7), ('bbb', 7), ('bcp', 7), ('bindings', 7), ('bonus', 7), ('brought', 7), ('buffering', 7), ('buffers', 7), ('caller', 7), ('capacity', 7), ('casting', 7), ('cdata', 7), ('cf', 7), ('chars', 7), ('charts', 7), ('cheap', 7), ('choices', 7), ('chunk', 7), ('classname', 7), ('clearcase', 7), ('clustering', 7), ('codebase', 7), ('codebehind', 7), ('college', 7), ('colour', 7), ('comfortable', 7), ('commentid', 7), ('commits', 7), ('concerns', 7), ('conclusion', 7), ('concurrent', 7), ('configuring', 7), ('connects', 7), ('contenttype', 7), ('copyandsetpropertiesforfiles', 7), ('corrupted', 7), ('cpan', 7), ('csproj', 7), ('cut', 7), ('cvs', 7), ('datagrid', 7), ('dateformatter', 7), ('dateupdated', 7), ('declaring', 7), ('deleting', 7), ('delimited', 7), ('delivered', 7), ('delivery', 7), ('deprecated', 7), ('detach', 7), ('dialogs', 7), ('dict', 7), ('die', 7), ('digit', 7), ('digits', 7), ('distributed', 7), ('dos', 7), ('dragging', 7), ('dragmanager', 7), ('drives', 7), ('dummy', 7), ('duplicated', 7), ('ee', 7), ('egg', 7), ('emailmessage', 7), ('employer', 7), ('eof', 7), ('equality', 7), ('errordisplay', 7), ('es', 7), ('evaluate', 7), ('everywhere', 7), ('executables', 7), ('explaining', 7), ('expr', 7), ('fault', 7), ('ff', 7), ('figures', 7), ('file1', 7), ('file2', 7), ('flat', 7), ('fluent', 7), ('focused', 7), ('folks', 7), ('forces', 7), ('forgot', 7), ('foundation', 7), ('four', 7), ('func1', 7), ('funny', 7), ('gap', 7), ('getdata', 7), ('getelementbyid', 7), ('getinnerxml', 7), ('getters', 7), ('h1', 7), ('hint', 7), ('hobbies', 7), ('hobby', 7), ('hook', 7), ('horizontal', 7), ('hosts', 7), ('httpd', 7), ('human', 7), ('identifier', 7), ('impact', 7), ('implications', 7), ('imported', 7), ('individually', 7), ('inheritance', 7), ('inno', 7), ('integers', 7), ('internally', 7), ('international', 7), ('intval', 7), ('invalidate', 7), ('isactive', 7), ('jcontentpane', 7), ('jdk', 7), ('jobs', 7), ('joins', 7), ('junit', 7), ('kwb', 7), ('lamp', 7), ('lazy', 7), ('leads', 7), ('leaves', 7), ('limitation', 7), ('listen', 7), ('literally', 7), ('ll1', 7), ('localhost', 7), ('locate', 7), ('located', 7), ('lookandfeel', 7), ('looping', 7), ('loss', 7), ('mask', 7), ('massive', 7), ('material', 7), ('matlab', 7), ('mismatch', 7), ('modelstate', 7), ('modifications', 7), ('moves', 7), ('mp3', 7), ('mstest', 7), ('multiline', 7), ('my', 7), ('myarray', 7), ('mylist', 7), ('mynewvariable', 7), ('mystoredprocedure', 7), ('nasty', 7), ('nature', 7), ('negative', 7), ('nil', 7), ('nobody', 7), ('nowhere', 7), ('npercent', 7), ('occurring', 7), ('offers', 7), ('onfire', 7), ('opens', 7), ('optimize', 7), ('p4', 7), ('paging', 7), ('pain', 7), ('paragraph', 7), ('parama', 7), ('passes', 7), ('paul', 7), ('permutations', 7), ('persist', 7), ('personal', 7), ('phase', 7), ('pic', 7), ('picked', 7), ('pitfalls', 7), ('pom', 7), ('pops', 7), ('portal', 7), ('postgres', 7), ('prepare', 7), ('primarily', 7), ('producing', 7), ('profilemanager', 7), ('prone', 7), ('providing', 7), ('pulling', 7), ('purchase', 7), ('pv1', 7), ('pwd', 7), ('randomly', 7), ('rarely', 7), ('readability', 7), ('registers', 7), ('regularly', 7), ('reported', 7), ('representing', 7), ('reproduce', 7), ('requiredfieldvalidator', 7), ('respond', 7), ('responsible', 7), ('retain', 7), ('reuse', 7), ('rhino', 7), ('rm', 7), ('rpcndr', 7), ('s1', 7), ('safely', 7), ('scala', 7), ('scoped', 7), ('scott', 7), ('screens', 7), ('sec', 7), ('secondly', 7), ('seqchar', 7), ('sequential', 7), ('serialized', 7), ('serious', 7), ('setters', 7), ('silly', 7), ('similarly', 7), ('simplified', 7), ('sit', 7), ('smallint', 7), ('smoothingmode', 7), ('somemanagerclass', 7), ('someobject', 7), ('stand', 7), ('standards', 7), ('stands', 7), ('stick', 7), ('story', 7), ('streamreader', 7), ('streamwriter', 7), ('stumped', 7), ('subcommander', 7), ('subdirectory', 7), ('subquery', 7), ('subscription', 7), ('supplied', 7), ('switching', 7), ('synchronization', 7), ('ta', 7), ('tableview', 7), ('targeting', 7), ('tasked', 7), ('tdd', 7), ('tedious', 7), ('thats', 7), ('throughout', 7), ('thx', 7), ('tied', 7), ('topics', 7), ('tracing', 7), ('transforms', 7), ('transition', 7), ('transmission', 7), ('tray', 7), ('treat', 7), ('tt', 7), ('turning', 7), ('unlock', 7), ('unnecessary', 7), ('unsupported', 7), ('upgraded', 7), ('uploaded', 7), ('usable', 7), ('verified', 7), ('versus', 7), ('vertical', 7), ('viewdata', 7), ('violation', 7), ('vote', 7), ('vss', 7), ('wanting', 7), ('waste', 7), ('watch', 7), ('webparam', 7), ('weeks', 7), ('wildcard', 7), ('willing', 7), ('worse', 7), ('wts', 7), ('x1', 7), ('xmltextwriter', 7), ('xss', 7), ('yaml', 7), ('yaws', 7), ('zaxis', 7), ('zipfile', 7), ('{{', 7), ('¯', 7), ('1gb', 6), ('36', 6), ('3600', 6), ('3d', 6), ('45', 6), ('54', 6), ('56', 6), ('600', 6), ('67', 6), ('95', 6), ('999', 6), ('9999', 6), ('accordingly', 6), ('actionresult', 6), ('actively', 6), ('actrl', 6), ('ads', 6), ('affected', 6), ('affects', 6), ('alive', 6), ('angle', 6), ('animals', 6), ('apart', 6), ('applying', 6), ('asks', 6), ('assertfalse', 6), ('assumed', 6), ('asynchronously', 6), ('attack', 6), ('automation', 6), ('basics', 6), ('behaves', 6), ('binaries', 6), ('bindsrcloan', 6), ('blocking', 6), ('breaking', 6), ('brings', 6), ('brute', 6), ('bucket', 6), ('bufferedreader', 6), ('cancel', 6), ('casino', 6), ('cat', 6), ('caught', 6), ('cgi', 6), ('charset', 6), ('chess', 6), ('chose', 6), ('chris', 6), ('clarity', 6), ('cleaned', 6), ('cleaning', 6), ('clone', 6), ('closely', 6), ('cn', 6), ('collapse', 6), ('column1', 6), ('combine', 6), ('comma', 6), ('commentsid', 6), ('compress', 6), ('concat', 6), ('convention', 6), ('converter', 6), ('convinced', 6), ('corporation', 6), ('counts', 6), ('cover', 6), ('crap', 6), ('credit', 6), ('ctor', 6), ('curlopt', 6), ('currentlesson', 6), ('datarow', 6), ('datatoread', 6), ('dbcc', 6), ('dead', 6), ('decoding', 6), ('defines', 6), ('degree', 6), ('deploys', 6), ('depot', 6), ('derive', 6), ('designers', 6), ('destructors', 6), ('detected', 6), ('determines', 6), ('dies', 6), ('differ', 6), ('differing', 6), ('dispatch', 6), ('doe', 6), ('downloads', 6), ('downside', 6), ('drip', 6), ('dts', 6), ('duplication', 6), ('ec', 6), ('ed', 6), ('editors', 6), ('effects', 6), ('el', 6), ('elapsed', 6), ('enabling', 6), ('endblock', 6), ('endpoint', 6), ('endpoints', 6), ('entering', 6), ('entityexpression', 6), ('errorcode', 6), ('establishing', 6), ('evaluated', 6), ('evaluation', 6), ('exam', 6), ('experiencing', 6), ('experimental', 6), ('exporting', 6), ('extending', 6), ('failedrecipients', 6), ('fair', 6), ('fake', 6), ('fallback', 6), ('field2', 6), ('filefromdatabase', 6), ('filehandle', 6), ('filtering', 6), ('findall', 6), ('findcontrol', 6), ('finishes', 6), ('firebug', 6), ('flavors', 6), ('floats', 6), ('forgive', 6), ('formula', 6), ('fprintf', 6), ('fqm', 6), ('fragment', 6), ('french', 6), ('frequent', 6), ('fridge', 6), ('friends', 6), ('fyi', 6), ('gain', 6), ('gather', 6), ('gb', 6), ('gender', 6), ('german', 6), ('getmethod', 6), ('getpermutations', 6), ('gl', 6), ('grateful', 6), ('green', 6), ('guaranteed', 6), ('guidelines', 6), ('hacks', 6), ('hang', 6), ('hanging', 6), ('hassle', 6), ('hdr', 6), ('headache', 6), ('hex', 6), ('homepage', 6), ('horrible', 6), ('httphandler', 6), ('httpwebrequest', 6), ('hyphens', 6), ('i4', 6), ('icolumn', 6), ('icons', 6), ('ifndef', 6), ('ignoring', 6), ('illustrate', 6), ('immediate', 6), ('impression', 6), ('imyclass', 6), ('incorporate', 6), ('increased', 6), ('increases', 6), ('indicator', 6), ('ing', 6), ('initializes', 6), ('inject', 6), ('inproc', 6), ('inputstream', 6), ('int64', 6), ('introduction', 6), ('invoking', 6), ('iplist', 6), ('ipod', 6), ('isolate', 6), ('item2', 6), ('iteration', 6), ('itâ', 6), ('java2d', 6), ('jetty', 6), ('jms', 6), ('joel', 6), ('jpa', 6), ('kdevelop', 6), ('kernel', 6), ('killer', 6), ('knew', 6), ('kohana', 6), ('ksh', 6), ('labelkey', 6), ('lblnotcheckedinbecause', 6), ('legal', 6), ('lies', 6), ('limits', 6), ('listeners', 6), ('ll2', 6), ('lockdir', 6), ('lowercase', 6), ('lpbuffer', 6), ('lua', 6), ('mails', 6), ('maintenance', 6), ('malicious', 6), ('manifest', 6), ('marketing', 6), ('matcher', 6), ('mcpan', 6), ('md5', 6), ('menus', 6), ('merges', 6), ('messagereceiver', 6), ('messed', 6), ('met', 6), ('methodology', 6), ('migrations', 6), ('minimal', 6), ('miss', 6), ('mmmm', 6), ('monitors', 6), ('msvc', 6), ('mthread', 6), ('myfunc', 6), ('myisam', 6), ('mynum', 6), ('myobj', 6), ('mystruct', 6), ('myusercontrol', 6), ('needing', 6), ('night', 6), ('nix', 6), ('notation', 6), ('noted', 6), ('obtain', 6), ('ol', 6), ('onsubmit', 6), ('openfiledialog', 6), ('osx', 6), ('ou', 6), ('overload', 6), ('overly', 6), ('overwrite', 6), ('p5', 6), ('p6', 6), ('pack', 6), ('painful', 6), ('palm', 6), ('param1', 6), ('param2', 6), ('parents', 6), ('pay', 6), ('permutation', 6), ('pfspara', 6), ('phrase', 6), ('pid', 6), ('pimage', 6), ('placing', 6), ('portability', 6), ('porting', 6), ('portrait', 6), ('ports', 6), ('powerful', 6), ('preferable', 6), ('prm', 6), ('pro', 6), ('probability', 6), ('processors', 6), ('pulled', 6), ('puzzle', 6), ('pv', 6), ('py', 6), ('r2', 6), ('radiobuttonlist', 6), ('raised', 6), ('raises', 6), ('rank', 6), ('rawurl', 6), ('rdbms', 6), ('reached', 6), ('recording', 6), ('recursively', 6), ('redirecting', 6), ('reg', 6), ('regions', 6), ('released', 6), ('relies', 6), ('replicated', 6), ('replicating', 6), ('rescue', 6), ('resume', 6), ('resx', 6), ('retrieved', 6), ('rewriting', 6), ('rotation', 6), ('router', 6), ('salary', 6), ('satisfactory', 6), ('scenarios', 6), ('scheduled', 6), ('scons', 6), ('seam', 6), ('segment', 6), ('semantics', 6), ('separated', 6), ('separation', 6), ('serializing', 6), ('serverdir', 6), ('shipped', 6), ('significantly', 6), ('silently', 6), ('simplify', 6), ('simulation', 6), ('sitting', 6), ('skill', 6), ('slowly', 6), ('slug', 6), ('soapenv', 6), ('social', 6), ('somedata', 6), ('someint', 6), ('sortable', 6), ('sparse', 6), ('spending', 6), ('spreadsheet', 6), ('sqlcommand', 6), ('stacktrace', 6), ('stdout', 6), ('strftime', 6), ('stringbuffer', 6), ('strlen', 6), ('students', 6), ('subgraph', 6), ('submits', 6), ('subnet', 6), ('substitute', 6), ('substitution', 6), ('succeeds', 6), ('suddenly', 6), ('sudo', 6), ('superclass', 6), ('switched', 6), ('symbolic', 6), ('sz', 6), ('tbl', 6), ('tc', 6), ('terminated', 6), ('threaded', 6), ('threw', 6), ('ticker', 6), ('tk', 6), ('tokens', 6), ('trans', 6), ('transfers', 6), ('translations', 6), ('trial', 6), ('trim', 6), ('tv', 6), ('underneath', 6), ('unlimited', 6), ('unresolved', 6), ('upgrading', 6), ('useless', 6), ('utc', 6), ('val2', 6), ('validating', 6), ('variant', 6), ('varies', 6), ('vary', 6), ('vc', 6), ('verification', 6), ('versioning', 6), ('viewing', 6), ('visualizer', 6), ('visualstudio', 6), ('wc', 6), ('webbrowser', 6), ('webcontrols', 6), ('whilst', 6), ('windsor', 6), ('wireless', 6), ('wrapping', 6), ('wstring', 6), ('wxwidgets', 6), ('xaxis', 6), ('xmlserializer', 6), ('yields', 6), ('\\x80\\x94', 6), ('\\x80¦', 6), ('05', 5), ('0538', 5), ('10k', 5), ('1580033017', 5), ('1h', 5), ('20081006000000', 5), ('2072974554', 5), ('22750', 5), ('2401', 5), ('2gb', 5), ('33', 5), ('4891', 5), ('788', 5), ('788538010', 5), ('a1', 5), ('a2', 5), ('aaa', 5), ('abstraction', 5), ('accesses', 5), ('accomodationtypefk', 5), ('addin', 5), ('additem', 5), ('administration', 5), ('administrators', 5), ('admit', 5), ('adodb', 5), ('afternoon', 5), ('ahead', 5), ('ai', 5), ('ajaxcontroltoolkit', 5), ('aka', 5), ('algebra', 5), ('alot', 5), ('amazon', 5), ('america', 5), ('anchors', 5), ('ansi', 5), ('appealing', 5), ('applet', 5), ('appname', 5), ('apt', 5), ('arbitrarily', 5), ('architect', 5), ('argc', 5), ('arial', 5), ('arrayofqueryterms', 5), ('asd', 5), ('asm', 5), ('assignment', 5), ('association', 5), ('astrfields', 5), ('audit', 5), ('auth', 5), ('azman', 5), ('bank', 5), ('bars', 5), ('basepath', 5), ('becoming', 5), ('beginrequest', 5), ('belong', 5), ('bill', 5), ('bindingflags', 5), ('birthday', 5), ('bla', 5), ('bll', 5), ('blobs', 5), ('bluecove', 5), ('board', 5), ('bookmark', 5), ('boot', 5), ('borders', 5), ('bottlenecks', 5), ('bounces', 5), ('bridge', 5), ('broadcast', 5), ('bulk', 5), ('bundle', 5), ('bus', 5), ('businessentitymoniker', 5), ('cab', 5), ('callable', 5), ('callbacks', 5), ('canada', 5), ('canonical', 5), ('castle', 5), ('catname', 5), ('cells', 5), ('chat', 5), ('chunks', 5), ('cipher', 5), ('circular', 5), ('class2test', 5), ('classpath', 5), ('cleanup', 5), ('cleartool', 5), ('clever', 5), ('clicktest', 5), ('closer', 5), ('closest', 5), ('coder', 5), ('coffeemakersoftware', 5), ('collaboration', 5), ('colon', 5), ('combobox1', 5), ('commenting', 5), ('commentsvalue', 5), ('commonly', 5), ('complicate', 5), ('composites', 5), ('compressed', 5), ('compressedstream', 5), ('computing', 5), ('configurationmanager', 5), ('confirmation', 5), ('connectionstrings', 5), ('containers', 5), ('controlled', 5), ('converts', 5), ('convincing', 5), ('copyright', 5), ('costs', 5), ('counting', 5), ('coverage', 5), ('covered', 5), ('covering', 5), ('crack', 5), ('createdon', 5), ('createprocessasuser', 5), ('crystal', 5), ('cs3', 5), ('cssclass', 5), ('culprit', 5), ('curly', 5), ('cutting', 5), ('cxxtest', 5), ('datafiledatarow', 5), ('datasets', 5), ('dateadd', 5), ('deadline', 5), ('dealt', 5), ('debate', 5), ('debian', 5), ('debugged', 5), ('decision', 5), ('declarations', 5), ('decode', 5), ('decrypt', 5), ('defaults', 5), ('delegates', 5), ('department', 5), ('deploying', 5), ('derives', 5), ('destructor', 5), ('diagram', 5), ('difficulty', 5), ('dimensional', 5), ('disabling', 5), ('disappear', 5), ('discarded', 5), ('disposition', 5), ('distribute', 5), ('division', 5), ('dl', 5), ('dllimport', 5), ('dmg', 5), ('dozens', 5), ('draggable', 5), ('dsquery', 5), ('dsttime', 5), ('duplicating', 5), ('dwp', 5), ('ea', 5), ('each', 5), ('efficiently', 5), ('emailpath', 5), ('employermanager', 5), ('encounter', 5), ('enforce', 5), ('enumeration', 5), ('environmental', 5), ('eq', 5), ('errorformat', 5), ('essential', 5), ('examine', 5), ('existence', 5), ('exitcode', 5), ('expects', 5), ('expertise', 5), ('expire', 5), ('explanations', 5), ('explode', 5), ('exports', 5), ('extracted', 5), ('f1', 5), ('f2', 5), ('face', 5), ('faced', 5), ('failures', 5), ('fan', 5), ('farm', 5), ('fashion', 5), ('fastest', 5), ('february', 5), ('field3', 5), ('filecomment', 5), ('filters', 5), ('financial', 5), ('five', 5), ('fixing', 5), ('flexible', 5), ('fmt', 5), ('fooservice', 5), ('forcing', 5), ('forecolor', 5), ('forums', 5), ('frequency', 5), ('fresh', 5), ('fullstring', 5), ('futures', 5), ('gaps', 5), ('gave', 5), ('gdi', 5), ('getinstance', 5), ('getproperties', 5), ('getter', 5), ('getvalueornull', 5), ('gfmt128', 5), ('gh', 5), ('groovy', 5), ('grow', 5), ('gtk', 5), ('guidance', 5), ('handshake', 5), ('hangs', 5), ('hardcoding', 5), ('helloworld', 5), ('helped', 5), ('helping', 5), ('hh', 5), ('hi', 5), ('hkey', 5), ('hmodule', 5), ('holes', 5), ('house', 5), ('hql', 5), ('hthread', 5), ('htoken', 5), ('htokenduplicate', 5), ('hwndsource', 5), ('ides', 5), ('idictionary', 5), ('ifoo', 5), ('ilog', 5), ('importing', 5), ('imports', 5), ('improving', 5), ('incorrectly', 5), ('incrementing', 5), ('indicating', 5), ('industry', 5), ('inefficient', 5), ('initialise', 5), ('inlining', 5), ('innerhtml', 5), ('innodb', 5), ('insights', 5), ('intention', 5), ('interface2', 5), ('intermediary', 5), ('intermediate', 5), ('intix', 5), ('intuitive', 5), ('invent', 5), ('invisible', 5), ('ios', 5), ('isnull', 5), ('item1', 5), ('itemprops', 5), ('iterable', 5), ('jan', 5), ('jaws', 5), ('joe', 5), ('joining', 5), ('junk', 5), ('kbytes', 5), ('kinda', 5), ('l10n', 5), ('lacks', 5), ('land', 5), ('landscape', 5), ('lately', 5), ('launched', 5), ('ld', 5), ('lessons', 5), ('lessonstatus', 5), ('lhs', 5), ('libb', 5), ('libs', 5), ('licensing', 5), ('lifecycle', 5), ('lifetime', 5), ('lin', 5), ('linedata', 5), ('list1', 5), ('list2', 5), ('listdetails', 5), ('literal', 5), ('ll3', 5), ('lo', 5), ('loanofficer', 5), ('loc', 5), ('loops', 5), ('losing', 5), ('maintainability', 5), ('manipulate', 5), ('mathematica', 5), ('maximized', 5), ('maxlength', 5), ('mechanize', 5), ('memcache', 5), ('menuitem', 5), ('merged', 5), ('metrics', 5), ('mike', 5), ('millions', 5), ('mingw32', 5), ('mistake', 5), ('mixture', 5), ('mocked', 5), ('modification', 5), ('modifiers', 5), ('mon', 5), ('moniker', 5), ('mortbay', 5), ('mountain', 5), ('msmq', 5), ('multicast', 5), ('music', 5), ('mydeliveryextension', 5), ('myevent', 5), ('myselect', 5), ('mysite', 5), ('mywebservice', 5), ('myxmlwritersettings', 5), ('namevaluecollection', 5), ('neutral', 5), ('newimage', 5), ('newlines', 5), ('ngrep', 5), ('nightmare', 5), ('nmhttp1', 5), ('nogood', 5), ('normalized', 5), ('north', 5), ('notepad', 5), ('ns', 5), ('nsdata', 5), ('nsdateformatter', 5), ('nuts', 5), ('nutshell', 5), ('obja', 5), ('official', 5), ('ole', 5), ('omited', 5), ('onsuccess', 5), ('oom', 5), ('opera', 5), ('ora', 5), ('orchestration', 5), ('organizationuiservice', 5), ('organize', 5), ('ostream', 5), ('overloading', 5), ('overlooked', 5), ('packaged', 5), ('packaging', 5), ('packet', 5), ('pageviews', 5), ('paint', 5), ('paper', 5), ('parsed', 5), ('pasteboard', 5), ('patient', 5), ('pcm', 5), ('pdb', 5), ('pdfs', 5), ('persistent', 5), ('pictures', 5), ('played', 5), ('portion', 5), ('practically', 5), ('presenter', 5), ('pressing', 5), ('principle', 5), ('principles', 5), ('printed', 5), ('prj2', 5), ('problematic', 5), ('produced', 5), ('prog', 5), ('proposed', 5), ('proprietary', 5), ('proto', 5), ('pstyle', 5), ('publishers', 5), ('pulls', 5), ('purchased', 5), ('pushed', 5), ('quit', 5), ('quote', 5), ('r1', 5), ('raii', 5), ('rarp', 5), ('raster', 5), ('rc', 5), ('rcshowimage', 5), ('reasoning', 5), ('reattach', 5), ('rebuild', 5), ('receiptid', 5), ('recorded', 5), ('rectangles', 5), ('reduced', 5), ('refactored', 5), ('referred', 5), ('regexes', 5), ('regionfk', 5), ('relying', 5), ('renamed', 5), ('repeated', 5), ('replaces', 5), ('replies', 5), ('reply', 5), ('reportstream', 5), ('represented', 5), ('requesting', 5), ('res', 5), ('resharper', 5), ('resides', 5), ('respect', 5), ('responsibility', 5), ('restarting', 5), ('restrict', 5), ('restricted', 5), ('restyle', 5), ('ret', 5), ('retval', 5), ('rev', 5), ('reversed', 5), ('rgb', 5), ('risk', 5), ('robot', 5), ('rolesassignments', 5), ('ror', 5), ('routines', 5), ('rowpointer', 5), ('rs3', 5), ('safety', 5), ('scalability', 5), ('scanf', 5), ('scheduler', 5), ('scratch', 5), ('scrolling', 5), ('se', 5), ('selectedvalue', 5), ('selectlist', 5), ('separator', 5), ('sequences', 5), ('servicewrapper', 5), ('setsize', 5), ('shapes', 5), ('shard', 5), ('sheets', 5), ('shelfnum', 5), ('shelftagnum', 5), ('sig', 5), ('simplicity', 5), ('singleordefault', 5), ('sized', 5), ('sleeps', 5), ('slides', 5), ('snap', 5), ('snapshot', 5), ('soa', 5), ('solvepotential', 5), ('somedate', 5), ('somefunction', 5), ('somequery', 5), ('somestring', 5), ('sourcepath', 5), ('spanish', 5), ('splitting', 5), ('spread', 5), ('springframework', 5), ('sproperty1', 5), ('sproperty2', 5), ('sqlexception', 5), ('sqlprovider', 5), ('ss', 5), ('stackoverflowexception', 5), ('stamp', 5), ('statechanged', 5), ('station', 5), ('stats', 5), ('stock', 5), ('strategies', 5), ('strcat', 5), ('streaming', 5), ('strong', 5), ('strpos', 5), ('stubs', 5), ('subfolders', 5), ('submission', 5), ('sucks', 5), ('sugar', 5), ('suggests', 5), ('supertool', 5), ('sybase', 5), ('symbols', 5), ('synchronize', 5), ('syslog', 5), ('systemmanager', 5), ('table1', 5), ('tagging', 5), ('talks', 5), ('tax', 5), ('tblcontent', 5), ('tcl', 5), ('teach', 5), ('tent', 5), ('test2', 5), ('testable', 5), ('testers', 5), ('testingcase', 5), ('textarea', 5), ('textfield', 5), ('texture', 5), ('thing1', 5), ('thing2', 5), ('thumbnails', 5), ('thumbsdir', 5), ('ticks', 5), ('tier', 5), ('tired', 5), ('titlebutton', 5), ('toint32', 5), ('tolowercase', 5), ('toolbars', 5), ('toolbox', 5), ('tooltip', 5), ('training', 5), ('trans11', 5), ('trans21', 5), ('transactional', 5), ('transport', 5), ('treated', 5), ('trip', 5), ('trusted', 5), ('tryparse', 5), ('uid', 5), ('uint32', 5), ('uiview', 5), ('unacceptable', 5), ('unhandled', 5), ('unhandledexception', 5), ('uninstalled', 5), ('uniqueid', 5), ('unreachable', 5), ('ups', 5), ('upto', 5), ('uuid', 5), ('varchar2', 5), ('variations', 5), ('variety', 5), ('varii', 5), ('ve', 5), ('vectors', 5), ('vi', 5), ('viewpage', 5), ('visited', 5), ('visually', 5), ('war', 5), ('wasting', 5), ('wave', 5), ('wchar', 5), ('weather', 5), ('webkit', 5), ('widely', 5), ('win32com', 5), ('win32exception', 5), ('wmi', 5), ('wondered', 5), ('workstation', 5), ('worthwhile', 5), ('x3', 5), ('x4', 5), ('xls', 5), ('xmldoc', 5), ('xmlhttprequest', 5), ('xmlrpc', 5), ('xx', 5), ('xx0062484', 5), ('yaxis', 5), ('zoom', 5), ('zz', 5), ('©', 5), ('000000', 4), ('09', 4), ('098', 4), ('100000', 4), ('101', 4), ('110', 4), ('111', 4), ('118', 4), ('194', 4), ('1e', 4), ('1st', 4), ('2147483648', 4), ('222', 4), ('259', 4), ('29', 4), ('3000', 4), ('32768', 4), ('32bit', 4), ('342', 4), ('4th', 4), ('5000', 4), ('50727', 4), ('55', 4), ('5k', 4), ('6d', 4), ('70', 4), ('700', 4), ('75', 4), ('77', 4), ('9000', 4), ('a3', 4), ('aborted', 4), ('abstractlifecycle', 4), ('abstracts', 4), ('acceleration', 4), ('accessor', 4), ('accomplished', 4), ('accross', 4), ('actionlink', 4), ('adapted', 4), ('addarc', 4), ('addline', 4), ('addressed', 4), ('advise', 4), ('aes', 4), ('affecting', 4), ('afraid', 4), ('ages', 4), ('aggregationresult', 4), ('aim', 4), ('alex', 4), ('alignment', 4), ('alloc', 4), ('alphabetical', 4), ('altogether', 4), ('amp', 4), ('anagram', 4), ('analyze', 4), ('andrew', 4), ('anexception', 4), ('animaltype', 4), ('annotate', 4), ('annotations', 4), ('aparent', 4), ('apm', 4), ('appdomain', 4), ('applied', 4), ('approximately', 4), ('architectural', 4), ('areequal', 4), ('argue', 4), ('arm', 4), ('array2d', 4), ('arrayofa', 4), ('artifacts', 4), ('artists', 4), ('asdf', 4), ('asmx', 4), ('aspects', 4), ('assertion', 4), ('asset', 4), ('assumptions', 4), ('attaching', 4), ('authenticated', 4), ('authorid', 4), ('authorize', 4), ('autocomplete', 4), ('autoeventwireup', 4), ('automating', 4), ('autosize', 4), ('avoiding', 4), ('awhile', 4), ('awk', 4), ('axd', 4), ('b1', 4), ('b2', 4), ('backgroundcolor', 4), ('badly', 4), ('balanced', 4), ('ball', 4), ('balloon', 4), ('banks', 4), ('baseid', 4), ('began', 4), ('behalf', 4), ('belonging', 4), ('bet', 4), ('binder', 4), ('bl', 4), ('blit', 4), ('blogging', 4), ('blogs', 4), ('boilerplate', 4), ('bookstore', 4), ('bootstrap', 4), ('bot', 4), ('boundaries', 4), ('bounds', 4), ('branching', 4), ('breakpoints', 4), ('btnok', 4), ('bufferedimage', 4), ('buggy', 4), ('builtin', 4), ('bytecode', 4), ('cam', 4), ('campaign', 4), ('capital', 4), ('captured', 4), ('cards', 4), ('career', 4), ('carrier', 4), ('cart', 4), ('caveats', 4), ('ccc', 4), ('cdecl', 4), ('cfcomponent', 4), ('cffunction', 4), ('cfg', 4), ('cfset', 4), ('chaining', 4), ('characteristics', 4), ('charge', 4), ('charm', 4), ('chase', 4), ('chdir', 4), ('checkboxes', 4), ('cherrypy', 4), ('city', 4), ('clauses', 4), ('clearing', 4), ('cli', 4), ('clock', 4), ('cloning', 4), ('closes', 4), ('cloud', 4), ('clueless', 4), ('clumsy', 4), ('coherent', 4), ('collected', 4), ('collector', 4), ('coloring', 4), ('colspan', 4), ('column2', 4), ('combined', 4), ('commandtype', 4), ('commas', 4), ('comms', 4), ('communicating', 4), ('compilerservices', 4), ('compliance', 4), ('composite', 4), ('comprehensive', 4), ('concatenate', 4), ('concise', 4), ('confirmed', 4), ('conflict', 4), ('conflicts', 4), ('considerably', 4), ('consist', 4), ('consistency', 4), ('constructing', 4), ('consume', 4), ('cookiedate', 4), ('corners', 4), ('corpus', 4), ('countdownlatch', 4), ('countries', 4), ('courses', 4), ('coworker', 4), ('cqwp', 4), ('crashing', 4), ('createdby', 4), ('createlogwithname', 4), ('crev', 4), ('crm', 4), ('crud', 4), ('ctlnew', 4), ('ctlold', 4), ('currsetting', 4), ('customerid', 4), ('customizing', 4), ('customtag', 4), ('cycle', 4), ('daily', 4), ('dark', 4), ('data1', 4), ('data2', 4), ('databind', 4), ('dataelement', 4), ('dataelements', 4), ('datamember', 4), ('datareader', 4), ('datatables', 4), ('dbh', 4), ('dbms', 4), ('dbtype', 4), ('ddl', 4), ('decompress', 4), ('decorate', 4), ('decrease', 4), ('deeper', 4), ('delays', 4), ('delimiter', 4), ('demonstrates', 4), ('deploypath', 4), ('describing', 4), ('deserialize', 4), ('destx', 4), ('desty', 4), ('determined', 4), ('determining', 4), ('df', 4), ('diagramming', 4), ('dictionaries', 4), ('didnt', 4), ('digging', 4), ('directoryentry', 4), ('directx', 4), ('disclaimer', 4), ('disconnected', 4), ('disks', 4), ('displayorder', 4), ('dist', 4), ('dllexport', 4), ('doable', 4), ('dosomestuff', 4), ('doubt', 4), ('downloadfile', 4), ('dp', 4), ('drawings', 4), ('drivers', 4), ('dropdowns', 4), ('dropping', 4), ('dry', 4), ('dsun', 4), ('dumps', 4), ('dwbuffer', 4), ('dwm', 4), ('dynamicprogram', 4), ('earlier', 4), ('eastern', 4), ('echina365', 4), ('eeee', 4), ('elementlist', 4), ('embedding', 4), ('emp', 4), ('emphasis', 4), ('emulate', 4), ('emulator', 4), ('enables', 4), ('enc', 4), ('endl', 4), ('engineer', 4), ('enters', 4), ('entitylist', 4), ('envelope', 4), ('equivalents', 4), ('erlang', 4), ('errno', 4), ('errorform', 4), ('estimated', 4), ('evaluating', 4), ('eventlog', 4), ('evil', 4), ('exclusive', 4), ('executenonquery', 4), ('executor', 4), ('existed', 4), ('expanding', 4), ('explained', 4), ('explains', 4), ('externally', 4), ('extreme', 4), ('f7', 4), ('f9', 4), ('facebook', 4), ('failover', 4), ('falls', 4), ('faulting', 4), ('fear', 4), ('fed', 4), ('fewer', 4), ('fh', 4), ('fieldname', 4), ('fif', 4), ('fileiteminputstream', 4), ('filterxmlparseexception', 4), ('findbugs', 4), ('finds', 4), ('firewall', 4), ('firstly', 4), ('fits', 4), ('fixes', 4), ('flashing', 4), ('flavor', 4), ('fm', 4), ('fmtonly', 4), ('formed', 4), ('fortunately', 4), ('fr', 4), ('frames', 4), ('frmmain', 4), ('fruit', 4), ('function1', 4), ('furthermore', 4), ('gained', 4), ('gamma', 4), ('gathers', 4), ('gc', 4), ('gd', 4), ('getbytes', 4), ('getcountries', 4), ('getcurrentvalue', 4), ('getencoding', 4), ('getgames', 4), ('getheader', 4), ('getmessage', 4), ('gettime', 4), ('getuniquesubscriberscount', 4), ('gigs', 4), ('glance', 4), ('glyph', 4), ('gnu', 4), ('goto', 4), ('greasemonkey', 4), ('greetings', 4), ('grids', 4), ('growing', 4), ('guids', 4), ('guy', 4), ('gzipstream', 4), ('hacking', 4), ('halfset', 4), ('hardly', 4), ('hdesk', 4), ('hessian', 4), ('homecontroller', 4), ('hood', 4), ('hostname', 4), ('hot', 4), ('hp', 4), ('hprocess', 4), ('hr', 4), ('httplistener', 4), ('httpruntime', 4), ('httpwebresponse', 4), ('hyperlink', 4), ('iasyncresult', 4), ('identifies', 4), ('identifying', 4), ('idfield', 4), ('idisposable', 4), ('idstring', 4), ('ielement', 4), ('iexecutionstep', 4), ('ifstream', 4), ('ikvm', 4), ('importantly', 4), ('improvement', 4), ('inactivity', 4), ('inc', 4), ('includescript', 4), ('incompatible', 4), ('incredibly', 4), ('incremented', 4), ('indexed', 4), ('indexing', 4), ('infolog', 4), ('infunction1', 4), ('ini', 4), ('innerexception', 4), ('insertorupdatemytable', 4), ('insight', 4), ('inspiration', 4), ('installations', 4), ('instructor', 4), ('intensive', 4), ('interacting', 4), ('interestingly', 4), ('intern', 4), ('internals', 4), ('interpreter', 4), ('intersection', 4), ('inversion', 4), ('investigation', 4), ('invokemethod', 4), ('ioc', 4), ('ioexception', 4), ('ips', 4), ('ipsum', 4), ('ipt', 4), ('irregular', 4), ('isdefective', 4), ('isdirty', 4), ('isolated', 4), ('ispostback', 4), ('itemevent', 4), ('itemnum', 4), ('iterating', 4), ('iterations', 4), ('iterators', 4), ('ithtag', 4), ('itunes', 4), ('ivisitorslogcontroller', 4), ('iwindsorcontainer', 4), ('j2me', 4), ('jack', 4), ('jason', 4), ('jpeg', 4), ('jscript', 4), ('jsdebug', 4), ('jump', 4), ('june', 4), ('keepalive', 4), ('keyeventargs', 4), ('kilobytes', 4), ('kvm', 4), ('lacking', 4), ('lastly', 4), ('lastmodified', 4), ('latin1', 4), ('lazylist', 4), ('ldapconnection', 4), ('leaks', 4), ('leaning', 4), ('leftobject', 4), ('legitimate', 4), ('letting', 4), ('liba', 4), ('lights', 4), ('liked', 4), ('likes', 4), ('linkbutton', 4), ('linky', 4), ('listview1', 4), ('localfilename', 4), ('locals', 4), ('logfile', 4), ('logoff', 4), ('lolcat', 4), ('lowest', 4), ('lsvnotificationlist', 4), ('magically', 4), ('mainpanel', 4), ('maintained', 4), ('makedate', 4), ('manages', 4), ('mandatory', 4), ('manipulating', 4), ('manufacturer', 4), ('matched', 4), ('maths', 4), ('maximize', 4), ('mbar', 4), ('mdb', 4), ('meaningful', 4), ('measure', 4), ('measurement', 4), ('meet', 4), ('mem', 4), ('mercurial', 4), ('methoda', 4), ('methodattributes', 4), ('methodbase', 4), ('methodinfo', 4), ('methodname', 4), ('micro', 4), ('migrated', 4), ('milliseconds', 4), ('mingw', 4), ('minus', 4), ('mirror', 4), ('mkdir', 4), ('mocking', 4), ('modal', 4), ('modelling', 4), ('modes', 4), ('modifierkeys', 4), ('monday', 4), ('mongrel', 4), ('monitoring', 4), ('mount', 4), ('mr', 4), ('mvnforum', 4), ('mxml', 4), ('mybutton', 4), ('mydatabase', 4), ('mydelivery', 4), ('mydir', 4), ('mydll', 4), ('mygrid', 4), ('myhash', 4), ('mymessage', 4), ('myobject', 4), ('mypage', 4), ('mytableentity', 4), ('myvalue', 4), ('mywcfserviceclient', 4), ('mywcfserviceservice', 4), ('mywindow', 4), ('myxsltsettings', 4), ('myyear', 4), ('naive', 4), ('natively', 4), ('nativemethods', 4), ('naturally', 4), ('navigating', 4), ('ndepend', 4), ('neat', 4), ('nesting', 4), ('networkcredential', 4), ('newminute', 4), ('newruntime', 4), ('nicer', 4), ('nio', 4), ('nodename', 4), ('norwegian', 4), ('notes', 4), ('noticing', 4), ('notify', 4), ('noting', 4), ('novice', 4), ('nsstring', 4), ('nulls', 4), ('obi', 4), ('obj1', 4), ('obsolete', 4), ('obtaining', 4), ('oledb', 4), ('oledbconnection', 4), ('onlyimplementthissometimes', 4), ('onpaint', 4), ('onprerender', 4), ('op', 4), ('opacity', 4), ('opcode', 4), ('opcodes', 4), ('opts', 4), ('ordering', 4), ('organizationid', 4), ('originalwidth', 4), ('originator', 4), ('orphaned', 4), ('otherdatatype', 4), ('outdir', 4), ('outputstream', 4), ('outputwriter', 4), ('overruns', 4), ('overview', 4), ('paradigm', 4), ('parameter2', 4), ('parsers', 4), ('partially', 4), ('passwd', 4), ('passwordrecovery', 4), ('paypal', 4), ('payroll', 4), ('pcl', 4), ('pda', 4), ('perforce', 4), ('permanently', 4), ('persistence', 4), ('persisting', 4), ('perspective', 4), ('persuade', 4), ('phantom', 4), ('photo', 4), ('pinfo', 4), ('pinvoke', 4), ('pivot', 4), ('placement', 4), ('pnext', 4), ('poco', 4), ('pooling', 4), ('poppler', 4), ('portable', 4), ('ported', 4), ('positions', 4), ('possibilities', 4), ('pragma', 4), ('preg', 4), ('presents', 4), ('pressed', 4), ('pressure', 4), ('prevents', 4), ('primitive', 4), ('principal', 4), ('privileges', 4), ('prj1', 4), ('procedural', 4), ('procedurename', 4), ('proceed', 4), ('procs', 4), ('programmatic', 4), ('programmed', 4), ('proj', 4), ('proj1', 4), ('projected', 4), ('projectname', 4), ('prop', 4), ('propertyinfo', 4), ('protocols', 4), ('publickeytoken', 4), ('publisher', 4), ('purchid', 4), ('pv2', 4), ('qo', 4), ('queryterm', 4), ('queued', 4), ('quicker', 4), ('rates', 4), ('rawtext', 4), ('ray', 4), ('reaches', 4), ('readline', 4), ('readonlycollection', 4), ('realise', 4), ('reality', 4), ('reallistitem', 4), ('recipeid', 4), ('recommendation', 4), ('rectanglef', 4), ('redesign', 4), ('redundant', 4), ('refreshes', 4), ('refuses', 4), ('registering', 4), ('registration', 4), ('reinstalled', 4), ('reinvent', 4), ('rel', 4), ('relates', 4), ('releasing', 4), ('removeclass', 4), ('reserved', 4), ('reside', 4), ('resolves', 4), ('restarted', 4), ('resultset', 4), ('returnvalue', 4), ('revisions', 4), ('rewriteengine', 4), ('rhs', 4), ('richtextboxoutput', 4), ('rightobject', 4), ('rint', 4), ('rmdir', 4), ('rob', 4), ('rom', 4), ('rowcount', 4), ('rs2', 4), ('rts', 4), ('rx', 4), ('s2', 4), ('sandbox', 4), ('scene', 4), ('schemas', 4), ('scores', 4), ('screenshots', 4), ('scrollbars', 4), ('seams', 4), ('sed', 4), ('selectedindexchanged', 4), ('selector', 4), ('semi', 4), ('seq', 4), ('sequentially', 4), ('servicehost', 4), ('settimeout', 4), ('setuid', 4), ('shed', 4), ('sheet', 4), ('shelf', 4), ('shelf2', 4), ('ship', 4), ('shortdescription', 4), ('showdialog', 4), ('showed', 4), ('showon', 4), ('simpledateformat', 4), ('sits', 4), ('six', 4), ('slider', 4), ('slots', 4), ('smarter', 4), ('smarty', 4), ('snprintf', 4), ('sole', 4), ('solid', 4), ('somecontent', 4), ('somemethod', 4), ('someothermanager', 4), ('sourceheight', 4), ('sourcewidth', 4), ('spare', 4), ('specialization', 4), ('specially', 4), ('specifics', 4), ('spot', 4), ('spreadsheets', 4), ('sps', 4), ('sqlcmd', 4), ('sqlparameter', 4), ('srctime', 4), ('srp', 4), ('stability', 4), ('stacks', 4), ('startupinfo', 4), ('stateful', 4), ('statisticid', 4), ('sticky', 4), ('stopping', 4), ('strsql', 4), ('structs', 4), ('studying', 4), ('styleclass', 4), ('subclasses', 4), ('subdirectories', 4), ('subfolder', 4), ('subjective', 4), ('subregion', 4), ('subscribe', 4), ('subscriber', 4), ('sufficient', 4), ('suffix', 4), ('sunday', 4), ('supportedevents', 4), ('surprise', 4), ('swfloader', 4), ('swt', 4), ('symlink', 4), ('syntactic', 4), ('synthesizer', 4), ('tackle', 4), ('tagbar', 4), ('tagged', 4), ('taglogfont', 4), ('targeted', 4), ('targets', 4), ('taskbar', 4), ('tblcustomer', 4), ('tblnewscollection', 4), ('teaching', 4), ('technically', 4), ('technologies', 4), ('telnet', 4), ('temporarybarbuttonitem', 4), ('tens', 4), ('terribly', 4), ('testcoffeemaker', 4), ('testmethod', 4), ('testprint', 4), ('textbox1', 4), ('textclick', 4), ('tf', 4), ('threadpool', 4), ('threadstate', 4), ('tickets', 4), ('tidy', 4), ('tie', 4), ('tiger', 4), ('timed', 4), ('timespan', 4), ('timeval', 4), ('toggle', 4), ('tomorrow', 4), ('tons', 4), ('tortoise', 4), ('touched', 4), ('tpath', 4), ('traces', 4), ('translating', 4), ('treating', 4), ('truly', 4), ('tweak', 4), ('tweaks', 4), ('twincontrol', 4), ('tx', 4), ('txtpackage', 4), ('typename', 4), ('udp', 4), ('uielement', 4), ('uiimage', 4), ('undomanager', 4), ('unexpected', 4), ('university', 4), ('unload', 4), ('unloaded', 4), ('unrelated', 4), ('unreliable', 4), ('updateinternalbounds', 4), ('uploadaction', 4), ('uploads', 4), ('usa', 4), ('useragent', 4), ('utilization', 4), ('v4', 4), ('validates', 4), ('validatingitems', 4), ('validations', 4), ('validator', 4), ('vars', 4), ('verb', 4), ('verbs', 4), ('verisign', 4), ('versa', 4), ('viable', 4), ('vice', 4), ('victim', 4), ('violates', 4), ('virtualalloc', 4), ('visitor', 4), ('visitorid', 4), ('visitors', 4), ('voice', 4), ('volatile', 4), ('vpn', 4), ('vulnerabilities', 4), ('wall', 4), ('weak', 4), ('weapons', 4), ('webapps', 4), ('weighted', 4), ('weâ', 4), ('wf', 4), ('whatsoever', 4), ('wherever', 4), ('wich', 4), ('wicket', 4), ('wikipedia', 4), ('windsorcontainer', 4), ('winform', 4), ('winstation', 4), ('winxp', 4), ('wood', 4), ('workbook', 4), ('writedata', 4), ('writefunction', 4), ('wwwroot', 4), ('xmldocument', 4), ('xmlelement', 4), ('xmlnode', 4), ('xmlreader', 4), ('xquery', 4), ('y2', 4), ('yeah', 4), ('yesterday', 4), ('yield', 4), ('yyyyâ', 4), ('z0', 4), ('za', 4), ('zipstream', 4), ('{\\\\', 4), ('¨', 4), ('002', 3), ('003', 3), ('004', 3), ('005', 3), ('01umwelt', 3), ('03', 3), ('0366', 3), ('0xc0000005', 3), ('0xfeeefef2', 3), ('1000000', 3), ('1048576', 3), ('107', 3), ('117', 3), ('1234', 3), ('133', 3), ('143', 3), ('15th', 3), ('166', 3), ('178373', 3), ('180', 3), ('1867ms', 3), ('188', 3), ('193', 3), ('1997', 3), ('1px', 3), ('2002', 3), ('208', 3), ('242', 3), ('2k3', 3), ('30000', 3), ('37', 3), ('3gb', 3), ('465', 3), ('47', 3), ('49', 3), ('512', 3), ('550', 3), ('555', 3), ('5555', 3), ('5c', 3), ('64bit', 3), ('73', 3), ('823', 3), ('9241', 3), ('\\\\\\\\\\\\\\\\', 3), ('abbreviated', 3), ('abcdefg', 3), ('abort', 3), ('abs', 3), ('acceptdrag', 3), ('accepting', 3), ('accessable', 3), ('accessibility', 3), ('accidentally', 3), ('accompanying', 3), ('action1', 3), ('action3', 3), ('actioncontroller', 3), ('actionspan', 3), ('acts', 3), ('adam', 3), ('addaddress', 3), ('adddays', 3), ('addr', 3), ('administrative', 3), ('adopt', 3), ('adoquery1', 3), ('advisable', 3), ('adwords', 3), ('aero', 3), ('affiliate', 3), ('afterwards', 3), ('afx', 3), ('aligned', 3), ('allocations', 3), ('alltheletters', 3), ('alright', 3), ('altered', 3), ('alternatively', 3), ('amd', 3), ('ampersand', 3), ('analyse', 3), ('analyzer', 3), ('animal', 3), ('animations', 3), ('annotated', 3), ('annotation', 3), ('anticipate', 3), ('aop', 3), ('apipath', 3), ('apologize', 3), ('appearance', 3), ('appeared', 3), ('appearing', 3), ('approaching', 3), ('appropriately', 3), ('approved', 3), ('approximation', 3), ('arg1', 3), ('argumentnullexception', 3), ('arithmetic', 3), ('arranged', 3), ('arrives', 3), ('arrtowrite', 3), ('art', 3), ('artist', 3), ('as2', 3), ('aspnet', 3), ('ass', 3), ('assembler', 3), ('assemblyinfo', 3), ('assess', 3), ('assignments', 3), ('assistance', 3), ('associative', 3), ('astrvalidcodes', 3), ('async', 3), ('asynccallback', 3), ('asyncloader', 3), ('asynctoken', 3), ('atl', 3), ('atleast', 3), ('attachevent', 3), ('attachmentsnumber', 3), ('attacker', 3), ('attacks', 3), ('attention', 3), ('audience', 3), ('audioformat', 3), ('authoring', 3), ('authors', 3), ('autopostback', 3), ('awkward', 3), ('ax', 3), ('backoffinterval', 3), ('backtracking', 3), ('balance', 3), ('balancer', 3), ('banking', 3), ('bare', 3), ('barrier', 3), ('basehttpserver', 3), ('basename', 3), ('bazaar', 3), ('beforehand', 3), ('beginform', 3), ('begins', 3), ('bi', 3), ('bindlistviewnotification', 3), ('binds', 3), ('binid', 3), ('bios', 3), ('bitmapped', 3), ('bitmask', 3), ('bloat', 3), ('blocked', 3), ('blockingchannelconnector', 3), ('blows', 3), ('bogus', 3), ('boils', 3), ('book1', 3), ('bookmarks', 3), ('booktagnum', 3), ('bootcamp', 3), ('booth', 3), ('bordercolor', 3), ('bothered', 3), ('bought', 3), ('boxid', 3), ('bracket', 3), ('brackets', 3), ('brand', 3), ('brevity', 3), ('bringing', 3), ('brittle', 3), ('bst', 3), ('btn', 3), ('btnnetwork', 3), ('bufferedimages', 3), ('buffername', 3), ('buildingids', 3), ('busy', 3), ('button2', 3), ('c2', 3), ('cairngorm', 3), ('calculating', 3), ('capistrano', 3), ('car', 3), ('caring', 3), ('cassini', 3), ('castvsconvert', 3), ('catches', 3), ('cb', 3), ('centered', 3), ('centric', 3), ('ch', 3), ('channelfactory', 3), ('channels', 3), ('chapter', 3), ('charfield', 3), ('checkifroleallowed', 3), ('checkmark', 3), ('chkactive', 3), ('chkbox', 3), ('chm', 3), ('choking', 3), ('chunked', 3), ('cicero', 3), ('claims', 3), ('classbase', 3), ('classitem', 3), ('cleared', 3), ('clientipaddress', 3), ('clientorigin', 3), ('clientscriptmanager', 3), ('clientwidth', 3), ('clipboard', 3), ('closehandle', 3), ('closeit', 3), ('clsid', 3), ('clues', 3), ('cobol', 3), ('codegroup', 3), ('coffeemakerinterface', 3), ('coldfusion', 3), ('colemak', 3), ('collate', 3), ('colleague', 3), ('colleagues', 3), ('collectionid', 3), ('collectionmodified', 3), ('colored', 3), ('colours', 3), ('column3', 3), ('columnname', 3), ('columnvalue', 3), ('combining', 3), ('commandtext', 3), ('commented', 3), ('communications', 3), ('compares', 3), ('comparing', 3), ('competing', 3), ('complaining', 3), ('completes', 3), ('complicating', 3), ('comprehend', 3), ('comprehensions', 3), ('compromise', 3), ('computehash', 3), ('concatenating', 3), ('concerning', 3), ('concluded', 3), ('concurrently', 3), ('conditional', 3), ('conditionally', 3), ('connectionnew', 3), ('connectivity', 3), ('consensus', 3), ('considerable', 3), ('consideration', 3), ('considerations', 3), ('constantize', 3), ('constants', 3), ('construction', 3), ('contacts', 3), ('contextmenu', 3), ('contexts', 3), ('contextual', 3), ('continuation', 3), ('continues', 3), ('continuous', 3), ('contracts', 3), ('contractâ', 3), ('controlling', 3), ('convenience', 3), ('conventions', 3), ('converterbase', 3), ('corba', 3), ('correctness', 3), ('corrupt', 3), ('countdown', 3), ('coupling', 3), ('cout', 3), ('coworkers', 3), ('crashed', 3), ('createobject', 3), ('createobjectptr', 3), ('crmexception', 3), ('cruisecontrol', 3), ('cryptography', 3), ('cs0246', 3), ('ctl', 3), ('ctlparent', 3), ('cts', 3), ('cumbersome', 3), ('currenttimemillis', 3), ('curve', 3), ('customizable', 3), ('daemon', 3), ('dal', 3), ('dangerous', 3), ('dangers', 3), ('dataaccess', 3), ('datachunksize', 3), ('datafile', 3), ('datagridviewtextboxeditingcontrol', 3), ('dataitems', 3), ('datalist', 3), ('datamemberattribute', 3), ('datastore', 3), ('dated', 3), ('datepart', 3), ('datepicker', 3), ('dateuploaded', 3), ('dave', 3), ('dbname', 3), ('deallocated', 3), ('deallocation', 3), ('debuggervisualizers', 3), ('decodestring', 3), ('decorator', 3), ('defaultfeatureinstalled', 3), ('definitive', 3), ('deflatestream', 3), ('defs', 3), ('defun', 3), ('degrafa', 3), ('degrees', 3), ('deletes', 3), ('deliver', 3), ('delphi7', 3), ('deltas', 3), ('demonstrate', 3), ('demonstration', 3), ('denied', 3), ('deny', 3), ('deployable', 3), ('des', 3), ('describes', 3), ('designs', 3), ('desirable', 3), ('destenv', 3), ('destroy', 3), ('deviceiocontrol', 3), ('diffs', 3), ('dig', 3), ('digicert', 3), ('digital', 3), ('direct3d', 3), ('directed', 3), ('directorymatch', 3), ('dis', 3), ('disables', 3), ('disappears', 3), ('discuss', 3), ('discussions', 3), ('displaystring', 3), ('ditto', 3), ('dive', 3), ('divided', 3), ('dlna', 3), ('dollars', 3), ('domaina', 3), ('donâ', 3), ('dotnetnuke', 3), ('dots', 3), ('drastically', 3), ('drawimage', 3), ('drill', 3), ('dropbox', 3), ('dropdownlist1', 3), ('dropdownlists', 3), ('dscountry', 3), ('dsl', 3), ('dte', 3), ('dumb', 3), ('dup', 3), ('duplex', 3), ('duplicatetokenex', 3), ('dwmenablecomposition', 3), ('dynaloader', 3), ('dynamicly', 3), ('eat', 3), ('ec2', 3), ('editions', 3), ('education', 3), ('elaborate', 3), ('elegantly', 3), ('elementgt', 3), ('eliminate', 3), ('ellipses', 3), ('elmah', 3), ('embrace', 3), ('employed', 3), ('empstatus', 3), ('encapsulate', 3), ('encountering', 3), ('encouraged', 3), ('encrypting', 3), ('endindex', 3), ('ending', 3), ('endofday', 3), ('engineering', 3), ('enjoy', 3), ('enlighten', 3), ('enriched', 3), ('entirety', 3), ('entlib', 3), ('enumerable', 3), ('enumerated', 3), ('enums', 3), ('enviroment', 3), ('equally', 3), ('erb', 3), ('esc', 3), ('escaped', 3), ('eslinq', 3), ('establish', 3), ('established', 3), ('estimating', 3), ('europe', 3), ('ev', 3), ('eventworkqueue', 3), ('everybody', 3), ('everytime', 3), ('evidence', 3), ('exceeds', 3), ('exchange', 3), ('exclusion', 3), ('executecommand', 3), ('executesql', 3), ('executorservice', 3), ('exhausted', 3), ('exotic', 3), ('exp', 3), ('expandable', 3), ('expenditure', 3), ('experimented', 3), ('experimenting', 3), ('experiments', 3), ('expires', 3), ('exported', 3), ('exposed', 3), ('expressed', 3), ('extent', 3), ('externals', 3), ('extracts', 3), ('f10', 3), ('f11', 3), ('f12', 3), ('f13', 3), ('f14', 3), ('f15', 3), ('f16', 3), ('f17', 3), ('f18', 3), ('f19', 3), ('f3', 3), ('f4', 3), ('f6', 3), ('f8', 3), ('facelets', 3), ('facilitate', 3), ('facilities', 3), ('facing', 3), ('factoryholder', 3), ('facts', 3), ('fatal', 3), ('featured', 3), ('feeding', 3), ('feeds', 3), ('fetching', 3), ('fgets', 3), ('fgh', 3), ('fhandle', 3), ('fieldfactory', 3), ('filemode', 3), ('filenames', 3), ('filesystemwatcher', 3), ('finger', 3), ('firebird', 3), ('firm', 3), ('flagcount', 3), ('flashplayer', 3), ('floated', 3), ('flushing', 3), ('flux', 3), ('fmtid', 3), ('fn', 3), ('fname', 3), ('focustest', 3), ('folder1', 3), ('fond', 3), ('foolib', 3), ('foos', 3), ('footer', 3), ('foreachmove', 3), ('foreignkey', 3), ('forgetting', 3), ('forgotten', 3), ('forkey', 3), ('formal', 3), ('formalized', 3), ('former', 3), ('formview', 3), ('freely', 3), ('freeze', 3), ('frew', 3), ('fromstream', 3), ('frustrating', 3), ('frustration', 3), ('fsharp', 3), ('fu', 3), ('fullname', 3), ('fullscreentest', 3), ('functionally', 3), ('functioning', 3), ('fxcop', 3), ('gac', 3), ('gary', 3), ('gaussian', 3), ('gb18030', 3), ('ge', 3), ('gecko', 3), ('generators', 3), ('geometry', 3), ('getchosenelementlist', 3), ('getcommentsbypostid', 3), ('getdate', 3), ('getdocuments', 3), ('getexitcodeprocess', 3), ('getguid', 3), ('gethrefforfoo', 3), ('getimagesrcforfoo', 3), ('getlist', 3), ('getstring', 3), ('getstringarray', 3), ('getsubregions', 3), ('gettextforthat', 3), ('gettextfortheother', 3), ('gettextforthis', 3), ('getthreads', 3), ('getvisitorscount', 3), ('gfsid', 3), ('github', 3), ('glad', 3), ('globalization', 3), ('globally', 3), ('goals', 3), ('gpc', 3), ('grades', 3), ('granularity', 3), ('graphicsdevice', 3), ('graphicsenvironment', 3), ('grdcourses', 3), ('greatest', 3), ('gregoriancalendar', 3), ('grouping', 3), ('guest', 3), ('guideline', 3), ('guides', 3), ('guru', 3), ('h2', 3), ('hammer', 3), ('handheld', 3), ('hands', 3), ('happily', 3), ('hardcoded', 3), ('hasaccess', 3), ('hashcode', 3), ('hashcodes', 3), ('hashes', 3), ('hashmap', 3), ('hat', 3), ('hb', 3), ('headersize', 3), ('heavily', 3), ('heck', 3), ('heightofcenteredelement', 3), ('heigth', 3), ('hell', 3), ('helpers', 3), ('hexstring', 3), ('hibernating', 3), ('highlighted', 3), ('hinstance', 3), ('hires', 3), ('historical', 3), ('hklm', 3), ('homes', 3), ('hooks', 3), ('horizontally', 3), ('horsefeet', 3), ('hotness', 3), ('hsql', 3), ('htm', 3), ('httpclient', 3), ('hyper', 3), ('hypothetical', 3), ('i18l', 3), ('i386', 3), ('i586', 3), ('id1', 3), ('identified', 3), ('idiom', 3), ('idms', 3), ('idx', 3), ('ielementlist', 3), ('ietmguid', 3), ('ifdef', 3), ('iforumid', 3), ('ihttpcontext', 3), ('ihttphandler', 3), ('iis6', 3), ('iis7', 3), ('illegal', 3), ('imap', 3), ('impersonation', 3), ('impressed', 3), ('impressions', 3), ('improvedshape', 3), ('improvements', 3), ('inaccessible', 3), ('inappropriate', 3), ('incomplete', 3), ('incremental', 3), ('indefinitely', 3), ('indexof', 3), ('indication', 3), ('inetpub', 3), ('inflector', 3), ('infoappender', 3), ('informations', 3), ('infragistics', 3), ('inherent', 3), ('initialdircontextfactory', 3), ('initializing', 3), ('injectpropertieson', 3), ('injectusercontrols', 3), ('inputfile', 3), ('inputted', 3), ('insertonsubmit', 3), ('insists', 3), ('installshield', 3), ('instancecount', 3), ('instinct', 3), ('integrating', 3), ('integrity', 3), ('inter', 3), ('interactions', 3), ('interface1', 3), ('interopservices', 3), ('interp', 3), ('interpolate', 3), ('interpret', 3), ('intervalbottom', 3), ('intervals', 3), ('intervaltop', 3), ('interview', 3), ('introduced', 3), ('inttochar', 3), ('invalidcastexception', 3), ('inverse', 3), ('invert', 3), ('invokes', 3), ('involving', 3), ('ipc', 3), ('iproperty', 3), ('irc', 3), ('isadaptive', 3), ('isample', 3), ('isanimated', 3), ('isawesome', 3), ('ischecked', 3), ('ish', 3), ('isinrole', 3), ('isinteractive', 3), ('isolation', 3), ('issingleparameter', 3), ('itemarray', 3), ('itemguid', 3), ('itemlistener', 3), ('itemstatechanged', 3), ('itemtype', 3), ('itertools', 3), ('itf', 3), ('ive', 3), ('ixmllineinfo', 3), ('james', 3), ('jars', 3), ('java3d', 3), ('javac', 3), ('jcombobox', 3), ('jet', 3), ('joined', 3), ('jon', 3), ('jstl', 3), ('juli', 3), ('jumping', 3), ('jwindow', 3), ('jython', 3), ('keyed', 3), ('kicks', 3), ('kiosk', 3), ('lastprime', 3), ('lbldescription', 3), ('lbltitle', 3), ('lean', 3), ('led', 3), ('leg', 3), ('lessonculture', 3), ('lib64', 3), ('licenses', 3), ('likewise', 3), ('lineinfo', 3), ('liner', 3), ('linqdatasource', 3), ('linqtosql', 3), ('listbox', 3), ('listing', 3), ('listproduct', 3), ('lives', 3), ('lnk', 3), ('loadcontrol', 3), ('loadfile', 3), ('localization', 3), ('localize', 3), ('locfile', 3), ('logcreated', 3), ('logisticskiosk', 3), ('logo', 3), ('logonuser', 3), ('logout', 3), ('lookupandmodify', 3), ('lookupid', 3), ('loose', 3), ('lorem', 3), ('lostfocus', 3), ('lovely', 3), ('lucky', 3), ('machinekey', 3), ('magical', 3), ('magnitude', 3), ('mailmessage', 3), ('mainform', 3), ('maintable', 3), ('maintainable', 3), ('mainwindow', 3), ('makeall', 3), ('makeprg', 3), ('malloc', 3), ('mapid', 3), ('mars', 3), ('masterconn', 3), ('maze', 3), ('mbordercolor', 3), ('mborderwidth', 3), ('mbunit', 3), ('mdf', 3), ('mdi', 3), ('meantime', 3), ('mediawiki', 3), ('memstream', 3), ('messageid', 3), ('messagetext', 3), ('messing', 3), ('metaprogramming', 3), ('method1', 3), ('mi', 3), ('middlename', 3), ('midnight', 3), ('migrating', 3), ('mimebase', 3), ('mimemultipart', 3), ('mimetext', 3), ('mingw32msvc', 3), ('minimized', 3), ('mistakes', 3), ('mitigate', 3), ('modular', 3), ('moose', 3), ('mounted', 3), ('mousedown', 3), ('mouseover', 3), ('movie', 3), ('mroundedheight', 3), ('mroundedwidth', 3), ('msde', 3), ('mshtml', 3), ('msxml2', 3), ('mud', 3), ('multilanguage', 3), ('multipart', 3), ('multiply', 3), ('mvcfutures', 3), ('myapplog', 3), ('mycal', 3), ('mycolumn', 3), ('myfloats', 3), ('mylog', 3), ('mymobileapp', 3), ('mymodel', 3), ('mynamespace', 3), ('myobjects', 3), ('myrequeststring', 3), ('mysaifu', 3), ('myspace', 3), ('mystringbuilder', 3), ('myweightededge', 3), ('myxmlwriter', 3), ('myxsldoc', 3), ('mã', 3), ('nagging', 3), ('nativeoverlapped', 3), ('nc', 3), ('neighbours', 3), ('nest', 3), ('netbeans', 3), ('networks', 3), ('newdate', 3), ('newheight', 3), ('newinstance', 3), ('newmin', 3), ('neworgutility', 3), ('newpaths', 3), ('news', 3), ('nextcodeelement', 3), ('nfs', 3), ('nocount', 3), ('noise', 3), ('nologo', 3), ('normalizer', 3), ('normals', 3), ('notebook', 3), ('noticeable', 3), ('nov', 3), ('npercenth', 3), ('npercentw', 3), ('nsdate', 3), ('nullreferenceexception', 3), ('numbering', 3), ('numerical', 3), ('nusoap', 3), ('nvidia', 3), ('nxt', 3), ('object1', 3), ('obtained', 3), ('occured', 3), ('occurences', 3), ('oddly', 3), ('odds', 3), ('offenses', 3), ('olap', 3), ('onbeforeunload', 3), ('onkeypress', 3), ('openrecordset', 3), ('operand', 3), ('opposite', 3), ('opt', 3), ('optimally', 3), ('optimisation', 3), ('optimizations', 3), ('optimizing', 3), ('optionally', 3), ('orientation', 3), ('originalvalue', 3), ('oss', 3), ('othermachine', 3), ('outofmemory', 3), ('overflows', 3), ('overlap', 3), ('overnight', 3), ('overridden', 3), ('ownerid', 3), ('ownership', 3), ('paged', 3), ('paid', 3), ('panda', 3), ('paramb', 3), ('parentworkflowstepid', 3), ('parsefloat', 3), ('parses', 3), ('partly', 3), ('partner', 3), ('pasted', 3), ('pasting', 3), ('patching', 3), ('pathdeepcopy', 3), ('pause', 3), ('pclassitem', 3), ('pcontroller', 3), ('pcre', 3), ('pdc', 3), ('peer', 3), ('pending', 3), ('perl5', 3), ('permitted', 3), ('petshop', 3), ('pfunc1', 3), ('pfunc2', 3), ('phases', 3), ('phd', 3), ('phpmyadmin', 3), ('picker', 3), ('picking', 3), ('picky', 3), ('pics', 3), ('pigfeet', 3), ('pings', 3), ('pivottable', 3), ('planned', 3), ('playerâ', 3), ('plist', 3), ('plumbing', 3), ('pmd', 3), ('pngcrush', 3), ('pocket', 3), ('poking', 3), ('poorly', 3), ('popen', 3), ('popped', 3), ('posed', 3), ('positioned', 3), ('positioning', 3), ('postmessage', 3), ('postmethod', 3), ('powered', 3), ('ppipe', 3), ('ppt', 3), ('predefined', 3), ('predicate', 3), ('prefixing', 3), ('preloader', 3), ('prematurely', 3), ('premise', 3), ('preprocessing', 3), ('prerequisite', 3), ('preserved', 3), ('presumably', 3), ('presume', 3), ('previousplayerlocation', 3), ('priorities', 3), ('proceeding', 3), ('profiles', 3), ('profit', 3), ('project1', 3), ('projection', 3), ('projectionunit', 3), ('promising', 3), ('promptbuilder', 3), ('prompted', 3), ('proof', 3), ('propedit', 3), ('propel', 3), ('propertygroup', 3), ('propertyid', 3), ('propview', 3), ('prototypes', 3), ('providerattributes', 3), ('prv', 3), ('pseudocode', 3), ('ptr', 3), ('ptrval', 3), ('publication', 3), ('publicly', 3), ('publishes', 3), ('purchaseorder', 3), ('pushing', 3), ('putstrln', 3), ('py2exe', 3), ('pylons', 3), ('pythonic', 3), ('pyuno', 3), ('q1', 3), ('q2', 3), ('qtp', 3), ('queryinfo', 3), ('quickbooks', 3), ('quickest', 3), ('quickwatch', 3), ('quirks', 3), ('radio', 3), ('radioextensions', 3), ('raid', 3), ('rated', 3), ('rating', 3), ('rdf', 3), ('rdlc', 3), ('rdp', 3), ('reachable', 3), ('readily', 3), ('readings', 3), ('readtoend', 3), ('readuncommitted', 3), ('recognized', 3), ('recompile', 3), ('reconnect', 3), ('recreating', 3), ('recursion', 3), ('recursiveupdate', 3), ('redirection', 3), ('redirecttoaction', 3), ('redrawn', 3), ('reducing', 3), ('refactorings', 3), ('reflect', 3), ('refreshed', 3), ('refuse', 3), ('regard', 3), ('regexoptions', 3), ('regional', 3), ('reinventing', 3), ('relate', 3), ('relating', 3), ('reliably', 3), ('reloads', 3), ('remain', 3), ('remaining', 3), ('remains', 3), ('removes', 3), ('reopen', 3), ('repeatedly', 3), ('repetition', 3), ('repo2', 3), ('reportname', 3), ('requiring', 3), ('researched', 3), ('researching', 3), ('resets', 3), ('resizable', 3), ('resizing', 3), ('resolver', 3), ('resort', 3), ('resourcebundle', 3), ('responds', 3), ('resulted', 3), ('resultrefs', 3), ('resultstream', 3), ('retrieval', 3), ('reusing', 3), ('reveals', 3), ('reviews', 3), ('rewritepath', 3), ('rf', 3), ('rfc822', 3), ('ribbon', 3), ('rmi', 3), ('rolled', 3), ('rollover', 3), ('rotated', 3), ('rough', 3), ('rowpointervalue', 3), ('rowset', 3), ('rslt', 3), ('rspec', 3), ('rtnptr', 3), ('rtrn', 3), ('runner', 3), ('russian', 3), ('rusty', 3), ('s16', 3), ('s3', 3), ('sadly', 3), ('sale', 3), ('samba', 3), ('san', 3), ('sanitize', 3), ('savefilestream', 3), ('saveorupdate', 3), ('sc', 3), ('scaletransform', 3), ('scaling', 3), ('scanning', 3), ('scenes', 3), ('scheduling', 3), ('schemes', 3), ('science', 3), ('scm', 3), ('screenshot', 3), ('screenwidth', 3), ('scriptmanager', 3), ('scriptname', 3), ('searchvalue', 3), ('sedan', 3), ('sel', 3), ('selectedindex', 3), ('selecteditem', 3), ('selectfieldname', 3), ('selectionmode', 3), ('selections', 3), ('sell', 3), ('semantic', 3), ('sendmail', 3), ('sentence', 3), ('seo', 3), ('serializes', 3), ('seriously', 3), ('serverimageid', 3), ('serves', 3), ('service2impl', 3), ('servlets', 3), ('setinterval', 3), ('setstyle', 3), ('setter', 3), ('settext', 3), ('setvisible', 3), ('sftp', 3), ('shards', 3), ('shares', 3), ('shifting', 3), ('shipment', 3), ('shortened', 3), ('shortenurl', 3), ('shut', 3), ('shutdown', 3), ('shuts', 3), ('shutting', 3), ('shy', 3), ('sicp', 3), ('signals', 3), ('significance', 3), ('simulator', 3), ('sitemap', 3), ('skeleton', 3), ('skinning', 3), ('slash', 3), ('slaves', 3), ('slowness', 3), ('smallest', 3), ('smptserverhostname', 3), ('smtpserverport', 3), ('sock', 3), ('sockets', 3), ('solverpotential', 3), ('someevent', 3), ('somelist', 3), ('somemodule', 3), ('somenumber', 3), ('someprocedurename', 3), ('someproperty', 3), ('sometime', 3), ('sortedgamelist', 3), ('spammers', 3), ('spans', 3), ('sparc', 3), ('spawn', 3), ('speak', 3), ('specializations', 3), ('specifications', 3), ('specifies', 3), ('speeds', 3), ('spell', 3), ('splice', 3), ('spooler', 3), ('spy', 3), ('sql2005', 3), ('sqldbtype', 3), ('sqlexpress', 3), ('sqlsmoobject', 3), ('sqr', 3), ('ssms', 3), ('st', 3), ('staff', 3), ('stafftype', 3), ('stalepwd', 3), ('startindex', 3), ('startswith', 3), ('statuses', 3), ('stepsize', 3), ('steve', 3), ('stoptimer', 3), ('stories', 3), ('strangely', 3), ('strangest', 3), ('stream1', 3), ('stress', 3), ('stretch', 3), ('strfield', 3), ('strictly', 3), ('stringio', 3), ('stringproperty', 3), ('stroustrup', 3), ('strsql2', 3), ('structural', 3), ('structuremap', 3), ('struts2', 3), ('stub', 3), ('studies', 3), ('stuffchild', 3), ('subclassed', 3), ('subclipse', 3), ('subdomain', 3), ('sublists', 3), ('submitting', 3), ('subsonicproject', 3), ('substr', 3), ('subsystem', 3), ('subtle', 3), ('succeeded', 3), ('suffer', 3), ('sufficiently', 3), ('summer', 3), ('sums', 3), ('supplies', 3), ('swear', 3), ('symfony', 3), ('symptom', 3), ('sysinternals', 3), ('sysobjects', 3), ('tabbing', 3), ('tableadapter', 3), ('tackled', 3), ('tadoconnection', 3), ('tail', 3), ('tap', 3), ('targetcenter', 3), ('targetid', 3), ('tbllkupaccomodationtypes', 3), ('tbllkupregions', 3), ('tblname', 3), ('teacher', 3), ('tech', 3), ('temporarily', 3), ('tempted', 3), ('ten', 3), ('tenant', 3), ('terminate', 3), ('terminating', 3), ('terrible', 3), ('test3', 3), ('testb', 3), ('testcases', 3), ('testcopyandsetpropertiesforfiles', 3), ('testfunctionptr', 3), ('textalign', 3), ('textmate', 3), ('textoutput', 3), ('tfqm', 3), ('tha', 3), ('theiframe', 3), ('themanager', 3), ('theoretical', 3), ('thereâ', 3), ('thismachine', 3), ('thisnum', 3), ('thousand', 3), ('throwable', 3), ('thumbnail', 3), ('tia', 3), ('tickmarks', 3), ('tightly', 3), ('timestamps', 3), ('timezone', 3), ('timing', 3), ('tiny', 3), ('tinyint', 3), ('titleid', 3), ('titles', 3), ('toremove', 3), ('touching', 3), ('touchscreen', 3), ('toward', 3), ('trade', 3), ('transact', 3), ('transactionscope', 3), ('transferred', 3), ('transformation', 3), ('transformed', 3), ('translates', 3), ('travel', 3), ('triggering', 3), ('trough', 3), ('trp1', 3), ('trp2', 3), ('tue', 3), ('tuesday', 3), ('tweets', 3), ('typeerror', 3), ('typeparam', 3), ('u0008', 3), ('uat', 3), ('uiapplication', 3), ('uicolor', 3), ('uiimageview', 3), ('ultimate', 3), ('umbraco', 3), ('un', 3), ('unaffected', 3), ('uname', 3), ('unblock', 3), ('unchecked', 3), ('underline', 3), ('underscore', 3), ('underscores', 3), ('undocumented', 3), ('undone', 3), ('unexpectedly', 3), ('uninitialized', 3), ('uniquely', 3), ('universal', 3), ('universe', 3), ('unmanaged', 3), ('unreadable', 3), ('unsaved', 3), ('unspecified', 3), ('unsubscribe', 3), ('unusual', 3), ('unwanted', 3), ('unwieldy', 3), ('updatemodel', 3), ('upgrades', 3), ('uppercase', 3), ('urllib2', 3), ('urlroutinghandler', 3), ('usability', 3), ('user1', 3), ('userdata', 3), ('userregisterdto', 3), ('usersid', 3), ('usertoken', 3), ('v6', 3), ('v7', 3), ('vague', 3), ('vaguely', 3), ('validated', 3), ('validateditems', 3), ('validatelength', 3), ('validatenonempty', 3), ('valuable', 3), ('value1', 3), ('value2', 3), ('varbinary', 3), ('variablename', 3), ('vbox', 3), ('vcs', 3), ('vec', 3), ('vecmath', 3), ('ver', 3), ('vertically', 3), ('vhost', 3), ('viemu', 3), ('virtually', 3), ('visibility', 3), ('visitorslogcontroller', 3), ('visualizations', 3), ('visualizing', 3), ('voyage', 3), ('vxworks', 3), ('w2k3', 3), ('w4', 3), ('waitforsingleobject', 3), ('waitone', 3), ('walk', 3), ('wan', 3), ('warn', 3), ('watching', 3), ('wav', 3), ('weblinkurl', 3), ('webmethod', 3), ('webpages', 3), ('webparts', 3), ('webservicetemplate', 3), ('websphere', 3), ('weekend', 3), ('weeklyeventscalendar', 3), ('whereby', 3), ('widthofcenteredelement', 3), ('wikis', 3), ('wild', 3), ('win32dwmenablecomposition', 3), ('wip', 3), ('wishful', 3), ('wix', 3), ('wont', 3), ('wordwrap', 3), ('workflowstepid', 3), ('workings', 3), ('worktobedone', 3), ('worst', 3), ('worthless', 3), ('wp', 3), ('wrestling', 3), ('writable', 3), ('writer', 3), ('wsdlpath', 3), ('wxbase28d', 3), ('wysiwyg', 3), ('xico', 3), ('xl', 3), ('xmlsitemapprovider', 3), ('xmlwriter', 3), ('xterm', 3), ('xxxxx', 3), ('yellow', 3), ('young', 3), ('yy', 3), ('}\\\\', 3), ('}}}', 3), ('\\x80', 3), ('\\x80¢', 3), ('\\x82', 3), ('\\x83', 3), ('\\x98', 3), ('¡', 3), ('¦', 3), ('¸', 3), ('00000000', 2), ('000000000000', 2), ('009', 2), ('02d', 2), ('0400', 2), ('0500', 2), ('09e81222985c', 2), ('0f', 2), ('0x004095b0', 2), ('0x10000000', 2), ('0x8007052b', 2), ('0xff000000', 2), ('102', 2), ('1058', 2), ('10b', 2), ('10meg', 2), ('11025', 2), ('1112224444', 2), ('113', 2), ('120px', 2), ('121', 2), ('12345', 2), ('12a', 2), ('1500', 2), ('150000', 2), ('16000', 2), ('16bit', 2), ('16gb', 2), ('171', 2), ('176', 2), ('190', 2), ('1900', 2), ('1991', 2), ('1t5ja9', 2), ('2004', 2), ('2006', 2), ('2009', 2), ('20090101', 2), ('2010', 2), ('2036', 2), ('2048', 2), ('21', 2), ('2100', 2), ('217', 2), ('21e', 2), ('229', 2), ('230', 2), ('232', 2), ('240', 2), ('24x7', 2), ('250', 2), ('284', 2), ('285', 2), ('28591', 2), ('296e', 2), ('299', 2), ('2a', 2), ('2e', 2), ('2k', 2), ('2x', 2), ('302', 2), ('30319', 2), ('304', 2), ('32602', 2), ('32b', 2), ('33554432', 2), ('340', 2), ('350kb', 2), ('37000', 2), ('3770', 2), ('38', 2), ('3c', 2), ('3g', 2), ('4000', 2), ('4060', 2), ('40k', 2), ('44', 2), ('46', 2), ('47a2', 2), ('48', 2), ('4982', 2), ('499', 2), ('4e', 2), ('50k', 2), ('52', 2), ('532459699', 2), ('5600', 2), ('564', 2), ('59b8', 2), ('5e', 2), ('5in', 2), ('5pm', 2), ('604', 2), ('608', 2), ('612', 2), ('617', 2), ('641959725', 2), ('64k', 2), ('655360', 2), ('66', 2), ('69', 2), ('6ab32b8d', 2), ('6e', 2), ('72', 2), ('736c', 2), ('76', 2), ('768', 2), ('800x800', 2), ('81', 2), ('8203', 2), ('85', 2), ('87', 2), ('89845dcd8080cc91', 2), ('8d96', 2), ('908', 2), ('94', 2), ('95465', 2), ('976', 2), ('9876352345', 2), ('9i', 2), ('9s', 2), ('>>>', 2), ('>{', 2), ('\\\\\\\\\\\\', 2), ('\\\\{', 2), ('\\\\}', 2), ('^\\\\\\\\', 2), ('a4j', 2), ('aa', 2), ('abbreviations', 2), ('abcd', 2), ('abilities', 2), ('abit', 2), ('absence', 2), ('abstractconnector', 2), ('abstractexecutorservice', 2), ('abstracting', 2), ('aca', 2), ('academic', 2), ('acceptverbs', 2), ('accessmodifier', 2), ('accident', 2), ('accommodate', 2), ('accomodate', 2), ('accomplishing', 2), ('accurately', 2), ('achieving', 2), ('aclass', 2), ('acme', 2), ('acoustic', 2), ('action2', 2), ('actionlabel', 2), ('actionmailer', 2), ('activemq', 2), ('activexobject', 2), ('activities', 2), ('acyclic', 2), ('addclassname', 2), ('addcom', 2), ('addeventlistener', 2), ('additions', 2), ('additive', 2), ('addparameter', 2), ('addrange', 2), ('addressing', 2), ('addseconds', 2), ('adopted', 2), ('adt', 2), ('advertising', 2), ('advocate', 2), ('aeiou', 2), ('affid', 2), ('afford', 2), ('aforementioned', 2), ('agecolumn', 2), ('aggregation', 2), ('aggregationfunction', 2), ('ajahn', 2), ('ajaxbehavior', 2), ('ajaxoptions', 2), ('akin', 2), ('al', 2), ('ala', 2), ('albeit', 2), ('alerts', 2), ('allan', 2), ('allkeys', 2), ('allocating', 2), ('allocator', 2), ('allowautoredirect', 2), ('alphabet', 2), ('alternating', 2), ('ambiguous', 2), ('amfphp', 2), ('amongst', 2), ('amounts', 2), ('anal', 2), ('anchor', 2), ('anextrastringineed', 2), ('animate', 2), ('anna', 2), ('announce', 2), ('annoyed', 2), ('anonclass', 2), ('anotherthing', 2), ('ans', 2), ('answering', 2), ('antcall', 2), ('antenna', 2), ('antlr', 2), ('anyhow', 2), ('anyways', 2), ('apache2', 2), ('apc', 2), ('apologies', 2), ('apostbody', 2), ('apparent', 2), ('appbase', 2), ('appdata', 2), ('appending', 2), ('appends', 2), ('appengine', 2), ('appid', 2), ('applescript', 2), ('applic', 2), ('applicationcontext', 2), ('applicationcontroller', 2), ('applicationpath', 2), ('applicationverifier', 2), ('approx', 2), ('appsettings', 2), ('aquamacs', 2), ('arc4random', 2), ('architectures', 2), ('archives', 2), ('arg2', 2), ('argb', 2), ('arguing', 2), ('arounds', 2), ('arrange', 2), ('arrayname', 2), ('articlecontent', 2), ('articletitle', 2), ('artificial', 2), ('asap', 2), ('aspectj', 2), ('aspnetsessionexpiredexception', 2), ('asqueryable', 2), ('assemblers', 2), ('asserts', 2), ('assist', 2), ('assumes', 2), ('asterisk', 2), ('asyncclass', 2), ('atm', 2), ('atom', 2), ('attr1', 2), ('attr2', 2), ('attrib', 2), ('attrvalue', 2), ('authz', 2), ('autocad', 2), ('autoflush', 2), ('automake', 2), ('aux', 2), ('averaging', 2), ('avg', 2), ('avoided', 2), ('await', 2), ('awful', 2), ('azure', 2), ('b3', 2), ('b8', 2), ('backcolor', 2), ('backgroundworker', 2), ('backing', 2), ('backticks', 2), ('backups', 2), ('backwards', 2), ('badimageformatexception', 2), ('bag', 2), ('banana', 2), ('bands', 2), ('banging', 2), ('banner', 2), ('bas', 2), ('basedir', 2), ('basedirectory', 2), ('basedirupone', 2), ('basehttprequesthandler', 2), ('bases', 2), ('battle', 2), ('bb', 2), ('beanstalk', 2), ('beast', 2), ('beautiful', 2), ('beautifully', 2), ('beer', 2), ('beforecreate', 2), ('beforeunload', 2), ('befuddled', 2), ('begindowork', 2), ('beginners', 2), ('begun', 2), ('behaviorconfiguration', 2), ('behold', 2), ('benchmarks', 2), ('beneficial', 2), ('beside', 2), ('bespoke', 2), ('bias', 2), ('biggest', 2), ('billbobjohn', 2), ('binaryformatter', 2), ('binddata', 2), ('binded', 2), ('bindexception', 2), ('bindingconfiguration', 2), ('bindingcontext', 2), ('bio', 2), ('bionic', 2), ('birth', 2), ('bite', 2), ('bizarre', 2), ('blabla', 2), ('blackberry', 2), ('blacklisting', 2), ('blazeds', 2), ('blogapi', 2), ('bodies', 2), ('bone', 2), ('bonuses', 2), ('book2', 2), ('book3', 2), ('bookdb', 2), ('bookid', 2), ('bookmarked', 2), ('bools', 2), ('boots', 2), ('bootstrapper', 2), ('borderwidth', 2), ('borrow', 2), ('bothering', 2), ('bottleneck', 2), ('bounce', 2), ('bouncing', 2), ('boundary', 2), ('bounding', 2), ('bounty', 2), ('boxing', 2), ('boxitemid', 2), ('bpendingchanges', 2), ('bpl', 2), ('brace', 2), ('brainwashing', 2), ('branched', 2), ('branding', 2), ('breadth', 2), ('brian', 2), ('brick', 2), ('bright', 2), ('brilliant', 2), ('bruce', 2), ('bsd', 2), ('bstr', 2), ('btnread', 2), ('btnsubmit3', 2), ('bu', 2), ('buddy', 2), ('buildingid', 2), ('bullet', 2), ('burn', 2), ('burninate', 2), ('bush', 2), ('businessprocessobject', 2), ('button1', 2), ('buttonform', 2), ('bypassing', 2), ('bytearrayin', 2), ('c3po', 2), ('c5', 2), ('c9', 2), ('c9ff', 2), ('caches', 2), ('cade', 2), ('cafe', 2), ('cal', 2), ('calculateresizesizes', 2), ('calculates', 2), ('calculations', 2), ('calculator', 2), ('calendars', 2), ('callhandlerexecutionstep', 2), ('callingconvention', 2), ('callmethod', 2), ('cameras', 2), ('cameronl', 2), ('candidate', 2), ('canonicalid', 2), ('canonicalization', 2), ('canrender', 2), ('canwrite', 2), ('canâ', 2), ('capability', 2), ('capitalization', 2), ('caption', 2), ('captureframe', 2), ('captures', 2), ('capturing', 2), ('carbon', 2), ('cardspace', 2), ('careful', 2), ('carefully', 2), ('carol', 2), ('carried', 2), ('cascading', 2), ('catalog', 2), ('categorize', 2), ('caveat', 2), ('cck', 2), ('ccmdtarget', 2), ('ccommsproperties', 2), ('cdbl', 2), ('celldoubleclick', 2), ('centeredelement', 2), ('centralizing', 2), ('centro', 2), ('ceo', 2), ('cformview', 2), ('cfreturn', 2), ('ch09', 2), ('chained', 2), ('challenges', 2), ('challenging', 2), ('changepassword', 2), ('characterset', 2), ('checkdb', 2), ('checksum', 2), ('childwindowclass', 2), ('choke', 2), ('chronic', 2), ('chunking', 2), ('cid', 2), ('circumstances', 2), ('circumvent', 2), ('cisco', 2), ('cities', 2), ('ck', 2), ('claim', 2), ('claiming', 2), ('clarifications', 2), ('class1', 2), ('class2', 2), ('classloader', 2), ('cleanedstring', 2), ('cleanest', 2), ('clearcolor', 2), ('clearer', 2), ('clearit', 2), ('clickable', 2), ('clickonce', 2), ('clips', 2), ('clob', 2), ('clocks', 2), ('clog', 2), ('closewindow', 2), ('cmdline', 2), ('cnf', 2), ('cntl', 2), ('coalesce', 2), ('codeplex', 2), ('codeproject', 2), ('coffeemaker', 2), ('collapsing', 2), ('collation', 2), ('collisions', 2), ('cols', 2), ('comboboxes', 2), ('comexception', 2), ('comm', 2), ('committing', 2), ('commodity', 2), ('commodore', 2), ('commons', 2), ('comp', 2), ('compactdatabase', 2), ('comparable', 2), ('comparator', 2), ('compatibilty', 2), ('compensate', 2), ('completedsynchronously', 2), ('completing', 2), ('complication', 2), ('compose', 2), ('composed', 2), ('composer', 2), ('composition', 2), ('comprehension', 2), ('compressionmode', 2), ('computations', 2), ('conceptual', 2), ('conceptually', 2), ('conclude', 2), ('cond1', 2), ('cond2', 2), ('cond3', 2), ('cond4', 2), ('conery', 2), ('confidence', 2), ('confident', 2), ('configsections', 2), ('configthreadlocale', 2), ('configurable', 2), ('conformancelevel', 2), ('confusion', 2), ('conjunction', 2), ('connectionold', 2), ('connectionstringsettings', 2), ('connectors', 2), ('consequently', 2), ('consistently', 2), ('consisting', 2), ('consolidate', 2), ('constr', 2), ('constructed', 2), ('constructors', 2), ('constructs', 2), ('constructuploadobj', 2), ('consultants', 2), ('consumed', 2), ('consumer', 2), ('consumes', 2), ('consumption', 2), ('contacted', 2), ('containerid', 2), ('contentpresenter', 2), ('contenttemplate', 2), ('contentwindow', 2), ('contextawareresult', 2), ('contextcallback', 2), ('continually', 2), ('continuations', 2), ('contribute', 2), ('controllable', 2), ('conventional', 2), ('convey', 2), ('cookiesession', 2), ('cooperative', 2), ('cope', 2), ('copyid', 2), ('cores', 2), ('corpobject', 2), ('corrections', 2), ('correspond', 2), ('costello', 2), ('costly', 2), ('countless', 2), ('coupe', 2), ('coupled', 2), ('courier', 2), ('covers', 2), ('cp', 2), ('cp1', 2), ('cplusplus', 2), ('cql', 2), ('craigslist', 2), ('crappy', 2), ('createchannel', 2), ('createdelegate', 2), ('createmyobject', 2), ('createorganizationinstaller', 2), ('createprocessw', 2), ('createproperties', 2), ('crgrid', 2), ('crit', 2), ('criticaltranslateaccelerator', 2), ('cron', 2), ('cronjob', 2), ('crtl', 2), ('cryptographic', 2), ('cryptographically', 2), ('cs0117', 2), ('csidl', 2), ('csimplearray', 2), ('csr', 2), ('css2', 2), ('cte', 2), ('ctelevelone', 2), ('ctx', 2), ('cube', 2), ('cubes', 2), ('curdir', 2), ('curiosity', 2), ('currency', 2), ('currentdb', 2), ('currentprofile', 2), ('currentsession', 2), ('currentthread', 2), ('cust', 2), ('customerdata', 2), ('customerdto', 2), ('customized', 2), ('customreporting', 2), ('cwd', 2), ('cwnd', 2), ('cxxtestgen', 2), ('cycles', 2), ('cyrillic', 2), ('d0', 2), ('d15', 2), ('d3d', 2), ('d7', 2), ('d8', 2), ('dabba', 2), ('daniel', 2), ('danswer1', 2), ('danswer2', 2), ('dashboard', 2), ('dataaccesslayer', 2), ('dataadapter', 2), ('databindingcomplete', 2), ('databound', 2), ('datafield', 2), ('datafiledate', 2), ('datafileid', 2), ('datafilename', 2), ('datagridviewcomboboxcolumn', 2), ('datagridviewnumerictextboxeditingcontrol', 2), ('dataoutputstream', 2), ('datarepeater', 2), ('datasourceid', 2), ('datastructures', 2), ('datatemplate', 2), ('datatypes', 2), ('dataview', 2), ('datediff', 2), ('datestored', 2), ('datetimes', 2), ('daunting', 2), ('david', 2), ('dawson', 2), ('dba', 2), ('dbas', 2), ('dbdatarecord', 2), ('dbeventclientimpl', 2), ('dbscripter', 2), ('dcom', 2), ('ddd', 2), ('ddk', 2), ('ddlstation', 2), ('deadlines', 2), ('deals', 2), ('december', 2), ('deciding', 2), ('decimalfield1', 2), ('decimalfield2', 2), ('decl', 2), ('declares', 2), ('declaringtype', 2), ('decoded', 2), ('decompiled', 2), ('decompression', 2), ('decoration', 2), ('decouple', 2), ('decrypting', 2), ('defaultproxy', 2), ('defaultvalueprovider', 2), ('defective', 2), ('deficiencies', 2), ('del', 2), ('delaycallback', 2), ('deletecookie', 2), ('deleteonsubmit', 2), ('delhi', 2), ('delicate', 2), ('delimiters', 2), ('delivereddate', 2), ('demanding', 2), ('demos', 2), ('dependences', 2), ('deprecate', 2), ('dept', 2), ('deptid', 2), ('deque', 2), ('derivedsomemanagerclass', 2), ('descendant', 2), ('descends', 2), ('descriptors', 2), ('deserialise', 2), ('deserialized', 2), ('designmode', 2), ('desire', 2), ('desiredresult', 2), ('desperately', 2), ('destheight', 2), ('destroyed', 2), ('destwidth', 2), ('detaching', 2), ('detection', 2), ('detector', 2), ('detects', 2), ('develops', 2), ('dg', 2), ('dhcp', 2), ('dialogue', 2), ('didshowviewcontroller', 2), ('differentiate', 2), ('dinosaurs', 2), ('dir1', 2), ('dir2', 2), ('directives', 2), ('directorysearcher', 2), ('directpowercommand', 2), ('dirtobemonitored', 2), ('disablecomposition', 2), ('disadvantage', 2), ('disaster', 2), ('disc', 2), ('discard', 2), ('disconnect', 2), ('disconnects', 2), ('discount', 2), ('discover', 2), ('discovering', 2), ('discrete', 2), ('discussed', 2), ('discusses', 2), ('discussing', 2), ('dismiss', 2), ('dispatcherframe', 2), ('dispatcherpriority', 2), ('distinguish', 2), ('divstr', 2), ('djgpp', 2), ('dmsswitch', 2), ('dob', 2), ('docfactory', 2), ('doclist', 2), ('documentbuilderfactory', 2), ('docx', 2), ('dod', 2), ('doesnâ', 2), ('doevents', 2), ('dojotype', 2), ('dollar', 2), ('domainb', 2), ('domdocument', 2), ('dompdf', 2), ('donationsservice', 2), ('donkey', 2), ('doo', 2), ('dopostback', 2), ('doraemon', 2), ('dosomethinglousy', 2), ('dostart', 2), ('dostuff', 2), ('dotnet', 2), ('dotnetapp', 2), ('doubling', 2), ('doubts', 2), ('downtime', 2), ('dowork', 2), ('dragged', 2), ('dragmode', 2), ('drags', 2), ('dramatically', 2), ('dread', 2), ('dreaded', 2), ('dropifrequired', 2), ('droppable', 2), ('dual', 2), ('dubious', 2), ('dumped', 2), ('dumper', 2), ('duplicatetoken', 2), ('durations', 2), ('dvmydiv', 2), ('dwref', 2), ('dyn', 2), ('dynamicdataroute', 2), ('eager', 2), ('eaisly', 2), ('eap', 2), ('earth', 2), ('easter', 2), ('eax', 2), ('ebi', 2), ('editingcontroldatagridview', 2), ('edt', 2), ('eefileloadexception', 2), ('eexist', 2), ('efficiency', 2), ('elapses', 2), ('elem', 2), ('elementlistgroup', 2), ('eleven', 2), ('elig', 2), ('eligible', 2), ('eliminated', 2), ('eliminates', 2), ('ellipse', 2), ('elseif', 2), ('elsmp', 2), ('elvis', 2), ('emailreceiver', 2), ('embark', 2), ('emit', 2), ('empid', 2), ('employeetypeid', 2), ('ems', 2), ('enablecomposition', 2), ('encap', 2), ('encapsulation', 2), ('enclosed', 2), ('encoders', 2), ('encourage', 2), ('enddowork', 2), ('endofidtomatch', 2), ('endofstreamexception', 2), ('endtime', 2), ('energy', 2), ('enforced', 2), ('ensuring', 2), ('entityclass', 2), ('entropy', 2), ('entrypoint', 2), ('enumerator', 2), ('erroremailbody', 2), ('errorreport', 2), ('escaping', 2), ('eslinqdatacontext', 2), ('esql', 2), ('essence', 2), ('essentials', 2), ('estate', 2), ('et', 2), ('evening', 2), ('eventdispatcher', 2), ('everyday', 2), ('evident', 2), ('exceed', 2), ('exceptional', 2), ('exceptionwrapper', 2), ('excessively', 2), ('excluding', 2), ('excuse', 2), ('execprogram', 2), ('executablepath', 2), ('executeascollection', 2), ('executereader', 2), ('executestep', 2), ('exename', 2), ('exes', 2), ('existent', 2), ('exiting', 2), ('exmsg', 2), ('expense', 2), ('experts', 2), ('explenation', 2), ('explicitely', 2), ('exponential', 2), ('exposes', 2), ('exposing', 2), ('expressiveness', 2), ('extender', 2), ('extensible', 2), ('extensive', 2), ('extl', 2), ('eyes', 2), ('f0', 2), ('facet', 2), ('facilitating', 2), ('facto', 2), ('failedrecipient', 2), ('familar', 2), ('family', 2), ('famous', 2), ('fantastic', 2), ('faq', 2), ('fat32', 2), ('favor', 2), ('favoritecolor', 2), ('favors', 2), ('favour', 2), ('fbm240', 2), ('fe3c', 2), ('fe80', 2), ('feasibly', 2), ('fetchcolumn', 2), ('ffgsaf', 2), ('fi', 2), ('fiddler', 2), ('fiddling', 2), ('fieldinfo', 2), ('fieldlist', 2), ('fieldtostring', 2), ('fight', 2), ('fighting', 2), ('fileaccess', 2), ('filecontents', 2), ('filedescription', 2), ('fileextension', 2), ('fileguid', 2), ('fileinfo', 2), ('filelocation', 2), ('filenotfoundexception', 2), ('fileshare', 2), ('filetype', 2), ('filetypeenum', 2), ('filezilla', 2), ('filling', 2), ('fills', 2), ('fillsolidrect', 2), ('finalizer', 2), ('finance', 2), ('finditer', 2), ('findstr', 2), ('fips', 2), ('firms', 2), ('firstpara', 2), ('firstproperty', 2), ('fiscal', 2), ('fixnum', 2), ('fixtures', 2), ('fl', 2), ('flagged', 2), ('flagimage', 2), ('flagtype', 2), ('flame', 2), ('flawed', 2), ('fledged', 2), ('flexibility', 2), ('flickr', 2), ('floor', 2), ('fo', 2), ('fogbugz', 2), ('folder2', 2), ('foofunctions', 2), ('footertemplate', 2), ('forcedownload', 2), ('foreigntable', 2), ('fork', 2), ('formatdate', 2), ('formcollection', 2), ('formsauthentication', 2), ('formulas', 2), ('forname', 2), ('forpocketpc', 2), ('forsee', 2), ('fortran', 2), ('founding', 2), ('fourth', 2), ('foxintouch', 2), ('foxpro', 2), ('fq', 2), ('framerate', 2), ('frameworkelement', 2), ('fred', 2), ('freed', 2), ('freedom', 2), ('freeware', 2), ('frmpropertiesdetail', 2), ('fromargb', 2), ('fromfile', 2), ('fromoutside', 2), ('frozen', 2), ('frustrated', 2), ('frustrates', 2), ('fs', 2), ('fseek', 2), ('fulfill', 2), ('fulfils', 2), ('func2', 2), ('fundamentally', 2), ('funky', 2), ('fuss', 2), ('ga', 2), ('gae', 2), ('galileo', 2), ('gallery', 2), ('gambas', 2), ('gameid', 2), ('gamerepository', 2), ('gameservice', 2), ('gameswon', 2), ('gds', 2), ('geared', 2), ('generatefullpaths', 2), ('genetic', 2), ('gesture', 2), ('getall', 2), ('getarea', 2), ('getauctiondata', 2), ('getbytesfromstream', 2), ('getcategoriesbypostid', 2), ('getconnection', 2), ('getcountry', 2), ('getcurrentlessonsi18n', 2), ('getcurrentmethod', 2), ('getcurrentthread', 2), ('getdefaulttoolkit', 2), ('getdescription', 2), ('getdirectoryname', 2), ('getdlgctrlid', 2), ('getelementsbytagname', 2), ('getfilename', 2), ('getfiles', 2), ('getheight', 2), ('getimagesize', 2), ('getinstancevariable', 2), ('getitem', 2), ('getjcontentpane', 2), ('getjframe', 2), ('getjfspanel', 2), ('getjtogglebutton', 2), ('getlength', 2), ('getline', 2), ('getnextid', 2), ('getobject', 2), ('getpostbyid', 2), ('getposts', 2), ('getprocaddress', 2), ('getresponse', 2), ('getresponsestream', 2), ('getsoapfault', 2), ('getsomeitems', 2), ('getthumbimageheight', 2), ('getthumbimagewidth', 2), ('geturl', 2), ('getwindowonfocus', 2), ('gi', 2), ('gina', 2), ('giphtid', 2), ('globalish', 2), ('globallyopenports', 2), ('globals', 2), ('glut', 2), ('gmt', 2), ('gobject', 2), ('gold', 2), ('gonna', 2), ('goodsforsale', 2), ('gpl', 2), ('gpsd', 2), ('graboldcode', 2), ('grade1', 2), ('gradually', 2), ('grand', 2), ('grant', 2), ('granular', 2), ('graphicspath', 2), ('grasp', 2), ('gray', 2), ('greateroreqaultoten', 2), ('greedy', 2), ('gridviews', 2), ('grieve', 2), ('gritty', 2), ('groovlet', 2), ('groovyconsole', 2), ('ground', 2), ('group1', 2), ('groupmembers', 2), ('grown', 2), ('growth', 2), ('gu', 2), ('guard', 2), ('guthrie', 2), ('gzip', 2), ('h5550', 2), ('ha', 2), ('hacker', 2), ('hackintosh', 2), ('hamilton', 2), ('handed', 2), ('hanselman', 2), ('harry', 2), ('hashed', 2), ('hashing', 2), ('haskell', 2), ('hated', 2), ('havent', 2), ('hd', 2), ('hdd', 2), ('headertemplate', 2), ('heading', 2), ('healthy', 2), ('heaps', 2), ('heart', 2), ('hexnumber', 2), ('hexstringtoint', 2), ('hf35', 2), ('hg', 2), ('hibernation', 2), ('hides', 2), ('hierarchies', 2), ('highlights', 2), ('hijkl', 2), ('hive', 2), ('hkcu', 2), ('hmm', 2), ('holy', 2), ('honestly', 2), ('hooked', 2), ('hotkeys', 2), ('hovered', 2), ('hovering', 2), ('hovers', 2), ('hres', 2), ('hshell', 2), ('htc', 2), ('hterminated', 2), ('htmlattributes', 2), ('htmlentities', 2), ('htmlview', 2), ('httphandlers', 2), ('httplib', 2), ('httpurlconnection', 2), ('httpverbs', 2), ('httpworkerrequest', 2), ('hunger', 2), ('hunting', 2), ('hurt', 2), ('hwaddr', 2), ('hwndkeyboardinputprovider', 2), ('hypercube', 2), ('hyperlinks', 2), ('hz', 2), ('i', 2), ('i18n', 2), ('ia', 2), ('ibar', 2), ('ibusinessentity', 2), ('ice', 2), ('icollection', 2), ('icompilable', 2), ('icompiledsubquery', 2), ('icon1', 2), ('icu', 2), ('icustomerservice', 2), ('id2', 2), ('identifiers', 2), ('idispatchex', 2), ('ielementlistgroup', 2), ('ienum', 2), ('iexplore', 2), ('iexplorer', 2), ('ifconfig', 2), ('ifdefine', 2), ('ifieldnothing', 2), ('ifmodule', 2), ('iformatprovider', 2), ('iframes', 2), ('ifspec', 2), ('ifstreams', 2), ('ignorant', 2), ('igrouping', 2), ('ii', 2), ('iif', 2), ('il', 2), ('ill', 2), ('illustrative', 2), ('ilogger', 2), ('imagealphablending', 2), ('imagedebuggervisualizer', 2), ('imageio', 2), ('imagelist', 2), ('imaging', 2), ('imho', 2), ('imodelbinder', 2), ('imonth', 2), ('imp', 2), ('impacts', 2), ('implied', 2), ('imply', 2), ('imporant', 2), ('importfile', 2), ('importformxmlhandler', 2), ('importhandler', 2), ('improvedsquare', 2), ('imreceiver', 2), ('imyobject', 2), ('inbox', 2), ('includestagesafterasyncpoint', 2), ('includestagesbeforeasyncpoint', 2), ('inclusion', 2), ('incorporated', 2), ('incorporating', 2), ('increasingly', 2), ('ind', 2), ('ind00', 2), ('indented', 2), ('indenting', 2), ('independence', 2), ('indicates', 2), ('inet6', 2), ('inf00', 2), ('infer', 2), ('infix', 2), ('infrastructure', 2), ('inheritable', 2), ('initalizers', 2), ('initcomponents', 2), ('initfullscreenwindow', 2), ('initialisetimer', 2), ('initializeioc', 2), ('initializer', 2), ('initializers', 2), ('initiates', 2), ('initiatewindsor', 2), ('injected', 2), ('injecting', 2), ('inline99', 2), ('inlinefig', 2), ('inlines', 2), ('innerjoin', 2), ('innerxml', 2), ('innocent', 2), ('inputmanager', 2), ('inputreport', 2), ('inputstreamreader', 2), ('insane', 2), ('insensitive', 2), ('insertion', 2), ('insertsql', 2), ('inspect', 2), ('inspection', 2), ('inspections', 2), ('inspired', 2), ('installs', 2), ('installutil', 2), ('instanceof', 2), ('instant', 2), ('instantiating', 2), ('instantiation', 2), ('instantiations', 2), ('instruction', 2), ('int80', 2), ('intelligent', 2), ('intent', 2), ('intentions', 2), ('interactionelements', 2), ('interacts', 2), ('interchangeably', 2), ('interfering', 2), ('interleaved', 2), ('interleaving', 2), ('interlocked', 2), ('interpretation', 2), ('interpreted', 2), ('interrelate', 2), ('interrupt', 2), ('intl', 2), ('introducing', 2), ('invalidoperationexception', 2), ('invasive', 2), ('invest', 2), ('investigate', 2), ('investigated', 2), ('invocation', 2), ('invoice', 2), ('invokeattr', 2), ('invokehandler', 2), ('invokemethodfast', 2), ('iobjectreaderfactory', 2), ('iomanip', 2), ('ipaq', 2), ('iportnumber', 2), ('iprovider', 2), ('iproxy', 2), ('iron', 2), ('iserializable', 2), ('iseries', 2), ('iservice', 2), ('isession', 2), ('island', 2), ('isletter', 2), ('isnothing', 2), ('isp', 2), ('isset', 2), ('issuing', 2), ('istreams', 2), ('isv', 2), ('isvalidimage', 2), ('italian', 2), ('italic', 2), ('item4', 2), ('itemdatabound', 2), ('itemgroup', 2), ('iterative', 2), ('iyear', 2), ('ja', 2), ('jaas', 2), ('jad', 2), ('jane', 2), ('jasper', 2), ('javame', 2), ('jay', 2), ('jcomponent', 2), ('jetengine', 2), ('jh', 2), ('jhj', 2), ('jim', 2), ('jimmy', 2), ('jit', 2), ('jndi', 2), ('jonathan', 2), ('joy', 2), ('jpl', 2), ('jro', 2), ('jrun', 2), ('july', 2), ('jumped', 2), ('justify', 2), ('jve', 2), ('keen', 2), ('kernel32', 2), ('keychar', 2), ('keycode', 2), ('keyindex', 2), ('keymappings', 2), ('keypresseventargs', 2), ('keyreg', 2), ('keystrokes', 2), ('keywordid', 2), ('keywordslink', 2), ('kgroupheaderheight', 2), ('kibbee', 2), ('kick', 2), ('killed', 2), ('killing', 2), ('kills', 2), ('kit', 2), ('knowledgeable', 2), ('labview', 2), ('lambdas', 2), ('langid', 2), ('lastfm', 2), ('lat', 2), ('latex', 2), ('latin', 2), ('launcher', 2), ('launches', 2), ('launching', 2), ('layoutroot', 2), ('lazyasyncresult', 2), ('lblerror', 2), ('lblnotcheckinbecause', 2), ('lbs', 2), ('leader', 2), ('leadership', 2), ('lecture', 2), ('lee', 2), ('legally', 2), ('lesser', 2), ('lesson', 2), ('leverage', 2), ('lex', 2), ('lexical', 2), ('lh', 2), ('libapt', 2), ('libept', 2), ('libpthread', 2), ('libvirt', 2), ('lifestyle', 2), ('lifo', 2), ('lifting', 2), ('lighter', 2), ('lily', 2), ('linetotal', 2), ('lingo', 2), ('linkage', 2), ('linq2sql', 2), ('listboxes', 2), ('listenabledirectedweightedgraph', 2), ('listens', 2), ('listfiles', 2), ('listhelper', 2), ('listitemtype', 2), ('listtype', 2), ('lkj', 2), ('loadasyncwithdispatcher', 2), ('loadasyncwithoutdispatcher', 2), ('loadfrom', 2), ('loadmodule', 2), ('loadpostdata', 2), ('loanâ', 2), ('lob', 2), ('localeconv', 2), ('localpolicy', 2), ('localtimezone', 2), ('locating', 2), ('loczip', 2), ('logarithm', 2), ('logarithmic', 2), ('logfiles', 2), ('loginexception', 2), ('logparser', 2), ('longest', 2), ('longs', 2), ('lookandfeels', 2), ('loosely', 2), ('loreal', 2), ('lossless', 2), ('lotsostuff', 2), ('lowertext', 2), ('lucian', 2), ('luckily', 2), ('lã¼beck', 2), ('m128', 2), ('macos', 2), ('maildelivery', 2), ('mailer', 2), ('mainclass', 2), ('mainstream', 2), ('maintains', 2), ('mak', 2), ('makearray', 2), ('makefiles', 2), ('malformed', 2), ('manageable', 2), ('maple', 2), ('mappath', 2), ('mappings', 2), ('maproute', 2), ('marginally', 2), ('mario', 2), ('marking', 2), ('mary', 2), ('materials', 2), ('matt', 2), ('matthew', 2), ('maxbuffersize', 2), ('maxc', 2), ('maxreceivedmessagesize', 2), ('maxwidth', 2), ('maya', 2), ('mc9090', 2), ('mchyphen', 2), ('md5cryptoserviceprovider', 2), ('mday', 2), ('meanwhile', 2), ('measurements', 2), ('measuring', 2), ('meets', 2), ('memberaccess', 2), ('memoryimagesource', 2), ('mental', 2), ('mere', 2), ('mesg', 2), ('method2', 2), ('method3', 2), ('methodone', 2), ('methodtwo', 2), ('michael', 2), ('microcontrollers', 2), ('microtime', 2), ('midp', 2), ('mildly', 2), ('millennia', 2), ('millisecond', 2), ('mindset', 2), ('minidom', 2), ('minimizing', 2), ('mins', 2), ('mirroring', 2), ('mirrors', 2), ('mis', 2), ('misconception', 2), ('misleading', 2), ('misses', 2), ('mission', 2), ('mistaken', 2), ('misunderstood', 2), ('misuse', 2), ('mixer', 2), ('mockups', 2), ('modelbinding', 2), ('modeled', 2), ('modeling', 2), ('modelview', 2), ('modifies', 2), ('modifycollection', 2), ('modularity', 2), ('moments', 2), ('monkey', 2), ('monkeying', 2), ('monodevelop', 2), ('monorail', 2), ('monospace', 2), ('monthly', 2), ('moon', 2), ('moot', 2), ('mootools', 2), ('moreover', 2), ('mortem', 2), ('mouseenter', 2), ('movdqa', 2), ('movefirst', 2), ('movehandler', 2), ('movements', 2), ('movenext', 2), ('movieclip', 2), ('movntdqa', 2), ('mozilla', 2), ('mp', 2), ('mp4', 2), ('mpeg', 2), ('mpl', 2), ('msc', 2), ('mscorlib', 2), ('msgbox', 2), ('msglangid', 2), ('mtu', 2), ('multilingual', 2), ('multimap', 2), ('multimedia', 2), ('multipage', 2), ('multiples', 2), ('multipletenancy', 2), ('multithreading', 2), ('mustinherit', 2), ('mute', 2), ('mvchttphandler', 2), ('mvn', 2), ('mvp', 2), ('mycallback', 2), ('mycheckbox', 2), ('mycookie', 2), ('mydb', 2), ('mydomain', 2), ('myexceptionclass', 2), ('myform', 2), ('myfunction', 2), ('myintegers', 2), ('myjar', 2), ('mylabel', 2), ('mymodule', 2), ('myobjb', 2), ('mypath', 2), ('myplugin', 2), ('myrequesthandler', 2), ('myresponse', 2), ('myservice', 2), ('mysmallwebsite', 2), ('mysuccessfunction', 2), ('mytest', 2), ('mytestcase', 2), ('myxmldatasource', 2), ('myxmlresolver', 2), ('name1', 2), ('name2', 2), ('namemangled', 2), ('nanosecond', 2), ('narrow', 2), ('narrowly', 2), ('nativeerror', 2), ('navigationcontroller', 2), ('navigator', 2), ('nb', 2), ('nearest', 2), ('neededvalue', 2), ('negligible', 2), ('ner', 2), ('nero', 2), ('nes', 2), ('net2', 2), ('newaction', 2), ('newbitmap', 2), ('newdisplaystring', 2), ('newest', 2), ('newguid', 2), ('newline', 2), ('newly', 2), ('newnode', 2), ('newsitem', 2), ('newsletter', 2), ('newtaskfor', 2), ('newtitlename', 2), ('newvalue', 2), ('newwidthconvert', 2), ('nextmultiple', 2), ('nginx', 2), ('nib', 2), ('niche', 2), ('nifty', 2), ('nitty', 2), ('nofollow', 2), ('nolock', 2), ('nomachine', 2), ('nonclustered', 2), ('nonetheless', 2), ('nonvisualuiwidget', 2), ('normalize', 2), ('noscript', 2), ('notably', 2), ('notificationlists', 2), ('notifications', 2), ('notifies', 2), ('notimplementedexception', 2), ('notorious', 2), ('novell', 2), ('nowadays', 2), ('nowrap', 2), ('nowritefunction', 2), ('nreverse', 2), ('nsis', 2), ('nsmutableurlrequest', 2), ('nspasteboard', 2), ('nth', 2), ('ntp', 2), ('nullpointerexception', 2), ('num1', 2), ('num2', 2), ('num3', 2), ('num4', 2), ('numberformatexception', 2), ('numberstyles', 2), ('numbertransactions', 2), ('numbytes', 2), ('nummsgs', 2), ('numpy', 2), ('nw', 2), ('obiee', 2), ('object2', 2), ('objectprovider', 2), ('obligatory', 2), ('obliged', 2), ('obscure', 2), ('observablecollection', 2), ('obstructed', 2), ('ocaml', 2), ('occasional', 2), ('occasions', 2), ('oci', 2), ('offending', 2), ('offense', 2), ('offered', 2), ('offering', 2), ('officially', 2), ('offs', 2), ('offsetx', 2), ('offsety', 2), ('oltp', 2), ('omitted', 2), ('onfocus', 2), ('onlineorder', 2), ('onpreprocessmessage', 2), ('onresize', 2), ('onsize', 2), ('onsomeevent', 2), ('onstart', 2), ('onstartdrag', 2), ('ooo', 2), ('opaque', 2), ('openexeconfiguration', 2), ('openoffice', 2), ('operands', 2), ('operate', 2), ('operates', 2), ('operators', 2), ('opportunities', 2), ('opportunity', 2), ('optimizer', 2), ('orange', 2), ('orderby', 2), ('orderdesc', 2), ('orderdetails', 2), ('ordinary', 2), ('organizationguid', 2), ('organizationimportdefaultdata', 2), ('organized', 2), ('originating', 2), ('originatorid', 2), ('otherfile', 2), ('ourstruct1', 2), ('outcome', 2), ('outputarray', 2), ('outputpanel', 2), ('outputstreamwriter', 2), ('overlapping', 2), ('overloaded', 2), ('overlooking', 2), ('overrides', 2), ('overriding', 2), ('overrode', 2), ('owned', 2), ('owningaccountidstring', 2), ('p0', 2), ('p10', 2), ('p100', 2), ('p11', 2), ('p20', 2), ('packed', 2), ('packing', 2), ('pad', 2), ('pageaccesschecker', 2), ('pageaction', 2), ('pageasstring', 2), ('pageloadinghandler', 2), ('pagerank', 2), ('pagerequestmanager', 2), ('pagesize', 2), ('pagination', 2), ('painted', 2), ('painteventargs', 2), ('palette', 2), ('palindrome', 2), ('pam', 2), ('pane', 2), ('papers', 2), ('paradigms', 2), ('parallelism', 2), ('parametervalidators', 2), ('paranoid', 2), ('parentchapter', 2), ('parenthesis', 2), ('parentpage', 2), ('parseexact', 2), ('part1', 2), ('part2', 2), ('partitions', 2), ('patched', 2), ('pathwait', 2), ('paver', 2), ('paying', 2), ('pconfigfile', 2), ('pcreateobjectfunc', 2), ('pcs', 2), ('pd', 2), ('pdostatement', 2), ('pe', 2), ('peek', 2), ('pen', 2), ('penalty', 2), ('peoples', 2), ('perf', 2), ('performances', 2), ('perlintro', 2), ('permanent', 2), ('permfolders', 2), ('permit', 2), ('permtype', 2), ('perspectives', 2), ('phonereel', 2), ('phones', 2), ('photoshop', 2), ('php4', 2), ('phpinfo', 2), ('phpmailer', 2), ('phrases', 2), ('picks', 2), ('picresult', 2), ('pinged', 2), ('pinging', 2), ('pipelines', 2), ('pithy', 2), ('pivottables', 2), ('pkey', 2), ('pkg', 2), ('placeableobject', 2), ('plainsocketimpl', 2), ('plane', 2), ('plans', 2), ('playback', 2), ('plays', 2), ('pleased', 2), ('pleasing', 2), ('plot', 2), ('plotting', 2), ('plural', 2), ('podcast', 2), ('poi', 2), ('point2f', 2), ('pointcut', 2), ('poplib', 2), ('populating', 2), ('posix', 2), ('postbacks', 2), ('postcollection', 2), ('postdatakey', 2), ('powerpack', 2), ('preauthenticate', 2), ('precedence', 2), ('precise', 2), ('preferrably', 2), ('prefiltermessage', 2), ('prefixed', 2), ('preload', 2), ('preloaders', 2), ('preparedstatement', 2), ('preparesave', 2), ('preparesearch', 2), ('preparing', 2), ('prepends', 2), ('preselected', 2), ('presence', 2), ('presupposes', 2), ('prev', 2), ('pricehigh', 2), ('primes', 2), ('primitivetype', 2), ('principalpermission', 2), ('proactiveclienteventlogger', 2), ('probando', 2), ('procesend', 2), ('processarray', 2), ('processlist', 2), ('processrequestmain', 2), ('processtart', 2), ('producer', 2), ('proficient', 2), ('profilefactory', 2), ('profiletype', 2), ('progid', 2), ('programdataelement', 2), ('progressed', 2), ('progressive', 2), ('projectid', 2), ('projitem', 2), ('promptstyle', 2), ('property1', 2), ('property2', 2), ('property3', 2), ('propertyn', 2), ('propertytype', 2), ('propertyvalue', 2), ('protects', 2), ('prove', 2), ('proven', 2), ('provider1', 2), ('providername', 2), ('provision', 2), ('proxies', 2), ('pss', 2), ('ptest', 2), ('pub', 2), ('pubdate', 2), ('pubs', 2), ('pumping', 2), ('punchtime', 2), ('punctuation', 2), ('purchases', 2), ('purchasing', 2), ('purely', 2), ('purge', 2), ('purity', 2), ('pushviewcontroller', 2), ('pvoid', 2), ('pwnd', 2), ('pycairo', 2), ('pycurl', 2), ('pydev', 2), ('pythoninterpreter', 2), ('q0', 2), ('qemu', 2), ('qry', 2), ('qualified', 2), ('qualitative', 2), ('quantity', 2), ('queues', 2), ('quotation', 2), ('quoted', 2), ('qux', 2), ('r0f', 2), ('race', 2), ('radiobutton', 2), ('radiobuttonlistinternal', 2), ('radiolistextensions', 2), ('radius', 2), ('rainbow', 2), ('raisealert', 2), ('raising', 2), ('randomness', 2), ('randy', 2), ('rapidly', 2), ('raptree', 2), ('rare', 2), ('rationale', 2), ('rawfeed', 2), ('rd', 2), ('re', 2), ('reaching', 2), ('readme', 2), ('readwrite', 2), ('rear', 2), ('rearranging', 2), ('rebol', 2), ('rebuilding', 2), ('rebuilt', 2), ('recall', 2), ('recaptcha', 2), ('receiver', 2), ('recipe', 2), ('recipesid', 2), ('recognise', 2), ('recognition', 2), ('recognizable', 2), ('recognizes', 2), ('recognizing', 2), ('recompiling', 2), ('reconstruct', 2), ('recorder', 2), ('recover', 2), ('recovered', 2), ('recreated', 2), ('redefining', 2), ('redhat', 2), ('redirected', 2), ('redraw', 2), ('redrawing', 2), ('referer', 2), ('refers', 2), ('refine', 2), ('reflectionpermission', 2), ('reflects', 2), ('refraction', 2), ('refreshcommproperties', 2), ('regexbuddy', 2), ('regionid', 2), ('registerdataitem', 2), ('registrations', 2), ('reinstall', 2), ('rejected', 2), ('relavant', 2), ('releasable', 2), ('releases', 2), ('reloading', 2), ('remembered', 2), ('removal', 2), ('removeall', 2), ('removeattr', 2), ('renames', 2), ('renaming', 2), ('renderableobject', 2), ('repeatable', 2), ('repeaters', 2), ('replacements', 2), ('repo1', 2), ('reportattachment', 2), ('reporthierarchy', 2), ('reportingservicesservice', 2), ('reportinput', 2), ('reportserver', 2), ('repos', 2), ('repositorypath', 2), ('repositoryversion', 2), ('representative', 2), ('reproducible', 2), ('reputation', 2), ('requestwork', 2), ('resemble', 2), ('resend', 2), ('reserve', 2), ('resetbindings', 2), ('resetevent', 2), ('reseting', 2), ('resetting', 2), ('resevoir', 2), ('residing', 2), ('resolving', 2), ('resorted', 2), ('respective', 2), ('responding', 2), ('responsestream', 2), ('responsive', 2), ('restores', 2), ('restrictions', 2), ('restricts', 2), ('result1', 2), ('resultant', 2), ('resumethread', 2), ('retaining', 2), ('retrieves', 2), ('retrieveunpublished', 2), ('retrospect', 2), ('returnimage', 2), ('reusable', 2), ('revamp', 2), ('revert', 2), ('reviewing', 2), ('rewritebase', 2), ('rewritten', 2), ('rgba', 2), ('ribbonbar', 2), ('richtextbox', 2), ('rjs', 2), ('rlike', 2), ('rng', 2), ('road', 2), ('roaming', 2), ('robustly', 2), ('roleassignments', 2), ('ron', 2), ('rootmenuitembreadcrumb', 2), ('rootmenuitemlefthtml', 2), ('rootmenuitemrighthtml', 2), ('roots', 2), ('rotating', 2), ('roundedlabel', 2), ('routed', 2), ('routedata', 2), ('routingerror', 2), ('roux', 2), ('rover', 2), ('row1', 2), ('rowgroups', 2), ('rowvalue', 2), ('rsscontent', 2), ('rte', 2), ('rtml', 2), ('rtncount', 2), ('rubyzip', 2), ('rudimentary', 2), ('runimport', 2), ('runinternal', 2), ('runnable', 2), ('runnablefuture', 2), ('runningthreads', 2), ('runtest', 2), ('runtests', 2), ('runtimemethodhandle', 2), ('runtimemethodinfo', 2), ('runtimetypehandle', 2), ('rv', 2), ('sad', 2), ('safest', 2), ('sales', 2), ('saleslogix', 2), ('sally', 2), ('sample2', 2), ('sandcastle', 2), ('sane', 2), ('santhosh', 2), ('sarcasm', 2), ('satisfies', 2), ('satisfyscondition', 2), ('saver', 2), ('savings', 2), ('sax', 2), ('scales', 2), ('scanned', 2), ('scanners', 2), ('schedule', 2), ('scientific', 2), ('sconstruct', 2), ('scp', 2), ('scratching', 2), ('screensaver', 2), ('scripted', 2), ('scriptschema', 2), ('sdf', 2), ('sea', 2), ('seal', 2), ('seamless', 2), ('sean', 2), ('searchform', 2), ('secondary', 2), ('secondproperty', 2), ('secret', 2), ('sector', 2), ('securesocketlayer', 2), ('securing', 2), ('seek', 2), ('seemingly', 2), ('selectall', 2), ('selecteditems', 2), ('selectnodes', 2), ('selectors', 2), ('selectsinglenode', 2), ('sem', 2), ('semaphore', 2), ('senders', 2), ('sendtimeout', 2), ('senior', 2), ('sensible', 2), ('separating', 2), ('separatorcssclass', 2), ('september', 2), ('serializer', 2), ('serialnumber', 2), ('serialtestdatacontext', 2), ('serrors', 2), ('servername', 2), ('serversocketadaptor', 2), ('serversocketchannelimpl', 2), ('service1impl', 2), ('service3impl', 2), ('serviceforpocketpc', 2), ('serviceobjectfactory', 2), ('sess', 2), ('sessionoptions', 2), ('setaction', 2), ('setbounds', 2), ('setcontentpane', 2), ('setignoringelementcontentwhitespace', 2), ('setlayout', 2), ('setopt', 2), ('setoutputtoaudiostream', 2), ('setreuseaddress', 2), ('settime', 2), ('settingabc', 2), ('settle', 2), ('settled', 2), ('settlement', 2), ('setups', 2), ('setwindowshookex', 2), ('sever', 2), ('sf', 2), ('sfguard', 2), ('sfopenid', 2), ('sha1', 2), ('shall', 2), ('shame', 2), ('shaped', 2), ('sharding', 2), ('sharedapplication', 2), ('sharedptr', 2), ('shareware', 2), ('shelf1', 2), ('shifts', 2), ('shop', 2), ('shopping', 2), ('shoppingcartitemid', 2), ('shoud', 2), ('shouldautorotatetointerfaceorientation', 2), ('showerror', 2), ('showfullscreenwindow', 2), ('showstopper', 2), ('shrink', 2), ('shrinkfile', 2), ('sid', 2), ('sides', 2), ('signing', 2), ('silver', 2), ('similiar', 2), ('simplepie', 2), ('simplexml', 2), ('simultaneous', 2), ('simultaneously', 2), ('singelton', 2), ('singer', 2), ('singular', 2), ('sizex', 2), ('sizing', 2), ('skeletons', 2), ('skeptical', 2), ('skin', 2), ('skipifcommand', 2), ('skipping', 2), ('sl2', 2), ('sla', 2), ('slashes', 2), ('sleeping', 2), ('slice', 2), ('slide', 2), ('slideshow', 2), ('sliding', 2), ('slight', 2), ('slim', 2), ('slowdown', 2), ('slowing', 2), ('smalltalk', 2), ('smang', 2), ('smartpart', 2), ('smocollectionbase', 2), ('smoenum', 2), ('smp', 2), ('smslot', 2), ('smtpclient', 2), ('snapshots', 2), ('sniff', 2), ('snipper', 2), ('soapclient', 2), ('soapfault', 2), ('soapfaultclientexception', 2), ('soaphttpclientprotocol', 2), ('softwarename', 2), ('sohu', 2), ('solaris', 2), ('sold', 2), ('solely', 2), ('sols', 2), ('solves', 2), ('some', 2), ('somebogusvar', 2), ('somefolder', 2), ('somefunc', 2), ('somenode', 2), ('someparam', 2), ('somepath', 2), ('someplace', 2), ('somestuff', 2), ('sometask', 2), ('songwriter', 2), ('sophisticated', 2), ('sourcedir', 2), ('sourceforge', 2), ('sp3', 2), ('spangt', 2), ('sparsearray', 2), ('spcontext', 2), ('speaking', 2), ('specialized', 2), ('speculative', 2), ('speechaudioformatinfo', 2), ('speechsynthesizer', 2), ('speedtree', 2), ('speedy', 2), ('spends', 2), ('spike', 2), ('spin', 2), ('spins', 2), ('spit', 2), ('spite', 2), ('splistitem', 2), ('splitext', 2), ('spolsky', 2), ('spool', 2), ('sproce', 2), ('sqldataprovider', 2), ('sqlhelper', 2), ('sqlite3', 2), ('sqlplus', 2), ('sqlserverce', 2), ('sqlstate', 2), ('sqlstatement', 2), ('sqmoption', 2), ('squid', 2), ('srcsrv', 2), ('srv', 2), ('sso', 2), ('stacking', 2), ('stackpanel', 2), ('stages', 2), ('standarddataobject', 2), ('startdatetime', 2), ('starteam', 2), ('starters', 2), ('startinfo', 2), ('startofday', 2), ('startpoint', 2), ('startservice', 2), ('starttime', 2), ('statistical', 2), ('stayed', 2), ('stdcall', 2), ('stdin', 2), ('stdlib', 2), ('steer', 2), ('stepping', 2), ('sth', 2), ('sticking', 2), ('stopworkerthread', 2), ('storedprocedure', 2), ('storyplayer', 2), ('stp', 2), ('strawberry', 2), ('strcpy', 2), ('streamed', 2), ('streetnames', 2), ('strengths', 2), ('strikes', 2), ('string1', 2), ('stringclob', 2), ('stringlength', 2), ('stringstream', 2), ('stripped', 2), ('stronger', 2), ('strtok', 2), ('study', 2), ('stumble', 2), ('stumbled', 2), ('styled', 2), ('styling', 2), ('subarray', 2), ('subcell', 2), ('submenuitembreadcrumb', 2), ('submissions', 2), ('submitter', 2), ('submittoservlet', 2), ('subpairs', 2), ('subqueries', 2), ('subscriptiondata', 2), ('subsequently', 2), ('subsets', 2), ('substantially', 2), ('subview', 2), ('succeed', 2), ('succesfully', 2), ('successes', 2), ('suck', 2), ('suggesting', 2), ('summarise', 2), ('summarize', 2), ('summing', 2), ('supply', 2), ('surname', 2), ('surprised', 2), ('surrounded', 2), ('surrounding', 2), ('survey', 2), ('suspected', 2), ('svnroot', 2), ('svnserve', 2), ('swapping', 2), ('sweet', 2), ('switchaccounts', 2), ('symlinks', 2), ('symmetric', 2), ('syncexec', 2), ('synchronisation', 2), ('synchronous', 2), ('syncobj', 2), ('synthformat', 2), ('sysadmin', 2), ('sysinfo', 2), ('szcommandline', 2), ('t4', 2), ('tabbed', 2), ('tabcontrol', 2), ('tabcontrol1', 2), ('table2', 2), ('table3', 2), ('tableofstuff', 2), ('tabpages', 2), ('tadoquery', 2), ('taglib', 2), ('tagname', 2), ('talked', 2), ('targetdir', 2), ('targetedarea', 2), ('targetframeworkversion', 2), ('targetintervalsize', 2), ('targettype', 2), ('task1', 2), ('task2', 2), ('tasking', 2), ('taste', 2), ('taught', 2), ('tb', 2), ('tbldropdownvalues', 2), ('tblnews', 2), ('tblno', 2), ('tblpropertiesbindingsource', 2), ('tblweeklyprices', 2), ('tbp', 2), ('tchar', 2), ('tclsh83', 2), ('tcontrol', 2), ('te', 2), ('ted', 2), ('telerik', 2), ('telldir', 2), ('tempdb', 2), ('templating', 2), ('templog', 2), ('temporal', 2), ('temporaryfile', 2), ('tends', 2), ('terminfo', 2), ('testa', 2), ('testblah', 2), ('testcase', 2), ('testexecutor', 2), ('testfunction', 2), ('testtable', 2), ('testxml', 2), ('tetris', 2), ('textblock', 2), ('textblocks', 2), ('textbook', 2), ('textfile', 2), ('textinput', 2), ('textnode', 2), ('texts', 2), ('textstring', 2), ('textual', 2), ('textures', 2), ('textwritertracelistener', 2), ('tgr', 2), ('tgz', 2), ('thedate', 2), ('thedateineedtocheck', 2), ('theinstance', 2), ('themed', 2), ('themers', 2), ('theoretically', 2), ('theories', 2), ('thesis', 2), ('thin', 2), ('thingwindow', 2), ('tho', 2), ('thorcontroller', 2), ('threadinghttpserver', 2), ('threshold', 2), ('throwerror', 2), ('thru', 2), ('thu', 2), ('thumbnailpath', 2), ('tibco', 2), ('tiers', 2), ('tight', 2), ('till', 2), ('tim', 2), ('timedelta', 2), ('timeofdaytype', 2), ('timeouts', 2), ('timers', 2), ('tinterfacedobject', 2), ('tiocm', 2), ('titlename', 2), ('tkmessagebox', 2), ('tld', 2), ('tlogfont', 2), ('tls', 2), ('tmpgfsid', 2), ('tmpquantity', 2), ('tmpret', 2), ('tmpshoppingcartitemid', 2), ('tnmhttp', 2), ('toad', 2), ('tocustomshortdate', 2), ('tokentree', 2), ('tolerate', 2), ('tolower', 2), ('tom', 2), ('tony', 2), ('toolset', 2), ('toolstrip', 2), ('toolstrips', 2), ('topprime', 2), ('touted', 2), ('toy', 2), ('toying', 2), ('trail', 2), ('trait', 2), ('tranlator', 2), ('transactionli', 2), ('transferobjectfactory', 2), ('transforming', 2), ('transient', 2), ('translateaccelerator', 2), ('transmitted', 2), ('trap', 2), ('traps', 2), ('traverse', 2), ('trgt', 2), ('trickery', 2), ('trickle', 2), ('trips', 2), ('trolling', 2), ('troubleshoot', 2), ('troublesome', 2), ('truetype', 2), ('truncation', 2), ('truststore', 2), ('tsa', 2), ('tsql', 2), ('tthread', 2), ('ttip', 2), ('ttype', 2), ('tuning', 2), ('turbo', 2), ('turnoff', 2), ('tweaked', 2), ('twitter', 2), ('txqueuelen', 2), ('txtbox3', 2), ('txttest', 2), ('typecomment', 2), ('typeconverter', 2), ('typelibs', 2), ('typeowner', 2), ('typeparameters', 2), ('typo', 2), ('tz', 2), ('u0000', 2), ('uac', 2), ('uc1', 2), ('udf', 2), ('udphdrâ', 2), ('ugh', 2), ('uh', 2), ('uibarbuttonitem', 2), ('uidevice', 2), ('uifont', 2), ('uilabel', 2), ('uinavigationcontroller', 2), ('uitextfield', 2), ('uiviewcontroller', 2), ('uiwidgetevent', 2), ('ultraman', 2), ('unaccepted', 2), ('unauthorized', 2), ('unavailable', 2), ('unaware', 2), ('unc', 2), ('uncaught', 2), ('unchanged', 2), ('unclear', 2), ('uncommon', 2), ('undostate', 2), ('unencrypted', 2), ('unhappy', 2), ('unhelpful', 2), ('unified', 2), ('uniquecustomeridentifier', 2), ('uniqueidentifier', 2), ('united', 2), ('unknownmessagereceived', 2), ('unlikely', 2), ('unlucky', 2), ('unmount', 2), ('uno', 2), ('unoruntime', 2), ('unpacked', 2), ('unpleasant', 2), ('unread', 2), ('unregister', 2), ('unregistering', 2), ('unrolling', 2), ('unserialize', 2), ('unset', 2), ('untill', 2), ('unused', 2), ('unwinding', 2), ('upcoming', 2), ('updatecontrols', 2), ('updateddate', 2), ('updatepanels', 2), ('updateprogresspanel', 2), ('updater', 2), ('uploadconfig', 2), ('urban', 2), ('urlback', 2), ('urlbinding', 2), ('urlopen', 2), ('urlpatterns', 2), ('usebean', 2), ('usec', 2), ('userbean', 2), ('userdetails', 2), ('userrelations', 2), ('utf8', 2), ('utilize', 2), ('v0', 2), ('v5', 2), ('v8', 2), ('v9', 2), ('val3', 2), ('val4', 2), ('validateevent', 2), ('validatesameas', 2), ('validationkey', 2), ('validators', 2), ('vals', 2), ('valuationinputstr', 2), ('value3', 2), ('valueintervalsize', 2), ('valuetoinject', 2), ('variants', 2), ('vault', 2), ('vbs', 2), ('vcards', 2), ('vcproj', 2), ('verbose', 2), ('verifications', 2), ('verifies', 2), ('versed', 2), ('viewfields', 2), ('viewname', 2), ('viewport', 2), ('viewstateexception', 2), ('villa', 2), ('virtualfree', 2), ('virus', 2), ('visit', 2), ('visiting', 2), ('visualsvn', 2), ('vlan', 2), ('vnc', 2), ('vobs', 2), ('voices', 2), ('volumes', 2), ('voter', 2), ('vps', 2), ('vspscc', 2), ('vsstudio', 2), ('vtimer', 2), ('vulnerable', 2), ('waithandle', 2), ('wake', 2), ('walked', 2), ('walking', 2), ('wanna', 2), ('washfeet', 2), ('wasted', 2), ('wasteful', 2), ('water', 2), ('waterfall', 2), ('waveform', 2), ('wavestream', 2), ('webbinding', 2), ('webflow', 2), ('webhttpbinding', 2), ('webinstanceservice', 2), ('webinvoke', 2), ('webrequest', 2), ('webservers', 2), ('webservicehandler', 2), ('websitebusinessrules', 2), ('webstart', 2), ('week2', 2), ('week3', 2), ('weeklycal', 2), ('weights', 2), ('wend', 2), ('wepdwujodu0njc5md', 2), ('werror', 2), ('wherein', 2), ('wherepublicis', 2), ('widgets', 2), ('wildly', 2), ('win2k3', 2), ('win32gui', 2), ('winded', 2), ('windowposchanging', 2), ('windowsprincipal', 2), ('windsorhttpmodule', 2), ('wingdings', 2), ('winhttpreq', 2), ('wiped', 2), ('wireframes', 2), ('withcountryid', 2), ('wmd', 2), ('wmv', 2), ('wndproc', 2), ('wonderful', 2), ('wonderfully', 2), ('worded', 2), ('workermethod', 2), ('workhorse', 2), ('workplace', 2), ('workspace', 2), ('worthy', 2), ('wq', 2), ('wr', 2), ('wrappers', 2), ('writeintarrtostream', 2), ('writen', 2), ('writeprocessmemory', 2), ('writetext', 2), ('wrongly', 2), ('wtl', 2), ('wx', 2), ('wxdc', 2), ('wxpython', 2), ('xcomponentcontext', 2), ('xcomponentloader', 2), ('xdispatch', 2), ('xfa', 2), ('xmldatasource', 2), ('xmls', 2), ('xmmi', 2), ('xmulticomponentfactory', 2), ('xps', 2), ('xslcompiledtransform', 2), ('xsldocpath', 2), ('xstorable', 2), ('xunourlresolver', 2), ('xxxx', 2), ('yabba', 2), ('yacc', 2), ('yaoming', 2), ('yearmon', 2), ('yer', 2), ('yokogawa', 2), ('you', 2), ('yslow', 2), ('zeromemory', 2), ('zindex', 2), ('zooming', 2), ('{{{', 2), ('~\\\\', 2), ('\\x80\\x93', 2), ('\\x81', 2), ('\\x84', 2), ('\\x86', 2), ('¥', 2), ('§', 2), ('0000000000000007779553950749686919152736663818359374', 1), ('00000147', 1), ('00000181', 1), ('00000480', 1), ('00000516', 1), ('0001', 1), ('00161', 1), ('003154', 1), ('006', 1), ('00805f49916b', 1), ('00942', 1), ('01001', 1), ('0123456789abcdefghjklmnpqrtuvwxy', 1), ('01775', 1), ('01791', 1), ('024', 1), ('03b1c35241b3', 1), ('03gb', 1), ('048', 1), ('06f', 1), ('0700', 1), ('080c210c9a66', 1), ('08cc', 1), ('092008', 1), ('0bdd0011', 1), ('0d', 1), ('0px', 1), ('0v2', 1), ('0x', 1), ('0x00000000', 1), ('0x0000000000027d8d', 1), ('0x0000000000530278', 1), ('0x00000005', 1), ('0x002727a2', 1), ('0x004ef00b', 1), ('0x004f23de', 1), ('0x006c0061', 1), ('0x0091d910', 1), ('0x01', 1), ('0x01020000', 1), ('0x01c949b7447a7a50', 1), ('0x02', 1), ('0x04', 1), ('0x092828ac', 1), ('0x11d8', 1), ('0x2000', 1), ('0x27', 1), ('0x34363932353433373538323038353135353439', 1), ('0x34fc1a0', 1), ('0x34fc258', 1), ('0x3b', 1), ('0x4000', 1), ('0x47317b3d', 1), ('0x68e109f0f40ca72a15e05cc22786f8e6', 1), ('0x80004005', 1), ('0x80070018', 1), ('0x80131402', 1), ('0xc0202009', 1), ('0xff', 1), ('0xffff', 1), ('0xffffffff', 1), ('10000000', 1), ('1000000000000000003', 1), ('10001', 1), ('1000c2', 1), ('1000fps', 1), ('1001', 1), ('1007518822', 1), ('100k', 1), ('100m', 1), ('1014', 1), ('1020', 1), ('102008', 1), ('10240', 1), ('1024x768', 1), ('103', 1), ('104', 1), ('105', 1), ('106', 1), ('1062', 1), ('107256', 1), ('1093', 1), ('1095812260', 1), ('10e', 1), ('10em', 1), ('10g', 1), ('10px', 1), ('10s', 1), ('10t', 1), ('10th', 1), ('112', 1), ('112008', 1), ('115', 1), ('116', 1), ('1170476976', 1), ('1180955100000', 1), ('1184', 1), ('119', 1), ('11d1', 1), ('11d8', 1), ('11dd', 1), ('11g', 1), ('122', 1), ('1221584564703', 1), ('123345', 1), ('1233454637819a9b98', 1), ('1234567890123456789', 1), ('123456789012346', 1), ('12345678abcdefgh', 1), ('12345x', 1), ('12352', 1), ('125', 1), ('126', 1), ('128mb', 1), ('129', 1), ('12b', 1), ('12fps', 1), ('12px', 1), ('1305', 1), ('1308', 1), ('132', 1), ('1337', 1), ('136854', 1), ('137', 1), ('13da67a41a5d', 1), ('141', 1), ('1436', 1), ('143d334c8155', 1), ('147', 1), ('1471', 1), ('149c', 1), ('14kb', 1), ('14th', 1), ('1500ms', 1), ('1505523923', 1), ('15218', 1), ('153', 1), ('1536', 1), ('155', 1), ('15gb', 1), ('15k', 1), ('160', 1), ('1600', 1), ('161', 1), ('1617621783', 1), ('1618', 1), ('168mb', 1), ('16bits', 1), ('16x16', 1), ('170', 1), ('17000', 1), ('1701', 1), ('1702', 1), ('172', 1), ('1722', 1), ('174', 1), ('1753', 1), ('1799', 1), ('18064', 1), ('180646', 1), ('1807913', 1), ('1807914', 1), ('182', 1), ('1822359551', 1), ('1822392319', 1), ('1822490623', 1), ('1822523391', 1), ('1822556159', 1), ('184', 1), ('189', 1), ('18a1', 1), ('190000', 1), ('194161', 1), ('1967', 1), ('197', 1), ('1970', 1), ('1986', 1), ('19879', 1), ('1990s', 1), ('19am', 1), ('19inch', 1), ('1a', 1), ('1b', 1), ('1bpp', 1), ('1e04', 1), ('1m', 1), ('1tb', 1), ('1x1', 1), ('1x100', 1), ('2000000000000000004', 1), ('2001', 1), ('200805', 1), ('20080501', 1), ('2008052906', 1), ('2008070208', 1), ('200810391018', 1), ('200k', 1), ('200ms', 1), ('2019', 1), ('2082', 1), ('20americaq0', 1), ('20t16', 1), ('20th', 1), ('20worldemail', 1), ('21022', 1), ('213a743e', 1), ('214', 1), ('2147319779', 1), ('21z', 1), ('221', 1), ('2225', 1), ('2233', 1), ('22334', 1), ('225', 1), ('2257870', 1), ('2257974', 1), ('2300', 1), ('23030', 1), ('230908', 1), ('231321', 1), ('233', 1), ('234', 1), ('2399', 1), ('240kb', 1), ('243', 1), ('244', 1), ('246', 1), ('248', 1), ('24bpp', 1), ('2500', 1), ('254', 1), ('256k', 1), ('257', 1), ('2576', 1), ('25mb', 1), ('25x18', 1), ('261696', 1), ('270', 1), ('275', 1), ('279', 1), ('2b', 1), ('2ed', 1), ('2ftp', 1), ('2l', 1), ('2mb', 1), ('2mins', 1), ('2title', 1), ('30000000000000000004', 1), ('3000000000000000004', 1), ('300mb', 1), ('301', 1), ('3025', 1), ('3042', 1), ('30512150', 1), ('3058', 1), ('306', 1), ('3061', 1), ('30714', 1), ('30729', 1), ('30fps', 1), ('30mb', 1), ('30s', 1), ('30secs', 1), ('310', 1), ('3169', 1), ('31bf3856ad364e35', 1), ('320gb', 1), ('320ms', 1), ('326', 1), ('329', 1), ('32bits', 1), ('32gb', 1), ('32x32', 1), ('333', 1), ('3334', 1), ('334', 1), ('3359', 1), ('346', 1), ('350', 1), ('35287', 1), ('3532', 1), ('356', 1), ('360', 1), ('36000', 1), ('366', 1), ('373', 1), ('3790', 1), ('389', 1), ('39', 1), ('392', 1), ('39752', 1), ('398', 1), ('3a', 1), ('3a0', 1), ('3a12q1', 1), ('3d444d', 1), ('3e', 1), ('3mb', 1), ('3pada', 1), ('3x', 1), ('4049', 1), ('405', 1), ('4062', 1), ('4063', 1), ('4096', 1), ('41', 1), ('411', 1), ('419c', 1), ('421b', 1), ('42entertainment', 1), ('43', 1), ('431', 1), ('432', 1), ('440', 1), ('441', 1), ('443', 1), ('4444', 1), ('445', 1), ('450', 1), ('456', 1), ('457', 1), ('45737', 1), ('462643a7', 1), ('4648', 1), ('468', 1), ('4682b4', 1), ('4716', 1), ('47185920', 1), ('474', 1), ('475', 1), ('480', 1), ('480px', 1), ('481', 1), ('48eb7b7a', 1), ('4a', 1), ('4d', 1), ('4eacf78eb87e9262a0b631a8a6e417e9a5957cab', 1), ('4gbs', 1), ('4ghz', 1), ('4gl', 1), ('4k', 1), ('4kb', 1), ('4pm', 1), ('4x10', 1), ('4x4', 1), ('5000px', 1), ('501', 1), ('508', 1), ('509', 1), ('51', 1), ('51b', 1), ('5210064be1fa4d6abf5dd5e56b262974', 1), ('5405', 1), ('5406', 1), ('544', 1), ('545', 1), ('5500', 1), ('551', 1), ('554', 1), ('56477', 1), ('571', 1), ('576', 1), ('577', 1), ('578', 1), ('587', 1), ('5am', 1), ('5ms', 1), ('5p', 1), ('5th', 1), ('60000', 1), ('600px', 1), ('601', 1), ('6088386', 1), ('608th', 1), ('60mb', 1), ('61196', 1), ('621', 1), ('629', 1), ('63', 1), ('635', 1), ('636', 1), ('648', 1), ('64b', 1), ('64kb', 1), ('64â', 1), ('6502', 1), ('654321', 1), ('65534', 1), ('65536', 1), ('65k', 1), ('675', 1), ('68', 1), ('680236624', 1), ('68e109f0f40ca72a15e05cc22786f8e6', 1), ('696', 1), ('6c6163', 1), ('6f', 1), ('6min', 1), ('6secs', 1), ('7017', 1), ('71', 1), ('7168', 1), ('719879', 1), ('7200', 1), ('7200rpm', 1), ('736', 1), ('7370', 1), ('74', 1), ('74321', 1), ('754', 1), ('75de8e1d65ff40d1ba666d940af5b118', 1), ('761', 1), ('77433211', 1), ('777', 1), ('78', 1), ('79', 1), ('79f97075', 1), ('7ab3aa1aec2dc91', 1), ('7m', 1), ('80004005', 1), ('80131506', 1), ('8088', 1), ('80c31', 1), ('822', 1), ('8333333', 1), ('86', 1), ('88', 1), ('888', 1), ('89428', 1), ('895', 1), ('898', 1), ('898aa', 1), ('8am', 1), ('8bit', 1), ('8char', 1), ('8dc0', 1), ('8gb', 1), ('8ghz', 1), ('8i', 1), ('900px', 1), ('903', 1), ('908bb', 1), ('90s', 1), ('92', 1), ('92f4', 1), ('97', 1), ('975f', 1), ('98', 1), ('999999999999999', 1), ('999999999999999111821580299874767661094665527343749â', 1), ('9999999999999995559107901499373838305473327636718749â', 1), ('9999999999999997779553950749686919152736663818359374999999â', 1), ('99999999999999977795539507496869191527366638183593749â', 1), ('9999999999999997779â', 1), ('9999999999999999', 1), ('9999999999999999444888487687421729788184165954589843749â', 1), ('9999999999999999888977697537484345957636833190917968749â', 1), ('9be0', 1), ('9f4', 1), ('9y3n5', 1), ('^\\\\', 1), ('^^', 1), ('^}', 1), ('``', 1), ('a118', 1), ('a45bd16d', 1), ('aarrgggg', 1), ('abandon', 1), ('abandoned', 1), ('abarax', 1), ('abbacca', 1), ('abbreviation', 1), ('abcdefghijklmnopqrstuvwxyz', 1), ('abdera', 1), ('abnormal', 1), ('absent', 1), ('absorb', 1), ('abstain', 1), ('abstractcollectionbase', 1), ('abstracted', 1), ('abstractions', 1), ('abt', 1), ('abuot', 1), ('abused', 1), ('acategory', 1), ('accented', 1), ('accents', 1), ('acceptably', 1), ('acceptance', 1), ('acces', 1), ('accesor', 1), ('accesscontrolexception', 1), ('accessfilename', 1), ('accessiblethrough', 1), ('accessors', 1), ('accomodationid', 1), ('accomodationtype', 1), ('accomplishes', 1), ('accordance', 1), ('accordian', 1), ('accordion', 1), ('accountable', 1), ('accountants', 1), ('accountid', 1), ('accumulate', 1), ('accumulating', 1), ('accumulation', 1), ('accurev', 1), ('ache', 1), ('acheive', 1), ('achild', 1), ('acid', 1), ('acknowledge', 1), ('acl', 1), ('acm', 1), ('acomplish', 1), ('acoustics', 1), ('acpi', 1), ('acquireconection', 1), ('acquired', 1), ('acquiring', 1), ('acquisition', 1), ('acrobat', 1), ('acronis', 1), ('acronyms', 1), ('actaully', 1), ('acted', 1), ('acting', 1), ('actionenum', 1), ('actionevent', 1), ('actioninvoker', 1), ('actionlistener', 1), ('actionpack', 1), ('actionperformed', 1), ('actionsets', 1), ('activedocument', 1), ('activeds', 1), ('activerecordmediator', 1), ('activestate', 1), ('activewindow', 1), ('activitydate', 1), ('activitydatemidnight', 1), ('actuarial', 1), ('actul', 1), ('ad8b', 1), ('ada', 1), ('adapt', 1), ('adapterfactory', 1), ('adapting', 1), ('adaptulator', 1), ('addactionlistener', 1), ('addadapterfactory', 1), ('addchild', 1), ('addchildcontainer', 1), ('addcomponent', 1), ('addfirst', 1), ('addhandler', 1), ('addheader', 1), ('addicted', 1), ('addinhost', 1), ('addinhwndsourcewrapper', 1), ('addins', 1), ('additemlistener', 1), ('addmodelerror', 1), ('addon', 1), ('addons', 1), ('addoptions', 1), ('addowner', 1), ('addreplyto', 1), ('addressfamily', 1), ('addressof', 1), ('addrow', 1), ('addslashes', 1), ('adduser', 1), ('addview', 1), ('adequate', 1), ('adequately', 1), ('adhere', 1), ('adjacency', 1), ('adjacent', 1), ('adjoint', 1), ('adjusting', 1), ('adm', 1), ('admincontroller', 1), ('admins', 1), ('admittedly', 1), ('adp', 1), ('adress', 1), ('adschemacolumns', 1), ('adsense', 1), ('adsobject', 1), ('advancement', 1), ('advances', 1), ('advapi32', 1), ('advertise', 1), ('advertised', 1), ('advices', 1), ('advised', 1), ('advises', 1), ('advisible', 1), ('advocating', 1), ('aefa28e0', 1), ('aesthetically', 1), ('afaict', 1), ('afghanistan', 1), ('aforemention', 1), ('aform', 1), ('afterward', 1), ('afxbeginthread', 1), ('agaist', 1), ('ageing', 1), ('agency', 1), ('aggregations', 1), ('aging', 1), ('agnosticism', 1), ('aguera', 1), ('ah', 1), ('ahem', 1), ('ahost', 1), ('aid', 1), ('aiff', 1), ('airapis', 1), ('airforjsdev', 1), ('aix', 1), ('ajaxrendered', 1), ('ajaxtoolkit', 1), ('ajaxupload', 1), ('ajaxy', 1), ('ajp13', 1), ('akamai', 1), ('alan', 1), ('aland', 1), ('alas', 1), ('alexey', 1), ('aliases', 1), ('alice', 1), ('aligns', 1), ('alives', 1), ('all', 1), ('alldocuments', 1), ('allegro', 1), ('allfuturesfailedexception', 1), ('allocatehwnd', 1), ('allocates', 1), ('allowable', 1), ('allowances', 1), ('allowmultiple', 1), ('allvalues', 1), ('alongside', 1), ('alphabaticaly', 1), ('alphabetically', 1), ('alphanumberic', 1), ('alphanumeric', 1), ('alphanums', 1), ('alphcount', 1), ('alternatingitem', 1), ('alumni', 1), ('alway', 1), ('amagzine', 1), ('amarok', 1), ('amazing', 1), ('ambiguity', 1), ('ambitious', 1), ('amend', 1), ('amiable', 1), ('amigaos', 1), ('amiss', 1), ('amit', 1), ('ampersands', 1), ('amqp', 1), ('anachronism', 1), ('anagrams', 1), ('analog', 1), ('analyser', 1), ('analysts', 1), ('analyzed', 1), ('ancestor', 1), ('ancestors', 1), ('ancientness', 1), ('and', 1), ('andreas', 1), ('android', 1), ('andrã', 1), ('angelika', 1), ('angelo', 1), ('angles', 1), ('anint', 1), ('announced', 1), ('announcement', 1), ('announcements', 1), ('annoy', 1), ('annoyance', 1), ('annoys', 1), ('annuity', 1), ('anon', 1), ('anonymized', 1), ('anonymoustype0', 1), ('anoter', 1), ('anotheritem', 1), ('answ', 1), ('answere', 1), ('answertime', 1), ('anthony', 1), ('anthropoids', 1), ('anti', 1), ('antialias', 1), ('anticipating', 1), ('antrun', 1), ('ants', 1), ('anumber', 1), ('anyclues', 1), ('anyother', 1), ('anythng', 1), ('anywone', 1), ('apartment', 1), ('apiece', 1), ('apientry', 1), ('aplly', 1), ('apocalisp', 1), ('apostophies', 1), ('apostrophes', 1), ('app1', 1), ('app2', 1), ('app3', 1), ('appcode', 1), ('appdomains', 1), ('appendchild', 1), ('appended', 1), ('appendheader', 1), ('appenditemqueryrq', 1), ('appendtext', 1), ('appendtofile', 1), ('applciation', 1), ('applescriptable', 1), ('applescripts', 1), ('applicant', 1), ('applicants', 1), ('applicationdidfinishlaunching', 1), ('applicationexception', 1), ('applicationstepmanager', 1), ('appmanager', 1), ('appointments', 1), ('appopriate', 1), ('appplication', 1), ('appreciative', 1), ('approximate', 1), ('approximating', 1), ('appstore', 1), ('appturns', 1), ('aptana', 1), ('ar', 1), ('arcane', 1), ('archiac', 1), ('architects', 1), ('architectured', 1), ('archivereportsindatabase', 1), ('areallistitem', 1), ('argsv', 1), ('argubaly', 1), ('arguement', 1), ('argumentative', 1), ('argumentexception', 1), ('argumentlist', 1), ('arise', 1), ('arisen', 1), ('arises', 1), ('arizona', 1), ('armageddon', 1), ('armed', 1), ('arn', 1), ('arrival', 1), ('arrivaldate', 1), ('arrived', 1), ('arriving', 1), ('arrows', 1), ('arse', 1), ('arthur', 1), ('articleid', 1), ('artificially', 1), ('ascending', 1), ('asdoc', 1), ('ase', 1), ('aseembly', 1), ('asenumerable', 1), ('asf', 1), ('ashx', 1), ('asian', 1), ('asically', 1), ('aslong', 1), ('asminfo', 1), ('aspose', 1), ('assemble', 1), ('assembled', 1), ('assembly1', 1), ('assembly2', 1), ('assemblyinformationalversion', 1), ('assemblyname', 1), ('assemblyversion', 1), ('assemblyversionattribute', 1), ('assemplies', 1), ('assertions', 1), ('assertnotnull', 1), ('assests', 1), ('assigment', 1), ('assimilated', 1), ('assistive', 1), ('assistx', 1), ('assoc', 1), ('associates', 1), ('assortment', 1), ('assumign', 1), ('assurance', 1), ('astronomers', 1), ('asunto', 1), ('aswell', 1), ('asyncappender', 1), ('asynchbeans', 1), ('at90can128', 1), ('ate', 1), ('atendance', 1), ('atexit', 1), ('atlas', 1), ('atoi', 1), ('atomic', 1), ('atomically', 1), ('atop', 1), ('atrocious', 1), ('atrtibutes', 1), ('attaches', 1), ('attacking', 1), ('attain', 1), ('attendance', 1), ('attending', 1), ('attibutes', 1), ('attr3', 1), ('attr4', 1), ('attrbutes', 1), ('attributeerror', 1), ('attributetargets', 1), ('attributeusage', 1), ('attribution', 1), ('attributions', 1), ('attrname', 1), ('auction', 1), ('auctions', 1), ('auditing', 1), ('aug', 1), ('aught', 1), ('augmentation', 1), ('australia', 1), ('australian', 1), ('authchallengeprocessor', 1), ('authenticator', 1), ('authenticity', 1), ('authname', 1), ('authority', 1), ('authorizeattribute', 1), ('authtype', 1), ('authuserfile', 1), ('autoboxing', 1), ('autocompletion', 1), ('autoconf', 1), ('autogenerate', 1), ('autogroupmanagement', 1), ('autoincrement', 1), ('automerge', 1), ('automotive', 1), ('autorelease', 1), ('autorun', 1), ('autosaving', 1), ('autosuggestion', 1), ('autosys', 1), ('auxiliary', 1), ('availible', 1), ('avalable', 1), ('averages', 1), ('averse', 1), ('avi', 1), ('avl', 1), ('avr', 1), ('awaiting', 1), ('awry', 1), ('awterror', 1), ('axe', 1), ('axhost', 1), ('axis2', 1), ('axjax', 1), ('axl', 1), ('azenv', 1), ('azroles', 1), ('b0100110010111010', 1), ('b05', 1), ('b0m', 1), ('b105', 1), ('b2evo', 1), ('b5bf', 1), ('baby', 1), ('babysit', 1), ('bac', 1), ('backbarbuttonitem', 1), ('backbutton', 1), ('backdoor', 1), ('backed', 1), ('backgrounder', 1), ('backgrounds', 1), ('backlog', 1), ('backoff', 1), ('backoffint', 1), ('backoutcode', 1), ('backquotes', 1), ('backs', 1), ('backslashes', 1), ('backspace', 1), ('backtrack', 1), ('badge', 1), ('baffled', 1), ('bailed', 1), ('bailing', 1), ('bais', 1), ('baked', 1), ('balancing', 1), ('balaweblog', 1), ('band', 1), ('banding', 1), ('bang', 1), ('bangalores', 1), ('banners', 1), ('barebones', 1), ('barely', 1), ('barking', 1), ('barmey', 1), ('barred', 1), ('base10', 1), ('base128', 1), ('base36', 1), ('base64mime', 1), ('baseboard', 1), ('basecurrencycode', 1), ('basecurrencyname', 1), ('basecurrencysymbol', 1), ('baselines', 1), ('basement', 1), ('baseoverlappedasyncresult', 1), ('basestreamresult', 1), ('baseurl', 1), ('bashrc', 1), ('basichttpbinding', 1), ('basing', 1), ('batches', 1), ('bath', 1), ('bathwater', 1), ('bathymetry', 1), ('bayesian', 1), ('bbedit', 1), ('bcast', 1), ('bcc', 1), ('bclass', 1), ('bcn', 1), ('bd44', 1), ('bdd', 1), ('bear', 1), ('beat', 1), ('beats', 1), ('beauty', 1), ('became', 1), ('bed', 1), ('beep', 1), ('beginedit', 1), ('begingetrequeststream', 1), ('begingetresponse', 1), ('beginprocessrequest', 1), ('beginread', 1), ('beginupdate', 1), ('behaving', 1), ('behavioral', 1), ('behaviors', 1), ('behaviours', 1), ('beleive', 1), ('belief', 1), ('believed', 1), ('believer', 1), ('believing', 1), ('bellow', 1), ('bells', 1), ('ben', 1), ('benchmark', 1), ('benchmarking', 1), ('beneath', 1), ('benfit', 1), ('bent', 1), ('berkley', 1), ('bert', 1), ('bestfitmapping', 1), ('bewildering', 1), ('bfree', 1), ('bhighlighted', 1), ('biased', 1), ('bigco', 1), ('bigint', 1), ('billb', 1), ('billing', 1), ('billions', 1), ('billreceiveddate', 1), ('billthelizard', 1), ('binaryreader', 1), ('binarysearchtree', 1), ('binarywriter', 1), ('bindable', 1), ('bindauthenticator', 1), ('bindgw', 1), ('bindingnavigator', 1), ('bindsource', 1), ('bindsrcterms', 1), ('bird', 1), ('bison', 1), ('bitblt', 1), ('bitconverter', 1), ('bitmapinfoheader', 1), ('bitmaps', 1), ('bittorrent', 1), ('bitvise', 1), ('bitwise', 1), ('biztalkapplication1', 1), ('bjarne', 1), ('blablabla', 1), ('blackcolor', 1), ('blacklisted', 1), ('blah1', 1), ('blah2', 1), ('blah3', 1), ('blaise', 1), ('blat', 1), ('blazer', 1), ('bleh', 1), ('blends', 1), ('blessed', 1), ('blinded', 1), ('blinky', 1), ('blogengine', 1), ('blogfilters', 1), ('bloglist', 1), ('blogrepository', 1), ('blogscontroller', 1), ('blogservice', 1), ('blow', 1), ('blowing', 1), ('blue140', 1), ('bluray', 1), ('bm', 1), ('bmr', 1), ('bnosearchtext', 1), ('boards', 1), ('boat', 1), ('boaz', 1), ('bobs', 1), ('bodmas', 1), ('bodybytelist', 1), ('bodyfilename', 1), ('bog', 1), ('boil', 1), ('boiled', 1), ('bones', 1), ('bonnet', 1), ('boodhoo', 1), ('boogaart', 1), ('booked', 1), ('booking', 1), ('bookings', 1), ('bookkeeping', 1), ('booted', 1), ('boothrepository', 1), ('bootstrapping', 1), ('bordered', 1), ('borderlayout', 1), ('borderless', 1), ('bored', 1), ('borland', 1), ('born', 1), ('borrowing', 1), ('bother', 1), ('botismarius', 1), ('bottle', 1), ('bottomspace', 1), ('bounced', 1), ('bourne', 1), ('bowels', 1), ('boxed', 1), ('br0', 1), ('braces', 1), ('brad', 1), ('brain', 1), ('breach', 1), ('breakdown', 1), ('breakdowns', 1), ('breed', 1), ('brett', 1), ('bridged', 1), ('bridges', 1), ('bridging', 1), ('brief', 1), ('briefly', 1), ('brilliantly', 1), ('british', 1), ('brk', 1), ('broke', 1), ('broke2', 1), ('bron', 1), ('bronze', 1), ('brothers', 1), ('brown', 1), ('browsable', 1), ('browsed', 1), ('browsershots', 1), ('browsetable', 1), ('bruno', 1), ('brush', 1), ('bs', 1), ('btnblog', 1), ('btnforecast', 1), ('btnsearch', 1), ('btnsubmit1', 1), ('btnsubmit2', 1), ('btproj', 1), ('bubbles', 1), ('bubbling', 1), ('buffered', 1), ('bufferedgraphicscontext', 1), ('bufferedinputstream', 1), ('bufferedlogger', 1), ('buffervalue', 1), ('bugging', 1), ('bugtracking', 1), ('builddir', 1), ('builders', 1), ('buildexception', 1), ('buildfile', 1), ('buildid', 1), ('buildin', 1), ('buildjar', 1), ('buildroutes', 1), ('buildscript', 1), ('buildsitemap', 1), ('builtinidonotknowof', 1), ('buit', 1), ('bulkdata', 1), ('bulky', 1), ('bulleted', 1), ('bulletproof', 1), ('bullets', 1), ('bullettype', 1), ('bullettypes', 1), ('bump', 1), ('bundles', 1), ('bundling', 1), ('burdened', 1), ('bureaucratic', 1), ('buried', 1), ('burned', 1), ('burning', 1), ('burst', 1), ('bursts', 1), ('butcher', 1), ('buttonclick', 1), ('bye', 1), ('bypassonlocal', 1), ('byref', 1), ('bytearrayinputstream', 1), ('bytearraytoimage', 1), ('byvalarray', 1), ('bzh', 1), ('c2563', 1), ('c2568', 1), ('c2913', 1), ('ca1002', 1), ('cabin', 1), ('cable', 1), ('cacluate', 1), ('cacti', 1), ('cafã', 1), ('calculon', 1), ('calculus', 1), ('calibrate', 1), ('calleding', 1), ('callerid', 1), ('callgrind', 1), ('callhistory3', 1), ('callid', 1), ('callieventhandlerdelegateproxy', 1), ('callihelper', 1), ('callmanager', 1), ('callâ', 1), ('cambrian', 1), ('camelcase', 1), ('cameracontroller', 1), ('cames', 1), ('caml', 1), ('camp', 1), ('camps', 1), ('canberra', 1), ('canc', 1), ('canceleventargs', 1), ('canceling', 1), ('cancelview', 1), ('candy', 1), ('canmaximize', 1), ('canminimize', 1), ('cape', 1), ('capitals', 1), ('capped', 1), ('capturebitmap', 1), ('cardinal', 1), ('cardinality', 1), ('cardoen', 1), ('cared', 1), ('cares', 1), ('caret', 1), ('carriage', 1), ('carry', 1), ('cars', 1), ('carsforsale', 1), ('cartesian', 1), ('cartoon', 1), ('carts', 1), ('cas', 1), ('cash', 1), ('cass', 1), ('cassette', 1), ('castlewindsor', 1), ('castlewindsorappkey', 1), ('castvsc', 1), ('cata', 1), ('catalyst', 1), ('catchall', 1), ('catchhandler', 1), ('catchsignal', 1), ('categorizing', 1), ('catlarray', 1), ('catto', 1), ('caution', 1), ('cbaseclasswnd', 1), ('cbc', 1), ('cbool', 1), ('ccevhgkb', 1), ('ccflags', 1), ('cclasswnd', 1), ('ccnet', 1), ('ccontrollersi', 1), ('cdialog', 1), ('cdn', 1), ('cdockablepane', 1), ('ce6', 1), ('ceases', 1), ('ceil', 1), ('celementtree', 1), ('cellclick', 1), ('cellpadding', 1), ('cellspacing', 1), ('cellvalue', 1), ('cellvaluechanged', 1), ('centering', 1), ('centers', 1), ('centimeters', 1), ('cento', 1), ('centos', 1), ('centralised', 1), ('centralize', 1), ('centralized', 1), ('centrally', 1), ('century', 1), ('cern', 1), ('cerr', 1), ('certified', 1), ('certifying', 1), ('cetera', 1), ('cfc', 1), ('cfm', 1), ('cfront', 1), ('cglib', 1), ('cgrectzero', 1), ('chainability', 1), ('chainable', 1), ('chains', 1), ('chair', 1), ('chances', 1), ('changeable', 1), ('changeimages', 1), ('changemember', 1), ('changemonth', 1), ('changetype', 1), ('characterizes', 1), ('charsequence', 1), ('charsets', 1), ('chartimg', 1), ('charting', 1), ('chats', 1), ('cheapest', 1), ('cheaply', 1), ('cheat', 1), ('cheated', 1), ('cheating', 1), ('checkbook', 1), ('checkboxlists', 1), ('checkboxs', 1), ('checker', 1), ('checkforupdates', 1), ('checkifworkavailable', 1), ('checkin', 1), ('checkins', 1), ('checklist', 1), ('cheezy', 1), ('chemical', 1), ('cherrpy', 1), ('cherry', 1), ('childcontroller', 1), ('childish', 1), ('childishly', 1), ('childrenastriggers', 1), ('chime', 1), ('chinese', 1), ('chmod', 1), ('choked', 1), ('choosen', 1), ('chop', 1), ('chopeen', 1), ('christmas', 1), ('chronologically', 1), ('ciarã', 1), ('cil', 1), ('cin', 1), ('cint', 1), ('circa', 1), ('circle', 1), ('circles', 1), ('circuit', 1), ('circuits', 1), ('circumstance', 1), ('cise', 1), ('citrix', 1), ('civilized', 1), ('cl', 1), ('claimed', 1), ('claimnumber', 1), ('clarificaton', 1), ('clarifies', 1), ('clash', 1), ('clashes', 1), ('classid', 1), ('classifies', 1), ('classinheritfrombase', 1), ('classmates', 1), ('classpathref', 1), ('classpaths', 1), ('classpathxmlapplicationcontext', 1), ('classview', 1), ('cleanliness', 1), ('cleanly', 1), ('cleanupcode', 1), ('clears', 1), ('cleartext', 1), ('cleartype', 1), ('clickeditem', 1), ('clickeditems', 1), ('clientcredential', 1), ('clientcredentials', 1), ('clientcredentialtype', 1), ('clientexception', 1), ('clientheight', 1), ('clientid', 1), ('clientpoint', 1), ('clientsiteurl', 1), ('climb', 1), ('cling', 1), ('clipboarddata', 1), ('clipping', 1), ('clippyesqe', 1), ('clique', 1), ('cliques', 1), ('clockwise', 1), ('clones', 1), ('closeconnection', 1), ('clrprofiler', 1), ('clsa', 1), ('cludgy', 1), ('clunky', 1), ('clutched', 1), ('cluttery', 1), ('cmbodocsrcvd', 1), ('cmdlet', 1), ('cmdlets', 1), ('cmdshell', 1), ('cmdtarg', 1), ('cmywrapper', 1), ('cn2', 1), ('coach', 1), ('cobbled', 1), ('cobertura', 1), ('codeanalysis', 1), ('codebook', 1), ('codecs', 1), ('codedom', 1), ('codefile', 1), ('codepage', 1), ('coders', 1), ('codesecure', 1), ('codesmith', 1), ('codesnippets', 1), ('coercevalue', 1), ('coercion', 1), ('coffee', 1), ('col3', 1), ('coledispatchimpl', 1), ('collaborating', 1), ('collaborative', 1), ('collaboratively', 1), ('collaborator', 1), ('collapses', 1), ('collates', 1), ('collect2', 1), ('collectionequivalentconstraint', 1), ('collectioniwanttoadditemsfrom', 1), ('collectionneedsmodification', 1), ('collective', 1), ('collectively', 1), ('collectors', 1), ('collects', 1), ('collide', 1), ('colliding', 1), ('collision', 1), ('colons', 1), ('color1', 1), ('colorize', 1), ('colortbl', 1), ('colt', 1), ('column4', 1), ('columndefinitions', 1), ('combinatorialtest', 1), ('combines', 1), ('comboboxfield', 1), ('combox', 1), ('comclass', 1), ('comdlg32', 1), ('command2', 1), ('commandbase', 1), ('commandbehavior', 1), ('commandlinks', 1), ('commandname', 1), ('commandtimeout', 1), ('commend', 1), ('commentnew', 1), ('commerce', 1), ('commercially', 1), ('commingle', 1), ('commiting', 1), ('committed', 1), ('committee', 1), ('commmands', 1), ('commom', 1), ('common7', 1), ('commonality', 1), ('commonapplicationdata', 1), ('commonutils', 1), ('commportlistener', 1), ('commproperties', 1), ('communicated', 1), ('communicates', 1), ('compaq', 1), ('compareto', 1), ('comparision', 1), ('comparisons', 1), ('compatable', 1), ('compatiblity', 1), ('compelled', 1), ('compelling', 1), ('competition', 1), ('competitors', 1), ('compileddata', 1), ('compl', 1), ('complain', 1), ('complained', 1), ('complaints', 1), ('complement', 1), ('completecallback', 1), ('completeness', 1), ('completionportcallback', 1), ('compliant', 1), ('complied', 1), ('complier', 1), ('complusexceptioncode', 1), ('complying', 1), ('componentdispatcherthread', 1), ('componentmodel', 1), ('compound', 1), ('compresses', 1), ('compressor', 1), ('compressresources', 1), ('comprised', 1), ('compromises', 1), ('computable', 1), ('computational', 1), ('computed', 1), ('compuware', 1), ('comsume', 1), ('comvisible', 1), ('con', 1), ('concatentation', 1), ('concats', 1), ('concede', 1), ('concentrate', 1), ('concocted', 1), ('concretething', 1), ('conduct', 1), ('conenction', 1), ('confidently', 1), ('configs', 1), ('configurationexception', 1), ('configurationsavemode', 1), ('configurationsettings', 1), ('configurationuserlevel', 1), ('configureorganization', 1), ('confirms', 1), ('conflicting', 1), ('confluence', 1), ('conform', 1), ('confusingly', 1), ('congratulations', 1), ('conjunctive', 1), ('connectionstate', 1), ('connectionstringgoeshere', 1), ('connectiontimeout', 1), ('connectstream', 1), ('connel', 1), ('connotations', 1), ('connstring', 1), ('conquer', 1), ('consecutive', 1), ('considers', 1), ('consisted', 1), ('constituents', 1), ('constitute', 1), ('constraining', 1), ('constraintname', 1), ('constructive', 1), ('constâ', 1), ('consulting', 1), ('consumers', 1), ('cont', 1), ('contactitems', 1), ('contacttable', 1), ('containerfromindex', 1), ('containeridid', 1), ('containment', 1), ('contemporary', 1), ('contenders', 1), ('content1', 1), ('contentalignment', 1), ('contentdocument', 1), ('contenteditable', 1), ('contenthtml', 1), ('contentplaceholder', 1), ('contentplaceholderid', 1), ('continental', 1), ('continued', 1), ('continuing', 1), ('continuously', 1), ('contractor', 1), ('contradict', 1), ('contraints', 1), ('contrary', 1), ('contrast', 1), ('contributed', 1), ('contributes', 1), ('contribution', 1), ('contributions', 1), ('contrived', 1), ('control1', 1), ('control2', 1), ('controlcount', 1), ('controllercontext', 1), ('controllersi', 1), ('contructor', 1), ('conversation', 1), ('conversely', 1), ('conversionpattern', 1), ('conversions', 1), ('conversiontype', 1), ('converters', 1), ('convertsion', 1), ('convertsocketexceptiontoioexception', 1), ('convex', 1), ('convienant', 1), ('convienent', 1), ('convinient', 1), ('convoluted', 1), ('conway', 1), ('cookiefile', 1), ('cookiejar', 1), ('cookielist', 1), ('coord', 1), ('coordinate', 1), ('coordinates', 1), ('coords', 1), ('cop', 1), ('copier', 1), ('copula', 1), ('copydata', 1), ('copypaste', 1), ('copyrighted', 1), ('coreprocessrequest', 1), ('corollary', 1), ('corp', 1), ('corporatecomponent', 1), ('corporates', 1), ('corrected', 1), ('corrects', 1), ('correlate', 1), ('correlated', 1), ('corrosponding', 1), ('corruption', 1), ('cos', 1), ('costing', 1), ('cots', 1), ('couchdb', 1), ('coulnd', 1), ('couls', 1), ('counted', 1), ('counterintuitive', 1), ('counterpart', 1), ('countwithvaluecommand', 1), ('county', 1), ('coupon', 1), ('courtesy', 1), ('cpermissions', 1), ('cplex', 1), ('cppdefines', 1), ('cpppath', 1), ('cppunit', 1), ('cpropertysheetimpl', 1), ('cpus', 1), ('cqimagefileinfo', 1), ('cquserviewdatamanager', 1), ('cqwps', 1), ('cracking', 1), ('crafted', 1), ('crafting', 1), ('craziness', 1), ('createafile', 1), ('createcommand', 1), ('createconnection', 1), ('createcriteria', 1), ('createdatabase', 1), ('createdbygroup', 1), ('createddate', 1), ('createeventsource', 1), ('createfile', 1), ('createfontindirect', 1), ('createfrom', 1), ('createiceefilegen', 1), ('createimage', 1), ('createleftnode', 1), ('createnewrun', 1), ('createorgui', 1), ('createrenderer', 1), ('createrequest', 1), ('createrightnode', 1), ('createrootnode', 1), ('createrow', 1), ('createsession', 1), ('createspecificculture', 1), ('createsubnode', 1), ('createtextnode', 1), ('createthumb', 1), ('createuserwizard', 1), ('createwindowex', 1), ('creative', 1), ('creator', 1), ('crect', 1), ('credentialcache', 1), ('creteprocess', 1), ('crippled', 1), ('crisp', 1), ('criterium', 1), ('criterum', 1), ('critically', 1), ('criticise', 1), ('criticism', 1), ('crmapppool', 1), ('crmdeploymentservice', 1), ('crmobjectnotfoundexception', 1), ('croak', 1), ('crop', 1), ('cropped', 1), ('cropping', 1), ('crops', 1), ('crossdomain', 1), ('crossed', 1), ('crosses', 1), ('crossing', 1), ('crosstab', 1), ('crowd', 1), ('crowded', 1), ('cruise', 1), ('crying', 1), ('crypt', 1), ('cryptic', 1), ('cs0433', 1), ('csc', 1), ('csh', 1), ('csharp', 1), ('css3', 1), ('cssfriendly', 1), ('cssnodeselectedroot', 1), ('cssnodeselectedsub', 1), ('cstatic', 1), ('ct', 1), ('ctrlv', 1), ('ctxsc', 1), ('ctype', 1), ('culling', 1), ('cultural', 1), ('cultureexists', 1), ('cultureinvariant', 1), ('culuture', 1), ('cums', 1), ('cumulative', 1), ('cure', 1), ('curlutil', 1), ('currencies', 1), ('currenlty', 1), ('currentcontrolset', 1), ('currentculture', 1), ('currentdate', 1), ('currentdevice', 1), ('currentdomain', 1), ('currentely', 1), ('currenthandler', 1), ('currentimage', 1), ('currentproject', 1), ('currentuiculture', 1), ('cusp', 1), ('customary', 1), ('customattribute', 1), ('customcontrol', 1), ('customername', 1), ('customise', 1), ('customizability', 1), ('customization', 1), ('customizations', 1), ('customposthandler', 1), ('customs', 1), ('customview', 1), ('cuts', 1), ('cvv', 1), ('cwinthread', 1), ('cxf', 1), ('cxx', 1), ('cyclic', 1), ('cyclomatic', 1), ('cycoder', 1), ('cylinder', 1), ('cypher', 1), ('cyphers', 1), ('cywin', 1), ('d16', 1), ('d23', 1), ('d24', 1), ('d31', 1), ('dabbled', 1), ('dac', 1), ('dad', 1), ('daemons', 1), ('daft', 1), ('dalsp', 1), ('dammit', 1), ('damn', 1), ('danesparza', 1), ('danger', 1), ('dangerousmethod', 1), ('dangerousset', 1), ('daresay', 1), ('darn', 1), ('darndest', 1), ('darwin8', 1), ('das', 1), ('dashes', 1), ('dat', 1), ('databas', 1), ('database1', 1), ('database2', 1), ('databasecollection', 1), ('databasefactory', 1), ('databasename', 1), ('databaseobject', 1), ('databaseobjectfactory', 1), ('databasetest', 1), ('databinder', 1), ('databinding', 1), ('databounditem', 1), ('datacenter', 1), ('datacolumn', 1), ('datacontracts', 1), ('dataelement1', 1), ('dataelement1subdata1', 1), ('dataelement1subdata2', 1), ('dataelement2', 1), ('dataelement2subdata1', 1), ('dataelement2subdata2', 1), ('datagridcolumn', 1), ('datagridviewbindingcompleteeventargs', 1), ('datagridviewcell', 1), ('datagridviewcelleventargs', 1), ('datagridviewtextboxcell', 1), ('datakey', 1), ('datapager', 1), ('datarecord', 1), ('datarows', 1), ('datarowview', 1), ('datarowviews', 1), ('datarray', 1), ('datasetextensions', 1), ('datasources', 1), ('datatextfield', 1), ('datavaluefield', 1), ('dataviews', 1), ('datawithbytes', 1), ('datecreated', 1), ('datefromstring', 1), ('datetimepicker', 1), ('dateutil', 1), ('datevalue', 1), ('datewithtimeintervalsincenow', 1), ('dating', 1), ('dawg', 1), ('daylight', 1), ('daysinmonth', 1), ('db2date', 1), ('db4o', 1), ('dbase', 1), ('dbconnectinfo', 1), ('dbgview', 1), ('dbl', 1), ('dbnull', 1), ('dbpolling', 1), ('dbreindex', 1), ('dbus', 1), ('dce', 1), ('ddlbox', 1), ('ddlcell', 1), ('ddlsubcell', 1), ('ddo', 1), ('deadlock', 1), ('deadlocking', 1), ('dealbreaker', 1), ('deallocate', 1), ('deallocatehwnd', 1), ('death', 1), ('debry', 1), ('debuggers', 1), ('debuggervisualizer', 1), ('debugview', 1), ('decades', 1), ('decentralized', 1), ('decider', 1), ('decides', 1), ('decimals', 1), ('deciphering', 1), ('decisions', 1), ('deck', 1), ('declaredonly', 1), ('declaredtypesfromowner', 1), ('decline', 1), ('decodedfirstname', 1), ('decoder', 1), ('decomp', 1), ('decompile', 1), ('decompiling', 1), ('decomposing', 1), ('decorated', 1), ('decorators', 1), ('decoupled', 1), ('decreasing', 1), ('decrement', 1), ('decremented', 1), ('decruption', 1), ('decryptbykey', 1), ('decrypted', 1), ('decryption', 1), ('decryptionkey', 1), ('dedicted', 1), ('deductions', 1), ('deepcopy', 1), ('deeply', 1), ('defaultcellstyle', 1), ('defaultevent', 1), ('defaultinitialdircontextfactory', 1), ('defaultmodelbinder', 1), ('defaultnetworkcredentials', 1), ('defaultproperty', 1), ('defaultview', 1), ('defeats', 1), ('defect', 1), ('defects', 1), ('deferrednextframe', 1), ('deff0', 1), ('deffered', 1), ('deffinition', 1), ('definately', 1), ('definitively', 1), ('deflate', 1), ('defn', 1), ('degradations', 1), ('degrade', 1), ('delaycommand', 1), ('delayed', 1), ('delaysubmenuload', 1), ('dele', 1), ('delegated', 1), ('delegating', 1), ('deletable', 1), ('deleteall', 1), ('deleteallpictureslinkbutton', 1), ('deletegamebutton', 1), ('deletegameservlet', 1), ('deletemyobject', 1), ('deletenode', 1), ('deletepicturelinkbutton', 1), ('deleteprocedure', 1), ('deleteâ', 1), ('deletion', 1), ('deliberate', 1), ('deliberately', 1), ('delimeted', 1), ('delims', 1), ('delist', 1), ('deliverable', 1), ('deliverables', 1), ('deliverance', 1), ('delivering', 1), ('delivers', 1), ('deliveryextension', 1), ('deluge', 1), ('delusional', 1), ('delving', 1), ('demographic', 1), ('demonstate', 1), ('denominator', 1), ('denormalizing', 1), ('dense', 1), ('dentactil', 1), ('dependant', 1), ('dependecy', 1), ('dependind', 1), ('dependsontargets', 1), ('deploymententity', 1), ('deploymentservicerequest', 1), ('deques', 1), ('der', 1), ('deref', 1), ('dereferencing', 1), ('derivative', 1), ('derivatives', 1), ('descent', 1), ('describa', 1), ('descriptionbox', 1), ('descriptive', 1), ('descriptor', 1), ('deserialisation', 1), ('deserializing', 1), ('designate', 1), ('designated', 1), ('designation', 1), ('desk', 1), ('deskewing', 1), ('destdir', 1), ('destfile', 1), ('destinationconnectionoledb', 1), ('destinationfolder', 1), ('destinations', 1), ('destinationtype', 1), ('destop', 1), ('destroyhandle', 1), ('destroying', 1), ('destroys', 1), ('destruct', 1), ('destruction', 1), ('destâ', 1), ('detailsviewdata', 1), ('detais', 1), ('detectable', 1), ('detecting', 1), ('determinant', 1), ('determiner', 1), ('determiners', 1), ('deterministic', 1), ('developmentor', 1), ('developpement', 1), ('developping', 1), ('deveoping', 1), ('devevening', 1), ('deviceinfo', 1), ('devpartner', 1), ('devstudio', 1), ('dfdsfdsf8fdfdfd9dfdfd4', 1), ('dfffd', 1), ('dhs', 1), ('dht', 1), ('diagnose', 1), ('diagnositic', 1), ('diagnostic', 1), ('dialect', 1), ('dialednumber', 1), ('dialogboxparam', 1), ('dialogdebuggervisualizer', 1), ('dialoge', 1), ('dice', 1), ('dictate', 1), ('diet', 1), ('difference17199', 1), ('difference17226', 1), ('differential', 1), ('differents', 1), ('differs', 1), ('diffusion', 1), ('digg', 1), ('digittoint', 1), ('digrams', 1), ('dijit', 1), ('dilbert', 1), ('dilemma', 1), ('dingbats', 1), ('dinosaur', 1), ('diplayed', 1), ('dire', 1), ('directional', 1), ('directions', 1), ('directoryindex', 1), ('directshow', 1), ('dirs', 1), ('dirt', 1), ('disagree', 1), ('disappeared', 1), ('disappointed', 1), ('disappointing', 1), ('disassemble', 1), ('disassociated', 1), ('discarding', 1), ('discern', 1), ('disclose', 1), ('disco', 1), ('discourage', 1), ('discovers', 1), ('discovery', 1), ('discriminator', 1), ('discriminatorcolumn', 1), ('discriminatorvalue', 1), ('disdain', 1), ('disguise', 1), ('dish', 1), ('dishonest', 1), ('disk3', 1), ('diskdrive', 1), ('diskspace', 1), ('dislike', 1), ('dismally', 1), ('disoriented', 1), ('disparate', 1), ('dispatched', 1), ('dispatchevent', 1), ('dispatcheventfunction', 1), ('dispatchmessage', 1), ('displayable', 1), ('displayaction', 1), ('displayclass1', 1), ('displayfontname', 1), ('displayfontsize', 1), ('displayname', 1), ('displayobjects', 1), ('disposing', 1), ('disproportionate', 1), ('disruption', 1), ('distance', 1), ('distant', 1), ('distiled', 1), ('distill', 1), ('distilled', 1), ('distinction', 1), ('distinctions', 1), ('distinguishable', 1), ('distinguished', 1), ('distributing', 1), ('distributions', 1), ('disturb', 1), ('disturbed', 1), ('distutils', 1), ('ditty', 1), ('divergent', 1), ('dividing', 1), ('diving', 1), ('divisions', 1), ('divvalidationissues', 1), ('dlr', 1), ('dm', 1), ('dmautomatic', 1), ('dmaven', 1), ('dmmanual', 1), ('dmvc', 1), ('dmxdevice', 1), ('dnn', 1), ('dnnsolpartmenu', 1), ('do', 1), ('doco', 1), ('docroot', 1), ('doctracknumber', 1), ('doctypes', 1), ('docume', 1), ('documentbuilder', 1), ('documentcontent', 1), ('documentelement', 1), ('documentmanager', 1), ('documenttable', 1), ('dodrag', 1), ('doesn', 1), ('dofinal', 1), ('doget', 1), ('doit', 1), ('dok1', 1), ('dolist', 1), ('dolt', 1), ('domain1', 1), ('domainbox', 1), ('domodal', 1), ('don', 1), ('donald', 1), ('donig', 1), ('dontcopy', 1), ('dontsortme', 1), ('doom', 1), ('doomed', 1), ('door', 1), ('dopey', 1), ('doretrievepublishablesingle', 1), ('dorward', 1), ('dosent', 1), ('dosn', 1), ('dosomethinganimated', 1), ('dosomethingelse', 1), ('dosomethingwithanimation', 1), ('dotted', 1), ('doublearraylist', 1), ('doubled', 1), ('doublerender', 1), ('doublevalue', 1), ('doubly', 1), ('doubting', 1), ('downloadable', 1), ('downloadexception', 1), ('downs', 1), ('downsides', 1), ('downvalue', 1), ('downvoted', 1), ('dpf', 1), ('draft', 1), ('drafts', 1), ('dragevent', 1), ('dragimage', 1), ('dragimmediate', 1), ('dragobject', 1), ('drain', 1), ('drawback', 1), ('drawcellvalue', 1), ('drawindexedprimitives', 1), ('drawing2d', 1), ('drawpath', 1), ('draws', 1), ('dreaming', 1), ('drifted', 1), ('drilled', 1), ('drilling', 1), ('drinks', 1), ('driveourtrucks', 1), ('drivertype', 1), ('driverversion', 1), ('dropel', 1), ('dropelhover', 1), ('drops', 1), ('dropzone', 1), ('drudgework', 1), ('drwxrwxrwx', 1), ('dsa', 1), ('dsls', 1), ('dsn', 1), ('dsuserattributes', 1), ('dtn', 1), ('dtt', 1), ('du', 1), ('dubai', 1), ('duck', 1), ('dull', 1), ('dummies', 1), ('dumpbin', 1), ('dumping', 1), ('dundas', 1), ('dunder', 1), ('dunno', 1), ('duo', 1), ('dupme', 1), ('dutch', 1), ('duty', 1), ('dvd', 1), ('dvds', 1), ('dvorak', 1), ('dwflags', 1), ('dwg', 1), ('dwmapi', 1), ('dwthreadid', 1), ('dynamicmethods', 1), ('dynamics', 1), ('dynmically', 1), ('e9', 1), ('ea0b', 1), ('eagerly', 1), ('earliestin', 1), ('earned', 1), ('easymvc', 1), ('easypay', 1), ('eating', 1), ('ebay', 1), ('ebnf', 1), ('ebx', 1), ('ecb', 1), ('econnect', 1), ('ect', 1), ('ecx', 1), ('eda', 1), ('edged', 1), ('edges', 1), ('edif', 1), ('edit2', 1), ('edit3', 1), ('editindex', 1), ('editingcontrol', 1), ('edititemtemplate', 1), ('edu', 1), ('educated', 1), ('edwards', 1), ('eefa1387', 1), ('eek', 1), ('ef', 1), ('effeciently', 1), ('eggs', 1), ('egil', 1), ('eh', 1), ('ehsc', 1), ('eighties', 1), ('ej', 1), ('ejbs', 1), ('elapse', 1), ('elapsedeventargs', 1), ('elapsedeventhandler', 1), ('elapsing', 1), ('elastic', 1), ('elected', 1), ('electrically', 1), ('electronics', 1), ('elegence', 1), ('elementary', 1), ('elementsgt', 1), ('elementtree', 1), ('elephant', 1), ('eliben', 1), ('elif', 1), ('eligibility', 1), ('elimination', 1), ('elipsis', 1), ('ellipsis', 1), ('eluding', 1), ('elusive', 1), ('emailaddress', 1), ('emailconfirm', 1), ('emailer', 1), ('emailsender', 1), ('emailtemplate', 1), ('embarked', 1), ('embarking', 1), ('embeddable', 1), ('embeddedid', 1), ('embedswf', 1), ('embodies', 1), ('emitted', 1), ('emitter', 1), ('eml', 1), ('emma', 1), ('emoloyees', 1), ('empathizes', 1), ('emphasize', 1), ('empirical', 1), ('employ', 1), ('employeeid', 1), ('employment', 1), ('emptyquerylistexception', 1), ('enableaero', 1), ('enabledocumentfunction', 1), ('enableeventvalidation', 1), ('enablescript', 1), ('enabletrace', 1), ('enableviewstate', 1), ('enablewebscript', 1), ('encapsulating', 1), ('encode', 1), ('encodes', 1), ('encodingformat', 1), ('encryptbykey', 1), ('enddatetime', 1), ('endedit', 1), ('endfor', 1), ('endform', 1), ('endfragment', 1), ('endgetrequeststream', 1), ('endgetresponse', 1), ('endhtml', 1), ('endian', 1), ('endinvoke', 1), ('endless', 1), ('endline', 1), ('endparagraph', 1), ('endsentence', 1), ('endstyle', 1), ('endswith', 1), ('endvoice', 1), ('enforcement', 1), ('enforces', 1), ('enforcing', 1), ('eng', 1), ('engineers', 1), ('engineexecutionexception', 1), ('enhanced', 1), ('enhancing', 1), ('enjoyed', 1), ('enjoying', 1), ('enormous', 1), ('ensuing', 1), ('ensureeventvalidationfieldloaded', 1), ('ensures', 1), ('ent', 1), ('entanglements', 1), ('enterpriselibrary', 1), ('enterpriseservices', 1), ('enterpriseâ', 1), ('entertain', 1), ('enthralled', 1), ('enthusiastic', 1), ('entites', 1), ('entryadmin', 1), ('entrypage', 1), ('entrypoints', 1), ('enumerate', 1), ('enumoption', 1), ('envirnoment', 1), ('environmentspecificurl', 1), ('envision', 1), ('envp', 1), ('envrionemnts', 1), ('eos', 1), ('eperm', 1), ('eprofile', 1), ('equalsignorecase', 1), ('equation', 1), ('equipment', 1), ('equivilent', 1), ('er', 1), ('erase', 1), ('erasure', 1), ('erc', 1), ('ereg', 1), ('ergo', 1), ('eric', 1), ('erroneously', 1), ('erroreventargs', 1), ('erroreventhandler', 1), ('errorhandler', 1), ('errorinfo', 1), ('errorlevel', 1), ('errormailer', 1), ('errorpagemessage', 1), ('errorsummary', 1), ('errorthe', 1), ('errorwrapper', 1), ('esac', 1), ('esb', 1), ('escalating', 1), ('esf', 1), ('esoteric', 1), ('esqe', 1), ('esri', 1), ('est', 1), ('estimates', 1), ('estimation', 1), ('etag', 1), ('etch', 1), ('etcâ', 1), ('eth0', 1), ('ethical', 1), ('etl', 1), ('eula', 1), ('europa', 1), ('european', 1), ('euros', 1), ('evalscripts', 1), ('evenly', 1), ('eventargfunctioncaller', 1), ('eventargument', 1), ('eventhandlerfunction', 1), ('eventhandlerworkitem', 1), ('eventid', 1), ('eventprocessor', 1), ('eventroute', 1), ('eventtypeenum', 1), ('eventual', 1), ('everyones', 1), ('everyting', 1), ('evicted', 1), ('evidently', 1), ('evils', 1), ('evironmentspecificurl', 1), ('exagerrating', 1), ('examining', 1), ('exams', 1), ('exceeded', 1), ('exceedingly', 1), ('exceptionally', 1), ('exceptionmethod', 1), ('exceptionmethodstring', 1), ('excercise', 1), ('excercised', 1), ('excerpt', 1), ('excessive', 1), ('excluded', 1), ('exclusively', 1), ('excpetion', 1), ('excruciatingly', 1), ('exctracted', 1), ('execsql', 1), ('exectables', 1), ('executeall', 1), ('executecodewithguaranteedcleanup', 1), ('executequery', 1), ('executions', 1), ('executiontimeout', 1), ('executive', 1), ('executorcompletionservice', 1), ('execvp', 1), ('exemple', 1), ('exepath', 1), ('exercises', 1), ('exhibit', 1), ('exhibiting', 1), ('exif', 1), ('existents', 1), ('existingdatabaseversion', 1), ('exitcontext', 1), ('exitcount', 1), ('exitpage', 1), ('exluded', 1), ('expandability', 1), ('expander', 1), ('expands', 1), ('expandstring', 1), ('expansion', 1), ('expectations', 1), ('expedite', 1), ('experiance', 1), ('expiration', 1), ('expiry', 1), ('explainning', 1), ('explanatory', 1), ('explicity', 1), ('exploded', 1), ('exploder', 1), ('exploit', 1), ('explore', 1), ('explored', 1), ('explorer6', 1), ('exploring', 1), ('exponentially', 1), ('exporter', 1), ('exportformat', 1), ('exposure', 1), ('expresses', 1), ('expressing', 1), ('extendedselect', 1), ('extensionattribute', 1), ('extensively', 1), ('extention', 1), ('extractandsaveformlabels', 1), ('extracting', 1), ('extraction', 1), ('extradata', 1), ('extrainfo', 1), ('extraloud', 1), ('extricate', 1), ('eyeballs', 1), ('eyebrow', 1), ('eyedropper', 1), ('f42119', 1), ('f52e2b61', 1), ('f60', 1), ('f8cb275de72776657406154dd3c10348', 1), ('fabulous', 1), ('facade', 1), ('faceoff', 1), ('factorial', 1), ('failedandrew', 1), ('failedtoloaddriverexception', 1), ('faith', 1), ('fame', 1), ('familliar', 1), ('fancied', 1), ('fancytool', 1), ('fantastically', 1), ('farpoint', 1), ('fascinated', 1), ('fashioned', 1), ('fat', 1), ('faultcode', 1), ('faulted', 1), ('faults', 1), ('faultstring', 1), ('faulty', 1), ('favicon', 1), ('favorable', 1), ('favored', 1), ('favorites', 1), ('favourites', 1), ('fbeforeload', 1), ('fcharset0', 1), ('fchild', 1), ('fe', 1), ('feasable', 1), ('federated', 1), ('fedex', 1), ('fee', 1), ('feedingâ', 1), ('feilds', 1), ('fellow', 1), ('felt', 1), ('feof', 1), ('ferror', 1), ('fetched', 1), ('fetches', 1), ('ff3', 1), ('fff', 1), ('fffasfdas', 1), ('ffffff', 1), ('ffgh', 1), ('ffmpeg', 1), ('fibonnacci', 1), ('fibplus', 1), ('fieldset', 1), ('fieldtype', 1), ('fieldvalue', 1), ('figs', 1), ('file3', 1), ('file4', 1), ('file5', 1), ('file6', 1), ('file7', 1), ('filealign', 1), ('fileappender', 1), ('filecopy', 1), ('filefield', 1), ('filefullname', 1), ('filehandler', 1), ('fileiopermissionaccess', 1), ('filemon', 1), ('filepermission', 1), ('filereader', 1), ('fileset', 1), ('filesize', 1), ('filesizes', 1), ('filetypes', 1), ('fileversion', 1), ('filex', 1), ('filing', 1), ('filipe', 1), ('filtered', 1), ('filtration', 1), ('finalization', 1), ('finalized', 1), ('finalizers', 1), ('financially', 1), ('findadvisorname', 1), ('findadvisornameservice', 1), ('findallpostbytags', 1), ('findmorethanone', 1), ('findroots', 1), ('finduserbytype', 1), ('fingerprints', 1), ('fingers', 1), ('finicky', 1), ('finishing', 1), ('finshed', 1), ('firedaemon', 1), ('firewalls', 1), ('firmware', 1), ('firstblock', 1), ('firstchild', 1), ('firstnotmeta', 1), ('fisheye', 1), ('fishy', 1), ('fitting', 1), ('fixedpage', 1), ('fixture', 1), ('fizz', 1), ('fizzbuzz', 1), ('fizzled', 1), ('fkey', 1), ('fla', 1), ('flare', 1), ('flashiest', 1), ('flashwindow', 1), ('flatbed', 1), ('flattening', 1), ('flaw', 1), ('flaws', 1), ('flicker', 1), ('flickering', 1), ('flip', 1), ('flipping', 1), ('flips', 1), ('flo', 1), ('flock', 1), ('flows', 1), ('fluentquery', 1), ('fluff', 1), ('fluid', 1), ('fluidly', 1), ('flyouts', 1), ('fmod', 1), ('fmt128', 1), ('fnil', 1), ('fold', 1), ('follwoing', 1), ('fontconfig', 1), ('fontheight', 1), ('fontnamesforfamilyname', 1), ('fontsize', 1), ('fontstyle', 1), ('fonttbl', 1), ('fontwithname', 1), ('foo2therevengeoffoo', 1), ('fooitemtemplate', 1), ('footballleague', 1), ('footnotes', 1), ('footprint', 1), ('foowing', 1), ('fop', 1), ('fopen', 1), ('fora', 1), ('foray', 1), ('forays', 1), ('forbes', 1), ('forbids', 1), ('forcibly', 1), ('foreachtei', 1), ('forecast', 1), ('foreground', 1), ('forename', 1), ('foreseeable', 1), ('forget', 1), ('forgetable', 1), ('forgets', 1), ('forgiveness', 1), ('forked', 1), ('formally', 1), ('formatexception', 1), ('formatpaths', 1), ('formatstring', 1), ('formedness', 1), ('formerly', 1), ('formidable', 1), ('formmyspecialsizeposition', 1), ('formnode', 1), ('formnotsubmitted', 1), ('formscollection', 1), ('fornight', 1), ('forthscript', 1), ('forwarding', 1), ('forwards', 1), ('foxlicensing', 1), ('foxtrot', 1), ('fp', 1), ('fp9', 1), ('fparent', 1), ('fraction', 1), ('fragile', 1), ('framebuffer', 1), ('frameset', 1), ('framewok', 1), ('framework64', 1), ('frank', 1), ('frankly', 1), ('fread', 1), ('freaky', 1), ('freedesign', 1), ('freefile', 1), ('freenode', 1), ('freezes', 1), ('freezing', 1), ('friction', 1), ('friday', 1), ('frightens', 1), ('fringing', 1), ('frm', 1), ('frmmainload', 1), ('fro', 1), ('fromdate', 1), ('fromname', 1), ('fromtend', 1), ('fronted', 1), ('frontend', 1), ('frowned', 1), ('fruition', 1), ('fruitless', 1), ('frustrum', 1), ('fs0039', 1), ('fs18', 1), ('fsa', 1), ('fsaf', 1), ('ft', 1), ('ftell', 1), ('ftping', 1), ('fulfilled', 1), ('fullblown', 1), ('fullrowselect', 1), ('fulltextsqlquery', 1), ('fulltrust', 1), ('fumbling', 1), ('funcion', 1), ('funciton', 1), ('functionallity', 1), ('functionoids', 1), ('functionset', 1), ('functionsetbase', 1), ('fundamental', 1), ('funs', 1), ('funtion', 1), ('fusion', 1), ('fuzzy', 1), ('fwiw', 1), ('fwrite', 1), ('fx', 1), ('fâ', 1), ('gains', 1), ('gallerydir', 1), ('gals', 1), ('ganymede', 1), ('gargantuan', 1), ('garyf', 1), ('gasoline', 1), ('gathered', 1), ('gathering', 1), ('gauge', 1), ('gazillion', 1), ('gcc4', 1), ('gcj', 1), ('gdi32', 1), ('gears', 1), ('geek', 1), ('geen', 1), ('generalised', 1), ('generalize', 1), ('generatedinternaltypehelper', 1), ('generatedproxy', 1), ('generically', 1), ('genericforeignkey', 1), ('generichandler', 1), ('generictarget', 1), ('generous', 1), ('generously', 1), ('genius', 1), ('gentleman', 1), ('gentoo', 1), ('genuinely', 1), ('genuser', 1), ('geo', 1), ('geography', 1), ('geonames', 1), ('geosearching', 1), ('geronimo', 1), ('getaddr', 1), ('getadminevents', 1), ('getallobject1', 1), ('getallobject2', 1), ('getandinstancecountfor', 1), ('getattr', 1), ('getattribute', 1), ('getauctiondatapk', 1), ('getbean', 1), ('getbuffer', 1), ('getcallingassembly', 1), ('getconfigdocument', 1), ('getconsolewindow', 1), ('getcontent', 1), ('getcontentpane', 1), ('getcultureinfo', 1), ('getcurrent', 1), ('getcurrentthreadid', 1), ('getcustomattributes', 1), ('getdatasource', 1), ('getdaterequired', 1), ('getdbcollation', 1), ('getdbcomparer', 1), ('getdc', 1), ('getdefaultconfiguration', 1), ('getdefaultpagetitle', 1), ('getdescriptionashtml', 1), ('getdirectoryentry', 1), ('getedgesweight', 1), ('getemptyguid', 1), ('getenumerator', 1), ('getenv', 1), ('geterrorcode', 1), ('geterrorsummary', 1), ('getexecutingassembly', 1), ('getexecutors', 1), ('getextension', 1), ('getfaultdetail', 1), ('getfavoritethreads', 1), ('getfile', 1), ('getfilegroups', 1), ('getfilesin', 1), ('getfirstpara', 1), ('getfolderpath', 1), ('getforegroundwindow', 1), ('getformattedvalue', 1), ('getgameslist', 1), ('getgeneratedkeys', 1), ('getgenericarguments', 1), ('getgetter', 1), ('gethandler', 1), ('gethost', 1), ('getimagefileinfo', 1), ('getimagefromarray', 1), ('getint4d', 1), ('getlasterror', 1), ('getlocalgraphicsenvironment', 1), ('getlogger', 1), ('getmarshaller', 1), ('getmetadata', 1), ('getmethods', 1), ('getmodulehandle', 1), ('getname', 1), ('getnextmove', 1), ('getobjectbykey', 1), ('getoutputstream', 1), ('getpage', 1), ('getperimeter', 1), ('getpermissionlist', 1), ('getpixel', 1), ('getposition', 1), ('getprerequisiteashtml', 1), ('getprogress', 1), ('getproperty', 1), ('getpublicposts', 1), ('getpwuid', 1), ('getquery', 1), ('getrawoffset', 1), ('getreferencedassemblies', 1), ('getregions', 1), ('getremoteaddr', 1), ('getremotehost', 1), ('getrows', 1), ('getsafehwnd', 1), ('getscreendevices', 1), ('getservicewrapper', 1), ('getsession', 1), ('getsessionfactoryholder', 1), ('getsomeproperty', 1), ('getstate', 1), ('getsthearray', 1), ('getstorageobjects', 1), ('gettempfilename', 1), ('gettimezone', 1), ('gettitle', 1), ('gettuitionashtml', 1), ('getuniquememberscount', 1), ('getunmarshaller', 1), ('getuser', 1), ('getuserattributedropdown', 1), ('getvalue', 1), ('getvisitorslog', 1), ('getvisitorssummary', 1), ('getwelcome', 1), ('getwidth', 1), ('geuss', 1), ('gfh', 1), ('gfmt256', 1), ('ggeoxml', 1), ('ghh', 1), ('giant', 1), ('gibberish', 1), ('gig', 1), ('gigantic', 1), ('gishu', 1), ('givenid', 1), ('glaring', 1), ('glassfish', 1), ('glaze', 1), ('glbindbufferarb', 1), ('glblendfunc', 1), ('gldapo', 1), ('gldrawpixels', 1), ('gleaning', 1), ('glenn', 1), ('gllightposition', 1), ('globalgarbage', 1), ('glreadpixels', 1), ('gluperspective', 1), ('gnuwin32', 1), ('gocompact', 1), ('godaddy', 1), ('gods', 1), ('goodie', 1), ('goodwill', 1), ('googleability', 1), ('goose', 1), ('gorgapor', 1), ('gotcha', 1), ('gotta', 1), ('gprs', 1), ('gps', 1), ('grabbed', 1), ('grabs', 1), ('grace', 1), ('graceful', 1), ('grade1tim', 1), ('gradient', 1), ('graduate', 1), ('graffiti', 1), ('grainy', 1), ('grammar', 1), ('grammars', 1), ('grandparent', 1), ('grank', 1), ('granting', 1), ('grantnetworkserviceaccess', 1), ('grants', 1), ('graphically', 1), ('graphing', 1), ('grasping', 1), ('grauenwolf', 1), ('graying', 1), ('grealy', 1), ('green255', 1), ('greg', 1), ('gren', 1), ('greping', 1), ('greps', 1), ('grey', 1), ('greyed', 1), ('greyscale', 1), ('gridbaglayout', 1), ('grief', 1), ('grips', 1), ('grom', 1), ('gross', 1), ('group2', 1), ('group3', 1), ('groupa', 1), ('groupc', 1), ('groupresult', 1), ('grows', 1), ('gtd', 1), ('gtx260', 1), ('guarantees', 1), ('guessable', 1), ('guessed', 1), ('guests', 1), ('guice', 1), ('guiduserfk', 1), ('guildines', 1), ('guilt', 1), ('guis', 1), ('gulzar', 1), ('gurus', 1), ('gut', 1), ('gutenberg', 1), ('guts', 1), ('gv', 1), ('gvim', 1), ('gzipping', 1), ('haack', 1), ('habtm', 1), ('hackers', 1), ('hacky', 1), ('hadoop', 1), ('haes', 1), ('hair', 1), ('halfways', 1), ('halp', 1), ('halt', 1), ('halted', 1), ('halves', 1), ('hammers', 1), ('han', 1), ('handrolled', 1), ('handsets', 1), ('handshaking', 1), ('hangingobject', 1), ('hardcode', 1), ('hardened', 1), ('hardest', 1), ('hardwareâ', 1), ('hardy', 1), ('harris', 1), ('harsh', 1), ('hasandbelongstomany', 1), ('hascontrols', 1), ('hasemptyguid', 1), ('hasguid', 1), ('hashbytes', 1), ('hashmaps', 1), ('hashref', 1), ('hashtable', 1), ('hasmany', 1), ('hasmoreelements', 1), ('hasrows', 1), ('hasvalidationerror', 1), ('hasvalue', 1), ('hasviewed', 1), ('haswoodfloor', 1), ('hatch', 1), ('havesâ', 1), ('hawaii', 1), ('haywire', 1), ('hcd', 1), ('hcdynamiccompressionlevel', 1), ('hci', 1), ('hdvd', 1), ('headerclass', 1), ('headerhtml', 1), ('headerstyle', 1), ('heads', 1), ('healing', 1), ('health', 1), ('hearbeatmonitor', 1), ('hearsay', 1), ('heavier', 1), ('heh', 1), ('heigher', 1), ('hella', 1), ('hellothereeveryone', 1), ('helloworldthisisit', 1), ('helm', 1), ('helpdesk', 1), ('helpurl', 1), ('helvetica', 1), ('hereafter', 1), ('heres', 1), ('heron', 1), ('herring', 1), ('hesitant', 1), ('heterogenous', 1), ('heuristics', 1), ('hewardt', 1), ('hexadecimal', 1), ('hexagon', 1), ('hf6', 1), ('hfid', 1), ('hfile', 1), ('hgrc', 1), ('hibernateexception', 1), ('hiccup', 1), ('hicon', 1), ('hiddenfield', 1), ('hiding', 1), ('hierarchically', 1), ('highkly', 1), ('highlight0', 1), ('highlight1', 1), ('highlighter', 1), ('hightqty', 1), ('higlighted', 1), ('hijack', 1), ('himage', 1), ('hinder', 1), ('hired', 1), ('hiring', 1), ('historically', 1), ('hittest', 1), ('hkcr', 1), ('hlsl', 1), ('hobbyist', 1), ('hoc', 1), ('hogs', 1), ('hole', 1), ('holiday', 1), ('holidays', 1), ('homedir', 1), ('homegrown', 1), ('homereference', 1), ('homeserviceclient', 1), ('honest', 1), ('honours', 1), ('hoo', 1), ('hooking', 1), ('hoops', 1), ('hoped', 1), ('hopeful', 1), ('hopes', 1), ('hops', 1), ('horizon', 1), ('horizontalresolution', 1), ('horrendously', 1), ('horribly', 1), ('horrid', 1), ('horror', 1), ('horse', 1), ('hosam', 1), ('hospitality', 1), ('hosters', 1), ('hostile', 1), ('hostmonster', 1), ('hotbuy', 1), ('hotel', 1), ('hotkey', 1), ('hotmail', 1), ('hotspots', 1), ('hourglass', 1), ('housekeeping', 1), ('houses', 1), ('hoverclass', 1), ('hpk', 1), ('hprevinstance', 1), ('htacces', 1), ('html5', 1), ('htmlcontent', 1), ('htmlified', 1), ('htmlspec', 1), ('htmltext', 1), ('htpasswd', 1), ('httpconnection', 1), ('httpconnections', 1), ('httpcontextbase', 1), ('httpcookie', 1), ('httperror', 1), ('httpexception', 1), ('httpmethod', 1), ('httpmodule', 1), ('httprequest', 1), ('httprequestbodystream', 1), ('httpserver', 1), ('httpservice', 1), ('httpwise', 1), ('hub', 1), ('hugely', 1), ('humpton', 1), ('hunches', 1), ('hurdle', 1), ('hwndhost', 1), ('hwndlistview', 1), ('hwnds', 1), ('hy', 1), ('hydrate', 1), ('hypens', 1), ('hyperlinked', 1), ('hyperref', 1), ('hyphenated', 1), ('hypothesis', 1), ('hã', 1), ('i3', 1), ('i5', 1), ('i686', 1), ('iautomationobject', 1), ('ibes', 1), ('iblogservice', 1), ('ica', 1), ('ical', 1), ('icc', 1), ('ichat', 1), ('icmp', 1), ('ico', 1), ('icomparable', 1), ('icon2', 1), ('iconnectionfailurelistener', 1), ('iconvertible', 1), ('icreateorganizationinfo', 1), ('icriteria', 1), ('ics', 1), ('idbcommand', 1), ('idcallhistory3', 1), ('idclass', 1), ('idedevicep2t0l0', 1), ('ideea', 1), ('ident', 1), ('identification', 1), ('identificationcode', 1), ('idialogvisualizerservice', 1), ('idiosyncrasies', 1), ('idiot', 1), ('idiotic', 1), ('idletimeelapsed', 1), ('idletimerdisabled', 1), ('idoms', 1), ('ie5', 1), ('ieee', 1), ('ienumerator', 1), ('iequatable', 1), ('iffy', 1), ('ifield', 1), ('ifoos', 1), ('ifs', 1), ('ignorance', 1), ('ignorearguments', 1), ('ignorecase', 1), ('ignored', 1), ('ignorepatternwhitespace', 1), ('ignoreroute', 1), ('ignores', 1), ('ihttpasynchandler', 1), ('ihttpmodule', 1), ('ii6', 1), ('iiiii', 1), ('iisreset', 1), ('iitemquery', 1), ('ijw', 1), ('ikeyboardinputsink', 1), ('ikvming', 1), ('ildasm', 1), ('ilimit', 1), ('ilistfetcher', 1), ('ilists', 1), ('illegalstateexception', 1), ('illuminate', 1), ('illustrates', 1), ('illustration', 1), ('imac', 1), ('image01', 1), ('imagecopyresized', 1), ('imagecreatefromjpeg', 1), ('imagecreatefrompng', 1), ('imagecreatefromstring', 1), ('imagecreatetruecolor', 1), ('imagefield', 1), ('imagepng', 1), ('imagery', 1), ('imagesavealpha', 1), ('imagestream', 1), ('imagetool', 1), ('imagination', 1), ('imagineable', 1), ('imagining', 1), ('imapi2', 1), ('imdb', 1), ('imembershipcondition', 1), ('imex', 1), ('immediatelly', 1), ('imminent', 1), ('immortal', 1), ('immutable', 1), ('impacting', 1), ('impedance', 1), ('imperative', 1), ('impersonationoption', 1), ('impl', 1), ('implemtation', 1), ('implies', 1), ('implimentation', 1), ('implmemented', 1), ('implmentations', 1), ('implodes', 1), ('importance', 1), ('importanthtml', 1), ('importfilelocation', 1), ('importitem', 1), ('importxml', 1), ('impose', 1), ('imposing', 1), ('impossibility', 1), ('impractical', 1), ('improperly', 1), ('impure', 1), ('imput', 1), ('imwrapper', 1), ('inadvertent', 1), ('inappropriately', 1), ('inboxfolder', 1), ('inbuilt', 1), ('incantation', 1), ('incarnate', 1), ('incarnations', 1), ('includedetails', 1), ('includeexceptiondetailinfaults', 1), ('includestyle', 1), ('includeunpublished', 1), ('income', 1), ('incompatibilities', 1), ('incompatibleclassversion', 1), ('inconsistent', 1), ('increasing', 1), ('incremednted', 1), ('incur', 1), ('indent', 1), ('indentation', 1), ('independently', 1), ('indexable', 1), ('indexer', 1), ('indexers', 1), ('indexpage', 1), ('indexpath', 1), ('indexstylesheet', 1), ('india', 1), ('indicated', 1), ('indicators', 1), ('indices', 1), ('indirectly', 1), ('individuality', 1), ('industrial', 1), ('industries', 1), ('ineffective', 1), ('inefficiencies', 1), ('inefficiency', 1), ('inelegant', 1), ('ineracted', 1), ('inet', 1), ('inetaddress', 1), ('inevitably', 1), ('inexpensive', 1), ('infact', 1), ('infamous', 1), ('infergistics', 1), ('inferred', 1), ('infinitely', 1), ('infinitum', 1), ('infinity', 1), ('inflections', 1), ('inflexible', 1), ('influence', 1), ('influencing', 1), ('infopath', 1), ('inform', 1), ('informational', 1), ('informative', 1), ('informing', 1), ('infrequently', 1), ('infuriates', 1), ('infused', 1), ('ingenious', 1), ('ingo', 1), ('inhabitants', 1), ('inheirit', 1), ('inherently', 1), ('inheriting', 1), ('initaited', 1), ('initally', 1), ('initcomplete', 1), ('initdialog', 1), ('initialisation', 1), ('initialised', 1), ('initialising', 1), ('initializecomponent', 1), ('initializedata', 1), ('initializestringcomparer', 1), ('initialuserdomainname', 1), ('initialuserfirstname', 1), ('initialuserlastname', 1), ('initiated', 1), ('initiating', 1), ('initiatives', 1), ('initiator', 1), ('initinnercollection', 1), ('initprogresshandler', 1), ('initwithcustomview', 1), ('initwithframe', 1), ('initwithurl', 1), ('injectattribute', 1), ('injects', 1), ('inmemorydaoimpl', 1), ('innercal', 1), ('inode', 1), ('inputel', 1), ('inputeventargs', 1), ('inputextensions', 1), ('inputfilemode', 1), ('inputing', 1), ('inputmode', 1), ('inputprovidersite', 1), ('inputtext', 1), ('inputting', 1), ('insanely', 1), ('insanity', 1), ('inscrutable', 1), ('insecure', 1), ('insensitively', 1), ('insertbefore', 1), ('insertcell', 1), ('insertions', 1), ('insertrow', 1), ('inserver', 1), ('inset', 1), ('insignificant', 1), ('insisted', 1), ('instability', 1), ('instal', 1), ('installable', 1), ('installedcopies', 1), ('instantiates', 1), ('instantly', 1), ('instatiated', 1), ('instiated', 1), ('instinctively', 1), ('institute', 1), ('instr', 1), ('instruct', 1), ('instructed', 1), ('instrumentation', 1), ('insufficient', 1), ('intact', 1), ('intall', 1), ('intarray', 1), ('intarraylist', 1), ('inteface', 1), ('integeroverflowadd', 1), ('integrable', 1), ('integral', 1), ('integrates', 1), ('inteillij', 1), ('intellectual', 1), ('intelligence', 1), ('intelligently', 1), ('intellij', 1), ('intellisensified', 1), ('intending', 1), ('intense', 1), ('intensively', 1), ('interactively', 1), ('interactivity', 1), ('intercept', 1), ('intercepting', 1), ('interceptors', 1), ('intercepts', 1), ('interchangeable', 1), ('interchangnig', 1), ('interdependant', 1), ('interdependent', 1), ('interests', 1), ('interfaceid', 1), ('interfacing', 1), ('intergrating', 1), ('intergration', 1), ('interim', 1), ('interior', 1), ('interleave', 1), ('interlinked', 1), ('intermingle', 1), ('intermingled', 1), ('intermittently', 1), ('internalrealcall', 1), ('internalstorage', 1), ('internalsvisibleto', 1), ('internationalization', 1), ('internationalized', 1), ('internship', 1), ('interoperate', 1), ('interpolates', 1), ('interpreters', 1), ('interprocess', 1), ('interrelatedness', 1), ('interrupted', 1), ('intersects', 1), ('interthread', 1), ('intervention', 1), ('interviewed', 1), ('interwebs', 1), ('intialised', 1), ('intimately', 1), ('intricacies', 1), ('intricacy', 1), ('intridea', 1), ('intrigued', 1), ('intrinsic', 1), ('intrinsically', 1), ('intro', 1), ('introduces', 1), ('introspection', 1), ('intrusive', 1), ('intrusively', 1), ('intuition', 1), ('intuitively', 1), ('intuitiveness', 1), ('invalidated', 1), ('invalidation', 1), ('invalideventtypeexception', 1), ('invented', 1), ('inventing', 1), ('inversely', 1), ('invested', 1), ('investigations', 1), ('investment', 1), ('invisibility', 1), ('invitation', 1), ('invite', 1), ('invokeeventhandler', 1), ('invokehandlersimpl', 1), ('invokeimpl', 1), ('invovles', 1), ('iocompletioncallback', 1), ('ioctl', 1), ('ioffset', 1), ('iokit', 1), ('iostat', 1), ('iostream', 1), ('iow', 1), ('ipconfig', 1), ('ipermission', 1), ('ipostbackdatahandler', 1), ('ipv4', 1), ('iqueryable1', 1), ('iqueryprovider', 1), ('irepository', 1), ('irony', 1), ('irritating', 1), ('is', 1), ('isalive', 1), ('isapi', 1), ('isapiruntime', 1), ('isbodyhtml', 1), ('isclientconnected', 1), ('iscomplete', 1), ('isconnected', 1), ('isdbnull', 1), ('isdst', 1), ('isempty', 1), ('isequalto', 1), ('iserivice', 1), ('isessionfactoryholder', 1), ('isextendedkey', 1), ('isfile', 1), ('isflowcontrolexception', 1), ('isgenerictype', 1), ('ishidden', 1), ('ishtml', 1), ('islandcode', 1), ('islands', 1), ('ismatch', 1), ('isnullorempty', 1), ('isnâ', 1), ('iso8601', 1), ('iso8859', 1), ('isportinexceptionlist', 1), ('ispublic', 1), ('iss', 1), ('isselected', 1), ('issmtp', 1), ('isstatic', 1), ('issubclassof', 1), ('issued', 1), ('issuu', 1), ('issystemkey', 1), ('istrue', 1), ('isusertable', 1), ('isvalid', 1), ('iswitch', 1), ('italics', 1), ('itching', 1), ('itemcontainergenerator', 1), ('itemdata', 1), ('itemdatapage', 1), ('itemdate', 1), ('itemfilereadstore', 1), ('itemindex', 1), ('itemize', 1), ('itemname', 1), ('itemprice', 1), ('itemscontrol', 1), ('itemspaneltemplate', 1), ('itemssource', 1), ('itemstyle', 1), ('itemtypenum', 1), ('itemupdating', 1), ('itemvalidationservice', 1), ('iterateable', 1), ('iterates', 1), ('iteratively', 1), ('iterkeys', 1), ('ithing', 1), ('ithinggateway', 1), ('itinerary', 1), ('ivisualizerobjectprovider', 1), ('iwillnotautosizelabel', 1), ('iwork', 1), ('iwrtype', 1), ('ixmlserializer', 1), ('j2re1', 1), ('jabber', 1), ('jadclipse', 1), ('jadda', 1), ('jailbreaking', 1), ('java6', 1), ('javabeans', 1), ('javaee', 1), ('javahl', 1), ('javamail', 1), ('javaone', 1), ('javaproject', 1), ('javier', 1), ('jax', 1), ('jaxb', 1), ('jbdc', 1), ('jbod', 1), ('jbpm', 1), ('jbu', 1), ('jbutton', 1), ('jcarousel', 1), ('jce', 1), ('jcl', 1), ('jcomboboxes', 1), ('jdbcinterfaceconnection', 1), ('jdbctemplate', 1), ('jde', 1), ('jedi', 1), ('jeffrey', 1), ('jeffries', 1), ('jeremy', 1), ('jerry', 1), ('jetbrains', 1), ('jetcomp', 1), ('jfif', 1), ('jformattedtextfield', 1), ('jhjq3', 1), ('jidda', 1), ('jitter', 1), ('jk', 1), ('jkmount', 1), ('jksks23', 1), ('jmf', 1), ('jni', 1), ('jobscry', 1), ('jochen', 1), ('jogl', 1), ('johnny', 1), ('joincolumn', 1), ('joint', 1), ('joomla', 1), ('josuttis', 1), ('journal', 1), ('jp', 1), ('jpatransactionmanager', 1), ('jqmodal', 1), ('jqueryajaxoptions', 1), ('jres', 1), ('jsapi1', 1), ('jsfutils', 1), ('jsid', 1), ('jsmooth', 1), ('jsonresult', 1), ('jsps', 1), ('jsse', 1), ('jstack', 1), ('jta', 1), ('jtextarea', 1), ('jtextfield', 1), ('judge', 1), ('judging', 1), ('jumble', 1), ('jumpcommand', 1), ('jumps', 1), ('jun', 1), ('jungle', 1), ('junior', 1), ('junit4', 1), ('juste', 1), ('justifiable', 1), ('justifications', 1), ('justifies', 1), ('jvms', 1), ('kbackgroundcolour', 1), ('kcrumley', 1), ('kdb', 1), ('kdiff3', 1), ('keenly', 1), ('keith', 1), ('kenneth', 1), ('kent', 1), ('kepler', 1), ('kerberos', 1), ('kerbosch', 1), ('kev', 1), ('kevin', 1), ('keycodes', 1), ('keycollection', 1), ('keydata', 1), ('keydown', 1), ('keyedcollection', 1), ('keygroupdata', 1), ('keyhome', 1), ('keypublic', 1), ('keyref', 1), ('keyregister', 1), ('keystroke', 1), ('keyvaluepair', 1), ('keywork', 1), ('khighlightedbackgroundcolour', 1), ('khushi', 1), ('kicked', 1), ('kicking', 1), ('kid', 1), ('kiddie', 1), ('kilometers', 1), ('kingdom', 1), ('kitchen', 1), ('kiwi', 1), ('kludgy', 1), ('kml', 1), ('knees', 1), ('knock', 1), ('knocking', 1), ('knowhow', 1), ('knowledgable', 1), ('knowlege', 1), ('kornshell', 1), ('ks', 1), ('kvc', 1), ('la', 1), ('lab', 1), ('labeled', 1), ('labelfunction', 1), ('labrador', 1), ('labs', 1), ('lackadaisical', 1), ('lag', 1), ('lagging', 1), ('lags', 1), ('laguage', 1), ('laka', 1), ('lambdaexpression', 1), ('lamda', 1), ('lame', 1), ('lang3084', 1), ('langer', 1), ('languagecode', 1), ('languageid', 1), ('lap', 1), ('lapsed', 1), ('largeish', 1), ('largely', 1), ('largish', 1), ('lark', 1), ('laser', 1), ('lastcallerid', 1), ('lastdate', 1), ('lastdialednumber', 1), ('lastest', 1), ('lastheaderline', 1), ('lastid', 1), ('lastresult', 1), ('lastusedn', 1), ('lastwritetime', 1), ('latestout', 1), ('latitude', 1), ('latmax', 1), ('latmin', 1), ('laughing', 1), ('laws', 1), ('lay', 1), ('layoutkind', 1), ('lazily', 1), ('laziness', 1), ('lblmessage', 1), ('lblmsg', 1), ('lblupdateddate', 1), ('ldapauthenticationprovider', 1), ('ldapauthprovider', 1), ('ldapdirectoryidentifier', 1), ('ldapuserdetailsmanager', 1), ('ldquo', 1), ('le', 1), ('leagueid', 1), ('leaking', 1), ('learnable', 1), ('learner', 1), ('learns', 1), ('leftpane', 1), ('leftspace', 1), ('legend', 1), ('legit', 1), ('leisure', 1), ('lemme', 1), ('lends', 1), ('lengauer', 1), ('lengths', 1), ('lengthy', 1), ('lenient', 1), ('lessâ', 1), ('lest', 1), ('level1', 1), ('level2', 1), ('lfquality', 1), ('lgpl', 1), ('lgv', 1), ('libc', 1), ('libcurl', 1), ('libev', 1), ('libevent', 1), ('libfat', 1), ('libpath', 1), ('libref', 1), ('licensed', 1), ('lie', 1), ('lieven', 1), ('lifehacker', 1), ('lightbox', 1), ('lighten', 1), ('lighting', 1), ('lightweight', 1), ('likeliest', 1), ('lil', 1), ('limjap', 1), ('lindex', 1), ('liners', 1), ('linestrip', 1), ('linkbuttons', 1), ('linkflags', 1), ('linqpad', 1), ('lip', 1), ('liquid', 1), ('liquidweather', 1), ('lis', 1), ('lisa', 1), ('listall', 1), ('listarray', 1), ('listdataelements', 1), ('listdictionaryinternal', 1), ('listenable', 1), ('listfielddescriptions', 1), ('listofcategories', 1), ('listsettings', 1), ('listvalue', 1), ('listviewdataitem', 1), ('listviewupdateeventargs', 1), ('lit', 1), ('littering', 1), ('lived', 1), ('lkjq4', 1), ('lll', 1), ('lngmax', 1), ('lngmin', 1), ('lnk1120', 1), ('lnk2019', 1), ('loadboard', 1), ('loaddata', 1), ('loadfromfile', 1), ('loadlibrary', 1), ('loadraf', 1), ('loadrecursive', 1), ('loadrunner', 1), ('loadwithpartialname', 1), ('loadwsd', 1), ('loan', 1), ('localeidentifier', 1), ('locales', 1), ('localizability', 1), ('localizable', 1), ('localmachine', 1), ('localsystem', 1), ('localtime', 1), ('localy', 1), ('log10', 1), ('log4netconfigurationsectionhandler', 1), ('logically', 1), ('logicalmethodinfo', 1), ('logid', 1), ('loging', 1), ('loginname', 1), ('logins', 1), ('loginstatus', 1), ('loginview', 1), ('logistical', 1), ('logitech', 1), ('logmanager', 1), ('logons', 1), ('logonuseridentity', 1), ('logos', 1), ('lol', 1), ('lollipops', 1), ('longitemname', 1), ('longitemname2', 1), ('longitude', 1), ('longtable', 1), ('longtables', 1), ('lookat', 1), ('lookfeel', 1), ('lookout', 1), ('lookups', 1), ('loopish', 1), ('looses', 1), ('loses', 1), ('lotus', 1), ('lotusscript', 1), ('lousy', 1), ('loveable', 1), ('lovejb', 1), ('loving', 1), ('lowering', 1), ('lowqty', 1), ('lpcmdline', 1), ('lpcommandline', 1), ('lpi', 1), ('lptstr', 1), ('lrl3e', 1), ('lsp', 1), ('lt2', 1), ('ltk', 1), ('ltrim', 1), ('lu', 1), ('lubeck', 1), ('lue', 1), ('lum', 1), ('luminosity', 1), ('lums', 1), ('lundi', 1), ('lunes', 1), ('lurking', 1), ('luã', 1), ('lv', 1), ('lvhittestinfo', 1), ('lwjgl', 1), ('lwuit', 1), ('lying', 1), ('m2', 1), ('m32', 1), ('m625118p61205v0300ff04i002dc537', 1), ('machinery', 1), ('macosx', 1), ('macs', 1), ('macvalidationerror', 1), ('mad', 1), ('madness', 1), ('magician', 1), ('mai', 1), ('maildefinition', 1), ('maildir', 1), ('mailed', 1), ('mailhost', 1), ('maincontent', 1), ('maincontentplaceholder', 1), ('mainmenu', 1), ('maintanance', 1), ('maintanence', 1), ('majorly', 1), ('makecall', 1), ('makefluent', 1), ('makeguard', 1), ('makememberaccess', 1), ('makepl', 1), ('maker', 1), ('male', 1), ('mamp', 1), ('managementobject', 1), ('managementobjectsearcher', 1), ('managerfactory', 1), ('mangled', 1), ('mangling', 1), ('manifests', 1), ('manoli', 1), ('manuallyhandleexception', 1), ('manualy', 1), ('manytoone', 1), ('mapobjects', 1), ('mappedsuperclass', 1), ('mappers', 1), ('marco', 1), ('marcus', 1), ('margins', 1), ('marimuthu', 1), ('markability', 1), ('markdownj', 1), ('markdownutil', 1), ('marker', 1), ('markers', 1), ('market', 1), ('marketable', 1), ('marketcode', 1), ('marshalas', 1), ('marshaling', 1), ('marshalls', 1), ('marshalsendandreceive', 1), ('martin', 1), ('mashup', 1), ('mashups', 1), ('masked', 1), ('maskededitboxes', 1), ('masking', 1), ('masquerading', 1), ('mass', 1), ('massively', 1), ('masterpage', 1), ('masterpages', 1), ('masters', 1), ('matchcollection', 1), ('mate', 1), ('mathematical', 1), ('mathematically', 1), ('matlabâ', 1), ('matplotlib', 1), ('matrices', 1), ('mature', 1), ('maturity', 1), ('maxcelllength', 1), ('maxclockspeed', 1), ('maxconcurrenttasks', 1), ('maxdate', 1), ('maxed', 1), ('maxima', 1), ('maximizes', 1), ('maxiothreads', 1), ('maxlvl', 1), ('maxprice', 1), ('maxrequests', 1), ('maxvalue', 1), ('maxwaittime', 1), ('maxworkerthreads', 1), ('mbcs', 1), ('mbstring', 1), ('mccartney', 1), ('mccoy', 1), ('mcmenubkg', 1), ('mdash', 1), ('mdd', 1), ('mdsn', 1), ('measures', 1), ('meat', 1), ('mechanics', 1), ('mechanisms', 1), ('mediatype', 1), ('medical', 1), ('meeting', 1), ('megapixels', 1), ('memberexpression', 1), ('memberid', 1), ('memberinfo', 1), ('membershipprovider', 1), ('memcached', 1), ('meme', 1), ('men', 1), ('mensaje', 1), ('mentioning', 1), ('mentions', 1), ('menuitems', 1), ('menustrip', 1), ('mercury', 1), ('merely', 1), ('merit', 1), ('merits', 1), ('mesh', 1), ('messageboxes', 1), ('messagedetails', 1), ('messagequeues', 1), ('messagetype', 1), ('messagetypes', 1), ('messier', 1), ('messsing', 1), ('metal', 1), ('metamodelling', 1), ('metatype', 1), ('meters', 1), ('methodnotallowed', 1), ('methodologies', 1), ('meticulous', 1), ('mexico', 1), ('mf', 1), ('mht', 1), ('michelle', 1), ('microphone', 1), ('microstrategy', 1), ('middleware', 1), ('midi', 1), ('midst', 1), ('midwest', 1), ('mifflin', 1), ('miliseconds', 1), ('milisinanhour', 1), ('military', 1), ('mimetype', 1), ('mimic', 1), ('mindate', 1), ('minded', 1), ('mingle', 1), ('mini', 1), ('minievent', 1), ('minima', 1), ('minimally', 1), ('minimise', 1), ('minipages', 1), ('minlvl', 1), ('minority', 1), ('minprice', 1), ('mip', 1), ('miracle', 1), ('misbehaving', 1), ('misc', 1), ('mischief', 1), ('miserable', 1), ('mising', 1), ('misinterpreted', 1), ('mismatches', 1), ('mispelled', 1), ('missign', 1), ('misspell', 1), ('misspellings', 1), ('mistakenly', 1), ('mixed', 1), ('mixes', 1), ('mixing', 1), ('mkelem', 1), ('ml', 1), ('mmoved', 1), ('mochiweb', 1), ('mockable', 1), ('mockrunner', 1), ('modded', 1), ('modedl', 1), ('modeladmin', 1), ('modelbinder', 1), ('modelled', 1), ('modellist', 1), ('moderate', 1), ('modf', 1), ('modifiable', 1), ('modifier', 1), ('modifyattribute', 1), ('modperl', 1), ('mojopac', 1), ('molecules', 1), ('molnar', 1), ('monitorable', 1), ('monitored', 1), ('monitorthread', 1), ('monopoly', 1), ('montag', 1), ('monthname', 1), ('monumental', 1), ('mortgage', 1), ('mos', 1), ('mosaic', 1), ('mosso', 1), ('motion', 1), ('motivate', 1), ('motivated', 1), ('motivating', 1), ('motivation', 1), ('motivations', 1), ('mounts', 1), ('moused', 1), ('mouseout', 1), ('mouseouthidedelay', 1), ('mouseoveraction', 1), ('mouseup', 1), ('mousing', 1), ('mov', 1), ('movelast', 1), ('movement', 1), ('movetree', 1), ('movingobject', 1), ('mpa', 1), ('mq', 1), ('mscorpe', 1), ('mscrmservices', 1), ('mscrmv3', 1), ('msdasql', 1), ('msdb', 1), ('msdev', 1), ('msdownload', 1), ('msgsetrequest', 1), ('mshtl', 1), ('msiexec', 1), ('msiexecute', 1), ('mskrecvdate', 1), ('mssql2000', 1), ('msvc6', 1), ('msvs', 1), ('msvs6', 1), ('mswd', 1), ('msword', 1), ('msys', 1), ('mt', 1), ('mtl', 1), ('mtl4', 1), ('muck', 1), ('mufasa', 1), ('mulitple', 1), ('multicastsocket', 1), ('multicolumn', 1), ('multidimensional', 1), ('multilinetext', 1), ('multipath', 1), ('multiplatform', 1), ('multiplayer', 1), ('multipleactiveresultsets', 1), ('multiplelookupfield', 1), ('multiplications', 1), ('multiplied', 1), ('multiplies', 1), ('multiplying', 1), ('multisecond', 1), ('multiselect', 1), ('multithreaded', 1), ('multiviews', 1), ('multple', 1), ('mundane', 1), ('munged', 1), ('munging', 1), ('muradsbi', 1), ('murat', 1), ('murdering', 1), ('musing', 1), ('muting', 1), ('mutual', 1), ('mvccontrib', 1), ('mvcroutehandler', 1), ('mvs', 1), ('mxfirewallmanager', 1), ('myaction', 1), ('myassembly', 1), ('mybusiness', 1), ('myclassname', 1), ('myclassthaticreated', 1), ('myclassâ', 1), ('mycondition', 1), ('myconstraint2', 1), ('myconstring', 1), ('mycontrol', 1), ('mycontroller', 1), ('mycroxaml', 1), ('mycustomevent', 1), ('mycustomeventhandler', 1), ('mydatatable', 1), ('mydbcol1', 1), ('mydbcol2', 1), ('mydoc', 1), ('mydsn', 1), ('myencryptedfield', 1), ('myeventhandler', 1), ('myexceptionhandlingcomponent', 1), ('myfiles', 1), ('myformview', 1), ('myhappyfunction', 1), ('myinstance', 1), ('myisv', 1), ('myjoin', 1), ('mykey1', 1), ('mykey2', 1), ('myloginpage', 1), ('mylong', 1), ('mynorwegiantext', 1), ('mynotebook', 1), ('myns', 1), ('myopenid', 1), ('mypanel', 1), ('myphone', 1), ('myproject', 1), ('myrepeater', 1), ('myrepserver', 1), ('myrequestdata', 1), ('myresults', 1), ('myserver', 1), ('myservicecomponent', 1), ('mysites', 1), ('mysln', 1), ('mysocket', 1), ('mysqldb', 1), ('mysqldump', 1), ('mysqli', 1), ('mysterious', 1), ('mystr', 1), ('mystringh', 1), ('mystruct1', 1), ('mystruct2', 1), ('mystruct3', 1), ('mystruct4', 1), ('mystylename', 1), ('mytable7', 1), ('mytext', 1), ('mytimeseries', 1), ('mytype', 1), ('myusercontrol1', 1), ('myvaluetoencrypt', 1), ('mywebsite', 1), ('mywrapper', 1), ('myxaml', 1), ('n2', 1), ('n4hu', 1), ('nada', 1), ('nagios', 1), ('nails', 1), ('naively', 1), ('namespaced', 1), ('namesspaces', 1), ('nan', 1), ('narrowed', 1), ('narrowing', 1), ('nas', 1), ('nascent', 1), ('nasm', 1), ('naurb', 1), ('nauseam', 1), ('navbar', 1), ('navigates', 1), ('navigationitem', 1), ('navigations', 1), ('ncb', 1), ('ncmdshow', 1), ('ncompany', 1), ('nd', 1), ('ndbunit', 1), ('neatbeans', 1), ('neatly', 1), ('neccessary', 1), ('necessery', 1), ('necessitate', 1), ('neck', 1), ('needless', 1), ('negated', 1), ('negatives', 1), ('neglected', 1), ('nein', 1), ('nemail', 1), ('nerocom', 1), ('net3', 1), ('netbeanside', 1), ('netcmdlets', 1), ('netflix', 1), ('netfwmgr', 1), ('netpath', 1), ('nets', 1), ('netstat', 1), ('nettcpbinding', 1), ('nettraining', 1), ('networkpath', 1), ('neural', 1), ('nevertheless', 1), ('neves', 1), ('newarray', 1), ('newby', 1), ('newfilename', 1), ('newid', 1), ('newitems', 1), ('neworder', 1), ('newpage', 1), ('newpassword', 1), ('newpotential', 1), ('newquery', 1), ('nextbutton', 1), ('nextelement', 1), ('nextframe', 1), ('nfdsafafs', 1), ('nfox', 1), ('nic', 1), ('nightmares', 1), ('nikhil', 1), ('nilly', 1), ('nindex', 1), ('njinx', 1), ('njob', 1), ('nlog', 1), ('nmake', 1), ('nmea', 1), ('nnn', 1), ('nnsj3', 1), ('nntp', 1), ('nobugz', 1), ('nocheck', 1), ('noconfig', 1), ('noddy', 1), ('nombre', 1), ('nonnullable', 1), ('nonstatic', 1), ('nontrivial', 1), ('noo', 1), ('noon', 1), ('norder', 1), ('norecompute', 1), ('noreentry', 1), ('noresource', 1), ('nortel', 1), ('nos', 1), ('notable', 1), ('notbook', 1), ('nother', 1), ('notifcations', 1), ('notificationlist', 1), ('notificationpolling', 1), ('notifying', 1), ('notnull', 1), ('notset', 1), ('noun', 1), ('novtable', 1), ('nowait', 1), ('nowarn', 1), ('np', 1), ('nsapplicationmain', 1), ('nsdateformatterbehavior10', 1), ('nsdateformattershortstyle', 1), ('nsdictionary', 1), ('nsexception', 1), ('nsimage', 1), ('nsinteger', 1), ('nslog', 1), ('nslookup', 1), ('nsnumber', 1), ('nsnumberformatter', 1), ('nstimeinterval', 1), ('nsurl', 1), ('nsurlrequest', 1), ('nsurlrequst', 1), ('nsurname', 1), ('ntlm', 1), ('ntpd', 1), ('ntvdm', 1), ('nudge', 1), ('nullargumentexception', 1), ('nullary', 1), ('numberofnights', 1), ('numerically', 1), ('numerics', 1), ('numprojects', 1), ('nut', 1), ('nutritional', 1), ('nx', 1), ('ny', 1), ('nz', 1), ('obfuscated', 1), ('obfuscators', 1), ('objectatindex', 1), ('objectdatasource', 1), ('objectid', 1), ('objection', 1), ('objectives', 1), ('objectkeybase', 1), ('objectlistdataprovider', 1), ('objectmodel', 1), ('objectproperty', 1), ('observable', 1), ('observant', 1), ('observations', 1), ('obsessed', 1), ('obtains', 1), ('obvoiusly', 1), ('occasion', 1), ('occupied', 1), ('occupy', 1), ('occupying', 1), ('occurence', 1), ('occurrence', 1), ('occurrences', 1), ('ocd', 1), ('ocean', 1), ('oci8', 1), ('ocr', 1), ('octet', 1), ('octets', 1), ('october', 1), ('odbc32', 1), ('odbccp32', 1), ('odbcsource', 1), ('oddball', 1), ('oddest', 1), ('oddities', 1), ('oddity', 1), ('odoc', 1), ('ofcourse', 1), ('offcourse', 1), ('offensive', 1), ('offices', 1), ('offload', 1), ('offscreen', 1), ('offsets', 1), ('ohai2u', 1), ('oicf', 1), ('oldest', 1), ('oldschool', 1), ('oldval', 1), ('oldvalue', 1), ('ole32', 1), ('oleaut', 1), ('oleaut32', 1), ('olevariant', 1), ('olive', 1), ('olocname', 1), ('omake', 1), ('omg', 1), ('omission', 1), ('omissions', 1), ('omitting', 1), ('omitxmldeclaration', 1), ('ommitted', 1), ('omnibar', 1), ('omnicomplete', 1), ('onbegin', 1), ('onclientclick', 1), ('onctrlcolor', 1), ('ondatabind', 1), ('ondayrender', 1), ('ondragenter', 1), ('ondragexit', 1), ('ondraw', 1), ('onerror', 1), ('oneway', 1), ('onfailure', 1), ('ongoing', 1), ('onitemdatabound', 1), ('onkeyup', 1), ('onkeyupthunk', 1), ('onloadcomplete', 1), ('onlyonceerrorhandler', 1), ('onmessage', 1), ('onmouseover', 1), ('onmoved', 1), ('onphone', 1), ('onpreprocessmessagethunk', 1), ('onprerendercomplete', 1), ('onreadystatechange', 1), ('onselectedindexchanged', 1), ('onselectednodeclicked', 1), ('onsomething', 1), ('onstop', 1), ('onswitch', 1), ('ontogeny', 1), ('onvert', 1), ('onvisiblemonthchanged', 1), ('onvisualchildrenchanged', 1), ('onward', 1), ('oob', 1), ('oodbms', 1), ('oof', 1), ('openconnection', 1), ('opencv', 1), ('opendatabase', 1), ('opendir', 1), ('openexcelspreadsheet', 1), ('openinputdesktop', 1), ('openquery', 1), ('openschema', 1), ('opensession', 1), ('opensubkey', 1), ('opentran', 1), ('openvms', 1), ('openvz', 1), ('openwindow', 1), ('openwindowstation', 1), ('openwrite', 1), ('operationbehavior', 1), ('operatorenum', 1), ('opinionated', 1), ('opnet', 1), ('ops', 1), ('optical', 1), ('optimisations', 1), ('optimised', 1), ('optimising', 1), ('optimized', 1), ('or', 1), ('oracle32', 1), ('oracledatabaseobject', 1), ('oraclerepository', 1), ('orchestration1', 1), ('orchestrations', 1), ('orderdetail', 1), ('orderid', 1), ('orderline', 1), ('ordinate', 1), ('organic', 1), ('organically', 1), ('organisation', 1), ('organisations', 1), ('organise', 1), ('organised', 1), ('organizationcollation', 1), ('organizationfriendlyname', 1), ('organizationinfo', 1), ('organizationname', 1), ('organizations', 1), ('organizationservice', 1), ('organizationuniquename', 1), ('organizes', 1), ('organizing', 1), ('orguiservice', 1), ('origin', 1), ('originate', 1), ('origins', 1), ('orion', 1), ('os2', 1), ('osgi', 1), ('osworkflow', 1), ('ot', 1), ('otherfolder', 1), ('otherobject', 1), ('otherpage', 1), ('ought', 1), ('oui', 1), ('ourwebservice', 1), ('out1', 1), ('out2', 1), ('outbound', 1), ('outdated', 1), ('outermost', 1), ('outgoing', 1), ('outlines', 1), ('outlining', 1), ('outofmemoryerror', 1), ('outputbuffer', 1), ('outputfile', 1), ('outputfilemode', 1), ('outputfolder', 1), ('outputlabel', 1), ('outputted', 1), ('outputting', 1), ('outrageous', 1), ('outs', 1), ('outset', 1), ('outstanding', 1), ('outweigh', 1), ('ov', 1), ('ov1', 1), ('ov2', 1), ('overcome', 1), ('overcomplicate', 1), ('overcomplicating', 1), ('overdone', 1), ('overestimating', 1), ('overflowing', 1), ('overhaul', 1), ('overkilled', 1), ('overlaps', 1), ('overlay', 1), ('overloads', 1), ('overpowered', 1), ('overs', 1), ('overthinking', 1), ('overuse', 1), ('overused', 1), ('overwriting', 1), ('overwritten', 1), ('owning', 1), ('owningaccountid', 1), ('owns', 1), ('oword', 1), ('p12', 1), ('p19', 1), ('p21', 1), ('p3p', 1), ('p6spy', 1), ('p9', 1), ('p99', 1), ('paavo', 1), ('packag', 1), ('packager', 1), ('packagers', 1), ('pactices', 1), ('paddlewheels', 1), ('pads', 1), ('pag', 1), ('page1', 1), ('pageaccesspermissions', 1), ('pagebreaklist', 1), ('pageloading', 1), ('pagename', 1), ('pagenum', 1), ('pagepath', 1), ('pageref', 1), ('pageroles', 1), ('pagetorewrite', 1), ('pageviewid', 1), ('paginate', 1), ('paginated', 1), ('pained', 1), ('painfully', 1), ('pains', 1), ('painting', 1), ('paints', 1), ('paintthat', 1), ('paintthis', 1), ('paired', 1), ('pan', 1), ('panel1', 1), ('panic', 1), ('panning', 1), ('paperclip', 1), ('par', 1), ('paradox', 1), ('paragraphs', 1), ('parallelizable', 1), ('parallelized', 1), ('param3', 1), ('parambyname', 1), ('parameter1', 1), ('parameterarray', 1), ('parameterexpression', 1), ('parameterised', 1), ('parameterize', 1), ('parameterizedthreadstart', 1), ('parameterstring', 1), ('parametrized', 1), ('paramone', 1), ('paramount', 1), ('paramtwo', 1), ('paramx', 1), ('pard', 1), ('pare', 1), ('parenprinter', 1), ('parentage', 1), ('parentargs', 1), ('parentattribute', 1), ('parentclass', 1), ('parentfont', 1), ('parentheses', 1), ('parenting', 1), ('park', 1), ('parsenullableint', 1), ('parserfactory', 1), ('parties', 1), ('partitioned', 1), ('partiular', 1), ('partners', 1), ('partway', 1), ('pascal', 1), ('passedbyreference', 1), ('passedin', 1), ('passive', 1), ('passthru', 1), ('passwordconfirm', 1), ('passwordrecovery1', 1), ('pasteandformat', 1), ('paster', 1), ('pastes', 1), ('patches', 1), ('patented', 1), ('pathinfo', 1), ('pathnames', 1), ('patience', 1), ('patients', 1), ('patrol', 1), ('patter', 1), ('patternlayout', 1), ('pattison', 1), ('paucity', 1), ('paulgreg', 1), ('paulh', 1), ('pausch', 1), ('pax', 1), ('payment', 1), ('pbytes', 1), ('pcf', 1), ('pci', 1), ('pconory', 1), ('pdftoipe', 1), ('peacefully', 1), ('peaks', 1), ('pedantic', 1), ('peeked', 1), ('peeking', 1), ('penalized', 1), ('pencil', 1), ('pentium', 1), ('pepsi', 1), ('percent', 1), ('percentages', 1), ('perceptible', 1), ('perception', 1), ('percistence', 1), ('percolate', 1), ('performant', 1), ('performiocompletioncallback', 1), ('periodicly', 1), ('periods', 1), ('perlfunc', 1), ('perlre', 1), ('perlrequick', 1), ('perlscript', 1), ('permalinks', 1), ('permisions', 1), ('permissioncheckmethods', 1), ('permissionmode', 1), ('permissionresource', 1), ('permissionset', 1), ('permissionsetname', 1), ('permissiontype', 1), ('permits', 1), ('permresource', 1), ('perpetuate', 1), ('persistant', 1), ('persisted', 1), ('persistedstate', 1), ('personalized', 1), ('personaly', 1), ('personnel', 1), ('persuasive', 1), ('pertains', 1), ('pessimistic', 1), ('pester', 1), ('pesters', 1), ('peter', 1), ('pg', 1), ('pgadmin', 1), ('pgsql', 1), ('ph', 1), ('phased', 1), ('phew', 1), ('phil', 1), ('phoning', 1), ('photolibrary', 1), ('phrased', 1), ('phtml', 1), ('phy', 1), ('physically', 1), ('physicalmedia', 1), ('pia', 1), ('piano', 1), ('pickup', 1), ('pict', 1), ('pictureboxsizemode', 1), ('pidgin', 1), ('pig', 1), ('pilif', 1), ('pink', 1), ('pinpoint', 1), ('piped', 1), ('piqued', 1), ('pitfall', 1), ('pivotal', 1), ('pivotcharts', 1), ('pivotfield', 1), ('pixelate', 1), ('pixelgrabber', 1), ('pkbulkdata', 1), ('pkcs5padding', 1), ('pki', 1), ('pkzip', 1), ('placemarks', 1), ('plague', 1), ('plains', 1), ('plaintext', 1), ('plaintxt', 1), ('plastic', 1), ('plate', 1), ('playerhandles', 1), ('pleasant', 1), ('plodding', 1), ('plotter', 1), ('plt', 1), ('plugged', 1), ('plugoo', 1), ('plugs', 1), ('plumbed', 1), ('plutil', 1), ('pmodulestate', 1), ('pngs', 1), ('po', 1), ('pockets', 1), ('pocontroller', 1), ('podcasting', 1), ('podcasts', 1), ('pointless', 1), ('poison', 1), ('poke', 1), ('poked', 1), ('poker', 1), ('policies', 1), ('polish', 1), ('poll', 1), ('polling', 1), ('poltergeists', 1), ('polygon', 1), ('ponder', 1), ('pondering', 1), ('ponmalar', 1), ('poolworker', 1), ('pop3', 1), ('poperties', 1), ('popping', 1), ('popularity', 1), ('populates', 1), ('popupwindow', 1), ('portably', 1), ('portlets', 1), ('portman', 1), ('portnumber', 1), ('poses', 1), ('positional', 1), ('positiveintegerfield', 1), ('possble', 1), ('possess', 1), ('possibe', 1), ('possiblities', 1), ('postcode', 1), ('postdata', 1), ('postgre', 1), ('postings', 1), ('postrequesthandlerexecute', 1), ('potentials', 1), ('poured', 1), ('poverlap', 1), ('pow', 1), ('powercollections', 1), ('powerdesigner', 1), ('powers', 1), ('powerset', 1), ('powerusers', 1), ('pparam', 1), ('ppi', 1), ('ppl', 1), ('pps', 1), ('pptx', 1), ('pq0stuvw', 1), ('practicality', 1), ('practicial', 1), ('practis', 1), ('practise', 1), ('practises', 1), ('pragmas', 1), ('pragmatic', 1), ('pragmatically', 1), ('praise', 1), ('praised', 1), ('prakash', 1), ('pravat', 1), ('prc', 1), ('precarious', 1), ('precaution', 1), ('preceded', 1), ('preceding', 1), ('precisely', 1), ('precompilation', 1), ('precompiled', 1), ('precondition', 1), ('predecessors', 1), ('predetermined', 1), ('predominantly', 1), ('preemptively', 1), ('preferrable', 1), ('prefers', 1), ('prefixes', 1), ('prefork', 1), ('preformed', 1), ('prelimary', 1), ('premises', 1), ('preparation', 1), ('preparecontroller', 1), ('preparedocument', 1), ('prepares', 1), ('prepay', 1), ('prepend', 1), ('prepending', 1), ('prependpath', 1), ('prependsimpletext', 1), ('prepopulated', 1), ('prepopulates', 1), ('preprocess', 1), ('prerendered', 1), ('prerequesthandlerexecute', 1), ('prerequisites', 1), ('presentationcore', 1), ('presentationframework', 1), ('presentations', 1), ('presentid', 1), ('presenting', 1), ('presently', 1), ('preserve', 1), ('preserving', 1), ('preset', 1), ('presisted', 1), ('pressingthe', 1), ('presumeably', 1), ('pretend', 1), ('preventdefault', 1), ('prevented', 1), ('previewkeydowneventargs', 1), ('previewview', 1), ('price1', 1), ('price2', 1), ('price3', 1), ('priceceil', 1), ('priced', 1), ('pricefloor', 1), ('pricelow', 1), ('pricing', 1), ('printdocument', 1), ('printimage', 1), ('printwriter', 1), ('prioritise', 1), ('prioritization', 1), ('priorityrush', 1), ('prism', 1), ('privilege', 1), ('privileged', 1), ('privilegedreportinggroup', 1), ('privilegedreportinggroupname', 1), ('privilegedusergroup', 1), ('privilegedusergroupname', 1), ('priviliege', 1), ('prject', 1), ('proactiveclienteventloggerexception', 1), ('prob', 1), ('probable', 1), ('proceeded', 1), ('processcmdkey', 1), ('processess', 1), ('processinput', 1), ('processkeyaction', 1), ('processmodel', 1), ('processmon', 1), ('processorid', 1), ('processpostdata', 1), ('processrequestinternal', 1), ('processrequestnodemand', 1), ('processstagingarea', 1), ('processâ', 1), ('prodcedure', 1), ('prodcut', 1), ('product1', 1), ('product2', 1), ('product3', 1), ('productiondetails', 1), ('productscontroller', 1), ('prof', 1), ('profesional', 1), ('professor', 1), ('profiled', 1), ('profilers', 1), ('profusion', 1), ('program2', 1), ('program2dataelement1', 1), ('program2dataelement2', 1), ('programatic', 1), ('programaticly', 1), ('programdata', 1), ('programe', 1), ('programfiles', 1), ('programmable', 1), ('programmaticaly', 1), ('programmaticly', 1), ('progresses', 1), ('progresstemplate', 1), ('prohibits', 1), ('projectfolder', 1), ('projectmember', 1), ('projector', 1), ('projectvaluetointerval', 1), ('promise', 1), ('promote', 1), ('promotier', 1), ('promotions', 1), ('promptemphasis', 1), ('promptly', 1), ('promptrate', 1), ('prompts', 1), ('promptvolume', 1), ('propagated', 1), ('properorderedarray', 1), ('propertiesbindingsource', 1), ('propertiestableadapter', 1), ('propertychanged', 1), ('propertychangesupport', 1), ('propertydictionary', 1), ('propertygrid', 1), ('propertymap', 1), ('propertymetadata', 1), ('propertynamefieldspecified', 1), ('propertysheets', 1), ('propertyvaluecollection', 1), ('propety', 1), ('proponent', 1), ('proportional', 1), ('propriatary', 1), ('propriety', 1), ('protectedinvokecallback', 1), ('protection', 1), ('protobufs', 1), ('prototpye', 1), ('prototyped', 1), ('proved', 1), ('proviiding', 1), ('proving', 1), ('proxyaddress', 1), ('psexec', 1), ('psql', 1), ('pstretcheddefaultthumbimage', 1), ('psuedocode', 1), ('psycopg2', 1), ('pt', 1), ('pthread', 1), ('pthumbnail', 1), ('ptrs', 1), ('ptrtostructure', 1), ('pts', 1), ('pty', 1), ('pu', 1), ('punches', 1), ('punping', 1), ('puremvc', 1), ('purged', 1), ('purple', 1), ('pursued', 1), ('pursuit', 1), ('pushback', 1), ('pushbutton', 1), ('pushers', 1), ('pushes', 1), ('pushframe', 1), ('pushframeimpl', 1), ('putobject', 1), ('puzzled', 1), ('pygtk', 1), ('pysvn', 1), ('pytes', 1), ('pythonpath', 1), ('q3', 1), ('q4', 1), ('qbeuek', 1), ('qbs', 1), ('qcow2', 1), ('qdockwidget', 1), ('qfe', 1), ('qglframebufferobject', 1), ('qglwidget', 1), ('qmainwindow', 1), ('qnty', 1), ('qpid', 1), ('qprocess', 1), ('qqq', 1), ('qr', 1), ('qty', 1), ('quad', 1), ('quadratic', 1), ('qualifier', 1), ('qualities', 1), ('quantitative', 1), ('quantization', 1), ('queryable', 1), ('queryinfos', 1), ('querysource', 1), ('quest', 1), ('question1', 1), ('question2', 1), ('questioning', 1), ('queueing', 1), ('queueuserworkitem', 1), ('quickfix', 1), ('quicktest', 1), ('quicktime', 1), ('quicky', 1), ('quirky', 1), ('quits', 1), ('quiz', 1), ('quizmakers', 1), ('quux', 1), ('qw', 1), ('r1a', 1), ('r3u', 1), ('r6418', 1), ('ra', 1), ('radcontrols', 1), ('radically', 1), ('radiobuttonlists', 1), ('rage', 1), ('railsy', 1), ('railties', 1), ('raisedatagridviewcellvaluechanged', 1), ('raiseevent', 1), ('raiseeventimpl', 1), ('raiselistchangedevents', 1), ('raisethreadmessage', 1), ('raj', 1), ('rakefile', 1), ('raking', 1), ('rangevalidator', 1), ('ranked', 1), ('ranking', 1), ('ranks', 1), ('rapid', 1), ('rasmus', 1), ('rational', 1), ('rationalized', 1), ('ratios', 1), ('rawkeyboardactions', 1), ('raytracing', 1), ('rdc', 1), ('rdcv2connectionstring', 1), ('rddarwin02', 1), ('rdfitemupdater', 1), ('rdquo', 1), ('rdwr', 1), ('reachability', 1), ('react', 1), ('readbyte', 1), ('readcallback', 1), ('readers', 1), ('readfile', 1), ('readprocessmemory', 1), ('realeased', 1), ('realized', 1), ('realizes', 1), ('realizing', 1), ('realloc', 1), ('realm', 1), ('reappear', 1), ('reapply', 1), ('rearrange', 1), ('rebind', 1), ('rebinding', 1), ('reboot', 1), ('rebooting', 1), ('reboots', 1), ('recalculate', 1), ('recalculated', 1), ('recalculates', 1), ('recalled', 1), ('recaptchalib', 1), ('receivetimeout', 1), ('recievetimeout', 1), ('recipes', 1), ('recipients', 1), ('recives', 1), ('reckon', 1), ('recommends', 1), ('recomment', 1), ('recordcount', 1), ('recordsource', 1), ('recourse', 1), ('recovering', 1), ('recovery', 1), ('recreat', 1), ('recruiting', 1), ('rectangular', 1), ('recurring', 1), ('recurse', 1), ('recursions', 1), ('recycle', 1), ('red255', 1), ('redacted', 1), ('reddit', 1), ('redefined', 1), ('redefinition', 1), ('redesigning', 1), ('redflags', 1), ('redirectedto', 1), ('redirectfromloginpage', 1), ('redisplay', 1), ('redistributable', 1), ('redo', 1), ('redoak', 1), ('reduces', 1), ('redundany', 1), ('reen', 1), ('reentry', 1), ('referece', 1), ('referencedassemblies', 1), ('referential', 1), ('refering', 1), ('refill', 1), ('refining', 1), ('reflectiononlyload', 1), ('reflectiontest', 1), ('reformat', 1), ('reformating', 1), ('reframing', 1), ('refreshcache', 1), ('refreshing', 1), ('refreshsection', 1), ('regcomp', 1), ('regedit', 1), ('regenerate', 1), ('regexec', 1), ('regexfoo', 1), ('regexxer', 1), ('regionname', 1), ('registerforeventvalidation', 1), ('registrykey', 1), ('registryvaluekind', 1), ('regularexpressions', 1), ('rehydrate', 1), ('reimplementation', 1), ('reinitialize', 1), ('rejects', 1), ('relationid', 1), ('relativity', 1), ('relax', 1), ('relayed', 1), ('releasebuffer', 1), ('releasedate', 1), ('releasesession', 1), ('relevancy', 1), ('reliability', 1), ('relied', 1), ('religious', 1), ('relishing', 1), ('reloaddata', 1), ('reloaded', 1), ('reluctant', 1), ('remake', 1), ('remap', 1), ('remarks', 1), ('remembers', 1), ('reminds', 1), ('remorse', 1), ('remotefile', 1), ('remotehost', 1), ('remotestackindex', 1), ('remotestacktracestring', 1), ('removals', 1), ('removeat', 1), ('remover', 1), ('removewhitespace', 1), ('remy', 1), ('renderaction', 1), ('rendercell', 1), ('renderer', 1), ('rendermonkey', 1), ('renelist', 1), ('renewing', 1), ('rent', 1), ('reopening', 1), ('reorder', 1), ('rep', 1), ('repackage', 1), ('repaint', 1), ('repainted', 1), ('repaints', 1), ('repair', 1), ('reparent', 1), ('repated', 1), ('repeateritemeventargs', 1), ('repercussions', 1), ('repetitive', 1), ('replaceall', 1), ('replacer', 1), ('replacewith', 1), ('replyto', 1), ('repointed', 1), ('reportdataoperation', 1), ('reportinggroup', 1), ('reportinggroupname', 1), ('reportlevel', 1), ('reportpath', 1), ('reportserverurl', 1), ('reproducibly', 1), ('republish', 1), ('reputable', 1), ('req', 1), ('reqeust', 1), ('requery', 1), ('requester', 1), ('requiredvalidation', 1), ('requirepermission', 1), ('requst', 1), ('reraised', 1), ('rerun', 1), ('resembles', 1), ('resembling', 1), ('reservation', 1), ('reservations', 1), ('reserver', 1), ('resetitem', 1), ('resilience', 1), ('resiliency', 1), ('resistance', 1), ('resisting', 1), ('resistive', 1), ('resizeable', 1), ('resizeto', 1), ('resolutions', 1), ('resolveclienturl', 1), ('resourcehelper', 1), ('resourcename', 1), ('resp', 1), ('respawn', 1), ('responseswhen', 1), ('responsetext', 1), ('responsibilities', 1), ('restarts', 1), ('restating', 1), ('restfully', 1), ('restier', 1), ('restored', 1), ('restoring', 1), ('restrain', 1), ('restrictedmemberaccess', 1), ('restricting', 1), ('restriction', 1), ('restrictive', 1), ('restructuring', 1), ('resuces', 1), ('resulta', 1), ('resumes', 1), ('resumesteps', 1), ('resumethreadresult', 1), ('retained', 1), ('retarded', 1), ('retr', 1), ('retreive', 1), ('retrievable', 1), ('retrieveoldformxml', 1), ('retry', 1), ('retrying', 1), ('returnboxid', 1), ('returnmatch', 1), ('returnurl', 1), ('reusablity', 1), ('reused', 1), ('reuses', 1), ('revalidate', 1), ('revenue', 1), ('reversereservations', 1), ('reverting', 1), ('reviewed', 1), ('revise', 1), ('revisioned', 1), ('revoke', 1), ('revolving', 1), ('revsion', 1), ('rewind', 1), ('reword', 1), ('reworking', 1), ('rewritelog', 1), ('rewritelogging', 1), ('rewriteloglevel', 1), ('rewrites', 1), ('rewrte', 1), ('rhel', 1), ('rhinomocks', 1), ('ria', 1), ('richness', 1), ('riddled', 1), ('ridiculous', 1), ('rig', 1), ('rigged', 1), ('rightarrow', 1), ('rightframe', 1), ('rightspace', 1), ('rigorous', 1), ('ripped', 1), ('riskier', 1), ('rivals', 1), ('rngs', 1), ('roam', 1), ('roamed', 1), ('robert', 1), ('robin', 1), ('robotics', 1), ('rock', 1), ('rocket', 1), ('rogue', 1), ('roguewave', 1), ('rolemanagement', 1), ('rolemanagementproviders', 1), ('roman', 1), ('romance', 1), ('rookie', 1), ('roolup', 1), ('room', 1), ('rooted', 1), ('rootfolder', 1), ('rootimporthandler', 1), ('rootmenuitem', 1), ('rootmenuitembreadcrumbcssclass', 1), ('rootmenuitemcssclass', 1), ('rootmenuitemselected', 1), ('rootmenuitemselectedcssclass', 1), ('ropes', 1), ('rotate', 1), ('rotten', 1), ('rounding', 1), ('rounds', 1), ('routedeventhandlerinfo', 1), ('rowclasses', 1), ('rowcounts', 1), ('rowdefinitions', 1), ('rowindex', 1), ('rowkey', 1), ('royalty', 1), ('roysched', 1), ('rp', 1), ('rpm', 1), ('rssrvpolicy', 1), ('rsync', 1), ('rt', 1), ('rtab', 1), ('rtai', 1), ('rtc1', 1), ('rtf1', 1), ('rtfmsdn', 1), ('rtl70', 1), ('rtm', 1), ('rtrim', 1), ('rtsp', 1), ('rubyforge', 1), ('ruins', 1), ('rumor', 1), ('runas', 1), ('runing', 1), ('runsnippet', 1), ('runtimecon', 1), ('runtimehelpers', 1), ('runtrycode', 1), ('rush', 1), ('ruturn', 1), ('rwbitvec', 1), ('rxtx', 1), ('rxvt', 1), ('ryan', 1), ('s8', 1), ('saas', 1), ('salts', 1), ('sampleobject', 1), ('sampleproperty', 1), ('samve', 1), ('sandeep', 1), ('sanitizing', 1), ('sans', 1), ('sas', 1), ('sata', 1), ('satellite', 1), ('satisfied', 1), ('saturating', 1), ('savable', 1), ('saveandexit', 1), ('savebut', 1), ('savedate', 1), ('saveâ', 1), ('savvy', 1), ('sawtooth', 1), ('saxparseexception', 1), ('sbin', 1), ('sbsusers', 1), ('scaffolding', 1), ('scalable', 1), ('scaled', 1), ('scancode', 1), ('scanline', 1), ('scarcity', 1), ('scared', 1), ('scares', 1), ('scary', 1), ('schedulers', 1), ('schedules', 1), ('schemish', 1), ('scopeguard', 1), ('scoping', 1), ('scorer', 1), ('scoured', 1), ('scrap', 1), ('scrape', 1), ('scraping', 1), ('scraps', 1), ('screams', 1), ('screencasts', 1), ('screenheight', 1), ('screensnap', 1), ('screw', 1), ('scribbled', 1), ('scribe', 1), ('scriptaculous', 1), ('scripttimeout', 1), ('scriptum', 1), ('scrollbar', 1), ('scrollfollow', 1), ('scrollviewer', 1), ('scrutinize', 1), ('scrutiny', 1), ('scsf', 1), ('scurrying', 1), ('sdupmj', 1), ('sealed', 1), ('seamlessly', 1), ('seamlessness', 1), ('searchable', 1), ('searchpattern', 1), ('seaside', 1), ('seat', 1), ('seats', 1), ('secondlife', 1), ('secretly', 1), ('secrets', 1), ('securesocketlayersettotrue', 1), ('securityaction', 1), ('securityexception', 1), ('securityimpersonation', 1), ('seding', 1), ('seeding', 1), ('seeking', 1), ('seeming', 1), ('seg', 1), ('segement', 1), ('segfault', 1), ('segments', 1), ('seh', 1), ('seibel', 1), ('sekar', 1), ('seldom', 1), ('selectable', 1), ('selectany', 1), ('selectednodechanged', 1), ('selectedparameters', 1), ('selectedtab', 1), ('selectively', 1), ('selectivity', 1), ('selfreg', 1), ('semantically', 1), ('semaphores', 1), ('semblance', 1), ('semitransparent', 1), ('sendemail', 1), ('senderaddr', 1), ('senderroremail', 1), ('sendingmail', 1), ('sendkey', 1), ('sendmessage', 1), ('sendsignal', 1), ('sensibly', 1), ('sensitivity', 1), ('sensor', 1), ('sentences', 1), ('sep', 1), ('separates', 1), ('separatorcss', 1), ('separators', 1), ('seperated', 1), ('seperates', 1), ('septembre', 1), ('septiembre', 1), ('sequencially', 1), ('serialisation', 1), ('serializer1', 1), ('serializers', 1), ('serilized', 1), ('serr', 1), ('server1', 1), ('serverside', 1), ('servervariables', 1), ('service1', 1), ('serviceauthentication', 1), ('servicebase', 1), ('servicecontract', 1), ('servicecontracts', 1), ('servicedebug', 1), ('servicehome', 1), ('servicehostfactory', 1), ('serviceprovider', 1), ('serviceresult', 1), ('servicesettings', 1), ('servicess', 1), ('servstop', 1), ('sessionmanager', 1), ('setacceptqueuesize', 1), ('setattribute', 1), ('setautocommit', 1), ('setbackgroundcolor', 1), ('setcontenttype', 1), ('setcountry', 1), ('setcredentials', 1), ('setdatestyle', 1), ('setdefaultcloseoperation', 1), ('setdefaultformatterbehavior', 1), ('setdefaulttimeout', 1), ('setendpoint', 1), ('setenv', 1), ('seterrors', 1), ('setevent', 1), ('setexpires', 1), ('setfirstname', 1), ('setfont', 1), ('setfullscreenwindow', 1), ('setgameswon', 1), ('setheader', 1), ('setid', 1), ('setlastname', 1), ('setlocal', 1), ('setlolcat', 1), ('setlowresourcemaxidletime', 1), ('setmarshaller', 1), ('setmaxidletime', 1), ('setmaximumsize', 1), ('setminimumsize', 1), ('setname', 1), ('setnamelc', 1), ('setoption', 1), ('setorientation', 1), ('setoutputtonull', 1), ('setplayer', 1), ('setport', 1), ('setposition', 1), ('setpriorityclass', 1), ('setprocesswindowstation', 1), ('setproject', 1), ('setpropeldefaultculture', 1), ('setrequestmethod', 1), ('setrequestproperty', 1), ('setselection', 1), ('setshadowcolor', 1), ('setsomeproperty', 1), ('setstatson', 1), ('settextcolor', 1), ('setthreaddesktop', 1), ('setthreadpriority', 1), ('settimeouts', 1), ('settotalpoints', 1), ('setts', 1), ('setttings', 1), ('setunmarshaller', 1), ('setuponly', 1), ('setuptools', 1), ('setview', 1), ('seventy', 1), ('sexy', 1), ('sfconfig', 1), ('sfg', 1), ('sgmlreader', 1), ('shader', 1), ('shadows', 1), ('shallow', 1), ('shaperenderer', 1), ('shapesheet', 1), ('shaping', 1), ('sharing', 1), ('sharp', 1), ('sharper', 1), ('shell32', 1), ('shellexec', 1), ('shellexecute', 1), ('shelling', 1), ('shenanigans', 1), ('shgetspecialfolderpath', 1), ('shifted', 1), ('shim', 1), ('shippingaddress', 1), ('shippingboxid', 1), ('ships', 1), ('shoot', 1), ('shooting', 1), ('shopdata', 1), ('shops', 1), ('shortcomings', 1), ('shortcur', 1), ('shortname', 1), ('shortstring', 1), ('shots', 1), ('shouldpreventinvalidrequest', 1), ('showcountry', 1), ('showfeedback', 1), ('showinfo', 1), ('shownormal', 1), ('shuffling', 1), ('shunt', 1), ('sick', 1), ('sidenote', 1), ('siderant', 1), ('sideways', 1), ('siebel', 1), ('sift', 1), ('sigh', 1), ('sighold', 1), ('sight', 1), ('sightings', 1), ('signalandwait', 1), ('signatures', 1), ('signaturestruct', 1), ('signedparts', 1), ('signifies', 1), ('signoff', 1), ('signs', 1), ('signup', 1), ('sigrelse', 1), ('sigsegv', 1), ('silverlight2', 1), ('simbl', 1), ('simian', 1), ('similarartists', 1), ('similarity', 1), ('simpleobjectcollectionbase', 1), ('simplification', 1), ('simplistic', 1), ('simplyrestfulroutehandler', 1), ('sims', 1), ('sine', 1), ('singletons', 1), ('sink', 1), ('sins', 1), ('sippet', 1), ('sisc', 1), ('sitemapfile', 1), ('sitemappath', 1), ('sizable', 1), ('sizeconst', 1), ('sizehint', 1), ('sizemode', 1), ('sizeofpipe', 1), ('sizetofit', 1), ('sjlj', 1), ('skeet', 1), ('skew', 1), ('skimmed', 1), ('skinable', 1), ('skinned', 1), ('skinnier', 1), ('skins', 1), ('skippable', 1), ('skipped', 1), ('skipvisibilitychecks', 1), ('sku', 1), ('sl', 1), ('slackware', 1), ('slas', 1), ('slashdot', 1), ('slaven', 1), ('sleazy', 1), ('sli', 1), ('slick', 1), ('slickedit', 1), ('slidedown', 1), ('slideup', 1), ('slightest', 1), ('slimprojector', 1), ('sloppy', 1), ('slowdowns', 1), ('sluggy', 1), ('sm', 1), ('smallerthan', 1), ('smallish', 1), ('smartdispatchercontroller', 1), ('smartphones', 1), ('smartsvn', 1), ('smashing', 1), ('smbclient', 1), ('smbiosbiosversion', 1), ('smell', 1), ('smells', 1), ('smf', 1), ('smiles', 1), ('smoke', 1), ('smoothing', 1), ('smoothly', 1), ('sms', 1), ('smtpauth', 1), ('smtpexception', 1), ('smtpfailedrecipientexception', 1), ('smtpfailedrecipientsexception', 1), ('smtplib', 1), ('smtpserverhostname', 1), ('smythe', 1), ('snag', 1), ('sname', 1), ('sniffer', 1), ('sniplet', 1), ('so1', 1), ('so2', 1), ('soapfaultdetail', 1), ('soapval', 1), ('society', 1), ('socketexeception', 1), ('socks', 1), ('soda', 1), ('softwares', 1), ('solidbrush', 1), ('sollution', 1), ('solpartmenu', 1), ('solutionexplorer', 1), ('solutionname', 1), ('solver', 1), ('somecity', 1), ('someclass1', 1), ('someclass2', 1), ('somecontroller', 1), ('someexe', 1), ('somefield', 1), ('somegeneratedstring', 1), ('somemethod1', 1), ('somemethod2', 1), ('somenumbers', 1), ('someothermethod', 1), ('somepackage', 1), ('sometextfile', 1), ('somethink', 1), ('someting', 1), ('someval', 1), ('somexslt', 1), ('somthin', 1), ('song', 1), ('sooo', 1), ('sorcecode', 1), ('sorta', 1), ('sortarraybyarray', 1), ('sortdirection', 1), ('sorteddictionary', 1), ('sourceexists', 1), ('sourcefiles', 1), ('sourcegear', 1), ('sourcetable', 1), ('sourceurl', 1), ('sourceâ', 1), ('sp4', 1), ('spaghetti', 1), ('spam', 1), ('spamed', 1), ('spanning', 1), ('sparked', 1), ('spawned', 1), ('spbasecollection', 1), ('spd', 1), ('specfic', 1), ('specialfolder', 1), ('specialist', 1), ('specialists', 1), ('specialize', 1), ('specifi', 1), ('specificially', 1), ('specifier', 1), ('specirically', 1), ('spectactular', 1), ('spectator', 1), ('spectra', 1), ('speculation', 1), ('speechrecognitionengine', 1), ('speeding', 1), ('speedup', 1), ('spellchecking', 1), ('spelled', 1), ('spfield', 1), ('spgoodsforsale', 1), ('sphere', 1), ('spheres', 1), ('spice', 1), ('spid', 1), ('spider', 1), ('spidering', 1), ('spikes', 1), ('spinets', 1), ('spinning', 1), ('spits', 1), ('spitting', 1), ('splits', 1), ('splunk', 1), ('spname', 1), ('spnego', 1), ('spoiled', 1), ('spoofing', 1), ('spoon16', 1), ('sport', 1), ('spots', 1), ('springmvc', 1), ('sprinkled', 1), ('sprints', 1), ('sprite', 1), ('sproc1', 1), ('sproc2', 1), ('sproc3', 1), ('spviewfieldcollection', 1), ('spvillaget', 1), ('spying', 1), ('sql1159', 1), ('sql2008', 1), ('sqlaccessgroup', 1), ('sqlaccessgroupname', 1), ('sqlbulkcopy', 1), ('sqlbulkinsert', 1), ('sqlce', 1), ('sqldata', 1), ('sqldatareader', 1), ('sqldatasource', 1), ('sqldatetime', 1), ('sqlexpress2005', 1), ('sqlexpress2008', 1), ('sqlexpresss2008', 1), ('sqliteconnection', 1), ('sqliteman', 1), ('sqllite', 1), ('sqlmembershipprovider', 1), ('sqlmetal', 1), ('sqlquery', 1), ('sqls', 1), ('sqlserverdatabaseobject', 1), ('sqlservername', 1), ('sqlstagingtable', 1), ('sqltypeexception', 1), ('sqltypes', 1), ('sqlxml', 1), ('sqrt', 1), ('squares', 1), ('squeeze', 1), ('srcdir', 1), ('srcs', 1), ('ssapi', 1), ('sse', 1), ('sseutil', 1), ('sslerror', 1), ('ssp', 1), ('sspi', 1), ('ssql', 1), ('ssrs2008', 1), ('sss', 1), ('st1', 1), ('st2', 1), ('stabs', 1), ('stacked', 1), ('stackover', 1), ('stacktracestring', 1), ('staggering', 1), ('staging', 1), ('stakeholders', 1), ('stalbot', 1), ('stamped', 1), ('stamping', 1), ('standardish', 1), ('standardize', 1), ('standin', 1), ('standing', 1), ('standpoint', 1), ('stared', 1), ('starers', 1), ('staring', 1), ('stars', 1), ('startdetached', 1), ('startdrag', 1), ('startf', 1), ('startfragment', 1), ('starthtml', 1), ('startparagraph', 1), ('startrecording', 1), ('startsentence', 1), ('startstyle', 1), ('starttimer', 1), ('startum', 1), ('startvoice', 1), ('stat', 1), ('statechangedeventhandler', 1), ('stated', 1), ('stateless', 1), ('stateserver', 1), ('stationwagon', 1), ('statistically', 1), ('statusmsg', 1), ('stays', 1), ('stdafx', 1), ('steal', 1), ('stemming', 1), ('stems', 1), ('step1', 1), ('stephen', 1), ('stepped', 1), ('stereotypes', 1), ('stewardship', 1), ('sticks', 1), ('sties', 1), ('stifle', 1), ('stil', 1), ('stink', 1), ('stir', 1), ('stock1', 1), ('stock2', 1), ('stomp', 1), ('stoppropogation', 1), ('stoprecording', 1), ('storylisting', 1), ('str1', 1), ('str2', 1), ('stragnest', 1), ('straightforwardly', 1), ('strangle', 1), ('strangling', 1), ('stratum', 1), ('straws', 1), ('strbody', 1), ('strconv', 1), ('strdb', 1), ('streambytes', 1), ('streamids', 1), ('streamlined', 1), ('stremail', 1), ('stressing', 1), ('stretched', 1), ('stretching', 1), ('stricter', 1), ('string2', 1), ('stringcollection', 1), ('stringcomparer', 1), ('stringent', 1), ('stringfixedlength', 1), ('stringfromdate', 1), ('stringreader', 1), ('stringtemplate', 1), ('stringtokenizer', 1), ('stringval', 1), ('stripdomain', 1), ('stripesdispatcher', 1), ('stripping', 1), ('strips', 1), ('strive', 1), ('strmessage', 1), ('stroke', 1), ('strokes', 1), ('strokethicknessproperty', 1), ('strokexxxx', 1), ('stroking', 1), ('strongest', 1), ('strsql3', 1), ('strstri', 1), ('strtod', 1), ('structlayout', 1), ('structuarally', 1), ('structuring', 1), ('structvar1', 1), ('struggle', 1), ('strvar', 1), ('stubbed', 1), ('stubbornly', 1), ('studied', 1), ('studo', 1), ('stuffed', 1), ('stuffing', 1), ('stumbling', 1), ('stump', 1), ('stupidity', 1), ('stylea', 1), ('styleb', 1), ('stylec', 1), ('stylesheets', 1), ('stymied', 1), ('su', 1), ('subarrays', 1), ('subconsciously', 1), ('subcontrols', 1), ('subdomains', 1), ('subgraphs', 1), ('subgroup', 1), ('subgroups', 1), ('subitems', 1), ('submatch', 1), ('submatches', 1), ('submenu', 1), ('submenucssclass', 1), ('submenuitembreadcrumbcssclass', 1), ('submenuitemselected', 1), ('submenuitemselectedcssclass', 1), ('submittedtime', 1), ('subn', 1), ('subnets', 1), ('subproblem', 1), ('subprocess', 1), ('subregionid', 1), ('subregions', 1), ('subroutine', 1), ('subscribed', 1), ('subscribing', 1), ('subscript', 1), ('subsections', 1), ('subsidiary', 1), ('substantial', 1), ('substitutable', 1), ('substituted', 1), ('substituting', 1), ('substrings', 1), ('substyle', 1), ('subtly', 1), ('subtotal', 1), ('subtractions', 1), ('subtyping', 1), ('subversionsharp', 1), ('subversive', 1), ('successed', 1), ('successfull', 1), ('succinct', 1), ('succint', 1), ('suckerfish', 1), ('sucking', 1), ('sucky', 1), ('suddently', 1), ('suffers', 1), ('suffice', 1), ('suffices', 1), ('suffixed', 1), ('sugestions', 1), ('suit', 1), ('summed', 1), ('sunstudio', 1), ('sunwappserver', 1), ('suo', 1), ('superb', 1), ('superclasses', 1), ('superficial', 1), ('superimposition', 1), ('superior', 1), ('superscript', 1), ('superstar', 1), ('superstitiously', 1), ('supervises', 1), ('supervisor', 1), ('supervisors', 1), ('supplement', 1), ('supplying', 1), ('supposedly', 1), ('supposes', 1), ('supposing', 1), ('suppress', 1), ('supress', 1), ('surfing', 1), ('surpass', 1), ('surpassing', 1), ('surprising', 1), ('surprisingly', 1), ('surrogate', 1), ('surround', 1), ('surveys', 1), ('survive', 1), ('survived', 1), ('suspends', 1), ('suspicion', 1), ('suspicions', 1), ('sustain', 1), ('svcutil', 1), ('svg', 1), ('svnrev', 1), ('svnserv', 1), ('swapped', 1), ('swaps', 1), ('swell', 1), ('swfobject', 1), ('swfs', 1), ('swfupload', 1), ('swig', 1), ('swimmingly', 1), ('swirl', 1), ('swithed', 1), ('sword', 1), ('sych', 1), ('sym', 1), ('symantec', 1), ('symbian', 1), ('symbolically', 1), ('symptomized', 1), ('symptoms', 1), ('synchronisations', 1), ('synchronise', 1), ('synchronised', 1), ('synchronising', 1), ('synchronized', 1), ('syncroot', 1), ('syncs', 1), ('syncsessionlesshandler', 1), ('synergize', 1), ('synonym', 1), ('synonyms', 1), ('syntatic', 1), ('syntaxhighlighted', 1), ('synthesized', 1), ('syslanguages', 1), ('sysmessages', 1), ('sysprep', 1), ('sysprocesses', 1), ('systemevery', 1), ('systemid', 1), ('systemroot', 1), ('t3', 1), ('t300r', 1), ('tabes', 1), ('tablea', 1), ('tableadapters', 1), ('tabledef', 1), ('tablespace', 1), ('tablet', 1), ('tableviewloaded', 1), ('tabpage', 1), ('tabstripplacement', 1), ('tabular', 1), ('tabulated', 1), ('tack', 1), ('tackling', 1), ('tacks', 1), ('tadoquery1', 1), ('tagdict', 1), ('tagextrainfo', 1), ('taginclude', 1), ('taglibs', 1), ('taglines', 1), ('tagmatches', 1), ('tagprefix', 1), ('tahoma', 1), ('taks', 1), ('tal', 1), ('talented', 1), ('tangible', 1), ('tango', 1), ('tantalizingly', 1), ('tao', 1), ('tar', 1), ('targetel', 1), ('targetframe', 1), ('targetlibs', 1), ('targetname', 1), ('targetnode', 1), ('targetpath', 1), ('targetting', 1), ('tarjan', 1), ('tart', 1), ('task3', 1), ('taskwindowclass', 1), ('tastes', 1), ('taxed', 1), ('taxes', 1), ('taxing', 1), ('taxonomy', 1), ('tbl1', 1), ('tblbar', 1), ('tblfoobar', 1), ('tblnotepanel', 1), ('tbody', 1), ('tcg', 1), ('tchildclass', 1), ('tcp4', 1), ('tdf', 1), ('tds', 1), ('teachers', 1), ('teardown', 1), ('tearing', 1), ('technet', 1), ('techonlogy', 1), ('teen', 1), ('teeny', 1), ('tees', 1), ('tei', 1), ('telephone', 1), ('tempdata', 1), ('temperature', 1), ('templatefield', 1), ('tempting', 1), ('tenantid', 1), ('teredo', 1), ('terminates', 1), ('termination', 1), ('termios', 1), ('termporary', 1), ('termsâ', 1), ('territory', 1), ('test1', 1), ('test4', 1), ('test5', 1), ('test6', 1), ('testability', 1), ('testcompression', 1), ('testdriven', 1), ('testfile', 1), ('testfixture', 1), ('testgen', 1), ('testharness', 1), ('testhavedns', 1), ('testlan', 1), ('testlocalhost', 1), ('testnodns', 1), ('testsample', 1), ('testtables', 1), ('testwrapper', 1), ('text1', 1), ('textareas', 1), ('textbooks', 1), ('textboxfield', 1), ('textchanged', 1), ('textcursor', 1), ('textfields', 1), ('textmode', 1), ('textpadding', 1), ('textptr', 1), ('texttemplating', 1), ('textwriter', 1), ('tfirewallutility', 1), ('tform4', 1), ('tgts', 1), ('thankfully', 1), ('thanking', 1), ('thead', 1), ('thecompany', 1), ('thefile', 1), ('thello', 1), ('themek', 1), ('theming', 1), ('theorectically', 1), ('theorem', 1), ('theservlet', 1), ('theway', 1), ('thick', 1), ('thinapp', 1), ('thinggatewaysqldirect', 1), ('thinglistfetcher', 1), ('thingtype', 1), ('thining', 1), ('thirdparty', 1), ('thisismymethod', 1), ('thisismyvariable', 1), ('thislooksweird', 1), ('thisthattheotheritemtemplate', 1), ('thorough', 1), ('thoroughly', 1), ('thotkey', 1), ('thrash', 1), ('threadidsequencenumber', 1), ('threadingmixin', 1), ('threadmessageeventhandler', 1), ('threadprocfqm', 1), ('threadsafe', 1), ('threadstateexception', 1), ('thrid', 1), ('thrift', 1), ('thrilled', 1), ('throug', 1), ('throughput', 1), ('throught', 1), ('throwe', 1), ('throwiffail', 1), ('thumbsize', 1), ('thunderbird', 1), ('thwate', 1), ('tickers', 1), ('ticketing', 1), ('tidbit', 1), ('tidier', 1), ('tigris', 1), ('tiling', 1), ('timage', 1), ('timeelapsed', 1), ('timelines', 1), ('timely', 1), ('timerdispatch', 1), ('timerhandler', 1), ('timeseries', 1), ('timestamped', 1), ('timestaps', 1), ('timings', 1), ('tinkering', 1), ('tintcolor', 1), ('tinymce', 1), ('tinyportal', 1), ('tire', 1), ('tiresome', 1), ('titlebar', 1), ('titlebuttons', 1), ('titled', 1), ('titletext', 1), ('tjvplugin', 1), ('tkinter', 1), ('tks', 1), ('tlistbox', 1), ('tm', 1), ('tmain', 1), ('tmaincrtstartup', 1), ('tmsg', 1), ('tnsnames', 1), ('toboolean', 1), ('toc', 1), ('tochar', 1), ('tocstring', 1), ('todatetime', 1), ('todd', 1), ('todos', 1), ('todouble', 1), ('todto', 1), ('toes', 1), ('togethe', 1), ('toggleback', 1), ('toggling', 1), ('togmtstring', 1), ('toint64', 1), ('tokenize', 1), ('tokenprimary', 1), ('tolerances', 1), ('toliteral', 1), ('toll', 1), ('tolocaltime', 1), ('tomatoes', 1), ('tomblin', 1), ('tomonth', 1), ('tomsite', 1), ('tone', 1), ('toola', 1), ('toolb', 1), ('toolwindows', 1), ('toolâ', 1), ('topbar', 1), ('topbraid', 1), ('topmost', 1), ('topography', 1), ('topright', 1), ('topspace', 1), ('tortise', 1), ('tortoisebzr', 1), ('toss', 1), ('tosses', 1), ('totalheads', 1), ('totalpoints', 1), ('totalsize', 1), ('totalview', 1), ('tough', 1), ('tourism', 1), ('towel', 1), ('tower', 1), ('toyear', 1), ('toyed', 1), ('tp', 1), ('tparentclass', 1), ('trac', 1), ('traced', 1), ('traceerror', 1), ('traceinformation', 1), ('tracelisteners', 1), ('tracer', 1), ('traceroute', 1), ('tracewarning', 1), ('tracked', 1), ('tracy', 1), ('traditionally', 1), ('trailing', 1), ('trails', 1), ('traits', 1), ('tran', 1), ('tranform', 1), ('transactionid', 1), ('transactionstatus', 1), ('transcode', 1), ('transcoded', 1), ('transferring', 1), ('transformations', 1), ('transformgroup', 1), ('transformsource', 1), ('translatemessage', 1), ('translatetransform', 1), ('translators', 1), ('transmit', 1), ('transmitfile', 1), ('transmits', 1), ('transmitting', 1), ('transparency', 1), ('transparently', 1), ('transportcredentialonly', 1), ('transposing', 1), ('transversal', 1), ('trash', 1), ('trawl', 1), ('trc', 1), ('treemaps', 1), ('treenodes', 1), ('trend', 1), ('trends', 1), ('treo', 1), ('tresult', 1), ('trials', 1), ('trianglestrip', 1), ('triggersmycustomaction', 1), ('trims', 1), ('tripped', 1), ('trophic', 1), ('troubleshooting', 1), ('trucks', 1), ('trunc', 1), ('truncates', 1), ('trusting', 1), ('trusts', 1), ('truth', 1), ('truths', 1), ('trycatchwhen', 1), ('trycode', 1), ('tryint', 1), ('trys', 1), ('trystrtoguid', 1), ('tsource', 1), ('tsp', 1), ('tstream', 1), ('tts', 1), ('ttys0', 1), ('ttys1', 1), ('ttysnx0', 1), ('ttysnx1', 1), ('tuck', 1), ('tuition', 1), ('tune', 1), ('tunnel', 1), ('tunnelier', 1), ('tunneling', 1), ('tuple2', 1), ('turion', 1), ('tutoral', 1), ('tvanfosson', 1), ('tweet', 1), ('twelve', 1), ('twin', 1), ('twinmain', 1), ('twoamp', 1), ('tworld', 1), ('txmanager1', 1), ('txmanager2', 1), ('txtbox1', 1), ('txtbox2', 1), ('txtcontract', 1), ('txtemailaddress', 1), ('txtlatefeeamt', 1), ('txtlatefeedays', 1), ('txtprepaypenalty', 1), ('txtstartdate', 1), ('ty', 1), ('tying', 1), ('typeid', 1), ('typemock', 1), ('typos', 1), ('tyring', 1), ('u0003', 1), ('u001be', 1), ('u3', 1), ('u8', 1), ('uae', 1), ('uber', 1), ('ubound', 1), ('ucare', 1), ('ucasing', 1), ('ucompositionaction', 1), ('uday', 1), ('uddi', 1), ('udfs', 1), ('ufl', 1), ('uhm', 1), ('uiautomationprovider', 1), ('uidatepicker', 1), ('uihierarchyitem', 1), ('uiinterfaceorientationportrait', 1), ('uitableview', 1), ('uitableviewcell', 1), ('uiwebview', 1), ('ulimit', 1), ('ulnone', 1), ('ultracomboeditor', 1), ('ultrawebtree', 1), ('um', 1), ('unaccept', 1), ('unacceptably', 1), ('unanswered', 1), ('unattainable', 1), ('unauthorizedaccessexception', 1), ('unawesome', 1), ('unblocked', 1), ('unbounded', 1), ('uncertain', 1), ('uncomfortable', 1), ('uncommitted', 1), ('unconfirmed', 1), ('uncorrupted', 1), ('undecorated', 1), ('undergraduate', 1), ('understandable', 1), ('understands', 1), ('understant', 1), ('undertake', 1), ('underwater', 1), ('undesirable', 1), ('undetermined', 1), ('undirected', 1), ('undoing', 1), ('unduly', 1), ('unfilter', 1), ('unfiltered', 1), ('unfinished', 1), ('unformatted', 1), ('unfortunate', 1), ('unhighlighed', 1), ('unicast', 1), ('unicodedecodeerror', 1), ('uniformity', 1), ('uniformly', 1), ('unigrid', 1), ('uniitized', 1), ('unimplemented', 1), ('unimportant', 1), ('uninstalling', 1), ('unioncodegroup', 1), ('unions', 1), ('uniqe', 1), ('unistd', 1), ('units', 1), ('universally', 1), ('unlearn', 1), ('unles', 1), ('unlinked', 1), ('unloading', 1), ('unlocker', 1), ('unmanageable', 1), ('unmanagedtype', 1), ('unmodified', 1), ('unnamedclass', 1), ('unnatural', 1), ('unneccessary', 1), ('unnoticed', 1), ('unobtrusive', 1), ('unordered', 1), ('unorthodox', 1), ('unpivot', 1), ('unpredictable', 1), ('unprepare', 1), ('unprocessed', 1), ('unprofessional', 1), ('unpublishable', 1), ('unrefined', 1), ('unreusable', 1), ('unsatisfied', 1), ('unserialized', 1), ('unsetenv', 1), ('unshift', 1), ('unspecific', 1), ('unstripped', 1), ('unsubscribing', 1), ('unsuccessful', 1), ('unsuccessfully', 1), ('unsuitable', 1), ('unsupportedclassversionerror', 1), ('untested', 1), ('unticked', 1), ('untouched', 1), ('untranslated', 1), ('untried', 1), ('untrusted', 1), ('unusable', 1), ('unvalidated', 1), ('unverifiable', 1), ('unversioned', 1), ('unweighted', 1), ('unwilling', 1), ('unworkably', 1), ('up', 1), ('up2date', 1), ('upd', 1), ('updateafterevent', 1), ('updatecameras', 1), ('updatechoice', 1), ('updatecustomer', 1), ('updatedby', 1), ('updateline', 1), ('updatemode', 1), ('updatenextid', 1), ('updatenulls', 1), ('updatepanel1', 1), ('updatestats', 1), ('updateui', 1), ('uploadactionevents', 1), ('uploadexception', 1), ('uploadfile', 1), ('uploadstate', 1), ('upnp', 1), ('upstairs', 1), ('uptick', 1), ('upwards', 1), ('urge', 1), ('urged', 1), ('url1', 1), ('url2', 1), ('urlconnection', 1), ('urlencoded', 1), ('urlmembershipcondition', 1), ('urlreferrer', 1), ('urlwithstring', 1), ('usda', 1), ('useable', 1), ('usearrows', 1), ('usedefaultcredentials', 1), ('usedelimiter', 1), ('usedparameters', 1), ('usedviewdata', 1), ('usefull', 1), ('usefulness', 1), ('usenet', 1), ('user32', 1), ('useraccountname', 1), ('userargs', 1), ('userarguments', 1), ('userb', 1), ('userbase', 1), ('usercontent', 1), ('usercontroller', 1), ('usercontrols', 1), ('userd', 1), ('userdetailsservice', 1), ('userdnpatterns', 1), ('useremail', 1), ('userfirstname', 1), ('userfk', 1), ('usergameform', 1), ('usergroup', 1), ('usergroupname', 1), ('userinfo', 1), ('userlastname', 1), ('userlistfetcher', 1), ('usernames', 1), ('userootbreadcrumbarrow', 1), ('userpages', 1), ('userroletype', 1), ('userse', 1), ('userservice', 1), ('userspace', 1), ('useshellexecute', 1), ('useshowwindow', 1), ('usesubmenubreadcrumbarrow', 1), ('usesystemdefault', 1), ('usewindowsgroups', 1), ('usingglobal', 1), ('usn', 1), ('usps', 1), ('usualy', 1), ('utcnow', 1), ('utf8string', 1), ('utilise', 1), ('utlising', 1), ('utter', 1), ('utterly', 1), ('ux', 1), ('uxtheme', 1), ('v6w', 1), ('validatable', 1), ('validateemail', 1), ('validateintegratedmodeconfiguration', 1), ('validateitem', 1), ('validationsummary', 1), ('validatorcalloutextender', 1), ('validcode', 1), ('validity', 1), ('valueasiso', 1), ('valueasutf8', 1), ('valueof', 1), ('valuetodisplay', 1), ('valuetoreturn', 1), ('van', 1), ('varargs', 1), ('varcahr2', 1), ('variablen', 1), ('variablenid', 1), ('variadic', 1), ('variantdir', 1), ('variation', 1), ('varibles', 1), ('varios', 1), ('variouis', 1), ('varname', 1), ('vasco', 1), ('vast', 1), ('vb2005', 1), ('vbfromunicode', 1), ('vbo', 1), ('vbproj', 1), ('vc6', 1), ('vc8', 1), ('vc9', 1), ('vdproj', 1), ('vehicle', 1), ('velocity', 1), ('vents', 1), ('verbiage', 1), ('verbosity', 1), ('verges', 1), ('verifyerror', 1), ('verifying', 1), ('veriifed', 1), ('veriog', 1), ('verry', 1), ('versatile', 1), ('versatility', 1), ('versionone', 1), ('vertabim', 1), ('vertex', 1), ('verticalalignment', 1), ('verticalcontentalignment', 1), ('verticalresolution', 1), ('vertices', 1), ('vertify', 1), ('veryfied', 1), ('vessel', 1), ('veto', 1), ('vhosts', 1), ('viability', 1), ('vid', 1), ('videocontroller', 1), ('viewasset', 1), ('viewdidload', 1), ('viewkind4', 1), ('viewmodel', 1), ('viewpageextensions', 1), ('viewwilldisappear', 1), ('villafk', 1), ('villaid', 1), ('vimrc', 1), ('vindication', 1), ('violated', 1), ('virsh', 1), ('virtio', 1), ('virtualhost', 1), ('virtualkey', 1), ('viruses', 1), ('vision', 1), ('visitorslog', 1), ('vista32', 1), ('vistadb', 1), ('visualassist', 1), ('visualisation', 1), ('visualize', 1), ('visualizerobjectsource', 1), ('visualstudio2008', 1), ('viterbi', 1), ('vivek', 1), ('vk', 1), ('vlc', 1), ('vms', 1), ('vnd', 1), ('voiceage', 1), ('voicegender', 1), ('voluminous', 1), ('vonc', 1), ('votecommit', 1), ('voted', 1), ('voterollback', 1), ('voting', 1), ('vs08', 1), ('vs2003', 1), ('vs2010', 1), ('vs2k8', 1), ('vssettings', 1), ('vssetup', 1), ('vssscc', 1), ('vsto', 1), ('vsuiselectiontype', 1), ('vsuiselectiontypeselect', 1), ('vsz', 1), ('vt100', 1), ('vtable', 1), ('vtbl', 1), ('w2k', 1), ('w3wp', 1), ('wacom', 1), ('wade', 1), ('waitany', 1), ('waitcommand', 1), ('waitforany', 1), ('waitforinstallerservicetobefree', 1), ('waitforsingelobjectresult', 1), ('waithandles', 1), ('waituntilterminated', 1), ('wakeupidle', 1), ('walks', 1), ('wander', 1), ('warehouse', 1), ('warned', 1), ('wary', 1), ('wasredirected', 1), ('wastes', 1), ('wat', 1), ('watchamacallit', 1), ('watched', 1), ('watcher', 1), ('watches', 1), ('wating', 1), ('waves', 1), ('wb', 1), ('wbr', 1), ('wday', 1), ('wdm', 1), ('wdmguru', 1), ('weakeventpreprocessmessage', 1), ('weaknesses', 1), ('wealth', 1), ('weaving', 1), ('webapplication5', 1), ('webbrowserrefreshoption', 1), ('webcam', 1), ('webclient', 1), ('webcrawler', 1), ('webdev', 1), ('webexception', 1), ('webget', 1), ('webistesettings', 1), ('webmail', 1), ('webpart', 1), ('webprojects', 1), ('webqueryopen', 1), ('webroot', 1), ('websiteaction', 1), ('webstarting', 1), ('webview', 1), ('wed', 1), ('wedge', 1), ('weed', 1), ('week1', 1), ('weekdays', 1), ('weekly', 1), ('weel', 1), ('weeny', 1), ('weighs', 1), ('weirdly', 1), ('weirdness', 1), ('welcome123', 1), ('wep', 1), ('wes', 1), ('wh', 1), ('whateverittakestopaintthispieceofthemap', 1), ('whateverobject', 1), ('whatnot', 1), ('whcih', 1), ('wheels', 1), ('whereever', 1), ('whereselectlistiterator', 1), ('whim', 1), ('whiskey', 1), ('whit', 1), ('whitespaces', 1), ('whith', 1), ('whn', 1), ('whopping', 1), ('whould', 1), ('wicked', 1), ('wickedweather', 1), ('wid', 1), ('wider', 1), ('widths', 1), ('wil', 1), ('willy', 1), ('wilson', 1), ('win2003', 1), ('win2k', 1), ('winbutton', 1), ('wincontrols', 1), ('wind', 1), ('windings', 1), ('windowcreated', 1), ('windowdestroyed', 1), ('windowsbase', 1), ('windowservice', 1), ('windowsidentity', 1), ('windowsmobile', 1), ('windowsxp', 1), ('winexe', 1), ('winmain', 1), ('winmobile', 1), ('winnars', 1), ('winning', 1), ('winspool', 1), ('winsta0', 1), ('winword', 1), ('wipe', 1), ('wished', 1), ('wishes', 1), ('wishlist', 1), ('wit', 1), ('withdraw', 1), ('withdrawn', 1), ('wizards', 1), ('wlan', 1), ('wmp', 1), ('wobble', 1), ('wonderings', 1), ('wonders', 1), ('wonky', 1), ('woo', 1), ('woodstock', 1), ('word1', 1), ('word2', 1), ('word2007', 1), ('word3', 1), ('word4', 1), ('wording', 1), ('workable', 1), ('workarea', 1), ('workbooks', 1), ('workers', 1), ('workerthreadentrypoint', 1), ('workes', 1), ('workflowstep', 1), ('workforce', 1), ('workgroup', 1), ('workid', 1), ('workload', 1), ('workshops', 1), ('worktask', 1), ('worktasks', 1), ('worlds', 1), ('worldwide', 1), ('worries', 1), ('worrying', 1), ('worthington', 1), ('wow', 1), ('wpa', 1), ('wparam', 1), ('wrappanel', 1), ('wrapscan', 1), ('wretched', 1), ('writecdata', 1), ('writeentry', 1), ('writeint', 1), ('writestartdocument', 1), ('writeutf', 1), ('writting', 1), ('wrt', 1), ('ws2007httpbinding', 1), ('wsdl2java', 1), ('wsh', 1), ('wshowwindow', 1), ('wshttpbinding', 1), ('wsp', 1), ('wtf', 1), ('wtp', 1), ('wtsclientaddress', 1), ('wtsquerysessioninformation', 1), ('wwwww', 1), ('wxagg', 1), ('wxdebug', 1), ('wxmsw28d', 1), ('wxusingdll', 1), ('wysiwig', 1), ('x11', 1), ('x80', 1), ('xargs', 1), ('xbap', 1), ('xbscript', 1), ('xen', 1), ('xenomai', 1), ('xeon', 1), ('xff', 1), ('xflow', 1), ('xfree86', 1), ('xgc', 1), ('xi', 1), ('xlang', 1), ('xmlconfigurator', 1), ('xmldiff', 1), ('xmlencoder', 1), ('xmlfiles', 1), ('xmlinterpreter', 1), ('xmllogger', 1), ('xmlnodelist', 1), ('xmlrootattribute', 1), ('xmlsitemapreader', 1), ('xmlspy', 1), ('xmltabletest', 1), ('xmlurlresolver', 1), ('xmlwatcher', 1), ('xmlwritersettings', 1), ('xmpp', 1), ('xms', 1), ('xmx', 1), ('xna', 1), ('xnet', 1), ('xor', 1), ('xpm', 1), ('xptrs', 1), ('xref', 1), ('xsi', 1), ('xsltsettings', 1), ('xsrf', 1), ('xtype', 1), ('xxxxxx', 1), ('xxxxxxxxxxxxxxxx', 1), ('xyzzy', 1), ('xz', 1), ('y', 1), ('yadda', 1), ('yc', 1), ('yday', 1), ('yegge', 1), ('yep', 1), ('yikes', 1), ('yml', 1), ('yoawa', 1), ('yourcontext', 1), ('ypage', 1), ('ypnos', 1), ('yrs', 1), ('yu', 1), ('yuck', 1), ('yui', 1), ('yum', 1), ('yâ', 1), ('zabbix', 1), ('zac', 1), ('zach', 1), ('zbuffer', 1), ('zi', 1), ('zipcode', 1), ('zipentry', 1), ('zipped', 1), ('zips', 1), ('zk', 1), ('zkoss', 1), ('zones', 1), ('zoomed', 1), ('zp8', 1), ('~^', 1), ('~{~', 1), ('~}~', 1), ('\\x88', 1), ('\\x89', 1), ('\\x8a', 1), ('\\x8b', 1), ('\\x92', 1), ('\\x93', 1), ('\\x94', 1), ('\\x95', 1), ('\\x96', 1), ('\\x97', 1), ('\\x99', 1), ('\\x9a', 1), ('\\x9b', 1), ('¢', 1), ('£', 1), ('¤', 1), ('«', 1), ('\\xad', 1), ('°', 1), ('±', 1), ('´~', 1), ('âº', 1), ('ãªã', 1)]\n"
     ]
    }
   ],
   "source": [
    "freqs = zip(bow_transform.get_feature_names_out(), X_tr_bow.sum(axis=0).tolist()[0])    \n",
    "# sort from largest to smallest\n",
    "print(sorted(freqs, key=lambda x: -x[1]))"
   ]
  },
  {
   "cell_type": "markdown",
   "id": "46e5662d",
   "metadata": {},
   "source": [
    "I think this means \"gt\" (greater than?) appears in 2062 of our questions, \"lt\" (less than?) in 1972 of our questions, \"would\" in 1492 of them, etc."
   ]
  },
  {
   "cell_type": "code",
   "execution_count": 60,
   "id": "c088efa4",
   "metadata": {},
   "outputs": [],
   "source": [
    "X_te_bow = bow_transform.transform(test_data['Body_Cleaned'])"
   ]
  },
  {
   "cell_type": "code",
   "execution_count": 61,
   "id": "d2130f96",
   "metadata": {},
   "outputs": [],
   "source": [
    "y_tr = training_data['Closed']\n",
    "y_te = test_data['Closed']"
   ]
  },
  {
   "cell_type": "code",
   "execution_count": null,
   "id": "18792f4f",
   "metadata": {},
   "outputs": [],
   "source": []
  },
  {
   "cell_type": "markdown",
   "id": "5d40dc21",
   "metadata": {},
   "source": [
    "## Text-frequency, inverse document frequency (TF-IDF) bits"
   ]
  },
  {
   "cell_type": "code",
   "execution_count": 62,
   "id": "76463547",
   "metadata": {},
   "outputs": [],
   "source": [
    "tfidf_transform = text.TfidfTransformer(norm=None)\n",
    "X_tr_tfidf_fit = tfidf_transform.fit(X_tr_bow)"
   ]
  },
  {
   "cell_type": "markdown",
   "id": "7430f174",
   "metadata": {},
   "source": [
    "Double check how many \"features\" (words) went into the tf-idf counting."
   ]
  },
  {
   "cell_type": "code",
   "execution_count": 63,
   "id": "32b35353",
   "metadata": {},
   "outputs": [
    {
     "data": {
      "text/plain": [
       "16641"
      ]
     },
     "execution_count": 63,
     "metadata": {},
     "output_type": "execute_result"
    }
   ],
   "source": [
    "tfidf_transform.n_features_in_"
   ]
  },
  {
   "cell_type": "code",
   "execution_count": 64,
   "id": "f05a5af6",
   "metadata": {},
   "outputs": [
    {
     "data": {
      "text/html": [
       "<div>\n",
       "<style scoped>\n",
       "    .dataframe tbody tr th:only-of-type {\n",
       "        vertical-align: middle;\n",
       "    }\n",
       "\n",
       "    .dataframe tbody tr th {\n",
       "        vertical-align: top;\n",
       "    }\n",
       "\n",
       "    .dataframe thead th {\n",
       "        text-align: right;\n",
       "    }\n",
       "</style>\n",
       "<table border=\"1\" class=\"dataframe\">\n",
       "  <thead>\n",
       "    <tr style=\"text-align: right;\">\n",
       "      <th></th>\n",
       "      <th>idf_weights</th>\n",
       "    </tr>\n",
       "  </thead>\n",
       "  <tbody>\n",
       "    <tr>\n",
       "      <th>like</th>\n",
       "      <td>2.224461</td>\n",
       "    </tr>\n",
       "    <tr>\n",
       "      <th>would</th>\n",
       "      <td>2.234227</td>\n",
       "    </tr>\n",
       "    <tr>\n",
       "      <th>using</th>\n",
       "      <td>2.311738</td>\n",
       "    </tr>\n",
       "    <tr>\n",
       "      <th>way</th>\n",
       "      <td>2.447848</td>\n",
       "    </tr>\n",
       "    <tr>\n",
       "      <th>use</th>\n",
       "      <td>2.532763</td>\n",
       "    </tr>\n",
       "    <tr>\n",
       "      <th>...</th>\n",
       "      <td>...</td>\n",
       "    </tr>\n",
       "    <tr>\n",
       "      <th>interlocked</th>\n",
       "      <td>8.467657</td>\n",
       "    </tr>\n",
       "    <tr>\n",
       "      <th>intermingle</th>\n",
       "      <td>8.467657</td>\n",
       "    </tr>\n",
       "    <tr>\n",
       "      <th>intermingled</th>\n",
       "      <td>8.467657</td>\n",
       "    </tr>\n",
       "    <tr>\n",
       "      <th>intergrating</th>\n",
       "      <td>8.467657</td>\n",
       "    </tr>\n",
       "    <tr>\n",
       "      <th>ä</th>\n",
       "      <td>8.467657</td>\n",
       "    </tr>\n",
       "  </tbody>\n",
       "</table>\n",
       "<p>16641 rows × 1 columns</p>\n",
       "</div>"
      ],
      "text/plain": [
       "              idf_weights\n",
       "like             2.224461\n",
       "would            2.234227\n",
       "using            2.311738\n",
       "way              2.447848\n",
       "use              2.532763\n",
       "...                   ...\n",
       "interlocked      8.467657\n",
       "intermingle      8.467657\n",
       "intermingled     8.467657\n",
       "intergrating     8.467657\n",
       "ä                8.467657\n",
       "\n",
       "[16641 rows x 1 columns]"
      ]
     },
     "execution_count": 64,
     "metadata": {},
     "output_type": "execute_result"
    }
   ],
   "source": [
    "df_idf = pd.DataFrame(X_tr_tfidf_fit.idf_, index=bow_transform.get_feature_names_out(), columns=[\"idf_weights\"])\n",
    "df_idf.sort_values(by=['idf_weights'])"
   ]
  },
  {
   "cell_type": "markdown",
   "id": "5ebf27e1",
   "metadata": {},
   "source": [
    "A lower idf (inverse document frequency) means the word appears frequently across all documents (and thus isn't very unique). A higher idf means the word appears less frequently across documents (and so the word is being used in a more unique context)."
   ]
  },
  {
   "cell_type": "code",
   "execution_count": 65,
   "id": "e490d408",
   "metadata": {},
   "outputs": [],
   "source": [
    "tf_idf_vector = tfidf_transform.transform(X_tr_bow)"
   ]
  },
  {
   "cell_type": "code",
   "execution_count": null,
   "id": "73f7dbfb",
   "metadata": {},
   "outputs": [],
   "source": []
  },
  {
   "cell_type": "code",
   "execution_count": 66,
   "id": "c8618f48",
   "metadata": {},
   "outputs": [
    {
     "data": {
      "text/html": [
       "<div>\n",
       "<style scoped>\n",
       "    .dataframe tbody tr th:only-of-type {\n",
       "        vertical-align: middle;\n",
       "    }\n",
       "\n",
       "    .dataframe tbody tr th {\n",
       "        vertical-align: top;\n",
       "    }\n",
       "\n",
       "    .dataframe thead th {\n",
       "        text-align: right;\n",
       "    }\n",
       "</style>\n",
       "<table border=\"1\" class=\"dataframe\">\n",
       "  <thead>\n",
       "    <tr style=\"text-align: right;\">\n",
       "      <th></th>\n",
       "      <th>tfidf</th>\n",
       "    </tr>\n",
       "  </thead>\n",
       "  <tbody>\n",
       "    <tr>\n",
       "      <th>234</th>\n",
       "      <td>8.467657</td>\n",
       "    </tr>\n",
       "    <tr>\n",
       "      <th>asdf</th>\n",
       "      <td>8.062192</td>\n",
       "    </tr>\n",
       "    <tr>\n",
       "      <th>cookie</th>\n",
       "      <td>6.595855</td>\n",
       "    </tr>\n",
       "    <tr>\n",
       "      <th>session</th>\n",
       "      <td>5.100361</td>\n",
       "    </tr>\n",
       "    <tr>\n",
       "      <th>mean</th>\n",
       "      <td>4.898124</td>\n",
       "    </tr>\n",
       "    <tr>\n",
       "      <th>browser</th>\n",
       "      <td>4.741963</td>\n",
       "    </tr>\n",
       "    <tr>\n",
       "      <th>stored</th>\n",
       "      <td>4.516413</td>\n",
       "    </tr>\n",
       "    <tr>\n",
       "      <th>client</th>\n",
       "      <td>4.212044</td>\n",
       "    </tr>\n",
       "    <tr>\n",
       "      <th>write</th>\n",
       "      <td>3.945868</td>\n",
       "    </tr>\n",
       "    <tr>\n",
       "      <th>asp</th>\n",
       "      <td>3.857499</td>\n",
       "    </tr>\n",
       "    <tr>\n",
       "      <th>app</th>\n",
       "      <td>3.740269</td>\n",
       "    </tr>\n",
       "    <tr>\n",
       "      <th>web</th>\n",
       "      <td>3.349663</td>\n",
       "    </tr>\n",
       "    <tr>\n",
       "      <th>net</th>\n",
       "      <td>3.036121</td>\n",
       "    </tr>\n",
       "  </tbody>\n",
       "</table>\n",
       "</div>"
      ],
      "text/plain": [
       "            tfidf\n",
       "234      8.467657\n",
       "asdf     8.062192\n",
       "cookie   6.595855\n",
       "session  5.100361\n",
       "mean     4.898124\n",
       "browser  4.741963\n",
       "stored   4.516413\n",
       "client   4.212044\n",
       "write    3.945868\n",
       "asp      3.857499\n",
       "app      3.740269\n",
       "web      3.349663\n",
       "net      3.036121"
      ]
     },
     "execution_count": 66,
     "metadata": {},
     "output_type": "execute_result"
    }
   ],
   "source": [
    "indiv_document_vector = tf_idf_vector[0]\n",
    "df = pd.DataFrame(indiv_document_vector.T.todense(), index=bow_transform.get_feature_names_out(), columns=['tfidf'])\n",
    "df.sort_values(by=[\"tfidf\"], ascending=False)[0:13]"
   ]
  },
  {
   "cell_type": "code",
   "execution_count": 67,
   "id": "e0bc6d6e",
   "metadata": {},
   "outputs": [
    {
     "data": {
      "text/plain": [
       "<1x16641 sparse matrix of type '<class 'numpy.int64'>'\n",
       "\twith 13 stored elements in Compressed Sparse Row format>"
      ]
     },
     "execution_count": 67,
     "metadata": {},
     "output_type": "execute_result"
    }
   ],
   "source": [
    "X_tr_bow[0]"
   ]
  },
  {
   "cell_type": "markdown",
   "id": "bc6b5ee6",
   "metadata": {},
   "source": [
    "The above table means (I think) there are thirteen words in this particular question from the training data. Those words tfidf values gives a sense of how important the words in that question are compared to all the other questions in the training data. Tfidf multiplies tf by idf, so high tf (word appears in a lot of questions) multiplied by high idf (word is more unique) yields high tfidf, meaning the word is really important. "
   ]
  },
  {
   "cell_type": "code",
   "execution_count": null,
   "id": "0dae813d",
   "metadata": {},
   "outputs": [],
   "source": []
  },
  {
   "cell_type": "markdown",
   "id": "e360a615",
   "metadata": {},
   "source": [
    "Okay, now let's finish the actual setup for the tfidf bits."
   ]
  },
  {
   "cell_type": "code",
   "execution_count": 68,
   "id": "e1c891fa",
   "metadata": {},
   "outputs": [],
   "source": [
    "tfidf_transform = text.TfidfTransformer(norm=None)\n",
    "X_tr_tfidf = tfidf_transform.fit_transform(X_tr_bow)"
   ]
  },
  {
   "cell_type": "code",
   "execution_count": 69,
   "id": "cc57332f",
   "metadata": {},
   "outputs": [],
   "source": [
    "X_te_tfidf = tfidf_transform.transform(X_te_bow)"
   ]
  },
  {
   "cell_type": "markdown",
   "id": "6874efcb",
   "metadata": {},
   "source": [
    "## And now for the logistic regression"
   ]
  },
  {
   "cell_type": "code",
   "execution_count": 70,
   "id": "aacb7b41",
   "metadata": {},
   "outputs": [],
   "source": [
    "def simple_logistic_classify(X_tr, y_tr, X_test, y_test, description, _C=1.0):\n",
    "    model = LogisticRegression(C=_C).fit(X_tr, y_tr)\n",
    "    score = model.score(X_test, y_test)\n",
    "    print('Test Score with', description, 'features', score)\n",
    "    return model"
   ]
  },
  {
   "cell_type": "code",
   "execution_count": 71,
   "id": "97c2926e",
   "metadata": {},
   "outputs": [
    {
     "name": "stdout",
     "output_type": "stream",
     "text": [
      "Test Score with bow features 0.9226666666666666\n",
      "Test Score with tf-idf features 0.9073333333333333\n"
     ]
    }
   ],
   "source": [
    "model_bow = simple_logistic_classify(X_tr_bow, y_tr, X_te_bow, y_te, 'bow')\n",
    "model_tfidf = simple_logistic_classify(X_tr_tfidf, y_tr, X_te_tfidf, y_te, 'tf-idf')"
   ]
  },
  {
   "cell_type": "markdown",
   "id": "b01b2b72",
   "metadata": {},
   "source": [
    "From the documentation for LogisticRegression, 'score' returns the mean accuracy on the given test data and labels. Given that the mean accuracy is higher for bag of words' features, I think this means the important features from bag of words (the words that appear the most number of times) are slightly better at predicting if a question is closed than the important features from tfidf."
   ]
  },
  {
   "cell_type": "markdown",
   "id": "0cb1357c",
   "metadata": {},
   "source": [
    "We can vary the C parameter in the logistic regression to make sure we aren't overfitting (I think?). I had to include a max_iter on LogisticRegression() here (on both searches) because the default max_iter=100 wasn't converging. Uncertain how/if this will need to change for the larger dataset."
   ]
  },
  {
   "cell_type": "code",
   "execution_count": 72,
   "id": "35fb466b",
   "metadata": {},
   "outputs": [],
   "source": [
    "param_grid_ = {'C': [1e-5, 1e-3, 1e-1, 1e0, 1e1, 1e2]}\n",
    "bow_search = sklearn.model_selection.GridSearchCV(LogisticRegression(max_iter=1000), cv=5, param_grid=param_grid_)\n",
    "tfidf_search = sklearn.model_selection.GridSearchCV(LogisticRegression(max_iter=1000), cv=5,\n",
    "                                   param_grid=param_grid_)"
   ]
  },
  {
   "cell_type": "code",
   "execution_count": 73,
   "id": "d98c6601",
   "metadata": {},
   "outputs": [
    {
     "data": {
      "text/plain": [
       "GridSearchCV(cv=5, estimator=LogisticRegression(max_iter=1000),\n",
       "             param_grid={'C': [1e-05, 0.001, 0.1, 1.0, 10.0, 100.0]})"
      ]
     },
     "execution_count": 73,
     "metadata": {},
     "output_type": "execute_result"
    }
   ],
   "source": [
    "bow_search.fit(X_tr_bow, y_tr)"
   ]
  },
  {
   "cell_type": "code",
   "execution_count": 74,
   "id": "efd71210",
   "metadata": {},
   "outputs": [
    {
     "data": {
      "text/plain": [
       "0.9237142857142857"
      ]
     },
     "execution_count": 74,
     "metadata": {},
     "output_type": "execute_result"
    }
   ],
   "source": [
    "bow_search.best_score_"
   ]
  },
  {
   "cell_type": "code",
   "execution_count": 75,
   "id": "0449b471",
   "metadata": {},
   "outputs": [
    {
     "data": {
      "text/plain": [
       "GridSearchCV(cv=5, estimator=LogisticRegression(max_iter=1000),\n",
       "             param_grid={'C': [1e-05, 0.001, 0.1, 1.0, 10.0, 100.0]})"
      ]
     },
     "execution_count": 75,
     "metadata": {},
     "output_type": "execute_result"
    }
   ],
   "source": [
    "tfidf_search.fit(X_tr_tfidf, y_tr)"
   ]
  },
  {
   "cell_type": "code",
   "execution_count": 76,
   "id": "878809aa",
   "metadata": {},
   "outputs": [
    {
     "data": {
      "text/plain": [
       "0.9237142857142857"
      ]
     },
     "execution_count": 76,
     "metadata": {},
     "output_type": "execute_result"
    }
   ],
   "source": [
    "tfidf_search.best_score_"
   ]
  },
  {
   "cell_type": "code",
   "execution_count": 77,
   "id": "7d3c4acd",
   "metadata": {},
   "outputs": [
    {
     "data": {
      "text/plain": [
       "{'C': 1e-05}"
      ]
     },
     "execution_count": 77,
     "metadata": {},
     "output_type": "execute_result"
    }
   ],
   "source": [
    "bow_search.best_params_"
   ]
  },
  {
   "cell_type": "code",
   "execution_count": 78,
   "id": "88c7781e",
   "metadata": {},
   "outputs": [
    {
     "data": {
      "text/plain": [
       "{'C': 1e-05}"
      ]
     },
     "execution_count": 78,
     "metadata": {},
     "output_type": "execute_result"
    }
   ],
   "source": [
    "tfidf_search.best_params_"
   ]
  },
  {
   "cell_type": "markdown",
   "id": "df740db2",
   "metadata": {},
   "source": [
    "Both of the models have the same 'best score' and the same best C parameter, which gives me some pause. The C parameter is also quite small, meaning there's a lot of regularization..."
   ]
  },
  {
   "cell_type": "code",
   "execution_count": 79,
   "id": "2af2019e",
   "metadata": {},
   "outputs": [
    {
     "data": {
      "text/plain": [
       "{'mean_fit_time': array([0.13994527, 0.19269104, 0.2686182 , 0.46103559, 0.63813329,\n",
       "        0.92204189]),\n",
       " 'std_fit_time': array([0.01740549, 0.08705331, 0.03206313, 0.04812845, 0.0533327 ,\n",
       "        0.08260784]),\n",
       " 'mean_score_time': array([0.00219879, 0.00048599, 0.00096436, 0.00158262, 0.00118384,\n",
       "        0.0017252 ]),\n",
       " 'std_score_time': array([0.00312075, 0.00080517, 0.00050893, 0.00172784, 0.00119247,\n",
       "        0.00032326]),\n",
       " 'param_C': masked_array(data=[1e-05, 0.001, 0.1, 1.0, 10.0, 100.0],\n",
       "              mask=[False, False, False, False, False, False],\n",
       "        fill_value='?',\n",
       "             dtype=object),\n",
       " 'params': [{'C': 1e-05},\n",
       "  {'C': 0.001},\n",
       "  {'C': 0.1},\n",
       "  {'C': 1.0},\n",
       "  {'C': 10.0},\n",
       "  {'C': 100.0}],\n",
       " 'split0_test_score': array([0.92428571, 0.92428571, 0.92142857, 0.91428571, 0.89      ,\n",
       "        0.87571429]),\n",
       " 'split1_test_score': array([0.92428571, 0.92428571, 0.92285714, 0.91571429, 0.91      ,\n",
       "        0.9       ]),\n",
       " 'split2_test_score': array([0.92428571, 0.92428571, 0.92142857, 0.91714286, 0.90571429,\n",
       "        0.91      ]),\n",
       " 'split3_test_score': array([0.92285714, 0.92285714, 0.91714286, 0.91714286, 0.91142857,\n",
       "        0.89857143]),\n",
       " 'split4_test_score': array([0.92285714, 0.92285714, 0.93      , 0.92142857, 0.90285714,\n",
       "        0.88714286]),\n",
       " 'mean_test_score': array([0.92371429, 0.92371429, 0.92257143, 0.91714286, 0.904     ,\n",
       "        0.89428571]),\n",
       " 'std_test_score': array([0.00069985, 0.00069985, 0.00417964, 0.00239046, 0.00763451,\n",
       "        0.0117803 ]),\n",
       " 'rank_test_score': array([1, 1, 3, 4, 5, 6])}"
      ]
     },
     "execution_count": 79,
     "metadata": {},
     "output_type": "execute_result"
    }
   ],
   "source": [
    "bow_search.cv_results_"
   ]
  },
  {
   "cell_type": "code",
   "execution_count": 80,
   "id": "f094997a",
   "metadata": {},
   "outputs": [
    {
     "data": {
      "text/html": [
       "<div>\n",
       "<style scoped>\n",
       "    .dataframe tbody tr th:only-of-type {\n",
       "        vertical-align: middle;\n",
       "    }\n",
       "\n",
       "    .dataframe tbody tr th {\n",
       "        vertical-align: top;\n",
       "    }\n",
       "\n",
       "    .dataframe thead th {\n",
       "        text-align: right;\n",
       "    }\n",
       "</style>\n",
       "<table border=\"1\" class=\"dataframe\">\n",
       "  <thead>\n",
       "    <tr style=\"text-align: right;\">\n",
       "      <th></th>\n",
       "      <th>bow</th>\n",
       "      <th>tfidf</th>\n",
       "    </tr>\n",
       "  </thead>\n",
       "  <tbody>\n",
       "    <tr>\n",
       "      <th>0</th>\n",
       "      <td>0.923714</td>\n",
       "      <td>0.923714</td>\n",
       "    </tr>\n",
       "    <tr>\n",
       "      <th>1</th>\n",
       "      <td>0.923714</td>\n",
       "      <td>0.923714</td>\n",
       "    </tr>\n",
       "    <tr>\n",
       "      <th>2</th>\n",
       "      <td>0.922571</td>\n",
       "      <td>0.916857</td>\n",
       "    </tr>\n",
       "    <tr>\n",
       "      <th>3</th>\n",
       "      <td>0.917143</td>\n",
       "      <td>0.907429</td>\n",
       "    </tr>\n",
       "    <tr>\n",
       "      <th>4</th>\n",
       "      <td>0.904000</td>\n",
       "      <td>0.892857</td>\n",
       "    </tr>\n",
       "    <tr>\n",
       "      <th>5</th>\n",
       "      <td>0.894286</td>\n",
       "      <td>0.885143</td>\n",
       "    </tr>\n",
       "  </tbody>\n",
       "</table>\n",
       "</div>"
      ],
      "text/plain": [
       "        bow     tfidf\n",
       "0  0.923714  0.923714\n",
       "1  0.923714  0.923714\n",
       "2  0.922571  0.916857\n",
       "3  0.917143  0.907429\n",
       "4  0.904000  0.892857\n",
       "5  0.894286  0.885143"
      ]
     },
     "execution_count": 80,
     "metadata": {},
     "output_type": "execute_result"
    }
   ],
   "source": [
    "search_results = pd.DataFrame.from_dict({'bow': bow_search.cv_results_['mean_test_score'],\n",
    "                               'tfidf': tfidf_search.cv_results_['mean_test_score']})\n",
    "search_results"
   ]
  },
  {
   "cell_type": "code",
   "execution_count": 81,
   "id": "d3bf13fd",
   "metadata": {},
   "outputs": [
    {
     "data": {
      "image/png": "[encoded data removed]",
      "text/plain": [
       "<Figure size 432x288 with 1 Axes>"
      ]
     },
     "metadata": {
      "needs_background": "light"
     },
     "output_type": "display_data"
    }
   ],
   "source": [
    "%matplotlib inline\n",
    "ax = sns.boxplot(data=search_results, width=0.4)\n",
    "ax.set_ylabel('Accuracy', size=14)\n",
    "ax.tick_params(labelsize=14)"
   ]
  },
  {
   "cell_type": "code",
   "execution_count": 82,
   "id": "508bf201",
   "metadata": {},
   "outputs": [
    {
     "name": "stdout",
     "output_type": "stream",
     "text": [
      "Test Score with bow features 0.9233333333333333\n",
      "Test Score with tf-idf features 0.9233333333333333\n"
     ]
    }
   ],
   "source": [
    "model_bow = simple_logistic_classify(X_tr_bow, y_tr, X_te_bow, y_te, 'bow', \n",
    "                              _C=bow_search.best_params_['C'])\n",
    "model_tfidf = simple_logistic_classify(X_tr_tfidf, y_tr, X_te_tfidf, y_te, 'tf-idf', \n",
    "                              _C=tfidf_search.best_params_['C'])"
   ]
  },
  {
   "cell_type": "code",
   "execution_count": null,
   "id": "d9a88b31",
   "metadata": {},
   "outputs": [],
   "source": []
  },
  {
   "cell_type": "code",
   "execution_count": null,
   "id": "44fda990",
   "metadata": {},
   "outputs": [],
   "source": []
  },
  {
   "cell_type": "code",
   "execution_count": null,
   "id": "7b6eb474",
   "metadata": {},
   "outputs": [],
   "source": []
  }
 ],
 "metadata": {
  "kernelspec": {
   "display_name": "Python 3 (ipykernel)",
   "language": "python",
   "name": "python3"
  },
  "language_info": {
   "codemirror_mode": {
    "name": "ipython",
    "version": 3
   },
   "file_extension": ".py",
   "mimetype": "text/x-python",
   "name": "python",
   "nbconvert_exporter": "python",
   "pygments_lexer": "ipython3",
   "version": "3.8.5"
  }
 },
 "nbformat": 4,
 "nbformat_minor": 5
}
