{
 "cells": [
  {
   "cell_type": "markdown",
   "id": "3a7a847e",
   "metadata": {},
   "source": [
    "Jupyter notebook for project\n",
    "\n",
    "NLP applied to Kaggle dataset\n",
    "Dataset here:\n",
    "https://www.kaggle.com/datasets/stackoverflow/stacksample\n",
    "\n",
    "Relevant NLP example:\n",
    "https://github.com/Idilismiguzel/NLP-with-Python/blob/master/Text-Classification.ipynb\n",
    "\n",
    "Possible BERT reference:\n",
    "https://www.tensorflow.org/text/tutorials/classify_text_with_bert\n",
    "\n"
   ]
  },
  {
   "cell_type": "code",
   "execution_count": 2,
   "id": "48b39707",
   "metadata": {},
   "outputs": [],
   "source": [
    "import pandas as pd\n",
    "import numpy as np\n",
    "import matplotlib.pyplot as plt\n",
    "import seaborn as sns\n",
    "from seaborn import set_style\n",
    "\n",
    "set_style(\"whitegrid\")"
   ]
  },
  {
   "cell_type": "markdown",
   "id": "c40458a7",
   "metadata": {},
   "source": [
    "## Read in the data (part of it) and just look at it for a bit"
   ]
  },
  {
   "cell_type": "code",
   "execution_count": 3,
   "id": "153fa480",
   "metadata": {},
   "outputs": [],
   "source": [
    "questions = pd.read_csv(\"archive/Questions.csv\", encoding = \"ISO-8859-1\", nrows=5000)\n",
    "#answers = pd.read_csv(\"archive/Answers.csv\", encoding = \"ISO-8859-1\", nrows=5000)\n",
    "#tags = pd.read_csv(\"archive/Tags.csv\", encoding = \"ISO-8859-1\", nrows=5000)"
   ]
  },
  {
   "cell_type": "code",
   "execution_count": 4,
   "id": "8e92d241",
   "metadata": {},
   "outputs": [
    {
     "data": {
      "text/html": [
       "<div>\n",
       "<style scoped>\n",
       "    .dataframe tbody tr th:only-of-type {\n",
       "        vertical-align: middle;\n",
       "    }\n",
       "\n",
       "    .dataframe tbody tr th {\n",
       "        vertical-align: top;\n",
       "    }\n",
       "\n",
       "    .dataframe thead th {\n",
       "        text-align: right;\n",
       "    }\n",
       "</style>\n",
       "<table border=\"1\" class=\"dataframe\">\n",
       "  <thead>\n",
       "    <tr style=\"text-align: right;\">\n",
       "      <th></th>\n",
       "      <th>Id</th>\n",
       "      <th>OwnerUserId</th>\n",
       "      <th>CreationDate</th>\n",
       "      <th>ClosedDate</th>\n",
       "      <th>Score</th>\n",
       "      <th>Title</th>\n",
       "      <th>Body</th>\n",
       "    </tr>\n",
       "  </thead>\n",
       "  <tbody>\n",
       "    <tr>\n",
       "      <th>2439</th>\n",
       "      <td>194650</td>\n",
       "      <td>1384652.0</td>\n",
       "      <td>2008-10-11T21:08:57Z</td>\n",
       "      <td>NaN</td>\n",
       "      <td>7</td>\n",
       "      <td>2D Javascript array</td>\n",
       "      <td>&lt;p&gt;Simply put, is there a way to create a 2D j...</td>\n",
       "    </tr>\n",
       "    <tr>\n",
       "      <th>4573</th>\n",
       "      <td>326770</td>\n",
       "      <td>39975.0</td>\n",
       "      <td>2008-11-28T22:07:18Z</td>\n",
       "      <td>NaN</td>\n",
       "      <td>5</td>\n",
       "      <td>How can I dynamically get the set of classes f...</td>\n",
       "      <td>&lt;p&gt;I have a python module that defines a numbe...</td>\n",
       "    </tr>\n",
       "    <tr>\n",
       "      <th>2152</th>\n",
       "      <td>174380</td>\n",
       "      <td>25492.0</td>\n",
       "      <td>2008-10-06T13:55:30Z</td>\n",
       "      <td>NaN</td>\n",
       "      <td>3</td>\n",
       "      <td>Spring webflow : Move through view states</td>\n",
       "      <td>&lt;p&gt;Within a spring webflow, i need to implemen...</td>\n",
       "    </tr>\n",
       "    <tr>\n",
       "      <th>3689</th>\n",
       "      <td>274770</td>\n",
       "      <td>12252.0</td>\n",
       "      <td>2008-11-08T14:24:31Z</td>\n",
       "      <td>NaN</td>\n",
       "      <td>0</td>\n",
       "      <td>Session is lost with login control in Internet...</td>\n",
       "      <td>&lt;p&gt;After logging in using the Login control th...</td>\n",
       "    </tr>\n",
       "    <tr>\n",
       "      <th>3853</th>\n",
       "      <td>284090</td>\n",
       "      <td>6091.0</td>\n",
       "      <td>2008-11-12T14:26:00Z</td>\n",
       "      <td>NaN</td>\n",
       "      <td>5</td>\n",
       "      <td>How to get a ReadOnlyCollection&lt;T&gt; of the Keys...</td>\n",
       "      <td>&lt;p&gt;My class contains a &lt;code&gt;Dictionary&amp;lt;T, ...</td>\n",
       "    </tr>\n",
       "  </tbody>\n",
       "</table>\n",
       "</div>"
      ],
      "text/plain": [
       "          Id  OwnerUserId          CreationDate ClosedDate  Score  \\\n",
       "2439  194650    1384652.0  2008-10-11T21:08:57Z        NaN      7   \n",
       "4573  326770      39975.0  2008-11-28T22:07:18Z        NaN      5   \n",
       "2152  174380      25492.0  2008-10-06T13:55:30Z        NaN      3   \n",
       "3689  274770      12252.0  2008-11-08T14:24:31Z        NaN      0   \n",
       "3853  284090       6091.0  2008-11-12T14:26:00Z        NaN      5   \n",
       "\n",
       "                                                  Title  \\\n",
       "2439                                2D Javascript array   \n",
       "4573  How can I dynamically get the set of classes f...   \n",
       "2152          Spring webflow : Move through view states   \n",
       "3689  Session is lost with login control in Internet...   \n",
       "3853  How to get a ReadOnlyCollection<T> of the Keys...   \n",
       "\n",
       "                                                   Body  \n",
       "2439  <p>Simply put, is there a way to create a 2D j...  \n",
       "4573  <p>I have a python module that defines a numbe...  \n",
       "2152  <p>Within a spring webflow, i need to implemen...  \n",
       "3689  <p>After logging in using the Login control th...  \n",
       "3853  <p>My class contains a <code>Dictionary&lt;T, ...  "
      ]
     },
     "execution_count": 4,
     "metadata": {},
     "output_type": "execute_result"
    }
   ],
   "source": [
    "questions.sample(5, random_state=234)"
   ]
  },
  {
   "cell_type": "code",
   "execution_count": 5,
   "id": "98200dc9",
   "metadata": {},
   "outputs": [
    {
     "name": "stdout",
     "output_type": "stream",
     "text": [
      "<p>Simply put, is there a way to create a 2D javascript array using similar syntax to this?</p>\n",
      "\n",
      "<pre><code>var newArray = [\n",
      "    [0, 1, 2],\n",
      "    [3, 4, 5],\n",
      "    [6, 7, 8]\n",
      "]\n",
      "</code></pre>\n",
      "\n"
     ]
    }
   ],
   "source": [
    "print(questions.iloc[2439].Body)"
   ]
  },
  {
   "cell_type": "code",
   "execution_count": 112,
   "id": "b441e584",
   "metadata": {},
   "outputs": [],
   "source": [
    "#answers.sample(5,random_state=505)"
   ]
  },
  {
   "cell_type": "code",
   "execution_count": 113,
   "id": "ba167f92",
   "metadata": {},
   "outputs": [],
   "source": [
    "#print(answers.iloc[4162].Body)"
   ]
  },
  {
   "cell_type": "code",
   "execution_count": 114,
   "id": "9d6354f3",
   "metadata": {},
   "outputs": [],
   "source": [
    "#tags.sample(5, random_state=23)"
   ]
  },
  {
   "cell_type": "markdown",
   "id": "5e66b10a",
   "metadata": {},
   "source": [
    "## Confirm we actually read in as many rows as we thought, then count how many of those questions have been closed"
   ]
  },
  {
   "cell_type": "code",
   "execution_count": 6,
   "id": "aea725a7",
   "metadata": {},
   "outputs": [
    {
     "data": {
      "text/plain": [
       "5000"
      ]
     },
     "execution_count": 6,
     "metadata": {},
     "output_type": "execute_result"
    }
   ],
   "source": [
    "np.shape(questions)[0]"
   ]
  },
  {
   "cell_type": "code",
   "execution_count": 7,
   "id": "c16a179a",
   "metadata": {},
   "outputs": [
    {
     "name": "stdout",
     "output_type": "stream",
     "text": [
      "4618\n"
     ]
    }
   ],
   "source": [
    "count = 0\n",
    "for i in range(0,np.shape(questions)[0]):\n",
    "    if pd.isna(questions.iloc[i].ClosedDate):\n",
    "        count = count+1\n",
    "        \n",
    "print(count)"
   ]
  },
  {
   "cell_type": "code",
   "execution_count": 8,
   "id": "0c7d2296",
   "metadata": {},
   "outputs": [
    {
     "data": {
      "text/plain": [
       "382"
      ]
     },
     "execution_count": 8,
     "metadata": {},
     "output_type": "execute_result"
    }
   ],
   "source": [
    "np.shape(questions)[0] - count"
   ]
  },
  {
   "cell_type": "code",
   "execution_count": 9,
   "id": "7bc84f38",
   "metadata": {},
   "outputs": [
    {
     "name": "stderr",
     "output_type": "stream",
     "text": [
      "D:\\anaconda3\\lib\\site-packages\\pandas\\core\\indexing.py:1732: SettingWithCopyWarning: \n",
      "A value is trying to be set on a copy of a slice from a DataFrame\n",
      "\n",
      "See the caveats in the documentation: https://pandas.pydata.org/pandas-docs/stable/user_guide/indexing.html#returning-a-view-versus-a-copy\n",
      "  self._setitem_single_block(indexer, value, name)\n"
     ]
    },
    {
     "data": {
      "text/html": [
       "<div>\n",
       "<style scoped>\n",
       "    .dataframe tbody tr th:only-of-type {\n",
       "        vertical-align: middle;\n",
       "    }\n",
       "\n",
       "    .dataframe tbody tr th {\n",
       "        vertical-align: top;\n",
       "    }\n",
       "\n",
       "    .dataframe thead th {\n",
       "        text-align: right;\n",
       "    }\n",
       "</style>\n",
       "<table border=\"1\" class=\"dataframe\">\n",
       "  <thead>\n",
       "    <tr style=\"text-align: right;\">\n",
       "      <th></th>\n",
       "      <th>Id</th>\n",
       "      <th>OwnerUserId</th>\n",
       "      <th>CreationDate</th>\n",
       "      <th>ClosedDate</th>\n",
       "      <th>Score</th>\n",
       "      <th>Title</th>\n",
       "      <th>Body</th>\n",
       "      <th>Closed</th>\n",
       "    </tr>\n",
       "  </thead>\n",
       "  <tbody>\n",
       "    <tr>\n",
       "      <th>0</th>\n",
       "      <td>80</td>\n",
       "      <td>26.0</td>\n",
       "      <td>2008-08-01T13:57:07Z</td>\n",
       "      <td>NaN</td>\n",
       "      <td>26</td>\n",
       "      <td>SQLStatement.execute() - multiple queries in o...</td>\n",
       "      <td>&lt;p&gt;I've written a database generation script i...</td>\n",
       "      <td>0</td>\n",
       "    </tr>\n",
       "    <tr>\n",
       "      <th>1</th>\n",
       "      <td>90</td>\n",
       "      <td>58.0</td>\n",
       "      <td>2008-08-01T14:41:24Z</td>\n",
       "      <td>2012-12-26T03:45:49Z</td>\n",
       "      <td>144</td>\n",
       "      <td>Good branching and merging tutorials for Torto...</td>\n",
       "      <td>&lt;p&gt;Are there any really good tutorials explain...</td>\n",
       "      <td>1</td>\n",
       "    </tr>\n",
       "    <tr>\n",
       "      <th>2</th>\n",
       "      <td>120</td>\n",
       "      <td>83.0</td>\n",
       "      <td>2008-08-01T15:50:08Z</td>\n",
       "      <td>NaN</td>\n",
       "      <td>21</td>\n",
       "      <td>ASP.NET Site Maps</td>\n",
       "      <td>&lt;p&gt;Has anyone got experience creating &lt;strong&gt;...</td>\n",
       "      <td>0</td>\n",
       "    </tr>\n",
       "    <tr>\n",
       "      <th>3</th>\n",
       "      <td>180</td>\n",
       "      <td>2089740.0</td>\n",
       "      <td>2008-08-01T18:42:19Z</td>\n",
       "      <td>NaN</td>\n",
       "      <td>53</td>\n",
       "      <td>Function for creating color wheels</td>\n",
       "      <td>&lt;p&gt;This is something I've pseudo-solved many t...</td>\n",
       "      <td>0</td>\n",
       "    </tr>\n",
       "    <tr>\n",
       "      <th>4</th>\n",
       "      <td>260</td>\n",
       "      <td>91.0</td>\n",
       "      <td>2008-08-01T23:22:08Z</td>\n",
       "      <td>NaN</td>\n",
       "      <td>49</td>\n",
       "      <td>Adding scripting functionality to .NET applica...</td>\n",
       "      <td>&lt;p&gt;I have a little game written in C#. It uses...</td>\n",
       "      <td>0</td>\n",
       "    </tr>\n",
       "  </tbody>\n",
       "</table>\n",
       "</div>"
      ],
      "text/plain": [
       "    Id  OwnerUserId          CreationDate            ClosedDate  Score  \\\n",
       "0   80         26.0  2008-08-01T13:57:07Z                   NaN     26   \n",
       "1   90         58.0  2008-08-01T14:41:24Z  2012-12-26T03:45:49Z    144   \n",
       "2  120         83.0  2008-08-01T15:50:08Z                   NaN     21   \n",
       "3  180    2089740.0  2008-08-01T18:42:19Z                   NaN     53   \n",
       "4  260         91.0  2008-08-01T23:22:08Z                   NaN     49   \n",
       "\n",
       "                                               Title  \\\n",
       "0  SQLStatement.execute() - multiple queries in o...   \n",
       "1  Good branching and merging tutorials for Torto...   \n",
       "2                                  ASP.NET Site Maps   \n",
       "3                 Function for creating color wheels   \n",
       "4  Adding scripting functionality to .NET applica...   \n",
       "\n",
       "                                                Body  Closed  \n",
       "0  <p>I've written a database generation script i...       0  \n",
       "1  <p>Are there any really good tutorials explain...       1  \n",
       "2  <p>Has anyone got experience creating <strong>...       0  \n",
       "3  <p>This is something I've pseudo-solved many t...       0  \n",
       "4  <p>I have a little game written in C#. It uses...       0  "
      ]
     },
     "execution_count": 9,
     "metadata": {},
     "output_type": "execute_result"
    }
   ],
   "source": [
    "questions['Closed'] = 1\n",
    "for i in range(0,np.shape(questions)[0]):\n",
    "    if pd.isna(questions.iloc[i].ClosedDate):\n",
    "        questions['Closed'].iloc[i] = 0\n",
    "\n",
    "questions.head(5)"
   ]
  },
  {
   "cell_type": "markdown",
   "id": "9d3c400a",
   "metadata": {},
   "source": [
    "## Start looking at the scores. How many of these first 5000 questions have what score?"
   ]
  },
  {
   "cell_type": "code",
   "execution_count": 10,
   "id": "95e7d0b8",
   "metadata": {},
   "outputs": [
    {
     "data": {
      "image/png": "[encoded data removed]",
      "text/plain": [
       "<Figure size 864x360 with 1 Axes>"
      ]
     },
     "metadata": {},
     "output_type": "display_data"
    }
   ],
   "source": [
    "ax = questions['Score'].value_counts()[0:50].plot(kind='bar', figsize=(12,5))\n",
    "fig = ax.get_figure()\n",
    "ax.set_title(\"Stackoverflow Dataset\")\n",
    "ax.set_xlabel('Score')\n",
    "ax.set_ylabel('Value Counts');"
   ]
  },
  {
   "cell_type": "code",
   "execution_count": 11,
   "id": "df2cad9d",
   "metadata": {},
   "outputs": [
    {
     "name": "stdout",
     "output_type": "stream",
     "text": [
      "5000\n"
     ]
    }
   ],
   "source": [
    "totals = questions['Score'].value_counts()\n",
    "\n",
    "numbers = 0\n",
    "for i in range(0,np.shape(totals)[0]):\n",
    "    numbers = numbers + totals.iloc[i]\n",
    "\n",
    "print(numbers)"
   ]
  },
  {
   "cell_type": "code",
   "execution_count": 12,
   "id": "fd8d393c",
   "metadata": {},
   "outputs": [
    {
     "data": {
      "text/plain": [
       "(259,)"
      ]
     },
     "execution_count": 12,
     "metadata": {},
     "output_type": "execute_result"
    }
   ],
   "source": [
    "np.shape(totals)"
   ]
  },
  {
   "cell_type": "code",
   "execution_count": 13,
   "id": "a9cf492e",
   "metadata": {
    "scrolled": true
   },
   "outputs": [
    {
     "name": "stdout",
     "output_type": "stream",
     "text": [
      "1       615\n",
      "2       566\n",
      "0       515\n",
      "3       448\n",
      "4       350\n",
      "       ... \n",
      "114       1\n",
      "192       1\n",
      "446       1\n",
      "367       1\n",
      "5190      1\n",
      "Name: Score, Length: 259, dtype: int64\n"
     ]
    }
   ],
   "source": [
    "print(totals)"
   ]
  },
  {
   "cell_type": "markdown",
   "id": "887b0175",
   "metadata": {},
   "source": [
    "## Find average score for this subset of data"
   ]
  },
  {
   "cell_type": "code",
   "execution_count": 14,
   "id": "cc7529f7",
   "metadata": {},
   "outputs": [
    {
     "name": "stdout",
     "output_type": "stream",
     "text": [
      "Sum of scores for these questions is: 120757\n",
      "Total number of questions is: 5000\n",
      "Number of unique score values is: 259\n"
     ]
    }
   ],
   "source": [
    "print(\"Sum of scores for these questions is:\", questions['Score'].sum())\n",
    "print(\"Total number of questions is:\", np.shape(questions)[0])\n",
    "print(\"Number of unique score values is:\", np.shape(totals)[0])"
   ]
  },
  {
   "cell_type": "code",
   "execution_count": 15,
   "id": "345ca878",
   "metadata": {},
   "outputs": [
    {
     "name": "stdout",
     "output_type": "stream",
     "text": [
      "Mean of these scores is: 24.1514\n",
      "Manual check of that mean: 24.1514\n",
      "Median of these scores is: 4.0\n"
     ]
    }
   ],
   "source": [
    "print(\"Mean of these scores is:\", questions['Score'].mean())\n",
    "print(\"Manual check of that mean:\", questions['Score'].sum()/np.shape(questions)[0])\n",
    "print(\"Median of these scores is:\", questions['Score'].median())"
   ]
  },
  {
   "cell_type": "markdown",
   "id": "ab3828b0",
   "metadata": {},
   "source": [
    "## Is there a connection between \"closed\" and \"score\"?"
   ]
  },
  {
   "cell_type": "code",
   "execution_count": 16,
   "id": "188ca207",
   "metadata": {},
   "outputs": [
    {
     "data": {
      "text/plain": [
       "4618"
      ]
     },
     "execution_count": 16,
     "metadata": {},
     "output_type": "execute_result"
    }
   ],
   "source": [
    "open_questions = questions[pd.isna(questions['ClosedDate'])].copy()\n",
    "np.shape(open_questions)[0]"
   ]
  },
  {
   "cell_type": "code",
   "execution_count": 17,
   "id": "359862dd",
   "metadata": {},
   "outputs": [
    {
     "data": {
      "text/plain": [
       "382"
      ]
     },
     "execution_count": 17,
     "metadata": {},
     "output_type": "execute_result"
    }
   ],
   "source": [
    "closed_questions = questions[pd.notna(questions['ClosedDate'])].copy()\n",
    "np.shape(closed_questions)[0]"
   ]
  },
  {
   "cell_type": "code",
   "execution_count": 18,
   "id": "6a874516",
   "metadata": {},
   "outputs": [
    {
     "name": "stdout",
     "output_type": "stream",
     "text": [
      "Sum of scores for these open questions is: 107110\n",
      "Total number of open questions is: 4618\n",
      "Number of unique score values is: 246\n",
      "Mean of these open question scores is: 23.19402338674751\n",
      "Median of these open question scores is: 4.0\n"
     ]
    }
   ],
   "source": [
    "print(\"Sum of scores for these open questions is:\", open_questions['Score'].sum())\n",
    "print(\"Total number of open questions is:\", np.shape(open_questions)[0])\n",
    "print(\"Number of unique score values is:\", np.shape(open_questions['Score'].value_counts())[0])\n",
    "print(\"Mean of these open question scores is:\", open_questions['Score'].mean())\n",
    "print(\"Median of these open question scores is:\", open_questions['Score'].median())"
   ]
  },
  {
   "cell_type": "code",
   "execution_count": 19,
   "id": "3e8e8d31",
   "metadata": {},
   "outputs": [
    {
     "name": "stdout",
     "output_type": "stream",
     "text": [
      "Sum of scores for these closed questions is: 13647\n",
      "Total number of closed questions is: 382\n",
      "Number of unique score values is: 101\n",
      "Mean of these closed question scores is: 35.725130890052355\n",
      "Median of these closed question scores is: 9.5\n"
     ]
    }
   ],
   "source": [
    "print(\"Sum of scores for these closed questions is:\", closed_questions['Score'].sum())\n",
    "print(\"Total number of closed questions is:\", np.shape(closed_questions)[0])\n",
    "print(\"Number of unique score values is:\", np.shape(closed_questions['Score'].value_counts())[0])\n",
    "print(\"Mean of these closed question scores is:\", closed_questions['Score'].mean())\n",
    "print(\"Median of these closed question scores is:\", closed_questions['Score'].median())"
   ]
  },
  {
   "cell_type": "code",
   "execution_count": 20,
   "id": "3d7a9d26",
   "metadata": {},
   "outputs": [
    {
     "data": {
      "image/png": "[encoded data removed]",
      "text/plain": [
       "<Figure size 360x288 with 1 Axes>"
      ]
     },
     "metadata": {},
     "output_type": "display_data"
    }
   ],
   "source": [
    "fig = plt.figure(figsize=(5,4))\n",
    "ax = fig.add_axes([0,0,1,1])\n",
    "status = ['open', 'closed']\n",
    "values = [open_questions['Score'].median(),closed_questions['Score'].median()]\n",
    "ax.bar(status, values)\n",
    "ax.set_ylabel(\"Median score\")\n",
    "plt.show()"
   ]
  },
  {
   "cell_type": "markdown",
   "id": "23901e42",
   "metadata": {},
   "source": [
    "So maybe there's a correlation between whether a question is closed/open and its score. That is, here at least, closed questions have a higher median score than open questions. Thus we should determine what properties of a question (the actual words) lead to a question becoming closed."
   ]
  },
  {
   "cell_type": "code",
   "execution_count": null,
   "id": "130c7772",
   "metadata": {},
   "outputs": [],
   "source": []
  },
  {
   "cell_type": "code",
   "execution_count": null,
   "id": "7d095337",
   "metadata": {},
   "outputs": [],
   "source": []
  },
  {
   "cell_type": "markdown",
   "id": "1e2c4aca",
   "metadata": {},
   "source": [
    "## Switching to see if nltk works better for us"
   ]
  },
  {
   "cell_type": "code",
   "execution_count": 21,
   "id": "98b02966",
   "metadata": {},
   "outputs": [],
   "source": [
    "import nltk\n",
    "from nltk.corpus import stopwords\n",
    "from nltk.stem import WordNetLemmatizer\n",
    "\n",
    "import re"
   ]
  },
  {
   "cell_type": "code",
   "execution_count": 22,
   "id": "60606471",
   "metadata": {},
   "outputs": [],
   "source": [
    "# A list of contractions from http://stackoverflow.com/questions/19790188/expanding-english-language-contractions-in-python\n",
    "contractions = { \n",
    "\"ain't\": \"am not\",\n",
    "\"aren't\": \"are not\",\n",
    "\"can't\": \"cannot\",\n",
    "\"can't've\": \"cannot have\",\n",
    "\"'cause\": \"because\",\n",
    "\"could've\": \"could have\",\n",
    "\"couldn't\": \"could not\",\n",
    "\"couldn't've\": \"could not have\",\n",
    "\"didn't\": \"did not\",\n",
    "\"doesn't\": \"does not\",\n",
    "\"don't\": \"do not\",\n",
    "\"hadn't\": \"had not\",\n",
    "\"hadn't've\": \"had not have\",\n",
    "\"hasn't\": \"has not\",\n",
    "\"haven't\": \"have not\",\n",
    "\"he'd\": \"he would\",\n",
    "\"he'd've\": \"he would have\",\n",
    "\"he'll\": \"he will\",\n",
    "\"he's\": \"he is\",\n",
    "\"how'd\": \"how did\",\n",
    "\"how'll\": \"how will\",\n",
    "\"how's\": \"how is\",\n",
    "\"i'd\": \"i would\",\n",
    "\"i'll\": \"i will\",\n",
    "\"i'm\": \"i am\",\n",
    "\"i've\": \"i have\",\n",
    "\"isn't\": \"is not\",\n",
    "\"it'd\": \"it would\",\n",
    "\"it'll\": \"it will\",\n",
    "\"it's\": \"it is\",\n",
    "\"let's\": \"let us\",\n",
    "\"ma'am\": \"madam\",\n",
    "\"mayn't\": \"may not\",\n",
    "\"might've\": \"might have\",\n",
    "\"mightn't\": \"might not\",\n",
    "\"must've\": \"must have\",\n",
    "\"mustn't\": \"must not\",\n",
    "\"needn't\": \"need not\",\n",
    "\"oughtn't\": \"ought not\",\n",
    "\"shan't\": \"shall not\",\n",
    "\"sha'n't\": \"shall not\",\n",
    "\"she'd\": \"she would\",\n",
    "\"she'll\": \"she will\",\n",
    "\"she's\": \"she is\",\n",
    "\"should've\": \"should have\",\n",
    "\"shouldn't\": \"should not\",\n",
    "\"that'd\": \"that would\",\n",
    "\"that's\": \"that is\",\n",
    "\"there'd\": \"there had\",\n",
    "\"there's\": \"there is\",\n",
    "\"they'd\": \"they would\",\n",
    "\"they'll\": \"they will\",\n",
    "\"they're\": \"they are\",\n",
    "\"they've\": \"they have\",\n",
    "\"wasn't\": \"was not\",\n",
    "\"we'd\": \"we would\",\n",
    "\"we'll\": \"we will\",\n",
    "\"we're\": \"we are\",\n",
    "\"we've\": \"we have\",\n",
    "\"weren't\": \"were not\",\n",
    "\"what'll\": \"what will\",\n",
    "\"what're\": \"what are\",\n",
    "\"what's\": \"what is\",\n",
    "\"what've\": \"what have\",\n",
    "\"where'd\": \"where did\",\n",
    "\"where's\": \"where is\",\n",
    "\"who'll\": \"who will\",\n",
    "\"who's\": \"who is\",\n",
    "\"won't\": \"will not\",\n",
    "\"wouldn't\": \"would not\",\n",
    "\"you'd\": \"you would\",\n",
    "\"you'll\": \"you will\",\n",
    "\"you're\": \"you are\"\n",
    "}"
   ]
  },
  {
   "cell_type": "code",
   "execution_count": 23,
   "id": "0232ed07",
   "metadata": {},
   "outputs": [],
   "source": [
    "#def striphtml(data):\n",
    "#    p = re.compile(r'<.*?>')\n",
    "#    result = re.sub(r'<.*?>', '', data)\n",
    "#    return result\n",
    "\n",
    "def clean_text(text, remove_stopwords = True):\n",
    "    '''Remove unwanted characters, stopwords, and format the text to create fewer nulls word embeddings'''\n",
    "    \n",
    "    # Convert words to lower case\n",
    "    text = text.lower()\n",
    "    \n",
    "    # Replace contractions with their longer forms \n",
    "    if True:\n",
    "        text = text.split()\n",
    "        new_text = []\n",
    "        for word in text:\n",
    "            if word in contractions:\n",
    "                new_text.append(contractions[word])\n",
    "            else:\n",
    "                new_text.append(word)\n",
    "        text = \" \".join(new_text)\n",
    "    \n",
    "    # Format words and remove unwanted characters\n",
    "    text = re.sub(r'https?:\\/\\/.*[\\r\\n]*', '', text, flags=re.MULTILINE)\n",
    "    text = re.sub(r'\\<a href', ' ', text)\n",
    "    text = re.sub(r'&amp;', '', text) \n",
    "    text = re.sub(r'[_\"\\-;%()|+&=*%.,!?:#$@\\[\\]/]', ' ', text)\n",
    "    text = re.sub(r'<br />', ' ', text)\n",
    "    text = re.sub(r'\\'', ' ', text)\n",
    "    text = re.sub(r'<p>','', text)\n",
    "    text = re.sub(r'</p>','', text)\n",
    "    text = re.sub(r'\\n','', text)\n",
    "    text = re.sub(r'<.*?>', '', text)\n",
    "    \n",
    "#    text = striphtml(text)\n",
    "    \n",
    "    # remove stop words\n",
    "    if remove_stopwords:\n",
    "        text = text.split()\n",
    "        stops = set(stopwords.words(\"english\"))\n",
    "        text = [w for w in text if not w in stops]\n",
    "        text = \" \".join(text)\n",
    "\n",
    "    # Tokenize each word\n",
    "    text =  nltk.WordPunctTokenizer().tokenize(text)\n",
    "        \n",
    "    return text"
   ]
  },
  {
   "cell_type": "code",
   "execution_count": 24,
   "id": "9757eda0",
   "metadata": {},
   "outputs": [],
   "source": [
    "questions['Body_Cleaned'] = list(map(clean_text, questions.Body))"
   ]
  },
  {
   "cell_type": "code",
   "execution_count": 25,
   "id": "971731b9",
   "metadata": {},
   "outputs": [],
   "source": [
    "def lemmatized_words(text):\n",
    "    lemm = nltk.stem.WordNetLemmatizer()\n",
    "    questions['lemmatized_text'] = list(map(lambda word:\n",
    "                                     list(map(lemm.lemmatize, word)),\n",
    "                                     questions.Body_Cleaned))\n",
    "    \n",
    "\n",
    "lemmatized_words(questions.Body_Cleaned)"
   ]
  },
  {
   "cell_type": "code",
   "execution_count": 26,
   "id": "85ecfc0f",
   "metadata": {},
   "outputs": [
    {
     "data": {
      "text/html": [
       "<div>\n",
       "<style scoped>\n",
       "    .dataframe tbody tr th:only-of-type {\n",
       "        vertical-align: middle;\n",
       "    }\n",
       "\n",
       "    .dataframe tbody tr th {\n",
       "        vertical-align: top;\n",
       "    }\n",
       "\n",
       "    .dataframe thead th {\n",
       "        text-align: right;\n",
       "    }\n",
       "</style>\n",
       "<table border=\"1\" class=\"dataframe\">\n",
       "  <thead>\n",
       "    <tr style=\"text-align: right;\">\n",
       "      <th></th>\n",
       "      <th>Id</th>\n",
       "      <th>OwnerUserId</th>\n",
       "      <th>CreationDate</th>\n",
       "      <th>ClosedDate</th>\n",
       "      <th>Score</th>\n",
       "      <th>Title</th>\n",
       "      <th>Body</th>\n",
       "      <th>Closed</th>\n",
       "      <th>Body_Cleaned</th>\n",
       "      <th>lemmatized_text</th>\n",
       "    </tr>\n",
       "  </thead>\n",
       "  <tbody>\n",
       "    <tr>\n",
       "      <th>0</th>\n",
       "      <td>80</td>\n",
       "      <td>26.0</td>\n",
       "      <td>2008-08-01T13:57:07Z</td>\n",
       "      <td>NaN</td>\n",
       "      <td>26</td>\n",
       "      <td>SQLStatement.execute() - multiple queries in o...</td>\n",
       "      <td>&lt;p&gt;I've written a database generation script i...</td>\n",
       "      <td>0</td>\n",
       "      <td>[written, database, generation, script]</td>\n",
       "      <td>[written, database, generation, script]</td>\n",
       "    </tr>\n",
       "    <tr>\n",
       "      <th>1</th>\n",
       "      <td>90</td>\n",
       "      <td>58.0</td>\n",
       "      <td>2008-08-01T14:41:24Z</td>\n",
       "      <td>2012-12-26T03:45:49Z</td>\n",
       "      <td>144</td>\n",
       "      <td>Good branching and merging tutorials for Torto...</td>\n",
       "      <td>&lt;p&gt;Are there any really good tutorials explain...</td>\n",
       "      <td>1</td>\n",
       "      <td>[really, good, tutorials, explaining]</td>\n",
       "      <td>[really, good, tutorial, explaining]</td>\n",
       "    </tr>\n",
       "    <tr>\n",
       "      <th>2</th>\n",
       "      <td>120</td>\n",
       "      <td>83.0</td>\n",
       "      <td>2008-08-01T15:50:08Z</td>\n",
       "      <td>NaN</td>\n",
       "      <td>21</td>\n",
       "      <td>ASP.NET Site Maps</td>\n",
       "      <td>&lt;p&gt;Has anyone got experience creating &lt;strong&gt;...</td>\n",
       "      <td>0</td>\n",
       "      <td>[anyone, got, experience, creating, sql, based...</td>\n",
       "      <td>[anyone, got, experience, creating, sql, based...</td>\n",
       "    </tr>\n",
       "  </tbody>\n",
       "</table>\n",
       "</div>"
      ],
      "text/plain": [
       "    Id  OwnerUserId          CreationDate            ClosedDate  Score  \\\n",
       "0   80         26.0  2008-08-01T13:57:07Z                   NaN     26   \n",
       "1   90         58.0  2008-08-01T14:41:24Z  2012-12-26T03:45:49Z    144   \n",
       "2  120         83.0  2008-08-01T15:50:08Z                   NaN     21   \n",
       "\n",
       "                                               Title  \\\n",
       "0  SQLStatement.execute() - multiple queries in o...   \n",
       "1  Good branching and merging tutorials for Torto...   \n",
       "2                                  ASP.NET Site Maps   \n",
       "\n",
       "                                                Body  Closed  \\\n",
       "0  <p>I've written a database generation script i...       0   \n",
       "1  <p>Are there any really good tutorials explain...       1   \n",
       "2  <p>Has anyone got experience creating <strong>...       0   \n",
       "\n",
       "                                        Body_Cleaned  \\\n",
       "0            [written, database, generation, script]   \n",
       "1              [really, good, tutorials, explaining]   \n",
       "2  [anyone, got, experience, creating, sql, based...   \n",
       "\n",
       "                                     lemmatized_text  \n",
       "0            [written, database, generation, script]  \n",
       "1               [really, good, tutorial, explaining]  \n",
       "2  [anyone, got, experience, creating, sql, based...  "
      ]
     },
     "execution_count": 26,
     "metadata": {},
     "output_type": "execute_result"
    }
   ],
   "source": [
    "questions.head(3)"
   ]
  },
  {
   "cell_type": "code",
   "execution_count": 27,
   "id": "87ee01cb",
   "metadata": {
    "scrolled": true
   },
   "outputs": [
    {
     "data": {
      "text/plain": [
       "'<p>Are there any really good tutorials explaining <a href=\"http://svnbook.red-bean.com/en/1.8/svn.branchmerge.html\" rel=\"nofollow\">branching and merging</a> with Apache Subversion? </p>\\n\\n<p>All the better if it\\'s specific to TortoiseSVN client.</p>\\n'"
      ]
     },
     "execution_count": 27,
     "metadata": {},
     "output_type": "execute_result"
    }
   ],
   "source": [
    "questions['Body'].iloc[1]"
   ]
  },
  {
   "cell_type": "code",
   "execution_count": 28,
   "id": "c1ba764b",
   "metadata": {},
   "outputs": [
    {
     "data": {
      "text/plain": [
       "['really', 'good', 'tutorials', 'explaining']"
      ]
     },
     "execution_count": 28,
     "metadata": {},
     "output_type": "execute_result"
    }
   ],
   "source": [
    "questions['Body_Cleaned'].iloc[1]"
   ]
  },
  {
   "cell_type": "code",
   "execution_count": 29,
   "id": "1a1f9621",
   "metadata": {
    "scrolled": true
   },
   "outputs": [
    {
     "data": {
      "text/plain": [
       "['really', 'good', 'tutorial', 'explaining']"
      ]
     },
     "execution_count": 29,
     "metadata": {},
     "output_type": "execute_result"
    }
   ],
   "source": [
    "questions['lemmatized_text'].iloc[1]"
   ]
  },
  {
   "cell_type": "code",
   "execution_count": 30,
   "id": "634fe839",
   "metadata": {},
   "outputs": [
    {
     "data": {
      "text/html": [
       "<div>\n",
       "<style scoped>\n",
       "    .dataframe tbody tr th:only-of-type {\n",
       "        vertical-align: middle;\n",
       "    }\n",
       "\n",
       "    .dataframe tbody tr th {\n",
       "        vertical-align: top;\n",
       "    }\n",
       "\n",
       "    .dataframe thead th {\n",
       "        text-align: right;\n",
       "    }\n",
       "</style>\n",
       "<table border=\"1\" class=\"dataframe\">\n",
       "  <thead>\n",
       "    <tr style=\"text-align: right;\">\n",
       "      <th></th>\n",
       "      <th>Id</th>\n",
       "      <th>Score</th>\n",
       "      <th>Title</th>\n",
       "      <th>Body</th>\n",
       "      <th>Body_Cleaned</th>\n",
       "      <th>lemmatized_text</th>\n",
       "      <th>Closed</th>\n",
       "    </tr>\n",
       "  </thead>\n",
       "  <tbody>\n",
       "    <tr>\n",
       "      <th>843</th>\n",
       "      <td>69030</td>\n",
       "      <td>4</td>\n",
       "      <td>In Applescript, how can I find out if a menu i...</td>\n",
       "      <td>&lt;p&gt;I have a script for OS X 10.5 that focuses ...</td>\n",
       "      <td>[script, os, x, 10, 5, focuses, search, box, h...</td>\n",
       "      <td>[script, o, x, 10, 5, focus, search, box, help...</td>\n",
       "      <td>0</td>\n",
       "    </tr>\n",
       "    <tr>\n",
       "      <th>3717</th>\n",
       "      <td>276180</td>\n",
       "      <td>7</td>\n",
       "      <td>Server monitoring and alerting software?</td>\n",
       "      <td>&lt;p&gt;What software does everyone use to monitor ...</td>\n",
       "      <td>[software, everyone, use, monitor, hardware, k...</td>\n",
       "      <td>[software, everyone, use, monitor, hardware, k...</td>\n",
       "      <td>1</td>\n",
       "    </tr>\n",
       "    <tr>\n",
       "      <th>2787</th>\n",
       "      <td>216470</td>\n",
       "      <td>0</td>\n",
       "      <td>How can replace the string [Foo alloc]&lt;cursor&gt;...</td>\n",
       "      <td>&lt;ul&gt;\\n&lt;li&gt;Is there a key shortcut for this in ...</td>\n",
       "      <td>[key, shortcut, xcode, implement, applescript,...</td>\n",
       "      <td>[key, shortcut, xcode, implement, applescript,...</td>\n",
       "      <td>0</td>\n",
       "    </tr>\n",
       "  </tbody>\n",
       "</table>\n",
       "</div>"
      ],
      "text/plain": [
       "          Id  Score                                              Title  \\\n",
       "843    69030      4  In Applescript, how can I find out if a menu i...   \n",
       "3717  276180      7           Server monitoring and alerting software?   \n",
       "2787  216470      0  How can replace the string [Foo alloc]<cursor>...   \n",
       "\n",
       "                                                   Body  \\\n",
       "843   <p>I have a script for OS X 10.5 that focuses ...   \n",
       "3717  <p>What software does everyone use to monitor ...   \n",
       "2787  <ul>\\n<li>Is there a key shortcut for this in ...   \n",
       "\n",
       "                                           Body_Cleaned  \\\n",
       "843   [script, os, x, 10, 5, focuses, search, box, h...   \n",
       "3717  [software, everyone, use, monitor, hardware, k...   \n",
       "2787  [key, shortcut, xcode, implement, applescript,...   \n",
       "\n",
       "                                        lemmatized_text  Closed  \n",
       "843   [script, o, x, 10, 5, focus, search, box, help...       0  \n",
       "3717  [software, everyone, use, monitor, hardware, k...       1  \n",
       "2787  [key, shortcut, xcode, implement, applescript,...       0  "
      ]
     },
     "execution_count": 30,
     "metadata": {},
     "output_type": "execute_result"
    }
   ],
   "source": [
    "questions[['Id', 'Score', 'Title', 'Body', 'Body_Cleaned', 'lemmatized_text', 'Closed']].sample(3, random_state=151)"
   ]
  },
  {
   "cell_type": "code",
   "execution_count": 31,
   "id": "78488b6d",
   "metadata": {},
   "outputs": [
    {
     "data": {
      "text/plain": [
       "'<p>I have a script for OS X 10.5 that focuses the Search box in the Help menu of any application.  I have it on a key combination and, much like Spotlight, I want it to toggle when I run the script.  So, I want to detect if the search box is already focused for typing, and if so, type Esc instead of clicking the Help menu.</p>\\n\\n<p>Here is the script as it stands now:</p>\\n\\n<pre><code>tell application \"System Events\"\\n    tell (first process whose frontmost is true)\\n    \\tset helpMenuItem to menu bar item \"Help\" of menu bar 1\\n    \\tclick helpMenuItem\\n    end tell\\nend tell\\n</code></pre>\\n\\n<p>And I\\'m thinking of something like this:</p>\\n\\n<pre><code>tell application \"System Events\"\\n    tell (first process whose frontmost is true)\\n    \\tset helpMenuItem to menu bar item \"Help\" of menu bar 1\\n    \\tset searchBox to menu item 1 of menu of helpMenuItem\\n    \\tif (searchBox\\'s focused) = true then\\n    \\t\\tkey code 53 -- type esc\\n    \\telse\\n    \\t\\tclick helpMenuItem\\n    \\tend if\\n    end tell\\nend tell\\n</code></pre>\\n\\n<p>... but I get this error:</p>\\n\\n<blockquote>\\n  <p>Canâ\\x80\\x99t get focused of {menu item 1 of menu \"Help\" of menu bar item \"Help\" of menu bar 1 of application process \"Script Editor\" of application \"System Events\"}.</p>\\n</blockquote>\\n\\n<p>So is there a way I can get my script to detect whether the search box is already focused?</p>\\n\\n<p><hr /></p>\\n\\n<p>I solved my problem by <a href=\"http://stackoverflow.com/questions/69391/\">working around it</a>.  I still don\\'t know how to check if a menu item is selected though, so I will leave this topic open.</p>\\n'"
      ]
     },
     "execution_count": 31,
     "metadata": {},
     "output_type": "execute_result"
    }
   ],
   "source": [
    "questions['Body'].iloc[843]"
   ]
  },
  {
   "cell_type": "code",
   "execution_count": 32,
   "id": "48148e95",
   "metadata": {},
   "outputs": [
    {
     "data": {
      "text/plain": [
       "['script',\n",
       " 'os',\n",
       " 'x',\n",
       " '10',\n",
       " '5',\n",
       " 'focuses',\n",
       " 'search',\n",
       " 'box',\n",
       " 'help',\n",
       " 'menu',\n",
       " 'application',\n",
       " 'key',\n",
       " 'combination',\n",
       " 'much',\n",
       " 'like',\n",
       " 'spotlight',\n",
       " 'want',\n",
       " 'toggle',\n",
       " 'run',\n",
       " 'script',\n",
       " 'want',\n",
       " 'detect',\n",
       " 'search',\n",
       " 'box',\n",
       " 'already',\n",
       " 'focused',\n",
       " 'typing',\n",
       " 'type',\n",
       " 'esc',\n",
       " 'instead',\n",
       " 'clicking',\n",
       " 'help',\n",
       " 'menu',\n",
       " 'script',\n",
       " 'stands',\n",
       " 'tell',\n",
       " 'application',\n",
       " 'system',\n",
       " 'events',\n",
       " 'tell',\n",
       " 'first',\n",
       " 'process',\n",
       " 'whose',\n",
       " 'frontmost',\n",
       " 'true',\n",
       " 'set',\n",
       " 'helpmenuitem',\n",
       " 'menu',\n",
       " 'bar',\n",
       " 'item',\n",
       " 'help',\n",
       " 'menu',\n",
       " 'bar',\n",
       " '1',\n",
       " 'click',\n",
       " 'helpmenuitem',\n",
       " 'end',\n",
       " 'tell',\n",
       " 'end',\n",
       " 'tell',\n",
       " 'thinking',\n",
       " 'something',\n",
       " 'like',\n",
       " 'tell',\n",
       " 'application',\n",
       " 'system',\n",
       " 'events',\n",
       " 'tell',\n",
       " 'first',\n",
       " 'process',\n",
       " 'whose',\n",
       " 'frontmost',\n",
       " 'true',\n",
       " 'set',\n",
       " 'helpmenuitem',\n",
       " 'menu',\n",
       " 'bar',\n",
       " 'item',\n",
       " 'help',\n",
       " 'menu',\n",
       " 'bar',\n",
       " '1',\n",
       " 'set',\n",
       " 'searchbox',\n",
       " 'menu',\n",
       " 'item',\n",
       " '1',\n",
       " 'menu',\n",
       " 'helpmenuitem',\n",
       " 'searchbox',\n",
       " 'focused',\n",
       " 'true',\n",
       " 'key',\n",
       " 'code',\n",
       " '53',\n",
       " 'type',\n",
       " 'esc',\n",
       " 'else',\n",
       " 'click',\n",
       " 'helpmenuitem',\n",
       " 'end',\n",
       " 'end',\n",
       " 'tell',\n",
       " 'end',\n",
       " 'tell',\n",
       " 'get',\n",
       " 'error',\n",
       " 'canâ',\n",
       " '\\x80\\x99',\n",
       " 't',\n",
       " 'get',\n",
       " 'focused',\n",
       " '{',\n",
       " 'menu',\n",
       " 'item',\n",
       " '1',\n",
       " 'menu',\n",
       " 'help',\n",
       " 'menu',\n",
       " 'bar',\n",
       " 'item',\n",
       " 'help',\n",
       " 'menu',\n",
       " 'bar',\n",
       " '1',\n",
       " 'application',\n",
       " 'process',\n",
       " 'script',\n",
       " 'editor',\n",
       " 'application',\n",
       " 'system',\n",
       " 'events',\n",
       " '}',\n",
       " 'way',\n",
       " 'get',\n",
       " 'script',\n",
       " 'detect',\n",
       " 'whether',\n",
       " 'search',\n",
       " 'box',\n",
       " 'already',\n",
       " 'focused',\n",
       " 'solved',\n",
       " 'problem']"
      ]
     },
     "execution_count": 32,
     "metadata": {},
     "output_type": "execute_result"
    }
   ],
   "source": [
    "questions['Body_Cleaned'].iloc[843]"
   ]
  },
  {
   "cell_type": "markdown",
   "id": "caa785f4",
   "metadata": {},
   "source": [
    "## Now back to the Bag of Words bits"
   ]
  },
  {
   "cell_type": "code",
   "execution_count": 33,
   "id": "11a561f7",
   "metadata": {},
   "outputs": [],
   "source": [
    "from sklearn.feature_extraction.text import CountVectorizer"
   ]
  },
  {
   "cell_type": "code",
   "execution_count": 34,
   "id": "3929afdc",
   "metadata": {},
   "outputs": [
    {
     "name": "stdout",
     "output_type": "stream",
     "text": [
      "['0' '00' '000' ... 'ãªã' 'ä' 'å']\n"
     ]
    },
    {
     "data": {
      "text/plain": [
       "20609"
      ]
     },
     "execution_count": 34,
     "metadata": {},
     "output_type": "execute_result"
    }
   ],
   "source": [
    "onegram_converter = CountVectorizer(tokenizer=lambda doc: doc, lowercase=False)  # this is the name of the model, so we're just making the object\n",
    "\n",
    "x = onegram_converter.fit_transform(questions['Body_Cleaned'])     # we fit the model to our words\n",
    "\n",
    "words = onegram_converter.get_feature_names_out()       # \"words\" is now a list of all the words in our document\n",
    "\n",
    "print(words)                                           # this would print all the unique words in our document\n",
    "len(words)                                              # this is the number of unique words in our document"
   ]
  },
  {
   "cell_type": "code",
   "execution_count": 35,
   "id": "b7835d2c",
   "metadata": {},
   "outputs": [
    {
     "name": "stdout",
     "output_type": "stream",
     "text": [
      "['0 0' '0 00' '0 003154' ... 'ä \\x9a' 'ä \\x9b' 'å ¡']\n"
     ]
    },
    {
     "data": {
      "text/plain": [
       "190433"
      ]
     },
     "execution_count": 35,
     "metadata": {},
     "output_type": "execute_result"
    }
   ],
   "source": [
    "twogram_converter = CountVectorizer(tokenizer=lambda doc: doc, ngram_range=[2,2], lowercase=False)                                                        \n",
    "x2 = twogram_converter.fit_transform(questions['Body_Cleaned'])         \n",
    "\n",
    "bigrams = twogram_converter.get_feature_names_out()       # \"bigrams\" is now a list of all the 2-word combinations in our document\n",
    "\n",
    "print(bigrams)                                           # this would print all the unique 2-words in our document\n",
    "len(bigrams)    "
   ]
  },
  {
   "cell_type": "code",
   "execution_count": 36,
   "id": "9b8bc9da",
   "metadata": {},
   "outputs": [
    {
     "name": "stdout",
     "output_type": "stream",
     "text": [
      "['0 0 0' '0 0 0x0002' '0 0 1' ... 'ä \\x9b ditto' 'ä \\x9b â' 'å ¡ ä']\n"
     ]
    },
    {
     "data": {
      "text/plain": [
       "244465"
      ]
     },
     "execution_count": 36,
     "metadata": {},
     "output_type": "execute_result"
    }
   ],
   "source": [
    "threegram_converter = CountVectorizer(tokenizer=lambda doc: doc, ngram_range=[3,3], lowercase=False)                                                        \n",
    "x3 = threegram_converter.fit_transform(questions['Body_Cleaned'])         \n",
    "\n",
    "trigrams = threegram_converter.get_feature_names_out()       # \"trigrams\" is now a list of all the 3-word combinations in our document\n",
    "\n",
    "print(trigrams)                                           # this would print all the unique 3-words in our document\n",
    "len(trigrams)    "
   ]
  },
  {
   "cell_type": "markdown",
   "id": "f5d080aa",
   "metadata": {},
   "source": [
    "### What about the lemmatized words?"
   ]
  },
  {
   "cell_type": "code",
   "execution_count": 37,
   "id": "980f7e43",
   "metadata": {},
   "outputs": [
    {
     "name": "stdout",
     "output_type": "stream",
     "text": [
      "['0' '00' '000' ... 'ãªã' 'ä' 'å']\n"
     ]
    },
    {
     "data": {
      "text/plain": [
       "20609"
      ]
     },
     "execution_count": 37,
     "metadata": {},
     "output_type": "execute_result"
    }
   ],
   "source": [
    "onegram_converter_lem = CountVectorizer(tokenizer=lambda doc: doc, lowercase=False)  # this is the name of the model, so we're just making the object\n",
    "\n",
    "x_lem = onegram_converter_lem.fit_transform(questions['lemmatized_text'])     # we fit the model to our words\n",
    "\n",
    "words_lem = onegram_converter.get_feature_names_out()       # \"words\" is now a list of all the words in our document\n",
    "\n",
    "print(words_lem)                                           # this would print all the unique words in our document\n",
    "len(words_lem)         "
   ]
  },
  {
   "cell_type": "code",
   "execution_count": 38,
   "id": "662b2fda",
   "metadata": {},
   "outputs": [
    {
     "name": "stdout",
     "output_type": "stream",
     "text": [
      "['0 0' '0 00' '0 003154' ... 'ä \\x9a' 'ä \\x9b' 'å ¡']\n"
     ]
    },
    {
     "data": {
      "text/plain": [
       "190433"
      ]
     },
     "execution_count": 38,
     "metadata": {},
     "output_type": "execute_result"
    }
   ],
   "source": [
    "twogram_converter_lem = CountVectorizer(tokenizer=lambda doc: doc, ngram_range=[2,2], lowercase=False)                                                        \n",
    "x2_lem = twogram_converter_lem.fit_transform(questions['Body_Cleaned'])         \n",
    "\n",
    "bigrams_lem = twogram_converter_lem.get_feature_names_out()       # \"bigrams\" is now a list of all the 2-word combinations in our document\n",
    "\n",
    "print(bigrams_lem)                                           # this would print all the unique 2-words in our document\n",
    "len(bigrams_lem)    "
   ]
  },
  {
   "cell_type": "code",
   "execution_count": 39,
   "id": "3e2fbaf1",
   "metadata": {},
   "outputs": [
    {
     "name": "stdout",
     "output_type": "stream",
     "text": [
      "['0 0 0' '0 0 0x0002' '0 0 1' ... 'ä \\x9b ditto' 'ä \\x9b â' 'å ¡ ä']\n"
     ]
    },
    {
     "data": {
      "text/plain": [
       "244465"
      ]
     },
     "execution_count": 39,
     "metadata": {},
     "output_type": "execute_result"
    }
   ],
   "source": [
    "threegram_converter_lem = CountVectorizer(tokenizer=lambda doc: doc, ngram_range=[3,3], lowercase=False)                                                        \n",
    "x3_lem = threegram_converter_lem.fit_transform(questions['Body_Cleaned'])         \n",
    "\n",
    "trigrams_lem = threegram_converter_lem.get_feature_names_out()       # \"trigrams\" is now a list of all the 3-word combinations in our document\n",
    "\n",
    "print(trigrams_lem)                                           # this would print all the unique 3-words in our document\n",
    "len(trigrams_lem)    "
   ]
  },
  {
   "cell_type": "markdown",
   "id": "2a31d124",
   "metadata": {},
   "source": [
    "Given that these values are identical, I'm not convinced my lemmatization process is any different from my cleaning process."
   ]
  },
  {
   "cell_type": "markdown",
   "id": "7fb5b1c6",
   "metadata": {},
   "source": [
    "# Onward to actually doing the data science bit"
   ]
  },
  {
   "cell_type": "markdown",
   "id": "e9c9a792",
   "metadata": {},
   "source": [
    "## Bag of Words"
   ]
  },
  {
   "cell_type": "code",
   "execution_count": 40,
   "id": "8f415f40",
   "metadata": {},
   "outputs": [],
   "source": [
    "from sklearn.linear_model import LogisticRegression\n",
    "import sklearn.model_selection\n",
    "import sklearn.preprocessing as preproc\n",
    "from sklearn.feature_extraction import text"
   ]
  },
  {
   "cell_type": "code",
   "execution_count": 41,
   "id": "a61b040e",
   "metadata": {},
   "outputs": [],
   "source": [
    "training_data, test_data = sklearn.model_selection.train_test_split(questions.copy(), shuffle=True, \n",
    "                                                                    test_size = 0.3, random_state=961,\n",
    "                                                                    stratify = questions.Closed)"
   ]
  },
  {
   "cell_type": "code",
   "execution_count": 42,
   "id": "94061308",
   "metadata": {},
   "outputs": [
    {
     "name": "stdout",
     "output_type": "stream",
     "text": [
      "(3500, 10)\n",
      "(1500, 10)\n"
     ]
    }
   ],
   "source": [
    "print(training_data.shape)\n",
    "print(test_data.shape)"
   ]
  },
  {
   "cell_type": "markdown",
   "id": "c72e6b7e",
   "metadata": {},
   "source": [
    "Note that the stratify keyword preserves the number of 'Closed' questions in the training and test sets."
   ]
  },
  {
   "cell_type": "code",
   "execution_count": 43,
   "id": "587ebbd6",
   "metadata": {},
   "outputs": [
    {
     "name": "stdout",
     "output_type": "stream",
     "text": [
      "Ratio of closed to open in all:\n",
      " 0    0.9236\n",
      "1    0.0764\n",
      "Name: Closed, dtype: float64\n",
      "Ratio in training data:\n",
      " 0    0.923714\n",
      "1    0.076286\n",
      "Name: Closed, dtype: float64\n",
      "Ratio in test data:\n",
      " 0    0.923333\n",
      "1    0.076667\n",
      "Name: Closed, dtype: float64\n"
     ]
    }
   ],
   "source": [
    "print(\"Ratio of closed to open in all:\\n\", questions.Closed.value_counts(normalize=True))\n",
    "print(\"Ratio in training data:\\n\", training_data.Closed.value_counts(normalize=True))\n",
    "print(\"Ratio in test data:\\n\", test_data.Closed.value_counts(normalize=True))"
   ]
  },
  {
   "cell_type": "markdown",
   "id": "56fc5b70",
   "metadata": {},
   "source": [
    "Make the model and fit it. Here, I'm just making a bag of words (and not a bag of n-grams)."
   ]
  },
  {
   "cell_type": "code",
   "execution_count": 44,
   "id": "c8ccfa5c",
   "metadata": {},
   "outputs": [],
   "source": [
    "bow_transform = CountVectorizer(tokenizer=lambda doc: doc, ngram_range=[1,1], lowercase=False) "
   ]
  },
  {
   "cell_type": "code",
   "execution_count": 45,
   "id": "4a7b9827",
   "metadata": {},
   "outputs": [],
   "source": [
    "X_tr_bow = bow_transform.fit_transform(training_data['Body_Cleaned'])"
   ]
  },
  {
   "cell_type": "markdown",
   "id": "601f49fc",
   "metadata": {},
   "source": [
    "Check the number of unique words."
   ]
  },
  {
   "cell_type": "code",
   "execution_count": 46,
   "id": "b08fb25d",
   "metadata": {},
   "outputs": [
    {
     "data": {
      "text/plain": [
       "16641"
      ]
     },
     "execution_count": 46,
     "metadata": {},
     "output_type": "execute_result"
    }
   ],
   "source": [
    "len(bow_transform.vocabulary_)"
   ]
  },
  {
   "cell_type": "markdown",
   "id": "769efce1",
   "metadata": {},
   "source": [
    "This method shows us the actual \"words\" we've put in the bag."
   ]
  },
  {
   "cell_type": "code",
   "execution_count": 58,
   "id": "c2434547",
   "metadata": {},
   "outputs": [
    {
     "data": {
      "text/plain": [
       "array(['0', '00', '000', ..., 'ã', 'ãªã', 'ä'], dtype=object)"
      ]
     },
     "execution_count": 58,
     "metadata": {},
     "output_type": "execute_result"
    }
   ],
   "source": [
    "bow_transform.get_feature_names_out()"
   ]
  },
  {
   "cell_type": "markdown",
   "id": "fc10fe3b",
   "metadata": {},
   "source": [
    "And this methods shows us how to map from a word to the index in the bag \"array\" where that word appears, e.g. 'write' appears at index 16350."
   ]
  },
  {
   "cell_type": "code",
   "execution_count": 63,
   "id": "2ab721de",
   "metadata": {},
   "outputs": [
    {
     "name": "stdout",
     "output_type": "stream",
     "text": [
      "{'write': 16350, 'session': 13029, 'asdf': 1532, '234': 363, 'asp': 1550, 'net': 9822, 'web': 16057, 'app': 1364, 'mean': 9099, 'client': 2859}\n"
     ]
    }
   ],
   "source": [
    "first10pairs = {k: bow_transform.vocabulary_[k] for k in list(bow_transform.vocabulary_)[:10]}\n",
    "\n",
    "print(first10pairs)"
   ]
  },
  {
   "cell_type": "markdown",
   "id": "7b7e0077",
   "metadata": {},
   "source": [
    "This should be the shape of all our data, I think. Here, 3500 rows (with one row for each StackOverflow question) and 16641 colums (one column for each word in our vocabulary -- so either a zero or a one, depending on if the word appears in the question)."
   ]
  },
  {
   "cell_type": "code",
   "execution_count": 64,
   "id": "33282978",
   "metadata": {},
   "outputs": [
    {
     "data": {
      "text/plain": [
       "(3500, 16641)"
      ]
     },
     "execution_count": 64,
     "metadata": {},
     "output_type": "execute_result"
    }
   ],
   "source": [
    "X_tr_bow.shape"
   ]
  },
  {
   "cell_type": "code",
   "execution_count": 65,
   "id": "d2eb7d83",
   "metadata": {},
   "outputs": [
    {
     "data": {
      "text/plain": [
       "array([[0, 0, 0, ..., 0, 0, 0],\n",
       "       [0, 0, 0, ..., 0, 0, 0],\n",
       "       [0, 0, 0, ..., 0, 0, 0],\n",
       "       ...,\n",
       "       [0, 0, 0, ..., 0, 0, 0],\n",
       "       [0, 0, 0, ..., 0, 0, 0],\n",
       "       [1, 0, 0, ..., 0, 0, 0]], dtype=int64)"
      ]
     },
     "execution_count": 65,
     "metadata": {},
     "output_type": "execute_result"
    }
   ],
   "source": [
    "X_tr_bow.toarray()"
   ]
  },
  {
   "cell_type": "markdown",
   "id": "b4feca39",
   "metadata": {},
   "source": [
    "I was unable to find an easy way to get a list of words and their frequencies out, but this approach was given as an answer on a StackOverflow question:"
   ]
  },
  {
   "cell_type": "code",
   "execution_count": 70,
   "id": "a9e48508",
   "metadata": {},
   "outputs": [
    {
     "name": "stdout",
     "output_type": "stream",
     "text": [
      "[('gt', 2062), ('lt', 1972), ('would', 1492), ('like', 1418), ('{', 1380), ('}', 1348), ('using', 1281), ('1', 1046), ('way', 1017), ('code', 1008)]\n"
     ]
    }
   ],
   "source": [
    "freqs = zip(bow_transform.get_feature_names_out(), X_tr_bow.sum(axis=0).tolist()[0])    \n",
    "# sort from largest to smallest\n",
    "freqs_sort = sorted(freqs, key=lambda x: -x[1])\n",
    "\n",
    "print(freqs_sort[0:10])"
   ]
  },
  {
   "cell_type": "markdown",
   "id": "46e5662d",
   "metadata": {},
   "source": [
    "I think this means \"gt\" (greater than?) appears in 2062 of our questions, \"lt\" (less than?) in 1972 of our questions, \"would\" in 1492 of them, etc."
   ]
  },
  {
   "cell_type": "code",
   "execution_count": 71,
   "id": "c088efa4",
   "metadata": {},
   "outputs": [],
   "source": [
    "X_te_bow = bow_transform.transform(test_data['Body_Cleaned'])"
   ]
  },
  {
   "cell_type": "code",
   "execution_count": 72,
   "id": "d2130f96",
   "metadata": {},
   "outputs": [],
   "source": [
    "y_tr = training_data['Closed']\n",
    "y_te = test_data['Closed']"
   ]
  },
  {
   "cell_type": "code",
   "execution_count": null,
   "id": "18792f4f",
   "metadata": {},
   "outputs": [],
   "source": []
  },
  {
   "cell_type": "markdown",
   "id": "5d40dc21",
   "metadata": {},
   "source": [
    "## Text-frequency, inverse document frequency (TF-IDF) bits"
   ]
  },
  {
   "cell_type": "code",
   "execution_count": 73,
   "id": "76463547",
   "metadata": {},
   "outputs": [],
   "source": [
    "tfidf_transform = text.TfidfTransformer(norm=None)\n",
    "X_tr_tfidf_fit = tfidf_transform.fit(X_tr_bow)"
   ]
  },
  {
   "cell_type": "markdown",
   "id": "7430f174",
   "metadata": {},
   "source": [
    "Double check how many \"features\" (words) went into the tf-idf counting."
   ]
  },
  {
   "cell_type": "code",
   "execution_count": 74,
   "id": "32b35353",
   "metadata": {},
   "outputs": [
    {
     "data": {
      "text/plain": [
       "16641"
      ]
     },
     "execution_count": 74,
     "metadata": {},
     "output_type": "execute_result"
    }
   ],
   "source": [
    "tfidf_transform.n_features_in_"
   ]
  },
  {
   "cell_type": "code",
   "execution_count": 75,
   "id": "f05a5af6",
   "metadata": {},
   "outputs": [
    {
     "data": {
      "text/html": [
       "<div>\n",
       "<style scoped>\n",
       "    .dataframe tbody tr th:only-of-type {\n",
       "        vertical-align: middle;\n",
       "    }\n",
       "\n",
       "    .dataframe tbody tr th {\n",
       "        vertical-align: top;\n",
       "    }\n",
       "\n",
       "    .dataframe thead th {\n",
       "        text-align: right;\n",
       "    }\n",
       "</style>\n",
       "<table border=\"1\" class=\"dataframe\">\n",
       "  <thead>\n",
       "    <tr style=\"text-align: right;\">\n",
       "      <th></th>\n",
       "      <th>idf_weights</th>\n",
       "    </tr>\n",
       "  </thead>\n",
       "  <tbody>\n",
       "    <tr>\n",
       "      <th>like</th>\n",
       "      <td>2.224461</td>\n",
       "    </tr>\n",
       "    <tr>\n",
       "      <th>would</th>\n",
       "      <td>2.234227</td>\n",
       "    </tr>\n",
       "    <tr>\n",
       "      <th>using</th>\n",
       "      <td>2.311738</td>\n",
       "    </tr>\n",
       "    <tr>\n",
       "      <th>way</th>\n",
       "      <td>2.447848</td>\n",
       "    </tr>\n",
       "    <tr>\n",
       "      <th>use</th>\n",
       "      <td>2.532763</td>\n",
       "    </tr>\n",
       "    <tr>\n",
       "      <th>...</th>\n",
       "      <td>...</td>\n",
       "    </tr>\n",
       "    <tr>\n",
       "      <th>interlocked</th>\n",
       "      <td>8.467657</td>\n",
       "    </tr>\n",
       "    <tr>\n",
       "      <th>intermingle</th>\n",
       "      <td>8.467657</td>\n",
       "    </tr>\n",
       "    <tr>\n",
       "      <th>intermingled</th>\n",
       "      <td>8.467657</td>\n",
       "    </tr>\n",
       "    <tr>\n",
       "      <th>intergrating</th>\n",
       "      <td>8.467657</td>\n",
       "    </tr>\n",
       "    <tr>\n",
       "      <th>ä</th>\n",
       "      <td>8.467657</td>\n",
       "    </tr>\n",
       "  </tbody>\n",
       "</table>\n",
       "<p>16641 rows × 1 columns</p>\n",
       "</div>"
      ],
      "text/plain": [
       "              idf_weights\n",
       "like             2.224461\n",
       "would            2.234227\n",
       "using            2.311738\n",
       "way              2.447848\n",
       "use              2.532763\n",
       "...                   ...\n",
       "interlocked      8.467657\n",
       "intermingle      8.467657\n",
       "intermingled     8.467657\n",
       "intergrating     8.467657\n",
       "ä                8.467657\n",
       "\n",
       "[16641 rows x 1 columns]"
      ]
     },
     "execution_count": 75,
     "metadata": {},
     "output_type": "execute_result"
    }
   ],
   "source": [
    "df_idf = pd.DataFrame(X_tr_tfidf_fit.idf_, index=bow_transform.get_feature_names_out(), columns=[\"idf_weights\"])\n",
    "df_idf.sort_values(by=['idf_weights'])"
   ]
  },
  {
   "cell_type": "markdown",
   "id": "5ebf27e1",
   "metadata": {},
   "source": [
    "A lower idf (inverse document frequency) means the word appears frequently across all documents (and thus isn't very unique). A higher idf means the word appears less frequently across documents (and so the word is being used in a more unique context)."
   ]
  },
  {
   "cell_type": "code",
   "execution_count": 76,
   "id": "e490d408",
   "metadata": {},
   "outputs": [],
   "source": [
    "tf_idf_vector = tfidf_transform.transform(X_tr_bow)"
   ]
  },
  {
   "cell_type": "code",
   "execution_count": null,
   "id": "73f7dbfb",
   "metadata": {},
   "outputs": [],
   "source": []
  },
  {
   "cell_type": "code",
   "execution_count": 77,
   "id": "c8618f48",
   "metadata": {},
   "outputs": [
    {
     "data": {
      "text/html": [
       "<div>\n",
       "<style scoped>\n",
       "    .dataframe tbody tr th:only-of-type {\n",
       "        vertical-align: middle;\n",
       "    }\n",
       "\n",
       "    .dataframe tbody tr th {\n",
       "        vertical-align: top;\n",
       "    }\n",
       "\n",
       "    .dataframe thead th {\n",
       "        text-align: right;\n",
       "    }\n",
       "</style>\n",
       "<table border=\"1\" class=\"dataframe\">\n",
       "  <thead>\n",
       "    <tr style=\"text-align: right;\">\n",
       "      <th></th>\n",
       "      <th>tfidf</th>\n",
       "    </tr>\n",
       "  </thead>\n",
       "  <tbody>\n",
       "    <tr>\n",
       "      <th>234</th>\n",
       "      <td>8.467657</td>\n",
       "    </tr>\n",
       "    <tr>\n",
       "      <th>asdf</th>\n",
       "      <td>8.062192</td>\n",
       "    </tr>\n",
       "    <tr>\n",
       "      <th>cookie</th>\n",
       "      <td>6.595855</td>\n",
       "    </tr>\n",
       "    <tr>\n",
       "      <th>session</th>\n",
       "      <td>5.100361</td>\n",
       "    </tr>\n",
       "    <tr>\n",
       "      <th>mean</th>\n",
       "      <td>4.898124</td>\n",
       "    </tr>\n",
       "    <tr>\n",
       "      <th>browser</th>\n",
       "      <td>4.741963</td>\n",
       "    </tr>\n",
       "    <tr>\n",
       "      <th>stored</th>\n",
       "      <td>4.516413</td>\n",
       "    </tr>\n",
       "    <tr>\n",
       "      <th>client</th>\n",
       "      <td>4.212044</td>\n",
       "    </tr>\n",
       "    <tr>\n",
       "      <th>write</th>\n",
       "      <td>3.945868</td>\n",
       "    </tr>\n",
       "    <tr>\n",
       "      <th>asp</th>\n",
       "      <td>3.857499</td>\n",
       "    </tr>\n",
       "    <tr>\n",
       "      <th>app</th>\n",
       "      <td>3.740269</td>\n",
       "    </tr>\n",
       "    <tr>\n",
       "      <th>web</th>\n",
       "      <td>3.349663</td>\n",
       "    </tr>\n",
       "    <tr>\n",
       "      <th>net</th>\n",
       "      <td>3.036121</td>\n",
       "    </tr>\n",
       "  </tbody>\n",
       "</table>\n",
       "</div>"
      ],
      "text/plain": [
       "            tfidf\n",
       "234      8.467657\n",
       "asdf     8.062192\n",
       "cookie   6.595855\n",
       "session  5.100361\n",
       "mean     4.898124\n",
       "browser  4.741963\n",
       "stored   4.516413\n",
       "client   4.212044\n",
       "write    3.945868\n",
       "asp      3.857499\n",
       "app      3.740269\n",
       "web      3.349663\n",
       "net      3.036121"
      ]
     },
     "execution_count": 77,
     "metadata": {},
     "output_type": "execute_result"
    }
   ],
   "source": [
    "indiv_document_vector = tf_idf_vector[0]\n",
    "df = pd.DataFrame(indiv_document_vector.T.todense(), index=bow_transform.get_feature_names_out(), columns=['tfidf'])\n",
    "df.sort_values(by=[\"tfidf\"], ascending=False)[0:13]"
   ]
  },
  {
   "cell_type": "code",
   "execution_count": 78,
   "id": "e0bc6d6e",
   "metadata": {},
   "outputs": [
    {
     "data": {
      "text/plain": [
       "<1x16641 sparse matrix of type '<class 'numpy.int64'>'\n",
       "\twith 13 stored elements in Compressed Sparse Row format>"
      ]
     },
     "execution_count": 78,
     "metadata": {},
     "output_type": "execute_result"
    }
   ],
   "source": [
    "X_tr_bow[0]"
   ]
  },
  {
   "cell_type": "markdown",
   "id": "bc6b5ee6",
   "metadata": {},
   "source": [
    "The above table means (I think) there are thirteen words in this particular question from the training data. Those words tfidf values gives a sense of how important the words in that question are compared to all the other questions in the training data. Tfidf multiplies tf by idf, so high tf (word appears in a lot of questions) multiplied by high idf (word is more unique) yields high tfidf, meaning the word is really important. "
   ]
  },
  {
   "cell_type": "code",
   "execution_count": null,
   "id": "0dae813d",
   "metadata": {},
   "outputs": [],
   "source": []
  },
  {
   "cell_type": "markdown",
   "id": "e360a615",
   "metadata": {},
   "source": [
    "Okay, now let's finish the actual setup for the tfidf bits."
   ]
  },
  {
   "cell_type": "code",
   "execution_count": 79,
   "id": "e1c891fa",
   "metadata": {},
   "outputs": [],
   "source": [
    "tfidf_transform = text.TfidfTransformer(norm=None)\n",
    "X_tr_tfidf = tfidf_transform.fit_transform(X_tr_bow)"
   ]
  },
  {
   "cell_type": "code",
   "execution_count": 80,
   "id": "cc57332f",
   "metadata": {},
   "outputs": [],
   "source": [
    "X_te_tfidf = tfidf_transform.transform(X_te_bow)"
   ]
  },
  {
   "cell_type": "markdown",
   "id": "6874efcb",
   "metadata": {},
   "source": [
    "## And now for the logistic regression"
   ]
  },
  {
   "cell_type": "code",
   "execution_count": 81,
   "id": "aacb7b41",
   "metadata": {},
   "outputs": [],
   "source": [
    "def simple_logistic_classify(X_tr, y_tr, X_test, y_test, description, _C=1.0):\n",
    "    model = LogisticRegression(C=_C).fit(X_tr, y_tr)\n",
    "    score = model.score(X_test, y_test)\n",
    "    print('Test Score with', description, 'features', score)\n",
    "    return model"
   ]
  },
  {
   "cell_type": "code",
   "execution_count": 82,
   "id": "97c2926e",
   "metadata": {},
   "outputs": [
    {
     "name": "stdout",
     "output_type": "stream",
     "text": [
      "Test Score with bow features 0.9226666666666666\n",
      "Test Score with tf-idf features 0.9073333333333333\n"
     ]
    }
   ],
   "source": [
    "model_bow = simple_logistic_classify(X_tr_bow, y_tr, X_te_bow, y_te, 'bow')\n",
    "model_tfidf = simple_logistic_classify(X_tr_tfidf, y_tr, X_te_tfidf, y_te, 'tf-idf')"
   ]
  },
  {
   "cell_type": "markdown",
   "id": "b01b2b72",
   "metadata": {},
   "source": [
    "From the documentation for LogisticRegression, 'score' returns the mean accuracy on the given test data and labels. Given that the mean accuracy is higher for bag of words' features, I think this means the important features from bag of words (the words that appear the most number of times) are slightly better at predicting if a question is closed than the important features from tfidf."
   ]
  },
  {
   "cell_type": "markdown",
   "id": "0cb1357c",
   "metadata": {},
   "source": [
    "We can vary the C parameter in the logistic regression to make sure we aren't overfitting (I think?). I had to include a max_iter on LogisticRegression() here (on both searches) because the default max_iter=100 wasn't converging. Uncertain how/if this will need to change for the larger dataset."
   ]
  },
  {
   "cell_type": "code",
   "execution_count": 83,
   "id": "35fb466b",
   "metadata": {},
   "outputs": [],
   "source": [
    "param_grid_ = {'C': [1e-5, 1e-3, 1e-1, 1e0, 1e1, 1e2]}\n",
    "bow_search = sklearn.model_selection.GridSearchCV(LogisticRegression(max_iter=1000), cv=5, param_grid=param_grid_)\n",
    "tfidf_search = sklearn.model_selection.GridSearchCV(LogisticRegression(max_iter=1000), cv=5,\n",
    "                                   param_grid=param_grid_)"
   ]
  },
  {
   "cell_type": "code",
   "execution_count": 84,
   "id": "d98c6601",
   "metadata": {},
   "outputs": [
    {
     "data": {
      "text/plain": [
       "GridSearchCV(cv=5, estimator=LogisticRegression(max_iter=1000),\n",
       "             param_grid={'C': [1e-05, 0.001, 0.1, 1.0, 10.0, 100.0]})"
      ]
     },
     "execution_count": 84,
     "metadata": {},
     "output_type": "execute_result"
    }
   ],
   "source": [
    "bow_search.fit(X_tr_bow, y_tr)"
   ]
  },
  {
   "cell_type": "code",
   "execution_count": 85,
   "id": "efd71210",
   "metadata": {},
   "outputs": [
    {
     "data": {
      "text/plain": [
       "0.9237142857142857"
      ]
     },
     "execution_count": 85,
     "metadata": {},
     "output_type": "execute_result"
    }
   ],
   "source": [
    "bow_search.best_score_"
   ]
  },
  {
   "cell_type": "code",
   "execution_count": 86,
   "id": "0449b471",
   "metadata": {},
   "outputs": [
    {
     "data": {
      "text/plain": [
       "GridSearchCV(cv=5, estimator=LogisticRegression(max_iter=1000),\n",
       "             param_grid={'C': [1e-05, 0.001, 0.1, 1.0, 10.0, 100.0]})"
      ]
     },
     "execution_count": 86,
     "metadata": {},
     "output_type": "execute_result"
    }
   ],
   "source": [
    "tfidf_search.fit(X_tr_tfidf, y_tr)"
   ]
  },
  {
   "cell_type": "code",
   "execution_count": 87,
   "id": "878809aa",
   "metadata": {},
   "outputs": [
    {
     "data": {
      "text/plain": [
       "0.9237142857142857"
      ]
     },
     "execution_count": 87,
     "metadata": {},
     "output_type": "execute_result"
    }
   ],
   "source": [
    "tfidf_search.best_score_"
   ]
  },
  {
   "cell_type": "code",
   "execution_count": 88,
   "id": "7d3c4acd",
   "metadata": {},
   "outputs": [
    {
     "data": {
      "text/plain": [
       "{'C': 1e-05}"
      ]
     },
     "execution_count": 88,
     "metadata": {},
     "output_type": "execute_result"
    }
   ],
   "source": [
    "bow_search.best_params_"
   ]
  },
  {
   "cell_type": "code",
   "execution_count": 89,
   "id": "88c7781e",
   "metadata": {},
   "outputs": [
    {
     "data": {
      "text/plain": [
       "{'C': 1e-05}"
      ]
     },
     "execution_count": 89,
     "metadata": {},
     "output_type": "execute_result"
    }
   ],
   "source": [
    "tfidf_search.best_params_"
   ]
  },
  {
   "cell_type": "markdown",
   "id": "df740db2",
   "metadata": {},
   "source": [
    "Both of the models have the same 'best score' and the same best C parameter, which gives me some pause. The C parameter is also quite small, meaning there's a lot of regularization..."
   ]
  },
  {
   "cell_type": "code",
   "execution_count": 90,
   "id": "2af2019e",
   "metadata": {},
   "outputs": [
    {
     "data": {
      "text/plain": [
       "{'mean_fit_time': array([0.13614058, 0.19217081, 0.26558037, 0.47759838, 0.64287052,\n",
       "        0.82801628]),\n",
       " 'std_fit_time': array([0.01591401, 0.07986249, 0.01083933, 0.07749659, 0.0431811 ,\n",
       "        0.1199522 ]),\n",
       " 'mean_score_time': array([0.00020723, 0.00043092, 0.00077591, 0.00132685, 0.00168447,\n",
       "        0.0025147 ]),\n",
       " 'std_score_time': array([0.00041447, 0.00086184, 0.00041733, 0.00075738, 0.00062065,\n",
       "        0.00229618]),\n",
       " 'param_C': masked_array(data=[1e-05, 0.001, 0.1, 1.0, 10.0, 100.0],\n",
       "              mask=[False, False, False, False, False, False],\n",
       "        fill_value='?',\n",
       "             dtype=object),\n",
       " 'params': [{'C': 1e-05},\n",
       "  {'C': 0.001},\n",
       "  {'C': 0.1},\n",
       "  {'C': 1.0},\n",
       "  {'C': 10.0},\n",
       "  {'C': 100.0}],\n",
       " 'split0_test_score': array([0.92428571, 0.92428571, 0.92142857, 0.91428571, 0.89      ,\n",
       "        0.87571429]),\n",
       " 'split1_test_score': array([0.92428571, 0.92428571, 0.92285714, 0.91571429, 0.91      ,\n",
       "        0.9       ]),\n",
       " 'split2_test_score': array([0.92428571, 0.92428571, 0.92142857, 0.91714286, 0.90571429,\n",
       "        0.91      ]),\n",
       " 'split3_test_score': array([0.92285714, 0.92285714, 0.91714286, 0.91714286, 0.91142857,\n",
       "        0.89857143]),\n",
       " 'split4_test_score': array([0.92285714, 0.92285714, 0.93      , 0.92142857, 0.90285714,\n",
       "        0.88714286]),\n",
       " 'mean_test_score': array([0.92371429, 0.92371429, 0.92257143, 0.91714286, 0.904     ,\n",
       "        0.89428571]),\n",
       " 'std_test_score': array([0.00069985, 0.00069985, 0.00417964, 0.00239046, 0.00763451,\n",
       "        0.0117803 ]),\n",
       " 'rank_test_score': array([1, 1, 3, 4, 5, 6])}"
      ]
     },
     "execution_count": 90,
     "metadata": {},
     "output_type": "execute_result"
    }
   ],
   "source": [
    "bow_search.cv_results_"
   ]
  },
  {
   "cell_type": "code",
   "execution_count": 91,
   "id": "f094997a",
   "metadata": {},
   "outputs": [
    {
     "data": {
      "text/html": [
       "<div>\n",
       "<style scoped>\n",
       "    .dataframe tbody tr th:only-of-type {\n",
       "        vertical-align: middle;\n",
       "    }\n",
       "\n",
       "    .dataframe tbody tr th {\n",
       "        vertical-align: top;\n",
       "    }\n",
       "\n",
       "    .dataframe thead th {\n",
       "        text-align: right;\n",
       "    }\n",
       "</style>\n",
       "<table border=\"1\" class=\"dataframe\">\n",
       "  <thead>\n",
       "    <tr style=\"text-align: right;\">\n",
       "      <th></th>\n",
       "      <th>bow</th>\n",
       "      <th>tfidf</th>\n",
       "    </tr>\n",
       "  </thead>\n",
       "  <tbody>\n",
       "    <tr>\n",
       "      <th>0</th>\n",
       "      <td>0.923714</td>\n",
       "      <td>0.923714</td>\n",
       "    </tr>\n",
       "    <tr>\n",
       "      <th>1</th>\n",
       "      <td>0.923714</td>\n",
       "      <td>0.923714</td>\n",
       "    </tr>\n",
       "    <tr>\n",
       "      <th>2</th>\n",
       "      <td>0.922571</td>\n",
       "      <td>0.916857</td>\n",
       "    </tr>\n",
       "    <tr>\n",
       "      <th>3</th>\n",
       "      <td>0.917143</td>\n",
       "      <td>0.907429</td>\n",
       "    </tr>\n",
       "    <tr>\n",
       "      <th>4</th>\n",
       "      <td>0.904000</td>\n",
       "      <td>0.892857</td>\n",
       "    </tr>\n",
       "    <tr>\n",
       "      <th>5</th>\n",
       "      <td>0.894286</td>\n",
       "      <td>0.885143</td>\n",
       "    </tr>\n",
       "  </tbody>\n",
       "</table>\n",
       "</div>"
      ],
      "text/plain": [
       "        bow     tfidf\n",
       "0  0.923714  0.923714\n",
       "1  0.923714  0.923714\n",
       "2  0.922571  0.916857\n",
       "3  0.917143  0.907429\n",
       "4  0.904000  0.892857\n",
       "5  0.894286  0.885143"
      ]
     },
     "execution_count": 91,
     "metadata": {},
     "output_type": "execute_result"
    }
   ],
   "source": [
    "search_results = pd.DataFrame.from_dict({'bow': bow_search.cv_results_['mean_test_score'],\n",
    "                               'tfidf': tfidf_search.cv_results_['mean_test_score']})\n",
    "search_results"
   ]
  },
  {
   "cell_type": "code",
   "execution_count": 92,
   "id": "d3bf13fd",
   "metadata": {},
   "outputs": [
    {
     "data": {
      "image/png": "[encoded data removed]",
      "text/plain": [
       "<Figure size 432x288 with 1 Axes>"
      ]
     },
     "metadata": {
      "needs_background": "light"
     },
     "output_type": "display_data"
    }
   ],
   "source": [
    "%matplotlib inline\n",
    "ax = sns.boxplot(data=search_results, width=0.4)\n",
    "ax.set_ylabel('Accuracy', size=14)\n",
    "ax.tick_params(labelsize=14)"
   ]
  },
  {
   "cell_type": "code",
   "execution_count": 93,
   "id": "508bf201",
   "metadata": {},
   "outputs": [
    {
     "name": "stdout",
     "output_type": "stream",
     "text": [
      "Test Score with bow features 0.9233333333333333\n",
      "Test Score with tf-idf features 0.9233333333333333\n"
     ]
    }
   ],
   "source": [
    "model_bow = simple_logistic_classify(X_tr_bow, y_tr, X_te_bow, y_te, 'bow', \n",
    "                              _C=bow_search.best_params_['C'])\n",
    "model_tfidf = simple_logistic_classify(X_tr_tfidf, y_tr, X_te_tfidf, y_te, 'tf-idf', \n",
    "                              _C=tfidf_search.best_params_['C'])"
   ]
  },
  {
   "cell_type": "code",
   "execution_count": null,
   "id": "d9a88b31",
   "metadata": {},
   "outputs": [],
   "source": []
  },
  {
   "cell_type": "code",
   "execution_count": null,
   "id": "44fda990",
   "metadata": {},
   "outputs": [],
   "source": []
  },
  {
   "cell_type": "code",
   "execution_count": null,
   "id": "7b6eb474",
   "metadata": {},
   "outputs": [],
   "source": []
  }
 ],
 "metadata": {
  "kernelspec": {
   "display_name": "Python 3 (ipykernel)",
   "language": "python",
   "name": "python3"
  },
  "language_info": {
   "codemirror_mode": {
    "name": "ipython",
    "version": 3
   },
   "file_extension": ".py",
   "mimetype": "text/x-python",
   "name": "python",
   "nbconvert_exporter": "python",
   "pygments_lexer": "ipython3",
   "version": "3.8.5"
  }
 },
 "nbformat": 4,
 "nbformat_minor": 5
}
